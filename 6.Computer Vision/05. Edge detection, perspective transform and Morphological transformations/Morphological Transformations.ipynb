{
 "cells": [
  {
   "cell_type": "markdown",
   "source": [
    "# Computer Vision Morphological Transformations"
   ],
   "metadata": {}
  },
  {
   "cell_type": "code",
   "execution_count": 1,
   "source": [
    "import cv2\r\n",
    "import numpy as np\r\n",
    "import matplotlib.pyplot as plt\r\n",
    "%matplotlib inline"
   ],
   "outputs": [],
   "metadata": {
    "ExecuteTime": {
     "end_time": "2019-11-19T09:54:11.762369Z",
     "start_time": "2019-11-19T09:54:09.945225Z"
    }
   }
  },
  {
   "cell_type": "markdown",
   "source": [
    "## Dilation"
   ],
   "metadata": {}
  },
  {
   "cell_type": "code",
   "execution_count": null,
   "source": [
    "# Create a simple 3 by 3 kernel of ones with numpy\r\n"
   ],
   "outputs": [],
   "metadata": {
    "ExecuteTime": {
     "end_time": "2019-11-19T11:58:32.374865Z",
     "start_time": "2019-11-19T11:58:31.719747Z"
    }
   }
  },
  {
   "cell_type": "code",
   "execution_count": null,
   "source": [
    "# Load an image, threshold it (binary_inverse) and apply dilation with openCV, try different number of iterations\r\n"
   ],
   "outputs": [],
   "metadata": {
    "ExecuteTime": {
     "end_time": "2019-11-19T11:59:11.235077Z",
     "start_time": "2019-11-19T11:59:11.208459Z"
    }
   }
  },
  {
   "cell_type": "code",
   "execution_count": null,
   "source": [
    "# Try with bigger kernels (5,5) and (7,7) or bigger and check what is the difference\r\n"
   ],
   "outputs": [],
   "metadata": {}
  },
  {
   "cell_type": "markdown",
   "source": [
    "[Hint](# \"cv2.dilate\") "
   ],
   "metadata": {}
  },
  {
   "cell_type": "code",
   "execution_count": null,
   "source": [
    "# Repeat the operation but this time create a special kernel with cv2.getStructuringElement, try different elements\n",
    "# For example cv2.MORPH_RECT, cv2.MORPH_ELLIPSE and cv2.MORPH_CROSS, etc.\n",
    "# Compare how the different kernels will affect the image\n"
   ],
   "outputs": [],
   "metadata": {}
  },
  {
   "cell_type": "markdown",
   "source": [
    "## Erosion"
   ],
   "metadata": {}
  },
  {
   "cell_type": "code",
   "execution_count": null,
   "source": [
    "# Using the same kernels, apply Erosion to the thresholded image, make sure to start with a clean image\n"
   ],
   "outputs": [],
   "metadata": {
    "ExecuteTime": {
     "end_time": "2019-11-19T12:09:31.261781Z",
     "start_time": "2019-11-19T12:09:30.821524Z"
    },
    "scrolled": false
   }
  },
  {
   "cell_type": "markdown",
   "source": [
    "[Hint](# \"cv2.erode\") "
   ],
   "metadata": {}
  },
  {
   "cell_type": "markdown",
   "source": [
    "## Morphological Transformations: Opening / Closing"
   ],
   "metadata": {}
  },
  {
   "cell_type": "code",
   "execution_count": null,
   "source": [
    "# Apply opening to the thresholded image, experiment with different iterations \n"
   ],
   "outputs": [],
   "metadata": {
    "ExecuteTime": {
     "end_time": "2019-11-19T12:12:22.661231Z",
     "start_time": "2019-11-19T12:12:21.489660Z"
    }
   }
  },
  {
   "cell_type": "markdown",
   "source": [
    "[Hint](# \"cv2.morphologyEx with cv2.MORPH_OPEN \") "
   ],
   "metadata": {}
  },
  {
   "cell_type": "code",
   "execution_count": null,
   "source": [
    "# Apply closing to the thresholded image, experiment with different iterations \n"
   ],
   "outputs": [],
   "metadata": {
    "ExecuteTime": {
     "end_time": "2019-11-19T12:13:30.531718Z",
     "start_time": "2019-11-19T12:13:30.124183Z"
    }
   }
  },
  {
   "cell_type": "markdown",
   "source": [
    "[Hint](# \"cv2.morphologyEx with cv2.MORPH_CLOSE\") "
   ],
   "metadata": {
    "ExecuteTime": {
     "end_time": "2019-11-19T07:40:28.734273Z",
     "start_time": "2019-11-19T07:40:27.802205Z"
    }
   }
  }
 ],
 "metadata": {
  "kernelspec": {
   "name": "python3",
   "display_name": "Python 3.8.10 64-bit ('strive': conda)"
  },
  "language_info": {
   "codemirror_mode": {
    "name": "ipython",
    "version": 3
   },
   "file_extension": ".py",
   "mimetype": "text/x-python",
   "name": "python",
   "nbconvert_exporter": "python",
   "pygments_lexer": "ipython3",
   "version": "3.8.10"
  },
  "interpreter": {
   "hash": "f5610a57ce5a66969d95506b8c0c9e3b70160de2f7592df689878f178730b779"
  }
 },
 "nbformat": 4,
 "nbformat_minor": 2
}
{
 "cells": [
  {
   "cell_type": "markdown",
   "source": [
    "# Mini projects"
   ],
   "metadata": {}
  },
  {
   "cell_type": "markdown",
   "source": [
    "## Green screen"
   ],
   "metadata": {}
  },
  {
   "cell_type": "markdown",
   "source": [
    "1. Create a method to process an image with a green screen, replace the green screen with a background image\n",
    "\n",
    "1. Adapt it to use your webcam and try it out, you might need to change the green screen to another color that you can use as your backgrouns (for example maybe white if you have a white wall behind you)"
   ],
   "metadata": {}
  },
  {
   "cell_type": "markdown",
   "source": [
    "## Color images to black and white and back!"
   ],
   "metadata": {}
  },
  {
   "cell_type": "markdown",
   "source": [
    "1. Using a color image, load it with openCV then transform it to HSV and make it Grayscale (without transforming it to grayscale!)\n",
    "1. Convert the grayscale image back to color."
   ],
   "metadata": {}
  },
  {
   "cell_type": "markdown",
   "source": [
    "## Day or night?"
   ],
   "metadata": {}
  },
  {
   "cell_type": "markdown",
   "source": [
    "1. Using all you have learned so far about computer vision, implement at least one method (or more!) to check if a certain image corresponds to a day or a night image.\n",
    "1. Use different images to check if your approach is working"
   ],
   "metadata": {}
  },
  {
   "cell_type": "code",
   "execution_count": 1,
   "source": [
    "import cv2 \r\n",
    "import numpy as np \r\n",
    "import matplotlib.pyplot as plt\r\n"
   ],
   "outputs": [],
   "metadata": {}
  },
  {
   "cell_type": "code",
   "execution_count": 30,
   "source": [
    "# Read image \r\n",
    "canelo = cv2.imread('img/gs2.jpg')\r\n",
    "cv2.imshow('Canelo',canelo)\r\n",
    "cv2.waitKey(0)"
   ],
   "outputs": [
    {
     "output_type": "execute_result",
     "data": {
      "text/plain": [
       "-1"
      ]
     },
     "metadata": {},
     "execution_count": 30
    }
   ],
   "metadata": {}
  },
  {
   "cell_type": "code",
   "execution_count": 31,
   "source": [
    "canelo.shape"
   ],
   "outputs": [
    {
     "output_type": "execute_result",
     "data": {
      "text/plain": [
       "(720, 1280, 3)"
      ]
     },
     "metadata": {},
     "execution_count": 31
    }
   ],
   "metadata": {}
  },
  {
   "cell_type": "code",
   "execution_count": 32,
   "source": [
    "# Masking\r\n",
    "lower_range = [0,160,0]\r\n",
    "upper_range = [120,255,120]\r\n"
   ],
   "outputs": [],
   "metadata": {}
  },
  {
   "cell_type": "code",
   "execution_count": 33,
   "source": [
    "# Black canvas\r\n",
    "black_canvas = np.zeros(canelo.shape[:2],dtype='uint8')"
   ],
   "outputs": [],
   "metadata": {}
  },
  {
   "cell_type": "code",
   "execution_count": 34,
   "source": [
    "black_canvas.shape\r\n",
    "cv2.imshow('Black',black_canvas)\r\n",
    "cv2.waitKey(0)"
   ],
   "outputs": [
    {
     "output_type": "execute_result",
     "data": {
      "text/plain": [
       "13"
      ]
     },
     "metadata": {},
     "execution_count": 34
    }
   ],
   "metadata": {}
  },
  {
   "cell_type": "code",
   "execution_count": 10,
   "source": [
    "# cv2.bitwise_and(black_canvas,canelo)"
   ],
   "outputs": [],
   "metadata": {}
  },
  {
   "cell_type": "code",
   "execution_count": 4,
   "source": [
    "# Masking\r\n",
    "# cv2.inRange(canelo,lower_range,upper_range)\r\n",
    "\r\n",
    "#"
   ],
   "outputs": [],
   "metadata": {}
  },
  {
   "cell_type": "code",
   "execution_count": 3,
   "source": [
    "low_orange = np.array([95,0,0])\r\n",
    "high_orange = np.array([130,255,255])\r\n",
    "\r\n",
    "cap = cv2.VideoCapture(0)\r\n",
    "\r\n",
    "while True:\r\n",
    "    ret,frame = cap.read()\r\n",
    "    cv2.imshow('Original frame',frame)\r\n",
    "\r\n",
    "    hsv = cv2.cvtColor(frame,cv2.COLOR_BGR2HSV)\r\n",
    "\r\n",
    "    mask = cv2.inRange(hsv,low_orange,high_orange)\r\n",
    "    cv2.imshow('Masked frame',mask)\r\n",
    "\r\n",
    "    if cv2.waitKey(1) == ord('q'):\r\n",
    "        break\r\n",
    "\r\n",
    "cap.release()\r\n",
    "cv2.destroyAllWindows()"
   ],
   "outputs": [],
   "metadata": {}
  },
  {
   "cell_type": "code",
   "execution_count": null,
   "source": [
    "\r\n",
    "vidcap = cv2.VideoCapture(\"cards.mp4\")\r\n",
    "print (vidcap.read())\r\n",
    "success,image = vidcap.read()\r\n",
    "count = 0\r\n",
    "success = True\r\n",
    "while success:\r\n",
    "  success,image = vidcap.read()\r\n",
    "  print ('Read a new frame: ', success)\r\n",
    "  cv2.imwrite(\"img/frame%d.jpg\" % count, image)     # save frame as JPEG file\r\n",
    "  count += 1"
   ],
   "outputs": [],
   "metadata": {}
  }
 ],
 "metadata": {
  "kernelspec": {
   "name": "python3",
   "display_name": "Python 3.8.10 64-bit ('strive': conda)"
  },
  "language_info": {
   "codemirror_mode": {
    "name": "ipython",
    "version": 3
   },
   "file_extension": ".py",
   "mimetype": "text/x-python",
   "name": "python",
   "nbconvert_exporter": "python",
   "pygments_lexer": "ipython3",
   "version": "3.8.10"
  },
  "interpreter": {
   "hash": "f5610a57ce5a66969d95506b8c0c9e3b70160de2f7592df689878f178730b779"
  }
 },
 "nbformat": 4,
 "nbformat_minor": 4
}
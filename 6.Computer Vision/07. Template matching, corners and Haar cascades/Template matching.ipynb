{
 "cells": [
  {
   "cell_type": "code",
   "execution_count": 1,
   "source": [
    "import cv2\r\n",
    "import numpy as np\r\n",
    "import matplotlib.pyplot as plt\r\n",
    "%matplotlib inline"
   ],
   "outputs": [],
   "metadata": {
    "ExecuteTime": {
     "end_time": "2019-11-21T08:38:42.318902Z",
     "start_time": "2019-11-21T08:38:42.311109Z"
    }
   }
  },
  {
   "cell_type": "markdown",
   "source": [
    "### Template Matching"
   ],
   "metadata": {}
  },
  {
   "cell_type": "code",
   "execution_count": 2,
   "source": [
    "# Load img/WandoScene.jpg  as the main image\r\n",
    "\r\n",
    "# Load img/waldo.jpg as the template\r\n",
    "\r\n",
    "# Corvert the images to grayscale\r\n",
    "\r\n",
    "# Find the template in the image\r\n",
    "\r\n",
    "# Draw a rectagle around the the detected match\r\n",
    " \r\n",
    "main  = cv2.imread('img/WandoScene.jpg')\r\n",
    "\r\n",
    "template = cv2.imread('img/Waldo.jpg')\r\n",
    "\r\n",
    "gray_main = cv2.cvtColor(main,cv2.COLOR_BGR2GRAY)\r\n",
    "\r\n",
    "gray_temp = cv2.cvtColor(template,cv2.COLOR_BGR2GRAY)\r\n",
    "\r\n"
   ],
   "outputs": [],
   "metadata": {}
  },
  {
   "cell_type": "code",
   "execution_count": 3,
   "source": [
    "cv2.imshow('Gray',gray_main)\r\n",
    "cv2.waitKey(0)\r\n",
    "cv2.destroyAllWindows()"
   ],
   "outputs": [],
   "metadata": {}
  },
  {
   "cell_type": "code",
   "execution_count": 4,
   "source": [
    "resullts = cv2.matchTemplate(gray_main,gray_temp,cv2.TM_CCOEFF_NORMED)\r\n",
    "\r\n",
    "minVal,maxVal,minLoc,maxLoc = cv2.minMaxLoc(resullts)\r\n",
    "\r\n",
    "p1 = maxLoc\r\n",
    "p2 =  (p1[0]+50,p1[1]+50)\r\n",
    "\r\n",
    "cv2.rectangle(main,p1,p2,(0,255,0),2)\r\n",
    "cv2.imshow('Waldo',main)\r\n",
    "cv2.waitKey(0)\r\n"
   ],
   "outputs": [
    {
     "output_type": "execute_result",
     "data": {
      "text/plain": [
       "-1"
      ]
     },
     "metadata": {},
     "execution_count": 4
    }
   ],
   "metadata": {}
  },
  {
   "cell_type": "code",
   "execution_count": 21,
   "source": [
    "main2  = cv2.imread('img/WaldoScene1.jpg')\r\n",
    "wando  = main2.copy()\r\n",
    "template2 = cv2.imread('img/Waldo.jpg')\r\n",
    "\r\n",
    "gray_main2 = cv2.cvtColor(wando,cv2.COLOR_BGR2GRAY)\r\n",
    "\r\n",
    "\r\n",
    "gray_temp2 = cv2.cvtColor(template2,cv2.COLOR_BGR2GRAY)"
   ],
   "outputs": [],
   "metadata": {}
  },
  {
   "cell_type": "code",
   "execution_count": 22,
   "source": [
    "# Try with different waldo scenes\r\n",
    "results = cv2.matchTemplate(gray_main2,gray_temp2,cv2.TM_CCOEFF_NORMED)\r\n",
    "\r\n",
    "\r\n",
    "minVal,maxVal,minLoc,maxLoc = cv2.minMaxLoc(results)\r\n",
    "\r\n",
    "p1 = maxLoc\r\n",
    "p2 =  (p1[0]+40,p1[1]+40)\r\n",
    "\r\n",
    "cv2.rectangle(wando,p1,p2,(0,255,0),2)\r\n",
    "cv2.imshow('Waldo',wando)\r\n",
    "cv2.waitKey(0)\r\n"
   ],
   "outputs": [
    {
     "output_type": "execute_result",
     "data": {
      "text/plain": [
       "-1"
      ]
     },
     "metadata": {},
     "execution_count": 22
    }
   ],
   "metadata": {}
  },
  {
   "cell_type": "code",
   "execution_count": null,
   "source": [
    "# How well did it work?, did it perform well with other images? \r\n"
   ],
   "outputs": [],
   "metadata": {}
  }
 ],
 "metadata": {
  "kernelspec": {
   "name": "python3",
   "display_name": "Python 3.8.10 64-bit ('strive': conda)"
  },
  "language_info": {
   "name": "python",
   "version": "3.8.10",
   "mimetype": "text/x-python",
   "codemirror_mode": {
    "name": "ipython",
    "version": 3
   },
   "pygments_lexer": "ipython3",
   "nbconvert_exporter": "python",
   "file_extension": ".py"
  },
  "interpreter": {
   "hash": "f5610a57ce5a66969d95506b8c0c9e3b70160de2f7592df689878f178730b779"
  }
 },
 "nbformat": 4,
 "nbformat_minor": 2
}
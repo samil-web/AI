{
 "cells": [
  {
   "cell_type": "markdown",
   "source": [
    "# Mini projects\n",
    "\n",
    "You can do the projects in any order, just choose the ones that you like the most"
   ],
   "metadata": {}
  },
  {
   "cell_type": "markdown",
   "source": [
    "1. Create a classifier to detect cars in an image\n",
    "1. If at least one car was detected write Car Detected (in Green) on top of the image, otherwise write No car detected (in Red)\n",
    "1. Save the image to disk\n",
    "1. Show the image result inside the notebook\n",
    "1. Make it work with a video\n",
    "1. Put a bounding box around the cars detected\n",
    "1. Get a higher resolution video and extract the car plates and save them to disk"
   ],
   "metadata": {
    "hidden": true
   }
  },
  {
   "cell_type": "markdown",
   "source": [
    "### Cars detector"
   ],
   "metadata": {
    "heading_collapsed": true
   }
  },
  {
   "cell_type": "code",
   "execution_count": null,
   "source": [],
   "outputs": [],
   "metadata": {}
  },
  {
   "cell_type": "code",
   "execution_count": 1,
   "source": [
    "import cv2 \r\n",
    "import numpy as np \r\n",
    "import matplotlib.pyplot as plt "
   ],
   "outputs": [],
   "metadata": {}
  },
  {
   "cell_type": "code",
   "execution_count": 2,
   "source": [
    "cars_classifier = cv2.CascadeClassifier('Haarcascades/haarcascade_car.xml')"
   ],
   "outputs": [],
   "metadata": {}
  },
  {
   "cell_type": "code",
   "execution_count": 3,
   "source": [
    "car_img = cv2.imread('img/cars3.jpg')\r\n",
    "gray_img = cv2.cvtColor(car_img,cv2.COLOR_BGR2GRAY)\r\n",
    "cars = cars_classifier.detectMultiScale(gray_img,1.1,3)\r\n",
    "copy = car_img.copy()\r\n",
    "# print(cars)\r\n",
    "for (x,y,w,h) in cars:\r\n",
    "    cv2.rectangle(copy,(x,y),(x+w,y+h),(0,0,255),3)\r\n",
    "cv2.imshow(\"Copy\",copy)\r\n",
    "cv2.waitKey(0) \r\n",
    "cv2.imwrite('img/car_detected.jpg',copy)"
   ],
   "outputs": [
    {
     "output_type": "execute_result",
     "data": {
      "text/plain": [
       "True"
      ]
     },
     "metadata": {},
     "execution_count": 3
    }
   ],
   "metadata": {}
  },
  {
   "cell_type": "code",
   "execution_count": 4,
   "source": [
    "cars1 = cv2.imread('img/cars1.jpg')\r\n",
    "scale = 0.7\r\n",
    "cars1_w  = int(cars1.shape[1]*scale)\r\n",
    "cars1_h = int(cars1.shape[0]*scale)\r\n",
    "cars_copy = cars1.copy()\r\n",
    "cars_copy = cv2.resize(cars_copy,(cars1_w,cars1_h))\r\n",
    "cv2.imshow('CAr',cars_copy)\r\n",
    "cv2.waitKey(0)\r\n",
    "cv2.imwrite('img/resized_car.jpg',cars_copy)\r\n",
    "cars_copy.shape"
   ],
   "outputs": [
    {
     "output_type": "execute_result",
     "data": {
      "text/plain": [
       "(930, 1400, 3)"
      ]
     },
     "metadata": {},
     "execution_count": 4
    }
   ],
   "metadata": {}
  },
  {
   "cell_type": "code",
   "execution_count": 5,
   "source": [
    "# help(cv2.imwrite)\r\n",
    "# Make it work with video\r\n",
    "\r\n",
    "cap = cv2.VideoCapture('videos/video1.avi')\r\n",
    "cars_classifier = cv2.CascadeClassifier('Haarcascades/haarcascade_car.xml')\r\n",
    "while True:\r\n",
    "    ret,frame = cap.read()\r\n",
    "    \r\n",
    "    # Turn into gray scale\r\n",
    "    if not ret:\r\n",
    "        break\r\n",
    "    gray_frames = cv2.cvtColor(frame,cv2.COLOR_BGR2GRAY)\r\n",
    "    cars = cars_classifier.detectMultiScale(gray_frames,1.1,3)\r\n",
    "    copy = frame.copy()\r\n",
    "# print(cars)\r\n",
    "    for (x,y,w,h) in cars:\r\n",
    "        cv2.rectangle(copy,(x,y),(x+w,y+h),(0,0,255),3)\r\n",
    "    cv2.imshow(\"Copy\",copy)\r\n",
    "    cv2.waitKey(0) \r\n",
    "    if cv2.waitKey(1) == ord('q'):\r\n",
    "        break\r\n",
    "cap.release()\r\n",
    "cv2.destroyAllWindows()\r\n",
    "cv2.waitKey(1)\r\n"
   ],
   "outputs": [],
   "metadata": {}
  },
  {
   "cell_type": "code",
   "execution_count": null,
   "source": [],
   "outputs": [],
   "metadata": {}
  },
  {
   "cell_type": "code",
   "execution_count": null,
   "source": [],
   "outputs": [],
   "metadata": {}
  },
  {
   "cell_type": "code",
   "execution_count": null,
   "source": [],
   "outputs": [],
   "metadata": {}
  },
  {
   "cell_type": "code",
   "execution_count": null,
   "source": [],
   "outputs": [],
   "metadata": {}
  },
  {
   "cell_type": "code",
   "execution_count": null,
   "source": [],
   "outputs": [],
   "metadata": {}
  },
  {
   "cell_type": "code",
   "execution_count": null,
   "source": [],
   "outputs": [],
   "metadata": {}
  },
  {
   "cell_type": "code",
   "execution_count": null,
   "source": [],
   "outputs": [],
   "metadata": {}
  },
  {
   "cell_type": "code",
   "execution_count": null,
   "source": [],
   "outputs": [],
   "metadata": {}
  },
  {
   "cell_type": "code",
   "execution_count": null,
   "source": [],
   "outputs": [],
   "metadata": {}
  },
  {
   "cell_type": "code",
   "execution_count": null,
   "source": [],
   "outputs": [],
   "metadata": {}
  },
  {
   "cell_type": "code",
   "execution_count": null,
   "source": [],
   "outputs": [],
   "metadata": {}
  },
  {
   "cell_type": "code",
   "execution_count": null,
   "source": [],
   "outputs": [],
   "metadata": {}
  },
  {
   "cell_type": "code",
   "execution_count": null,
   "source": [],
   "outputs": [],
   "metadata": {}
  },
  {
   "cell_type": "markdown",
   "source": [
    "### Sudoku Solver"
   ],
   "metadata": {}
  },
  {
   "cell_type": "markdown",
   "source": [
    "1. Create function that given an image of a Sudoku game crops and extracts each cell \n",
    "1. Extract the number from each cropped cell (if blank extract it as 0)\n",
    "1. Place the extracted numbers in an array (each block of 9 numbers is one array)\n",
    "1. Apply the sudoku solver to the array to get the solution\n",
    "1. Write the solution numbers in the cells"
   ],
   "metadata": {}
  }
 ],
 "metadata": {
  "kernelspec": {
   "name": "python3",
   "display_name": "Python 3.8.10 64-bit ('strive': conda)"
  },
  "language_info": {
   "name": "python",
   "version": "3.8.10",
   "mimetype": "text/x-python",
   "codemirror_mode": {
    "name": "ipython",
    "version": 3
   },
   "pygments_lexer": "ipython3",
   "nbconvert_exporter": "python",
   "file_extension": ".py"
  },
  "interpreter": {
   "hash": "f5610a57ce5a66969d95506b8c0c9e3b70160de2f7592df689878f178730b779"
  }
 },
 "nbformat": 4,
 "nbformat_minor": 2
}
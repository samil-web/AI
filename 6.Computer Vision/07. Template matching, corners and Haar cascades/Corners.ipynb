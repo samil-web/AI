{
 "cells": [
  {
   "cell_type": "code",
   "execution_count": 1,
   "source": [
    "import cv2\r\n",
    "import numpy as np\r\n",
    "import matplotlib.pyplot as plt\r\n",
    "%matplotlib inline"
   ],
   "outputs": [],
   "metadata": {
    "ExecuteTime": {
     "end_time": "2019-11-21T08:38:42.318902Z",
     "start_time": "2019-11-21T08:38:42.311109Z"
    }
   }
  },
  {
   "cell_type": "markdown",
   "source": [
    "### Corners"
   ],
   "metadata": {}
  },
  {
   "cell_type": "code",
   "execution_count": 2,
   "source": [
    "image = cv2.imread('img/chess.jpg')\r\n",
    "plt.imshow(image);"
   ],
   "outputs": [
    {
     "output_type": "display_data",
     "data": {
      "image/png": "[encoded data removed]",
      "text/plain": [
       "<Figure size 432x288 with 1 Axes>"
      ]
     },
     "metadata": {
      "needs_background": "light"
     }
    }
   ],
   "metadata": {
    "ExecuteTime": {
     "end_time": "2019-11-21T08:48:43.588014Z",
     "start_time": "2019-11-21T08:48:43.272771Z"
    }
   }
  },
  {
   "cell_type": "code",
   "execution_count": 3,
   "source": [
    "# We will work with the image above\r\n",
    "# Convert it to grayscale\r\n",
    "image_gray = cv2.cvtColor(image,cv2.COLOR_BGR2GRAY)\r\n",
    "\r\n",
    "# Detect the corners using the cornerHarris\r\n",
    "\r\n",
    "corners = cv2.cornerHarris(image_gray,2,3,0.04)\r\n",
    "\r\n",
    "# Display the image with the detected corners \r\n",
    "corners = cv2.dilate(corners,None)\r\n",
    "# Threshold for an optimal value, it may vary depending on the image.\r\n",
    "image[corners>0.01*corners.max()]=[0,0,255]\r\n",
    "cv2.imshow('Corners',image)\r\n",
    "cv2.waitKey(0)\r\n",
    "\r\n"
   ],
   "outputs": [
    {
     "output_type": "execute_result",
     "data": {
      "text/plain": [
       "-1"
      ]
     },
     "metadata": {},
     "execution_count": 3
    }
   ],
   "metadata": {}
  },
  {
   "cell_type": "code",
   "execution_count": 4,
   "source": [
    "img = cv2.imread('img/chess.jpg')\r\n",
    "\r\n",
    "# Convert img to grayscale\r\n",
    "gray = cv2.cvtColor(img,cv2.COLOR_BGR2GRAY)\r\n",
    "\r\n",
    "# Detect the corners using goodFeaturesToTrack\r\n",
    "corners = cv2.goodFeaturesToTrack(gray,50,0.01,10)\r\n",
    "corners = np.int0(corners)\r\n",
    "for i in corners:\r\n",
    "    x,y = i.ravel()\r\n",
    "    cv2.circle(img,(x,y),3,255,-1)\r\n",
    "\r\n",
    "cv2.imshow('Corners',img)\r\n",
    "cv2.waitKey(0)\r\n",
    "\r\n",
    "# Draw the corners on top of img and show it on screen (make sure the corners are visible!)\r\n"
   ],
   "outputs": [
    {
     "output_type": "execute_result",
     "data": {
      "text/plain": [
       "-1"
      ]
     },
     "metadata": {},
     "execution_count": 4
    }
   ],
   "metadata": {
    "ExecuteTime": {
     "end_time": "2019-11-21T08:53:08.987226Z",
     "start_time": "2019-11-21T08:53:08.668748Z"
    }
   }
  },
  {
   "cell_type": "code",
   "execution_count": null,
   "source": [],
   "outputs": [],
   "metadata": {}
  }
 ],
 "metadata": {
  "kernelspec": {
   "name": "python3",
   "display_name": "Python 3.8.10 64-bit ('strive': conda)"
  },
  "language_info": {
   "codemirror_mode": {
    "name": "ipython",
    "version": 3
   },
   "file_extension": ".py",
   "mimetype": "text/x-python",
   "name": "python",
   "nbconvert_exporter": "python",
   "pygments_lexer": "ipython3",
   "version": "3.8.10"
  },
  "interpreter": {
   "hash": "f5610a57ce5a66969d95506b8c0c9e3b70160de2f7592df689878f178730b779"
  }
 },
 "nbformat": 4,
 "nbformat_minor": 2
}
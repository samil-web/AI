{
 "cells": [
  {
   "cell_type": "markdown",
   "source": [
    "# Computer Vision color spaces"
   ],
   "metadata": {
    "code_folding": []
   }
  },
  {
   "cell_type": "markdown",
   "source": [
    "### Import statements"
   ],
   "metadata": {}
  },
  {
   "cell_type": "code",
   "execution_count": 2,
   "source": [
    "import cv2\r\n",
    "import numpy as np\r\n",
    "import matplotlib.pyplot as plt\r\n",
    "%matplotlib inline\r\n"
   ],
   "outputs": [],
   "metadata": {
    "ExecuteTime": {
     "end_time": "2020-02-15T09:14:06.475524Z",
     "start_time": "2020-02-15T09:14:06.427139Z"
    }
   }
  },
  {
   "cell_type": "markdown",
   "source": [
    "### To edit an image making a copy of it is always a good idea!"
   ],
   "metadata": {}
  },
  {
   "cell_type": "code",
   "execution_count": 3,
   "source": [
    "# Load an image\r\n",
    "# And make a copy of the original image to avoid manipulating the original image\r\n",
    "m = cv2.imread('img/m.jpg')\r\n",
    "sweat = m.copy()"
   ],
   "outputs": [],
   "metadata": {
    "ExecuteTime": {
     "end_time": "2020-02-15T09:35:27.721084Z",
     "start_time": "2020-02-15T09:35:27.716611Z"
    }
   }
  },
  {
   "cell_type": "code",
   "execution_count": null,
   "source": [],
   "outputs": [],
   "metadata": {}
  },
  {
   "cell_type": "code",
   "execution_count": null,
   "source": [],
   "outputs": [],
   "metadata": {}
  },
  {
   "cell_type": "markdown",
   "source": [
    "[Hint](# \"Numpy .copy function\") "
   ],
   "metadata": {}
  },
  {
   "cell_type": "markdown",
   "source": [
    "## Color Spaces"
   ],
   "metadata": {}
  },
  {
   "cell_type": "markdown",
   "source": [
    "### BGR Spliting the color channels"
   ],
   "metadata": {}
  },
  {
   "cell_type": "code",
   "execution_count": null,
   "source": [
    "# Load a color image and split in is different B, G and R channels\r\n",
    "b,g,r = cv2.split(sweat)"
   ],
   "outputs": [],
   "metadata": {
    "ExecuteTime": {
     "end_time": "2019-11-19T14:23:21.069716Z",
     "start_time": "2019-11-19T14:22:29.674760Z"
    }
   }
  },
  {
   "cell_type": "markdown",
   "source": [
    "[Hint](# \"cv2.split\") "
   ],
   "metadata": {}
  },
  {
   "cell_type": "code",
   "execution_count": null,
   "source": [
    "# Show each channel channel on screen\r\n",
    "b\r\n",
    "g\r\n",
    "r"
   ],
   "outputs": [],
   "metadata": {
    "ExecuteTime": {
     "end_time": "2019-11-19T14:23:44.812375Z",
     "start_time": "2019-11-19T14:23:29.745242Z"
    }
   }
  },
  {
   "cell_type": "code",
   "execution_count": null,
   "source": [
    "m.shape"
   ],
   "outputs": [],
   "metadata": {}
  },
  {
   "cell_type": "markdown",
   "source": [
    "#### Merging the color channels"
   ],
   "metadata": {}
  },
  {
   "cell_type": "code",
   "execution_count": null,
   "source": [
    "# Modify a channel and then merge them all again\r\n",
    "r = r + (25)\r\n",
    "print(r.shape)\r\n",
    "# print(bb.shape)\r\n",
    "print(g.shape)"
   ],
   "outputs": [],
   "metadata": {
    "ExecuteTime": {
     "end_time": "2019-11-18T14:20:18.472726Z",
     "start_time": "2019-11-18T14:20:11.815285Z"
    }
   }
  },
  {
   "cell_type": "markdown",
   "source": [
    "[Hint](# \"cv2.merge\") "
   ],
   "metadata": {}
  },
  {
   "cell_type": "code",
   "execution_count": null,
   "source": [
    "# Create a black canvas with the same size as the image you loaded\r\n",
    "#  black = (0,0,0)\r\n",
    "bb = np.zeros([515,775],dtype=\"uint8\")\r\n",
    "bb.shape"
   ],
   "outputs": [],
   "metadata": {
    "ExecuteTime": {
     "end_time": "2019-11-19T14:25:54.885437Z",
     "start_time": "2019-11-19T14:24:57.052078Z"
    }
   }
  },
  {
   "cell_type": "code",
   "execution_count": null,
   "source": [
    "bb.shape"
   ],
   "outputs": [],
   "metadata": {}
  },
  {
   "cell_type": "markdown",
   "source": [
    "[Hint](# \"use numpy np.zeros function with the img.shape[:2]\") "
   ],
   "metadata": {}
  },
  {
   "cell_type": "code",
   "execution_count": null,
   "source": [
    "# Merge each channel with the black canvas \r\n",
    "# So you will end up with 3 images: (Red,Black,Black), (Black,Green,Black) and (Black,Black,Blue) \r\n",
    "# Assuming you are working with RGB, but BGR is also fine\r\n",
    "r_bb = cv2.merge((r,bb,bb))\r\n",
    "bb_g = cv2.merge((bb,g,bb))\r\n",
    "bb_b = cv2.merge((bb,bb,b))"
   ],
   "outputs": [],
   "metadata": {}
  },
  {
   "cell_type": "code",
   "execution_count": null,
   "source": [
    "bb_b"
   ],
   "outputs": [],
   "metadata": {}
  },
  {
   "cell_type": "code",
   "execution_count": null,
   "source": [
    "plt.figure(figsize = (20,15))\r\n",
    "plt.imshow(bb_b)"
   ],
   "outputs": [],
   "metadata": {}
  },
  {
   "cell_type": "markdown",
   "source": [
    "[Hint](# \"cv2.merge\") "
   ],
   "metadata": {}
  },
  {
   "cell_type": "markdown",
   "source": [
    "### HSV: Hue Saturation Value"
   ],
   "metadata": {}
  },
  {
   "cell_type": "markdown",
   "source": [
    "#### M&Ms challenge!"
   ],
   "metadata": {
    "ExecuteTime": {
     "end_time": "2019-08-03T16:16:41.586811Z",
     "start_time": "2019-08-03T16:16:41.580866Z"
    }
   }
  },
  {
   "cell_type": "code",
   "execution_count": null,
   "source": [
    "# Use the image below and convert it from BGR to HSV\r\n",
    "img = cv2.imread('img/m.jpg')\r\n",
    "plt.figure(figsize = (20,15));\r\n",
    "plt.imshow(cv2.cvtColor(img,cv2.COLOR_BGR2RGB));\r\n",
    "hsv = cv2.cvtColor(img,cv2.COLOR_BGR2HSV)"
   ],
   "outputs": [],
   "metadata": {
    "ExecuteTime": {
     "end_time": "2019-11-19T14:29:49.625236Z",
     "start_time": "2019-11-19T14:29:42.103147Z"
    }
   }
  },
  {
   "cell_type": "code",
   "execution_count": null,
   "source": [
    "plt.figure(figsize = (20,15));\r\n",
    "plt.imshow(hsv);"
   ],
   "outputs": [],
   "metadata": {}
  },
  {
   "cell_type": "code",
   "execution_count": null,
   "source": [
    "# Split the H,S and V channels \r\n",
    "h,s,v = cv2.split(hsv)"
   ],
   "outputs": [],
   "metadata": {
    "ExecuteTime": {
     "end_time": "2019-11-19T14:39:09.957995Z",
     "start_time": "2019-11-19T14:39:09.333538Z"
    },
    "scrolled": false
   }
  },
  {
   "cell_type": "markdown",
   "source": [
    "[Hint](# \"cv2.cvtColor\") "
   ],
   "metadata": {}
  },
  {
   "cell_type": "code",
   "execution_count": null,
   "source": [
    "img = cv2.imread('img/hsv.png')\r\n",
    "plt.figure(figsize=(20,20))\r\n",
    "plt.imshow(img)"
   ],
   "outputs": [],
   "metadata": {}
  },
  {
   "cell_type": "code",
   "execution_count": null,
   "source": [],
   "outputs": [],
   "metadata": {}
  },
  {
   "cell_type": "code",
   "execution_count": null,
   "source": [
    "# Create a mask to filter out the Blue M&Ms (remember you need a lower and upper range)\r\n",
    "# Make a copy of the hsv image and apply the mask to it, then display the image\r\n",
    "mask_img = hsv.copy()\r\n",
    "\r\n",
    "lower_range = (90,50,20)\r\n",
    "upper_range = (135,255,255)\r\n",
    "\r\n",
    "mask = cv2.inRange(mask_img,lower_range,upper_range)\r\n",
    "mask_img[mask==0] = [0,0,0]\r\n",
    "cv2.imshow('Frame',mask_img)\r\n"
   ],
   "outputs": [],
   "metadata": {
    "ExecuteTime": {
     "end_time": "2019-11-19T14:39:23.171577Z",
     "start_time": "2019-11-19T14:39:22.790933Z"
    }
   }
  },
  {
   "cell_type": "markdown",
   "source": [
    "[Hint](# \"cv2.inRange\") "
   ],
   "metadata": {}
  },
  {
   "cell_type": "code",
   "execution_count": null,
   "source": [
    "# Repeat the same but now with the greens\r\n",
    "while True:\r\n",
    "    \r\n",
    "    lower_range= (25,52,72)\r\n",
    "    upper_range = (102,255,255)\r\n",
    "\r\n",
    "    m_mask = cv2.inRange(hsv,lower_range,upper_range)\r\n",
    "\r\n",
    "    cv2.imshow('Masked frame',m_mask)\r\n",
    "    if cv2.waitKey(1) == ord('q'):\r\n",
    "        break\r\n",
    "    break\r\n",
    "cap.release()\r\n",
    "cv2.destroyAllWindows()"
   ],
   "outputs": [],
   "metadata": {
    "ExecuteTime": {
     "end_time": "2019-11-19T14:39:42.232166Z",
     "start_time": "2019-11-19T14:39:41.843412Z"
    }
   }
  },
  {
   "cell_type": "code",
   "execution_count": null,
   "source": [
    "# Now combine both masks togheter so we can see all greens and blues in the same image!\r\n"
   ],
   "outputs": [],
   "metadata": {
    "ExecuteTime": {
     "end_time": "2019-11-19T14:39:50.013297Z",
     "start_time": "2019-11-19T14:39:49.588290Z"
    }
   }
  },
  {
   "cell_type": "code",
   "execution_count": null,
   "source": [
    "# Now lets combine both masks but also some opacity, we want to be able to see all M&Ms but\r\n",
    "# Blues and greens will show as int he image above while the other colors will be faded out with some opacity\r\n",
    "# You just need to add alpha to apply opacity to the dark parts of the mask, then display the image\r\n",
    "\r\n"
   ],
   "outputs": [],
   "metadata": {
    "ExecuteTime": {
     "end_time": "2019-11-19T14:40:32.223935Z",
     "start_time": "2019-11-19T14:40:31.596814Z"
    }
   }
  },
  {
   "cell_type": "markdown",
   "source": [
    "[Hint](# \"cv2.addWeighted\") "
   ],
   "metadata": {}
  },
  {
   "cell_type": "code",
   "execution_count": null,
   "source": [
    "# Below you will find an example with oranges and greens just for reference so you can see what we want to accomplish\r\n",
    "# In this example the oranges are not perfect, and it can be improved a lot easily."
   ],
   "outputs": [],
   "metadata": {
    "ExecuteTime": {
     "end_time": "2019-08-19T14:38:07.622905Z",
     "start_time": "2019-08-19T14:38:07.590404Z"
    },
    "hidden": true
   }
  },
  {
   "cell_type": "markdown",
   "source": [
    "## Mini project"
   ],
   "metadata": {}
  },
  {
   "cell_type": "markdown",
   "source": [
    "### Level 1"
   ],
   "metadata": {}
  },
  {
   "cell_type": "markdown",
   "source": [
    "#### Ball tracker"
   ],
   "metadata": {}
  },
  {
   "cell_type": "markdown",
   "source": [
    "1. Given an image with a ball on it isolate the ball"
   ],
   "metadata": {}
  },
  {
   "cell_type": "markdown",
   "source": [
    "### Level 2"
   ],
   "metadata": {}
  },
  {
   "cell_type": "markdown",
   "source": [
    "#### Ball tracker"
   ],
   "metadata": {
    "heading_collapsed": true
   }
  },
  {
   "cell_type": "markdown",
   "source": [
    "1. Make it track a ball in real time (either with a video or a webcam)"
   ],
   "metadata": {
    "hidden": true
   }
  },
  {
   "cell_type": "markdown",
   "source": [
    "### Level 3"
   ],
   "metadata": {
    "heading_collapsed": true
   }
  },
  {
   "cell_type": "markdown",
   "source": [
    "#### Ball Tracker"
   ],
   "metadata": {
    "heading_collapsed": true,
    "hidden": true
   }
  },
  {
   "cell_type": "markdown",
   "source": [
    "1. Can you make it track two or more different color balls at the same time?"
   ],
   "metadata": {
    "hidden": true
   }
  },
  {
   "cell_type": "code",
   "execution_count": null,
   "source": [
    "low_orange = np.array([95,0,0])\r\n",
    "high_orange = np.array([130,255,255])\r\n"
   ],
   "outputs": [],
   "metadata": {}
  },
  {
   "cell_type": "code",
   "execution_count": 1,
   "source": [
    "cap = cv2.VideoCapture(0)"
   ],
   "outputs": [
    {
     "output_type": "error",
     "ename": "NameError",
     "evalue": "name 'cv2' is not defined",
     "traceback": [
      "\u001b[1;31m---------------------------------------------------------------------------\u001b[0m",
      "\u001b[1;31mNameError\u001b[0m                                 Traceback (most recent call last)",
      "\u001b[1;32m<ipython-input-1-6c74690062af>\u001b[0m in \u001b[0;36m<module>\u001b[1;34m\u001b[0m\n\u001b[1;32m----> 1\u001b[1;33m \u001b[0mcap\u001b[0m \u001b[1;33m=\u001b[0m \u001b[0mcv2\u001b[0m\u001b[1;33m.\u001b[0m\u001b[0mVideoCapture\u001b[0m\u001b[1;33m(\u001b[0m\u001b[1;36m0\u001b[0m\u001b[1;33m)\u001b[0m\u001b[1;33m\u001b[0m\u001b[1;33m\u001b[0m\u001b[0m\n\u001b[0m",
      "\u001b[1;31mNameError\u001b[0m: name 'cv2' is not defined"
     ]
    }
   ],
   "metadata": {}
  },
  {
   "cell_type": "code",
   "execution_count": null,
   "source": [
    "while True:\r\n",
    "    ret,frame = cap.read()\r\n",
    "    cv2.imshow('Original frame',frame)\r\n",
    "\r\n",
    "    hsv = cv2.cvtColor(frame,cv2.COLOR_BGR2HSV)\r\n",
    "\r\n",
    "    mask = cv2.inRange(hsv,low_orange,high_orange)\r\n",
    "    cv2.imshow('Masked frame',mask)\r\n",
    "\r\n",
    "    if cv2.waitKey(1) == ord('q'):\r\n",
    "        break\r\n",
    "\r\n",
    "cap.release()\r\n",
    "cv2.destroyAllWindows()"
   ],
   "outputs": [],
   "metadata": {}
  },
  {
   "cell_type": "code",
   "execution_count": 4,
   "source": [
    "low_orange = np.array([95,0,0])\r\n",
    "high_orange = np.array([130,255,255])\r\n",
    "\r\n",
    "cap = cv2.VideoCapture(0)\r\n",
    "\r\n",
    "while True:\r\n",
    "    ret,frame = cap.read()\r\n",
    "    cv2.imshow('Original frame',frame)\r\n",
    "\r\n",
    "    hsv = cv2.cvtColor(frame,cv2.COLOR_BGR2HSV)\r\n",
    "\r\n",
    "    mask = cv2.inRange(hsv,low_orange,high_orange)\r\n",
    "    cv2.imshow('Masked frame',mask)\r\n",
    "\r\n",
    "    if cv2.waitKey(1) == ord('q'):\r\n",
    "        break\r\n",
    "\r\n",
    "cap.release()\r\n",
    "cv2.destroyAllWindows()"
   ],
   "outputs": [
    {
     "output_type": "error",
     "ename": "error",
     "evalue": "OpenCV(4.5.3) C:\\Users\\runneradmin\\AppData\\Local\\Temp\\pip-req-build-u4kjpz2z\\opencv\\modules\\imgproc\\src\\color.cpp:182: error: (-215:Assertion failed) !_src.empty() in function 'cv::cvtColor'\n",
     "traceback": [
      "\u001b[1;31m---------------------------------------------------------------------------\u001b[0m",
      "\u001b[1;31merror\u001b[0m                                     Traceback (most recent call last)",
      "\u001b[1;32m<ipython-input-4-f43a091100ce>\u001b[0m in \u001b[0;36m<module>\u001b[1;34m\u001b[0m\n\u001b[0;32m      6\u001b[0m \u001b[1;32mwhile\u001b[0m \u001b[1;32mTrue\u001b[0m\u001b[1;33m:\u001b[0m\u001b[1;33m\u001b[0m\u001b[1;33m\u001b[0m\u001b[0m\n\u001b[0;32m      7\u001b[0m     \u001b[0mret\u001b[0m\u001b[1;33m,\u001b[0m\u001b[0mframe\u001b[0m \u001b[1;33m=\u001b[0m \u001b[0mcap\u001b[0m\u001b[1;33m.\u001b[0m\u001b[0mread\u001b[0m\u001b[1;33m(\u001b[0m\u001b[1;33m)\u001b[0m\u001b[1;33m\u001b[0m\u001b[1;33m\u001b[0m\u001b[0m\n\u001b[1;32m----> 8\u001b[1;33m     \u001b[0mcv2\u001b[0m\u001b[1;33m.\u001b[0m\u001b[0mimshow\u001b[0m\u001b[1;33m(\u001b[0m\u001b[1;34m'Original frame'\u001b[0m\u001b[1;33m,\u001b[0m\u001b[0mframe\u001b[0m\u001b[1;33m)\u001b[0m\u001b[1;33m\u001b[0m\u001b[1;33m\u001b[0m\u001b[0m\n\u001b[0m\u001b[0;32m      9\u001b[0m \u001b[1;33m\u001b[0m\u001b[0m\n\u001b[0;32m     10\u001b[0m     \u001b[0mhsv\u001b[0m \u001b[1;33m=\u001b[0m \u001b[0mcv2\u001b[0m\u001b[1;33m.\u001b[0m\u001b[0mcvtColor\u001b[0m\u001b[1;33m(\u001b[0m\u001b[0mframe\u001b[0m\u001b[1;33m,\u001b[0m\u001b[0mcv2\u001b[0m\u001b[1;33m.\u001b[0m\u001b[0mCOLOR_BGR2HSV\u001b[0m\u001b[1;33m)\u001b[0m\u001b[1;33m\u001b[0m\u001b[1;33m\u001b[0m\u001b[0m\n",
      "\u001b[1;31merror\u001b[0m: OpenCV(4.5.3) C:\\Users\\runneradmin\\AppData\\Local\\Temp\\pip-req-build-u4kjpz2z\\opencv\\modules\\imgproc\\src\\color.cpp:182: error: (-215:Assertion failed) !_src.empty() in function 'cv::cvtColor'\n"
     ]
    }
   ],
   "metadata": {}
  },
  {
   "cell_type": "code",
   "execution_count": null,
   "source": [],
   "outputs": [],
   "metadata": {}
  }
 ],
 "metadata": {
  "kernelspec": {
   "name": "python3",
   "display_name": "Python 3.8.10 64-bit ('strive': conda)"
  },
  "language_info": {
   "name": "python",
   "version": "3.8.10",
   "mimetype": "text/x-python",
   "codemirror_mode": {
    "name": "ipython",
    "version": 3
   },
   "pygments_lexer": "ipython3",
   "nbconvert_exporter": "python",
   "file_extension": ".py"
  },
  "interpreter": {
   "hash": "f5610a57ce5a66969d95506b8c0c9e3b70160de2f7592df689878f178730b779"
  }
 },
 "nbformat": 4,
 "nbformat_minor": 2
}
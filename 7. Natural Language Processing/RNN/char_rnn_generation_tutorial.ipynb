{
  "nbformat": 4,
  "nbformat_minor": 2,
  "metadata": {
    "kernelspec": {
      "name": "python3",
      "display_name": "Python 3.8.10 64-bit ('strive': conda)"
    },
    "language_info": {
      "codemirror_mode": {
        "name": "ipython",
        "version": 3
      },
      "file_extension": ".py",
      "mimetype": "text/x-python",
      "name": "python",
      "nbconvert_exporter": "python",
      "pygments_lexer": "ipython3",
      "version": "3.8.10"
    },
    "colab": {
      "name": "char_rnn_generation_tutorial.ipynb",
      "provenance": []
    },
    "interpreter": {
      "hash": "f5610a57ce5a66969d95506b8c0c9e3b70160de2f7592df689878f178730b779"
    }
  },
  "cells": [
    {
      "cell_type": "markdown",
      "source": [
        "\n",
        "NLP From Scratch: Generating Names with a Character-Level RNN\n",
        "*************************************************************\n",
        "**Author**: `Sean Robertson <https://github.com/spro/practical-pytorch>`_\n",
        "\n",
        "This is our second of three tutorials on \"NLP From Scratch\".\n",
        "In the `first tutorial </intermediate/char_rnn_classification_tutorial>`\n",
        "we used a RNN to classify names into their language of origin. This time\n",
        "we'll turn around and generate names from languages.\n",
        "\n",
        "::\n",
        "\n",
        "    > python sample.py Russian RUS\n",
        "    Rovakov\n",
        "    Uantov\n",
        "    Shavakov\n",
        "\n",
        "    > python sample.py German GER\n",
        "    Gerren\n",
        "    Ereng\n",
        "    Rosher\n",
        "\n",
        "    > python sample.py Spanish SPA\n",
        "    Salla\n",
        "    Parer\n",
        "    Allan\n",
        "\n",
        "    > python sample.py Chinese CHI\n",
        "    Chan\n",
        "    Hang\n",
        "    Iun\n",
        "\n",
        "We are still hand-crafting a small RNN with a few linear layers. The big\n",
        "difference is instead of predicting a category after reading in all the\n",
        "letters of a name, we input a category and output one letter at a time.\n",
        "Recurrently predicting characters to form language (this could also be\n",
        "done with words or other higher order constructs) is often referred to\n",
        "as a \"language model\".\n",
        "\n",
        "**Recommended Reading:**\n",
        "\n",
        "I assume you have at least installed PyTorch, know Python, and\n",
        "understand Tensors:\n",
        "\n",
        "-  https://pytorch.org/ For installation instructions\n",
        "-  :doc:`/beginner/deep_learning_60min_blitz` to get started with PyTorch in general\n",
        "-  :doc:`/beginner/pytorch_with_examples` for a wide and deep overview\n",
        "-  :doc:`/beginner/former_torchies_tutorial` if you are former Lua Torch user\n",
        "\n",
        "It would also be useful to know about RNNs and how they work:\n",
        "\n",
        "-  `The Unreasonable Effectiveness of Recurrent Neural\n",
        "   Networks <https://karpathy.github.io/2015/05/21/rnn-effectiveness/>`__\n",
        "   shows a bunch of real life examples\n",
        "-  `Understanding LSTM\n",
        "   Networks <https://colah.github.io/posts/2015-08-Understanding-LSTMs/>`__\n",
        "   is about LSTMs specifically but also informative about RNNs in\n",
        "   general\n",
        "\n",
        "I also suggest the previous tutorial, :doc:`/intermediate/char_rnn_classification_tutorial`\n",
        "\n",
        "\n",
        "Preparing the Data\n",
        "==================\n",
        "\n",
        ".. Note::\n",
        "   Download the data from\n",
        "   `here <https://download.pytorch.org/tutorial/data.zip>`_\n",
        "   and extract it to the current directory.\n",
        "\n",
        "See the last tutorial for more detail of this process. In short, there\n",
        "are a bunch of plain text files ``data/names/[Language].txt`` with a\n",
        "name per line. We split lines into an array, convert Unicode to ASCII,\n",
        "and end up with a dictionary ``{language: [names ...]}``.\n",
        "\n",
        "\n"
      ],
      "metadata": {
        "id": "d8nxvRpRKLZm"
      }
    },
    {
      "cell_type": "code",
      "execution_count": 1,
      "source": [
        "from zipfile import ZipFile\r\n",
        "file_name = 'data/data.zip'\r\n",
        "\r\n",
        "with ZipFile(file_name, 'r') as zip:\r\n",
        "  zip.extractall()\r\n",
        "  print('Done')\r\n"
      ],
      "outputs": [
        {
          "output_type": "stream",
          "name": "stdout",
          "text": [
            "Done\n"
          ]
        }
      ],
      "metadata": {
        "id": "xODWB9IqjN3B",
        "outputId": "4c632d25-6575-49a3-a8df-1eb8defa9ba0",
        "colab": {
          "base_uri": "https://localhost:8080/"
        }
      }
    },
    {
      "cell_type": "code",
      "execution_count": 2,
      "source": [
        "%matplotlib inline\r\n",
        "from __future__ import unicode_literals, print_function, division\r\n",
        "from io import open\r\n",
        "import glob\r\n",
        "import os\r\n",
        "import unicodedata\r\n",
        "import string\r\n",
        "import torch\r\n",
        "import torch.nn as nn\r\n",
        "import random\r\n",
        "import time\r\n",
        "import math\r\n",
        "import matplotlib.pyplot as plt\r\n",
        "\r\n",
        "\r\n",
        "all_letters = string.ascii_letters + \" .,;'-\"\r\n",
        "n_letters = len(all_letters) + 1 # Plus EOS marker\r\n",
        "\r\n",
        "def findFiles(path): return glob.glob(path)\r\n",
        "\r\n",
        "# Turn a Unicode string to plain ASCII, thanks to https://stackoverflow.com/a/518232/2809427\r\n",
        "def unicodeToAscii(s):\r\n",
        "    return ''.join(\r\n",
        "        c for c in unicodedata.normalize('NFD', s)\r\n",
        "        if unicodedata.category(c) != 'Mn'\r\n",
        "        and c in all_letters\r\n",
        "    )\r\n",
        "\r\n",
        "# Read a file and split into lines\r\n",
        "def readLines(filename):\r\n",
        "    with open(filename, encoding='utf-8') as some_file:\r\n",
        "        return [unicodeToAscii(line.strip()) for line in some_file]\r\n",
        "\r\n",
        "# Build the category_lines dictionary, a list of lines per category\r\n",
        "category_lines = {}\r\n",
        "all_categories = []\r\n",
        "for filename in findFiles('data/names/*.txt'):\r\n",
        "    category = os.path.splitext(os.path.basename(filename))[0]\r\n",
        "    all_categories.append(category)\r\n",
        "    lines = readLines(filename)\r\n",
        "    category_lines[category] = lines\r\n",
        "\r\n",
        "n_categories = len(all_categories)\r\n",
        "\r\n",
        "# if n_categories == 0:\r\n",
        "#     raise RuntimeError('Data not found. Make sure that you downloaded data '\r\n",
        "#         'from https://download.pytorch.org/tutorial/data.zip and extract it to '\r\n",
        "#         'the current directory.')\r\n",
        "\r\n",
        "print('# categories:', n_categories, all_categories)\r\n",
        "print(unicodeToAscii(\"O'Néàl\"))\r\n",
        "\r\n",
        "class RNN(nn.Module):\r\n",
        "    def __init__(self, input_size, hidden_size, output_size):\r\n",
        "        super(RNN, self).__init__()\r\n",
        "        self.hidden_size = hidden_size\r\n",
        "\r\n",
        "        self.i2h = nn.Linear(n_categories + input_size + hidden_size, hidden_size)\r\n",
        "        self.i2o = nn.Linear(n_categories + input_size + hidden_size, output_size)\r\n",
        "        self.o2o = nn.Linear(hidden_size + output_size, output_size)\r\n",
        "        self.dropout = nn.Dropout(0.1)\r\n",
        "        self.softmax = nn.LogSoftmax(dim=1)\r\n",
        "\r\n",
        "    def forward(self, category, input, hidden):\r\n",
        "        input_combined = torch.cat((category, input, hidden), 1)\r\n",
        "        hidden = self.i2h(input_combined)\r\n",
        "        output = self.i2o(input_combined)\r\n",
        "        output_combined = torch.cat((hidden, output), 1)\r\n",
        "        output = self.o2o(output_combined)\r\n",
        "        output = self.dropout(output)\r\n",
        "        output = self.softmax(output)\r\n",
        "        return output, hidden\r\n",
        "\r\n",
        "    def initHidden(self):\r\n",
        "        return torch.zeros(1, self.hidden_size)\r\n",
        "\r\n",
        "# Random item from a list\r\n",
        "def randomChoice(l):\r\n",
        "  return l[random.randint(0, len(l) - 1)]\r\n",
        "\r\n",
        "# Get a random category and random line from that category\r\n",
        "def randomTrainingPair():\r\n",
        "    category = randomChoice(all_categories)\r\n",
        "    line = randomChoice(category_lines[category])\r\n",
        "    return category, line\r\n",
        "# One-hot vector for category\r\n",
        "def categoryTensor(category):\r\n",
        "    li = all_categories.index(category)\r\n",
        "    tensor = torch.zeros(1, n_categories)\r\n",
        "    tensor[0][li] = 1\r\n",
        "    return tensor\r\n",
        "\r\n",
        "# One-hot matrix of first to last letters (not including EOS) for input\r\n",
        "def inputTensor(line):\r\n",
        "    tensor = torch.zeros(len(line), 1, n_letters)\r\n",
        "    for li in range(len(line)):\r\n",
        "        letter = line[li]\r\n",
        "        tensor[li][0][all_letters.find(letter)] = 1\r\n",
        "    return tensor\r\n",
        "\r\n",
        "# LongTensor of second letter to end (EOS) for target\r\n",
        "def targetTensor(line):\r\n",
        "    letter_indexes = [all_letters.find(line[li]) for li in range(1, len(line))]\r\n",
        "    letter_indexes.append(n_letters - 1) # EOS\r\n",
        "    return torch.LongTensor(letter_indexes)\r\n",
        "# Make category, input, and target tensors from a random category, line pair\r\n",
        "def randomTrainingExample():\r\n",
        "    category, line = randomTrainingPair()\r\n",
        "    category_tensor = categoryTensor(category)\r\n",
        "    input_line_tensor = inputTensor(line)\r\n",
        "    target_line_tensor = targetTensor(line)\r\n",
        "    return category_tensor, input_line_tensor, target_line_tensor\r\n",
        "criterion = nn.NLLLoss()\r\n",
        "\r\n",
        "learning_rate = 0.0005\r\n",
        "\r\n",
        "def train(category_tensor, input_line_tensor, target_line_tensor):\r\n",
        "    target_line_tensor.unsqueeze_(-1)\r\n",
        "    hidden = rnn.initHidden()\r\n",
        "\r\n",
        "    rnn.zero_grad()\r\n",
        "\r\n",
        "    loss = 0\r\n",
        "\r\n",
        "    for i in range(input_line_tensor.size(0)):\r\n",
        "        output, hidden = rnn(category_tensor, input_line_tensor[i], hidden)\r\n",
        "        l = criterion(output, target_line_tensor[i])\r\n",
        "        loss += l\r\n",
        "\r\n",
        "    loss.backward()\r\n",
        "\r\n",
        "    for p in rnn.parameters():\r\n",
        "        p.data.add_(p.grad.data, alpha=-learning_rate)\r\n",
        "\r\n",
        "    return output, loss.item() / input_line_tensor.size(0)\r\n",
        "\r\n",
        "def timeSince(since):\r\n",
        "    now = time.time()\r\n",
        "    s = now - since\r\n",
        "    m = math.floor(s / 60)\r\n",
        "    s -= m * 60\r\n",
        "    return '%dm %ds' % (m, s)\r\n",
        "rnn = RNN(n_letters, 128, n_letters)\r\n",
        "\r\n",
        "n_iters = 100000\r\n",
        "print_every = 5000\r\n",
        "plot_every = 500\r\n",
        "all_losses = []\r\n",
        "total_loss = 0 # Reset every plot_every iters\r\n",
        "\r\n",
        "start = time.time()\r\n",
        "\r\n",
        "for iter in range(1, n_iters + 1):\r\n",
        "    output, loss = train(*randomTrainingExample())\r\n",
        "    total_loss += loss\r\n",
        "\r\n",
        "    if iter % print_every == 0:\r\n",
        "        print('%s (%d %d%%) %.4f' % (timeSince(start), iter, iter / n_iters * 100, loss))\r\n",
        "\r\n",
        "    if iter % plot_every == 0:\r\n",
        "        all_losses.append(total_loss / plot_every)\r\n",
        "        total_loss = 0\r\n",
        "\r\n",
        "plt.figure()\r\n",
        "plt.plot(all_losses)\r\n",
        "max_length = 20\r\n",
        "\r\n",
        "# Sample from a category and starting letter\r\n",
        "def sample(category, start_letter='A'):\r\n",
        "    with torch.no_grad():  # no need to track history in sampling\r\n",
        "        category_tensor = categoryTensor(category)\r\n",
        "        input = inputTensor(start_letter)\r\n",
        "        hidden = rnn.initHidden()\r\n",
        "\r\n",
        "        output_name = start_letter\r\n",
        "\r\n",
        "        for i in range(max_length):\r\n",
        "            output, hidden = rnn(category_tensor, input[0], hidden)\r\n",
        "            topv, topi = output.topk(1)\r\n",
        "            topi = topi[0][0]\r\n",
        "            if topi == n_letters - 1:\r\n",
        "                break\r\n",
        "            else:\r\n",
        "                letter = all_letters[topi]\r\n",
        "                output_name += letter\r\n",
        "            input = inputTensor(letter)\r\n",
        "\r\n",
        "        return output_name\r\n",
        "\r\n",
        "# Get multiple samples from one category and multiple starting letters\r\n",
        "def samples(category, start_letters='ABC'):\r\n",
        "    for start_letter in start_letters:\r\n",
        "        print(sample(category, start_letter))\r\n",
        "\r\n",
        "\r\n",
        "samples('Russian', 'RUS')\r\n",
        "\r\n",
        "samples('German', 'GER')\r\n",
        "\r\n",
        "samples('Spanish', 'SPA')\r\n",
        "\r\n",
        "samples('Chinese', 'CHI')"
      ],
      "outputs": [
        {
          "output_type": "stream",
          "name": "stdout",
          "text": [
            "# categories: 18 ['Arabic', 'Chinese', 'Czech', 'Dutch', 'English', 'French', 'German', 'Greek', 'Irish', 'Italian', 'Japanese', 'Korean', 'Polish', 'Portuguese', 'Russian', 'Scottish', 'Spanish', 'Vietnamese']\n",
            "O'Neal\n",
            "0m 28s (5000 5%) 2.9031\n",
            "0m 55s (10000 10%) 2.5878\n",
            "1m 25s (15000 15%) 2.5869\n",
            "1m 52s (20000 20%) 3.1307\n",
            "2m 18s (25000 25%) 2.7753\n",
            "2m 45s (30000 30%) 1.6338\n",
            "3m 11s (35000 35%) 2.3560\n",
            "3m 40s (40000 40%) 1.4085\n",
            "4m 11s (45000 45%) 2.8116\n",
            "4m 42s (50000 50%) 2.6480\n",
            "5m 12s (55000 55%) 2.4778\n",
            "5m 41s (60000 60%) 2.8823\n",
            "6m 12s (65000 65%) 2.3102\n",
            "6m 43s (70000 70%) 2.9840\n",
            "7m 14s (75000 75%) 2.4278\n",
            "7m 46s (80000 80%) 2.1849\n",
            "8m 16s (85000 85%) 2.6325\n",
            "8m 48s (90000 90%) 2.4210\n",
            "9m 18s (95000 95%) 1.7734\n",
            "9m 49s (100000 100%) 3.3447\n",
            "Rovanik\n",
            "Uantovov\n",
            "Shantiski\n",
            "Genger\n",
            "Erenger\n",
            "Rouner\n",
            "Saranara\n",
            "Parez\n",
            "Allas\n",
            "Cha\n",
            "Hang\n",
            "Iin\n"
          ]
        },
        {
          "output_type": "display_data",
          "data": {
            "image/png": "[encoded data removed]",
            "text/plain": [
              "<Figure size 432x288 with 1 Axes>"
            ]
          },
          "metadata": {
            "needs_background": "light"
          }
        }
      ],
      "metadata": {
        "id": "woXqEYVOKLZp",
        "outputId": "7f9fc514-f800-4ebf-b15b-8048ec4b817b",
        "colab": {
          "base_uri": "https://localhost:8080/",
          "height": 863
        }
      }
    },
    {
      "cell_type": "code",
      "execution_count": null,
      "source": [],
      "outputs": [],
      "metadata": {}
    },
    {
      "cell_type": "code",
      "execution_count": 7,
      "source": [
        "# torch.save(rnn,'RNN')\r\n",
        "# model = torch.load"
      ],
      "outputs": [],
      "metadata": {
        "id": "0suwlQwok6m9"
      }
    },
    {
      "cell_type": "markdown",
      "source": [
        "Creating the Network\n",
        "====================\n",
        "\n",
        "This network extends `the last tutorial's RNN <#Creating-the-Network>`__\n",
        "with an extra argument for the category tensor, which is concatenated\n",
        "along with the others. The category tensor is a one-hot vector just like\n",
        "the letter input.\n",
        "\n",
        "We will interpret the output as the probability of the next letter. When\n",
        "sampling, the most likely output letter is used as the next input\n",
        "letter.\n",
        "\n",
        "I added a second linear layer ``o2o`` (after combining hidden and\n",
        "output) to give it more muscle to work with. There's also a dropout\n",
        "layer, which `randomly zeros parts of its\n",
        "input <https://arxiv.org/abs/1207.0580>`__ with a given probability\n",
        "(here 0.1) and is usually used to fuzz inputs to prevent overfitting.\n",
        "Here we're using it towards the end of the network to purposely add some\n",
        "chaos and increase sampling variety.\n",
        "\n",
        ".. figure:: https://i.imgur.com/jzVrf7f.png\n",
        "   :alt:\n",
        "\n",
        "\n",
        "\n"
      ],
      "metadata": {
        "id": "TYd9NlebKLZq"
      }
    },
    {
      "cell_type": "markdown",
      "source": [
        "Training\n",
        "=========\n",
        "Preparing for Training\n",
        "----------------------\n",
        "\n",
        "First of all, helper functions to get random pairs of (category, line):\n",
        "\n",
        "\n"
      ],
      "metadata": {
        "id": "0d4nNcE0KLZr"
      }
    },
    {
      "cell_type": "markdown",
      "source": [
        "For each timestep (that is, for each letter in a training word) the\n",
        "inputs of the network will be\n",
        "``(category, current letter, hidden state)`` and the outputs will be\n",
        "``(next letter, next hidden state)``. So for each training set, we'll\n",
        "need the category, a set of input letters, and a set of output/target\n",
        "letters.\n",
        "\n",
        "Since we are predicting the next letter from the current letter for each\n",
        "timestep, the letter pairs are groups of consecutive letters from the\n",
        "line - e.g. for ``\"ABCD<EOS>\"`` we would create (\"A\", \"B\"), (\"B\", \"C\"),\n",
        "(\"C\", \"D\"), (\"D\", \"EOS\").\n",
        "\n",
        ".. figure:: https://i.imgur.com/JH58tXY.png\n",
        "   :alt:\n",
        "\n",
        "The category tensor is a `one-hot\n",
        "tensor <https://en.wikipedia.org/wiki/One-hot>`__ of size\n",
        "``<1 x n_categories>``. When training we feed it to the network at every\n",
        "timestep - this is a design choice, it could have been included as part\n",
        "of initial hidden state or some other strategy.\n",
        "\n",
        "\n"
      ],
      "metadata": {
        "id": "RBoMDiq2KLZt"
      }
    },
    {
      "cell_type": "markdown",
      "source": [
        "For convenience during training we'll make a ``randomTrainingExample``\n",
        "function that fetches a random (category, line) pair and turns them into\n",
        "the required (category, input, target) tensors.\n",
        "\n",
        "\n"
      ],
      "metadata": {
        "id": "lTICBpQEKLZu"
      }
    },
    {
      "cell_type": "markdown",
      "source": [
        "Training the Network\n",
        "--------------------\n",
        "\n",
        "In contrast to classification, where only the last output is used, we\n",
        "are making a prediction at every step, so we are calculating loss at\n",
        "every step.\n",
        "\n",
        "The magic of autograd allows you to simply sum these losses at each step\n",
        "and call backward at the end.\n",
        "\n",
        "\n"
      ],
      "metadata": {
        "id": "D9OfqWwgKLZv"
      }
    },
    {
      "cell_type": "markdown",
      "source": [
        "To keep track of how long training takes I am adding a\n",
        "``timeSince(timestamp)`` function which returns a human readable string:\n",
        "\n",
        "\n"
      ],
      "metadata": {
        "id": "j9qQZxilKLZw"
      }
    },
    {
      "cell_type": "markdown",
      "source": [
        "Training is business as usual - call train a bunch of times and wait a\n",
        "few minutes, printing the current time and loss every ``print_every``\n",
        "examples, and keeping store of an average loss per ``plot_every`` examples\n",
        "in ``all_losses`` for plotting later.\n",
        "\n",
        "\n"
      ],
      "metadata": {
        "id": "US2EEETdKLZw"
      }
    },
    {
      "cell_type": "markdown",
      "source": [
        "Plotting the Losses\n",
        "-------------------\n",
        "\n",
        "Plotting the historical loss from all\\_losses shows the network\n",
        "learning:\n",
        "\n",
        "\n"
      ],
      "metadata": {
        "id": "oifSOSJLKLZx"
      }
    },
    {
      "cell_type": "markdown",
      "source": [
        "Sampling the Network\n",
        "====================\n",
        "\n",
        "To sample we give the network a letter and ask what the next one is,\n",
        "feed that in as the next letter, and repeat until the EOS token.\n",
        "\n",
        "-  Create tensors for input category, starting letter, and empty hidden\n",
        "   state\n",
        "-  Create a string ``output_name`` with the starting letter\n",
        "-  Up to a maximum output length,\n",
        "\n",
        "   -  Feed the current letter to the network\n",
        "   -  Get the next letter from highest output, and next hidden state\n",
        "   -  If the letter is EOS, stop here\n",
        "   -  If a regular letter, add to ``output_name`` and continue\n",
        "\n",
        "-  Return the final name\n",
        "\n",
        ".. Note::\n",
        "   Rather than having to give it a starting letter, another\n",
        "   strategy would have been to include a \"start of string\" token in\n",
        "   training and have the network choose its own starting letter.\n",
        "\n",
        "\n"
      ],
      "metadata": {
        "id": "mDO-q2s1KLZx"
      }
    },
    {
      "cell_type": "markdown",
      "source": [
        "Exercises\n",
        "=========\n",
        "\n",
        "-  Try with a different dataset of category -> line, for example:\n",
        "\n",
        "   -  Fictional series -> Character name\n",
        "   -  Part of speech -> Word\n",
        "   -  Country -> City\n",
        "\n",
        "-  Use a \"start of sentence\" token so that sampling can be done without\n",
        "   choosing a start letter\n",
        "-  Get better results with a bigger and/or better shaped network\n",
        "\n",
        "   -  Try the nn.LSTM and nn.GRU layers\n",
        "   -  Combine multiple of these RNNs as a higher level network\n",
        "\n",
        "\n"
      ],
      "metadata": {
        "id": "2KfzVMlnKLZy"
      }
    },
    {
      "cell_type": "code",
      "execution_count": null,
      "source": [],
      "outputs": [],
      "metadata": {
        "id": "BRfsTSsgKXra"
      }
    }
  ]
}
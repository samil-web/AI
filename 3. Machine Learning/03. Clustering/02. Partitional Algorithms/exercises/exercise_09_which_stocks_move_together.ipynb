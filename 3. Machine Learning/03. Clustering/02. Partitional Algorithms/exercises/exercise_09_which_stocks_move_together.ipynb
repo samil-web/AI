{
 "cells": [
  {
   "cell_type": "markdown",
   "metadata": {},
   "source": [
    "# Exercise 9: Which stocks move together?\n",
    "\n",
    "In the previous exercise, you clustered companies by their daily stock price movements.  So which company have stock prices that tend to change in the same way?  Now inspect the cluster labels from your clustering to find out."
   ]
  },
  {
   "cell_type": "markdown",
   "metadata": {},
   "source": [
    "**Step 1:** Load the data _(written for you)_."
   ]
  },
  {
   "cell_type": "code",
   "execution_count": 1,
   "metadata": {
    "collapsed": true,
    "exercise": false
   },
   "outputs": [],
   "source": [
    "import pandas as pd\n",
    "\n",
    "fn = '../datasets/company-stock-movements-2010-2015-incl.csv'\n",
    "stocks_df = pd.read_csv(fn, index_col=0)"
   ]
  },
  {
   "cell_type": "markdown",
   "metadata": {},
   "source": [
    "**Step 2:** Run your code from the previous exercise _(filled in for you)_."
   ]
  },
  {
   "cell_type": "code",
   "execution_count": 2,
   "metadata": {
    "exercise": false
   },
   "outputs": [
    {
     "output_type": "execute_result",
     "data": {
      "text/plain": [
       "Pipeline(steps=[('normalizer', Normalizer()),\n",
       "                ('kmeans', KMeans(n_clusters=14))])"
      ]
     },
     "metadata": {},
     "execution_count": 2
    }
   ],
   "source": [
    "companies = list(stocks_df.index)\n",
    "movements = stocks_df.values\n",
    "\n",
    "from sklearn.preprocessing import Normalizer\n",
    "from sklearn.cluster import KMeans\n",
    "from sklearn.pipeline import make_pipeline\n",
    "\n",
    "normalizer = Normalizer()\n",
    "kmeans = KMeans(n_clusters=14)\n",
    "pipeline = make_pipeline(normalizer, kmeans)\n",
    "pipeline.fit(movements)"
   ]
  },
  {
   "cell_type": "markdown",
   "metadata": {},
   "source": [
    "**Step 3:** Use the `.predict()` method of the pipeline to predict the labels for `movements`."
   ]
  },
  {
   "cell_type": "code",
   "execution_count": 4,
   "metadata": {
    "collapsed": true
   },
   "outputs": [],
   "source": [
    "labels = pipeline.predict(movements)"
   ]
  },
  {
   "cell_type": "markdown",
   "metadata": {},
   "source": [
    "**Step 4:** Align the cluster labels with the list of company names `companies` by creating a DataFrame `df` with `labels` and `companies` as columns."
   ]
  },
  {
   "cell_type": "code",
   "execution_count": 5,
   "metadata": {
    "collapsed": true
   },
   "outputs": [],
   "source": [
    "d = {\"labels\":labels,\"companies\":companies}\n",
    "df = pd.DataFrame(d)"
   ]
  },
  {
   "cell_type": "markdown",
   "metadata": {},
   "source": [
    "**Step 5:** Now display the DataFrame, sorted by cluster label.  To do this, use the `.sort_values()` method of `df` to sort the DataFrame by the `'labels'` column."
   ]
  },
  {
   "cell_type": "code",
   "execution_count": 7,
   "metadata": {},
   "outputs": [
    {
     "output_type": "execute_result",
     "data": {
      "text/plain": [
       "    labels                           companies\n",
       "40       0                      Procter Gamble\n",
       "27       0                      Kimberly-Clark\n",
       "9        0                   Colgate-Palmolive\n",
       "34       1                          Mitsubishi\n",
       "58       1                               Xerox\n",
       "21       1                               Honda\n",
       "45       1                                Sony\n",
       "48       1                              Toyota\n",
       "7        1                               Canon\n",
       "8        2                         Caterpillar\n",
       "35       2                            Navistar\n",
       "30       2                          MasterCard\n",
       "13       2                   DuPont de Nemours\n",
       "32       2                                  3M\n",
       "3        3                    American express\n",
       "5        3                     Bank of America\n",
       "15       3                                Ford\n",
       "16       3                   General Electrics\n",
       "26       3                      JPMorgan Chase\n",
       "18       3                       Goldman Sachs\n",
       "55       3                         Wells Fargo\n",
       "53       4                       Valero Energy\n",
       "23       4                                 IBM\n",
       "57       4                               Exxon\n",
       "12       4                             Chevron\n",
       "10       4                      ConocoPhillips\n",
       "44       4                        Schlumberger\n",
       "25       5                   Johnson & Johnson\n",
       "54       5                            Walgreen\n",
       "56       5                            Wal-Mart\n",
       "39       5                              Pfizer\n",
       "42       6                   Royal Dutch Shell\n",
       "37       6                            Novartis\n",
       "49       6                               Total\n",
       "47       6                            Symantec\n",
       "52       6                            Unilever\n",
       "19       6                     GlaxoSmithKline\n",
       "46       6                      Sanofi-Aventis\n",
       "6        6            British American Tobacco\n",
       "43       6                                 SAP\n",
       "20       6                          Home Depot\n",
       "59       7                               Yahoo\n",
       "33       8                           Microsoft\n",
       "22       8                                  HP\n",
       "14       8                                Dell\n",
       "11       8                               Cisco\n",
       "51       9                   Texas instruments\n",
       "50       9  Taiwan Semiconductor Manufacturing\n",
       "24       9                               Intel\n",
       "0       10                               Apple\n",
       "17      10                     Google/Alphabet\n",
       "2       10                              Amazon\n",
       "36      11                    Northrop Grumman\n",
       "4       11                              Boeing\n",
       "29      11                     Lookheed Martin\n",
       "1       12                                 AIG\n",
       "38      13                               Pepsi\n",
       "31      13                           McDonalds\n",
       "28      13                           Coca Cola\n",
       "41      13                       Philip Morris"
      ],
      "text/html": "<div>\n<style scoped>\n    .dataframe tbody tr th:only-of-type {\n        vertical-align: middle;\n    }\n\n    .dataframe tbody tr th {\n        vertical-align: top;\n    }\n\n    .dataframe thead th {\n        text-align: right;\n    }\n</style>\n<table border=\"1\" class=\"dataframe\">\n  <thead>\n    <tr style=\"text-align: right;\">\n      <th></th>\n      <th>labels</th>\n      <th>companies</th>\n    </tr>\n  </thead>\n  <tbody>\n    <tr>\n      <th>40</th>\n      <td>0</td>\n      <td>Procter Gamble</td>\n    </tr>\n    <tr>\n      <th>27</th>\n      <td>0</td>\n      <td>Kimberly-Clark</td>\n    </tr>\n    <tr>\n      <th>9</th>\n      <td>0</td>\n      <td>Colgate-Palmolive</td>\n    </tr>\n    <tr>\n      <th>34</th>\n      <td>1</td>\n      <td>Mitsubishi</td>\n    </tr>\n    <tr>\n      <th>58</th>\n      <td>1</td>\n      <td>Xerox</td>\n    </tr>\n    <tr>\n      <th>21</th>\n      <td>1</td>\n      <td>Honda</td>\n    </tr>\n    <tr>\n      <th>45</th>\n      <td>1</td>\n      <td>Sony</td>\n    </tr>\n    <tr>\n      <th>48</th>\n      <td>1</td>\n      <td>Toyota</td>\n    </tr>\n    <tr>\n      <th>7</th>\n      <td>1</td>\n      <td>Canon</td>\n    </tr>\n    <tr>\n      <th>8</th>\n      <td>2</td>\n      <td>Caterpillar</td>\n    </tr>\n    <tr>\n      <th>35</th>\n      <td>2</td>\n      <td>Navistar</td>\n    </tr>\n    <tr>\n      <th>30</th>\n      <td>2</td>\n      <td>MasterCard</td>\n    </tr>\n    <tr>\n      <th>13</th>\n      <td>2</td>\n      <td>DuPont de Nemours</td>\n    </tr>\n    <tr>\n      <th>32</th>\n      <td>2</td>\n      <td>3M</td>\n    </tr>\n    <tr>\n      <th>3</th>\n      <td>3</td>\n      <td>American express</td>\n    </tr>\n    <tr>\n      <th>5</th>\n      <td>3</td>\n      <td>Bank of America</td>\n    </tr>\n    <tr>\n      <th>15</th>\n      <td>3</td>\n      <td>Ford</td>\n    </tr>\n    <tr>\n      <th>16</th>\n      <td>3</td>\n      <td>General Electrics</td>\n    </tr>\n    <tr>\n      <th>26</th>\n      <td>3</td>\n      <td>JPMorgan Chase</td>\n    </tr>\n    <tr>\n      <th>18</th>\n      <td>3</td>\n      <td>Goldman Sachs</td>\n    </tr>\n    <tr>\n      <th>55</th>\n      <td>3</td>\n      <td>Wells Fargo</td>\n    </tr>\n    <tr>\n      <th>53</th>\n      <td>4</td>\n      <td>Valero Energy</td>\n    </tr>\n    <tr>\n      <th>23</th>\n      <td>4</td>\n      <td>IBM</td>\n    </tr>\n    <tr>\n      <th>57</th>\n      <td>4</td>\n      <td>Exxon</td>\n    </tr>\n    <tr>\n      <th>12</th>\n      <td>4</td>\n      <td>Chevron</td>\n    </tr>\n    <tr>\n      <th>10</th>\n      <td>4</td>\n      <td>ConocoPhillips</td>\n    </tr>\n    <tr>\n      <th>44</th>\n      <td>4</td>\n      <td>Schlumberger</td>\n    </tr>\n    <tr>\n      <th>25</th>\n      <td>5</td>\n      <td>Johnson &amp; Johnson</td>\n    </tr>\n    <tr>\n      <th>54</th>\n      <td>5</td>\n      <td>Walgreen</td>\n    </tr>\n    <tr>\n      <th>56</th>\n      <td>5</td>\n      <td>Wal-Mart</td>\n    </tr>\n    <tr>\n      <th>39</th>\n      <td>5</td>\n      <td>Pfizer</td>\n    </tr>\n    <tr>\n      <th>42</th>\n      <td>6</td>\n      <td>Royal Dutch Shell</td>\n    </tr>\n    <tr>\n      <th>37</th>\n      <td>6</td>\n      <td>Novartis</td>\n    </tr>\n    <tr>\n      <th>49</th>\n      <td>6</td>\n      <td>Total</td>\n    </tr>\n    <tr>\n      <th>47</th>\n      <td>6</td>\n      <td>Symantec</td>\n    </tr>\n    <tr>\n      <th>52</th>\n      <td>6</td>\n      <td>Unilever</td>\n    </tr>\n    <tr>\n      <th>19</th>\n      <td>6</td>\n      <td>GlaxoSmithKline</td>\n    </tr>\n    <tr>\n      <th>46</th>\n      <td>6</td>\n      <td>Sanofi-Aventis</td>\n    </tr>\n    <tr>\n      <th>6</th>\n      <td>6</td>\n      <td>British American Tobacco</td>\n    </tr>\n    <tr>\n      <th>43</th>\n      <td>6</td>\n      <td>SAP</td>\n    </tr>\n    <tr>\n      <th>20</th>\n      <td>6</td>\n      <td>Home Depot</td>\n    </tr>\n    <tr>\n      <th>59</th>\n      <td>7</td>\n      <td>Yahoo</td>\n    </tr>\n    <tr>\n      <th>33</th>\n      <td>8</td>\n      <td>Microsoft</td>\n    </tr>\n    <tr>\n      <th>22</th>\n      <td>8</td>\n      <td>HP</td>\n    </tr>\n    <tr>\n      <th>14</th>\n      <td>8</td>\n      <td>Dell</td>\n    </tr>\n    <tr>\n      <th>11</th>\n      <td>8</td>\n      <td>Cisco</td>\n    </tr>\n    <tr>\n      <th>51</th>\n      <td>9</td>\n      <td>Texas instruments</td>\n    </tr>\n    <tr>\n      <th>50</th>\n      <td>9</td>\n      <td>Taiwan Semiconductor Manufacturing</td>\n    </tr>\n    <tr>\n      <th>24</th>\n      <td>9</td>\n      <td>Intel</td>\n    </tr>\n    <tr>\n      <th>0</th>\n      <td>10</td>\n      <td>Apple</td>\n    </tr>\n    <tr>\n      <th>17</th>\n      <td>10</td>\n      <td>Google/Alphabet</td>\n    </tr>\n    <tr>\n      <th>2</th>\n      <td>10</td>\n      <td>Amazon</td>\n    </tr>\n    <tr>\n      <th>36</th>\n      <td>11</td>\n      <td>Northrop Grumman</td>\n    </tr>\n    <tr>\n      <th>4</th>\n      <td>11</td>\n      <td>Boeing</td>\n    </tr>\n    <tr>\n      <th>29</th>\n      <td>11</td>\n      <td>Lookheed Martin</td>\n    </tr>\n    <tr>\n      <th>1</th>\n      <td>12</td>\n      <td>AIG</td>\n    </tr>\n    <tr>\n      <th>38</th>\n      <td>13</td>\n      <td>Pepsi</td>\n    </tr>\n    <tr>\n      <th>31</th>\n      <td>13</td>\n      <td>McDonalds</td>\n    </tr>\n    <tr>\n      <th>28</th>\n      <td>13</td>\n      <td>Coca Cola</td>\n    </tr>\n    <tr>\n      <th>41</th>\n      <td>13</td>\n      <td>Philip Morris</td>\n    </tr>\n  </tbody>\n</table>\n</div>"
     },
     "metadata": {},
     "execution_count": 7
    }
   ],
   "source": [
    "df.sort_values(by='labels')"
   ]
  },
  {
   "cell_type": "markdown",
   "metadata": {},
   "source": [
    "**Great job!** Using k-means, you've discovered which companies stock prices move together on the stock exchange."
   ]
  },
  {
   "cell_type": "code",
   "execution_count": null,
   "metadata": {
    "collapsed": true
   },
   "outputs": [],
   "source": []
  }
 ],
 "metadata": {
  "kernelspec": {
   "name": "python3",
   "display_name": "Python 3.8.10 64-bit ('strive': conda)"
  },
  "language_info": {
   "codemirror_mode": {
    "name": "ipython",
    "version": 3
   },
   "file_extension": ".py",
   "mimetype": "text/x-python",
   "name": "python",
   "nbconvert_exporter": "python",
   "pygments_lexer": "ipython3",
   "version": "3.8.10"
  },
  "interpreter": {
   "hash": "f5610a57ce5a66969d95506b8c0c9e3b70160de2f7592df689878f178730b779"
  }
 },
 "nbformat": 4,
 "nbformat_minor": 2
}
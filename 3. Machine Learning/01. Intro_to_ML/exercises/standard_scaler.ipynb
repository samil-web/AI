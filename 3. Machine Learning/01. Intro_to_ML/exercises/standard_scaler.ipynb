{
 "metadata": {
  "language_info": {
   "codemirror_mode": {
    "name": "ipython",
    "version": 3
   },
   "file_extension": ".py",
   "mimetype": "text/x-python",
   "name": "python",
   "nbconvert_exporter": "python",
   "pygments_lexer": "ipython3",
   "version": "3.8.10"
  },
  "orig_nbformat": 4,
  "kernelspec": {
   "name": "python3",
   "display_name": "Python 3.8.10 64-bit ('strive': conda)"
  },
  "interpreter": {
   "hash": "f5610a57ce5a66969d95506b8c0c9e3b70160de2f7592df689878f178730b779"
  }
 },
 "nbformat": 4,
 "nbformat_minor": 2,
 "cells": [
  {
   "cell_type": "code",
   "execution_count": 2,
   "metadata": {},
   "outputs": [],
   "source": [
    "from sklearn.preprocessing import StandardScaler"
   ]
  },
  {
   "cell_type": "code",
   "execution_count": 3,
   "metadata": {},
   "outputs": [],
   "source": [
    "import numpy as np\n"
   ]
  },
  {
   "cell_type": "code",
   "execution_count": 4,
   "metadata": {},
   "outputs": [],
   "source": [
    "a = np.random.randint(0,10,100)"
   ]
  },
  {
   "cell_type": "code",
   "execution_count": 5,
   "metadata": {},
   "outputs": [
    {
     "output_type": "execute_result",
     "data": {
      "text/plain": [
       "array([8, 7, 8, 7, 5, 6, 9, 5, 5, 9, 7, 7, 7, 8, 2, 0, 0, 5, 1, 6, 8, 4,\n",
       "       3, 2, 6, 3, 9, 8, 7, 6, 1, 0, 0, 2, 3, 9, 3, 3, 5, 0, 4, 6, 8, 1,\n",
       "       6, 0, 9, 8, 8, 3, 8, 2, 3, 1, 4, 0, 7, 8, 7, 3, 6, 0, 3, 1, 9, 2,\n",
       "       8, 1, 7, 7, 0, 9, 9, 6, 8, 9, 6, 4, 4, 1, 7, 3, 1, 0, 9, 6, 5, 7,\n",
       "       8, 6, 6, 6, 6, 1, 9, 7, 3, 4, 7, 6])"
      ]
     },
     "metadata": {},
     "execution_count": 5
    }
   ],
   "source": [
    "a"
   ]
  },
  {
   "cell_type": "code",
   "execution_count": 6,
   "metadata": {},
   "outputs": [
    {
     "output_type": "error",
     "ename": "NameError",
     "evalue": "name 'scaler' is not defined",
     "traceback": [
      "\u001b[1;31m---------------------------------------------------------------------------\u001b[0m",
      "\u001b[1;31mNameError\u001b[0m                                 Traceback (most recent call last)",
      "\u001b[1;32m<ipython-input-6-cc1c483c930c>\u001b[0m in \u001b[0;36m<module>\u001b[1;34m\u001b[0m\n\u001b[1;32m----> 1\u001b[1;33m \u001b[0mscaler\u001b[0m\u001b[1;33m.\u001b[0m\u001b[0mfit\u001b[0m\u001b[1;33m(\u001b[0m\u001b[0ma\u001b[0m\u001b[1;33m)\u001b[0m\u001b[1;33m\u001b[0m\u001b[1;33m\u001b[0m\u001b[0m\n\u001b[0m",
      "\u001b[1;31mNameError\u001b[0m: name 'scaler' is not defined"
     ]
    }
   ],
   "source": []
  },
  {
   "cell_type": "code",
   "execution_count": 7,
   "metadata": {},
   "outputs": [],
   "source": [
    "scaler = StandardScaler()"
   ]
  },
  {
   "cell_type": "code",
   "execution_count": 8,
   "metadata": {},
   "outputs": [
    {
     "output_type": "error",
     "ename": "ValueError",
     "evalue": "Expected 2D array, got 1D array instead:\narray=[8. 7. 8. 7. 5. 6. 9. 5. 5. 9. 7. 7. 7. 8. 2. 0. 0. 5. 1. 6. 8. 4. 3. 2.\n 6. 3. 9. 8. 7. 6. 1. 0. 0. 2. 3. 9. 3. 3. 5. 0. 4. 6. 8. 1. 6. 0. 9. 8.\n 8. 3. 8. 2. 3. 1. 4. 0. 7. 8. 7. 3. 6. 0. 3. 1. 9. 2. 8. 1. 7. 7. 0. 9.\n 9. 6. 8. 9. 6. 4. 4. 1. 7. 3. 1. 0. 9. 6. 5. 7. 8. 6. 6. 6. 6. 1. 9. 7.\n 3. 4. 7. 6.].\nReshape your data either using array.reshape(-1, 1) if your data has a single feature or array.reshape(1, -1) if it contains a single sample.",
     "traceback": [
      "\u001b[1;31m---------------------------------------------------------------------------\u001b[0m",
      "\u001b[1;31mValueError\u001b[0m                                Traceback (most recent call last)",
      "\u001b[1;32m<ipython-input-8-cc1c483c930c>\u001b[0m in \u001b[0;36m<module>\u001b[1;34m\u001b[0m\n\u001b[1;32m----> 1\u001b[1;33m \u001b[0mscaler\u001b[0m\u001b[1;33m.\u001b[0m\u001b[0mfit\u001b[0m\u001b[1;33m(\u001b[0m\u001b[0ma\u001b[0m\u001b[1;33m)\u001b[0m\u001b[1;33m\u001b[0m\u001b[1;33m\u001b[0m\u001b[0m\n\u001b[0m",
      "\u001b[1;32m~\\anaconda3.1\\envs\\strive\\lib\\site-packages\\sklearn\\preprocessing\\_data.py\u001b[0m in \u001b[0;36mfit\u001b[1;34m(self, X, y, sample_weight)\u001b[0m\n\u001b[0;32m    728\u001b[0m         \u001b[1;31m# Reset internal state before fitting\u001b[0m\u001b[1;33m\u001b[0m\u001b[1;33m\u001b[0m\u001b[1;33m\u001b[0m\u001b[0m\n\u001b[0;32m    729\u001b[0m         \u001b[0mself\u001b[0m\u001b[1;33m.\u001b[0m\u001b[0m_reset\u001b[0m\u001b[1;33m(\u001b[0m\u001b[1;33m)\u001b[0m\u001b[1;33m\u001b[0m\u001b[1;33m\u001b[0m\u001b[0m\n\u001b[1;32m--> 730\u001b[1;33m         \u001b[1;32mreturn\u001b[0m \u001b[0mself\u001b[0m\u001b[1;33m.\u001b[0m\u001b[0mpartial_fit\u001b[0m\u001b[1;33m(\u001b[0m\u001b[0mX\u001b[0m\u001b[1;33m,\u001b[0m \u001b[0my\u001b[0m\u001b[1;33m,\u001b[0m \u001b[0msample_weight\u001b[0m\u001b[1;33m)\u001b[0m\u001b[1;33m\u001b[0m\u001b[1;33m\u001b[0m\u001b[0m\n\u001b[0m\u001b[0;32m    731\u001b[0m \u001b[1;33m\u001b[0m\u001b[0m\n\u001b[0;32m    732\u001b[0m     \u001b[1;32mdef\u001b[0m \u001b[0mpartial_fit\u001b[0m\u001b[1;33m(\u001b[0m\u001b[0mself\u001b[0m\u001b[1;33m,\u001b[0m \u001b[0mX\u001b[0m\u001b[1;33m,\u001b[0m \u001b[0my\u001b[0m\u001b[1;33m=\u001b[0m\u001b[1;32mNone\u001b[0m\u001b[1;33m,\u001b[0m \u001b[0msample_weight\u001b[0m\u001b[1;33m=\u001b[0m\u001b[1;32mNone\u001b[0m\u001b[1;33m)\u001b[0m\u001b[1;33m:\u001b[0m\u001b[1;33m\u001b[0m\u001b[1;33m\u001b[0m\u001b[0m\n",
      "\u001b[1;32m~\\anaconda3.1\\envs\\strive\\lib\\site-packages\\sklearn\\preprocessing\\_data.py\u001b[0m in \u001b[0;36mpartial_fit\u001b[1;34m(self, X, y, sample_weight)\u001b[0m\n\u001b[0;32m    764\u001b[0m         \"\"\"\n\u001b[0;32m    765\u001b[0m         \u001b[0mfirst_call\u001b[0m \u001b[1;33m=\u001b[0m \u001b[1;32mnot\u001b[0m \u001b[0mhasattr\u001b[0m\u001b[1;33m(\u001b[0m\u001b[0mself\u001b[0m\u001b[1;33m,\u001b[0m \u001b[1;34m\"n_samples_seen_\"\u001b[0m\u001b[1;33m)\u001b[0m\u001b[1;33m\u001b[0m\u001b[1;33m\u001b[0m\u001b[0m\n\u001b[1;32m--> 766\u001b[1;33m         X = self._validate_data(X, accept_sparse=('csr', 'csc'),\n\u001b[0m\u001b[0;32m    767\u001b[0m                                 \u001b[0mestimator\u001b[0m\u001b[1;33m=\u001b[0m\u001b[0mself\u001b[0m\u001b[1;33m,\u001b[0m \u001b[0mdtype\u001b[0m\u001b[1;33m=\u001b[0m\u001b[0mFLOAT_DTYPES\u001b[0m\u001b[1;33m,\u001b[0m\u001b[1;33m\u001b[0m\u001b[1;33m\u001b[0m\u001b[0m\n\u001b[0;32m    768\u001b[0m                                 force_all_finite='allow-nan', reset=first_call)\n",
      "\u001b[1;32m~\\anaconda3.1\\envs\\strive\\lib\\site-packages\\sklearn\\base.py\u001b[0m in \u001b[0;36m_validate_data\u001b[1;34m(self, X, y, reset, validate_separately, **check_params)\u001b[0m\n\u001b[0;32m    419\u001b[0m             \u001b[0mout\u001b[0m \u001b[1;33m=\u001b[0m \u001b[0mX\u001b[0m\u001b[1;33m\u001b[0m\u001b[1;33m\u001b[0m\u001b[0m\n\u001b[0;32m    420\u001b[0m         \u001b[1;32melif\u001b[0m \u001b[0misinstance\u001b[0m\u001b[1;33m(\u001b[0m\u001b[0my\u001b[0m\u001b[1;33m,\u001b[0m \u001b[0mstr\u001b[0m\u001b[1;33m)\u001b[0m \u001b[1;32mand\u001b[0m \u001b[0my\u001b[0m \u001b[1;33m==\u001b[0m \u001b[1;34m'no_validation'\u001b[0m\u001b[1;33m:\u001b[0m\u001b[1;33m\u001b[0m\u001b[1;33m\u001b[0m\u001b[0m\n\u001b[1;32m--> 421\u001b[1;33m             \u001b[0mX\u001b[0m \u001b[1;33m=\u001b[0m \u001b[0mcheck_array\u001b[0m\u001b[1;33m(\u001b[0m\u001b[0mX\u001b[0m\u001b[1;33m,\u001b[0m \u001b[1;33m**\u001b[0m\u001b[0mcheck_params\u001b[0m\u001b[1;33m)\u001b[0m\u001b[1;33m\u001b[0m\u001b[1;33m\u001b[0m\u001b[0m\n\u001b[0m\u001b[0;32m    422\u001b[0m             \u001b[0mout\u001b[0m \u001b[1;33m=\u001b[0m \u001b[0mX\u001b[0m\u001b[1;33m\u001b[0m\u001b[1;33m\u001b[0m\u001b[0m\n\u001b[0;32m    423\u001b[0m         \u001b[1;32melse\u001b[0m\u001b[1;33m:\u001b[0m\u001b[1;33m\u001b[0m\u001b[1;33m\u001b[0m\u001b[0m\n",
      "\u001b[1;32m~\\anaconda3.1\\envs\\strive\\lib\\site-packages\\sklearn\\utils\\validation.py\u001b[0m in \u001b[0;36minner_f\u001b[1;34m(*args, **kwargs)\u001b[0m\n\u001b[0;32m     61\u001b[0m             \u001b[0mextra_args\u001b[0m \u001b[1;33m=\u001b[0m \u001b[0mlen\u001b[0m\u001b[1;33m(\u001b[0m\u001b[0margs\u001b[0m\u001b[1;33m)\u001b[0m \u001b[1;33m-\u001b[0m \u001b[0mlen\u001b[0m\u001b[1;33m(\u001b[0m\u001b[0mall_args\u001b[0m\u001b[1;33m)\u001b[0m\u001b[1;33m\u001b[0m\u001b[1;33m\u001b[0m\u001b[0m\n\u001b[0;32m     62\u001b[0m             \u001b[1;32mif\u001b[0m \u001b[0mextra_args\u001b[0m \u001b[1;33m<=\u001b[0m \u001b[1;36m0\u001b[0m\u001b[1;33m:\u001b[0m\u001b[1;33m\u001b[0m\u001b[1;33m\u001b[0m\u001b[0m\n\u001b[1;32m---> 63\u001b[1;33m                 \u001b[1;32mreturn\u001b[0m \u001b[0mf\u001b[0m\u001b[1;33m(\u001b[0m\u001b[1;33m*\u001b[0m\u001b[0margs\u001b[0m\u001b[1;33m,\u001b[0m \u001b[1;33m**\u001b[0m\u001b[0mkwargs\u001b[0m\u001b[1;33m)\u001b[0m\u001b[1;33m\u001b[0m\u001b[1;33m\u001b[0m\u001b[0m\n\u001b[0m\u001b[0;32m     64\u001b[0m \u001b[1;33m\u001b[0m\u001b[0m\n\u001b[0;32m     65\u001b[0m             \u001b[1;31m# extra_args > 0\u001b[0m\u001b[1;33m\u001b[0m\u001b[1;33m\u001b[0m\u001b[1;33m\u001b[0m\u001b[0m\n",
      "\u001b[1;32m~\\anaconda3.1\\envs\\strive\\lib\\site-packages\\sklearn\\utils\\validation.py\u001b[0m in \u001b[0;36mcheck_array\u001b[1;34m(array, accept_sparse, accept_large_sparse, dtype, order, copy, force_all_finite, ensure_2d, allow_nd, ensure_min_samples, ensure_min_features, estimator)\u001b[0m\n\u001b[0;32m    692\u001b[0m             \u001b[1;31m# If input is 1D raise error\u001b[0m\u001b[1;33m\u001b[0m\u001b[1;33m\u001b[0m\u001b[1;33m\u001b[0m\u001b[0m\n\u001b[0;32m    693\u001b[0m             \u001b[1;32mif\u001b[0m \u001b[0marray\u001b[0m\u001b[1;33m.\u001b[0m\u001b[0mndim\u001b[0m \u001b[1;33m==\u001b[0m \u001b[1;36m1\u001b[0m\u001b[1;33m:\u001b[0m\u001b[1;33m\u001b[0m\u001b[1;33m\u001b[0m\u001b[0m\n\u001b[1;32m--> 694\u001b[1;33m                 raise ValueError(\n\u001b[0m\u001b[0;32m    695\u001b[0m                     \u001b[1;34m\"Expected 2D array, got 1D array instead:\\narray={}.\\n\"\u001b[0m\u001b[1;33m\u001b[0m\u001b[1;33m\u001b[0m\u001b[0m\n\u001b[0;32m    696\u001b[0m                     \u001b[1;34m\"Reshape your data either using array.reshape(-1, 1) if \"\u001b[0m\u001b[1;33m\u001b[0m\u001b[1;33m\u001b[0m\u001b[0m\n",
      "\u001b[1;31mValueError\u001b[0m: Expected 2D array, got 1D array instead:\narray=[8. 7. 8. 7. 5. 6. 9. 5. 5. 9. 7. 7. 7. 8. 2. 0. 0. 5. 1. 6. 8. 4. 3. 2.\n 6. 3. 9. 8. 7. 6. 1. 0. 0. 2. 3. 9. 3. 3. 5. 0. 4. 6. 8. 1. 6. 0. 9. 8.\n 8. 3. 8. 2. 3. 1. 4. 0. 7. 8. 7. 3. 6. 0. 3. 1. 9. 2. 8. 1. 7. 7. 0. 9.\n 9. 6. 8. 9. 6. 4. 4. 1. 7. 3. 1. 0. 9. 6. 5. 7. 8. 6. 6. 6. 6. 1. 9. 7.\n 3. 4. 7. 6.].\nReshape your data either using array.reshape(-1, 1) if your data has a single feature or array.reshape(1, -1) if it contains a single sample."
     ]
    }
   ],
   "source": [
    "scaler.fit(a)"
   ]
  },
  {
   "cell_type": "code",
   "execution_count": 12,
   "metadata": {},
   "outputs": [],
   "source": [
    "a = a.reshape(-1,1)"
   ]
  },
  {
   "cell_type": "code",
   "execution_count": 17,
   "metadata": {},
   "outputs": [
    {
     "output_type": "execute_result",
     "data": {
      "text/plain": [
       "StandardScaler()"
      ]
     },
     "metadata": {},
     "execution_count": 17
    }
   ],
   "source": [
    "scaler.fit(a)"
   ]
  },
  {
   "cell_type": "code",
   "execution_count": 15,
   "metadata": {},
   "outputs": [
    {
     "output_type": "execute_result",
     "data": {
      "text/plain": [
       "StandardScaler()"
      ]
     },
     "metadata": {},
     "execution_count": 15
    }
   ],
   "source": [
    "scaler"
   ]
  },
  {
   "cell_type": "code",
   "execution_count": 18,
   "metadata": {},
   "outputs": [
    {
     "output_type": "execute_result",
     "data": {
      "text/plain": [
       "array([4.97])"
      ]
     },
     "metadata": {},
     "execution_count": 18
    }
   ],
   "source": [
    "scaler.mean_"
   ]
  },
  {
   "cell_type": "code",
   "execution_count": 19,
   "metadata": {},
   "outputs": [
    {
     "output_type": "execute_result",
     "data": {
      "text/plain": [
       "array([8.5291])"
      ]
     },
     "metadata": {},
     "execution_count": 19
    }
   ],
   "source": [
    "scaler.var_"
   ]
  },
  {
   "cell_type": "code",
   "execution_count": 20,
   "metadata": {},
   "outputs": [
    {
     "output_type": "execute_result",
     "data": {
      "text/plain": [
       "(100, 1)"
      ]
     },
     "metadata": {},
     "execution_count": 20
    }
   ],
   "source": [
    "a.shape"
   ]
  },
  {
   "cell_type": "code",
   "execution_count": 23,
   "metadata": {},
   "outputs": [
    {
     "output_type": "execute_result",
     "data": {
      "text/plain": [
       "array([[ 1.03750698],\n",
       "       [ 0.69509543],\n",
       "       [ 1.03750698],\n",
       "       [ 0.69509543],\n",
       "       [ 0.01027235],\n",
       "       [ 0.35268389],\n",
       "       [ 1.37991852],\n",
       "       [ 0.01027235],\n",
       "       [ 0.01027235],\n",
       "       [ 1.37991852],\n",
       "       [ 0.69509543],\n",
       "       [ 0.69509543],\n",
       "       [ 0.69509543],\n",
       "       [ 1.03750698],\n",
       "       [-1.01696228],\n",
       "       [-1.70178537],\n",
       "       [-1.70178537],\n",
       "       [ 0.01027235],\n",
       "       [-1.35937383],\n",
       "       [ 0.35268389],\n",
       "       [ 1.03750698],\n",
       "       [-0.3321392 ],\n",
       "       [-0.67455074],\n",
       "       [-1.01696228],\n",
       "       [ 0.35268389],\n",
       "       [-0.67455074],\n",
       "       [ 1.37991852],\n",
       "       [ 1.03750698],\n",
       "       [ 0.69509543],\n",
       "       [ 0.35268389],\n",
       "       [-1.35937383],\n",
       "       [-1.70178537],\n",
       "       [-1.70178537],\n",
       "       [-1.01696228],\n",
       "       [-0.67455074],\n",
       "       [ 1.37991852],\n",
       "       [-0.67455074],\n",
       "       [-0.67455074],\n",
       "       [ 0.01027235],\n",
       "       [-1.70178537],\n",
       "       [-0.3321392 ],\n",
       "       [ 0.35268389],\n",
       "       [ 1.03750698],\n",
       "       [-1.35937383],\n",
       "       [ 0.35268389],\n",
       "       [-1.70178537],\n",
       "       [ 1.37991852],\n",
       "       [ 1.03750698],\n",
       "       [ 1.03750698],\n",
       "       [-0.67455074],\n",
       "       [ 1.03750698],\n",
       "       [-1.01696228],\n",
       "       [-0.67455074],\n",
       "       [-1.35937383],\n",
       "       [-0.3321392 ],\n",
       "       [-1.70178537],\n",
       "       [ 0.69509543],\n",
       "       [ 1.03750698],\n",
       "       [ 0.69509543],\n",
       "       [-0.67455074],\n",
       "       [ 0.35268389],\n",
       "       [-1.70178537],\n",
       "       [-0.67455074],\n",
       "       [-1.35937383],\n",
       "       [ 1.37991852],\n",
       "       [-1.01696228],\n",
       "       [ 1.03750698],\n",
       "       [-1.35937383],\n",
       "       [ 0.69509543],\n",
       "       [ 0.69509543],\n",
       "       [-1.70178537],\n",
       "       [ 1.37991852],\n",
       "       [ 1.37991852],\n",
       "       [ 0.35268389],\n",
       "       [ 1.03750698],\n",
       "       [ 1.37991852],\n",
       "       [ 0.35268389],\n",
       "       [-0.3321392 ],\n",
       "       [-0.3321392 ],\n",
       "       [-1.35937383],\n",
       "       [ 0.69509543],\n",
       "       [-0.67455074],\n",
       "       [-1.35937383],\n",
       "       [-1.70178537],\n",
       "       [ 1.37991852],\n",
       "       [ 0.35268389],\n",
       "       [ 0.01027235],\n",
       "       [ 0.69509543],\n",
       "       [ 1.03750698],\n",
       "       [ 0.35268389],\n",
       "       [ 0.35268389],\n",
       "       [ 0.35268389],\n",
       "       [ 0.35268389],\n",
       "       [-1.35937383],\n",
       "       [ 1.37991852],\n",
       "       [ 0.69509543],\n",
       "       [-0.67455074],\n",
       "       [-0.3321392 ],\n",
       "       [ 0.69509543],\n",
       "       [ 0.35268389]])"
      ]
     },
     "metadata": {},
     "execution_count": 23
    }
   ],
   "source": [
    "scaler.transform(a)"
   ]
  },
  {
   "cell_type": "code",
   "execution_count": 24,
   "metadata": {},
   "outputs": [
    {
     "output_type": "execute_result",
     "data": {
      "text/plain": [
       "['__class__',\n",
       " '__delattr__',\n",
       " '__dict__',\n",
       " '__dir__',\n",
       " '__doc__',\n",
       " '__eq__',\n",
       " '__format__',\n",
       " '__ge__',\n",
       " '__getattribute__',\n",
       " '__getstate__',\n",
       " '__gt__',\n",
       " '__hash__',\n",
       " '__init__',\n",
       " '__init_subclass__',\n",
       " '__le__',\n",
       " '__lt__',\n",
       " '__module__',\n",
       " '__ne__',\n",
       " '__new__',\n",
       " '__reduce__',\n",
       " '__reduce_ex__',\n",
       " '__repr__',\n",
       " '__setattr__',\n",
       " '__setstate__',\n",
       " '__sizeof__',\n",
       " '__str__',\n",
       " '__subclasshook__',\n",
       " '__weakref__',\n",
       " '_check_n_features',\n",
       " '_get_param_names',\n",
       " '_get_tags',\n",
       " '_more_tags',\n",
       " '_repr_html_',\n",
       " '_repr_html_inner',\n",
       " '_repr_mimebundle_',\n",
       " '_reset',\n",
       " '_validate_data',\n",
       " 'copy',\n",
       " 'fit',\n",
       " 'fit_transform',\n",
       " 'get_params',\n",
       " 'inverse_transform',\n",
       " 'mean_',\n",
       " 'n_features_in_',\n",
       " 'n_samples_seen_',\n",
       " 'partial_fit',\n",
       " 'scale_',\n",
       " 'set_params',\n",
       " 'transform',\n",
       " 'var_',\n",
       " 'with_mean',\n",
       " 'with_std']"
      ]
     },
     "metadata": {},
     "execution_count": 24
    }
   ],
   "source": [
    "dir(scaler)"
   ]
  },
  {
   "cell_type": "code",
   "execution_count": 25,
   "metadata": {},
   "outputs": [
    {
     "output_type": "execute_result",
     "data": {
      "text/plain": [
       "array([[ 1.03750698],\n",
       "       [ 0.69509543],\n",
       "       [ 1.03750698],\n",
       "       [ 0.69509543],\n",
       "       [ 0.01027235],\n",
       "       [ 0.35268389],\n",
       "       [ 1.37991852],\n",
       "       [ 0.01027235],\n",
       "       [ 0.01027235],\n",
       "       [ 1.37991852],\n",
       "       [ 0.69509543],\n",
       "       [ 0.69509543],\n",
       "       [ 0.69509543],\n",
       "       [ 1.03750698],\n",
       "       [-1.01696228],\n",
       "       [-1.70178537],\n",
       "       [-1.70178537],\n",
       "       [ 0.01027235],\n",
       "       [-1.35937383],\n",
       "       [ 0.35268389],\n",
       "       [ 1.03750698],\n",
       "       [-0.3321392 ],\n",
       "       [-0.67455074],\n",
       "       [-1.01696228],\n",
       "       [ 0.35268389],\n",
       "       [-0.67455074],\n",
       "       [ 1.37991852],\n",
       "       [ 1.03750698],\n",
       "       [ 0.69509543],\n",
       "       [ 0.35268389],\n",
       "       [-1.35937383],\n",
       "       [-1.70178537],\n",
       "       [-1.70178537],\n",
       "       [-1.01696228],\n",
       "       [-0.67455074],\n",
       "       [ 1.37991852],\n",
       "       [-0.67455074],\n",
       "       [-0.67455074],\n",
       "       [ 0.01027235],\n",
       "       [-1.70178537],\n",
       "       [-0.3321392 ],\n",
       "       [ 0.35268389],\n",
       "       [ 1.03750698],\n",
       "       [-1.35937383],\n",
       "       [ 0.35268389],\n",
       "       [-1.70178537],\n",
       "       [ 1.37991852],\n",
       "       [ 1.03750698],\n",
       "       [ 1.03750698],\n",
       "       [-0.67455074],\n",
       "       [ 1.03750698],\n",
       "       [-1.01696228],\n",
       "       [-0.67455074],\n",
       "       [-1.35937383],\n",
       "       [-0.3321392 ],\n",
       "       [-1.70178537],\n",
       "       [ 0.69509543],\n",
       "       [ 1.03750698],\n",
       "       [ 0.69509543],\n",
       "       [-0.67455074],\n",
       "       [ 0.35268389],\n",
       "       [-1.70178537],\n",
       "       [-0.67455074],\n",
       "       [-1.35937383],\n",
       "       [ 1.37991852],\n",
       "       [-1.01696228],\n",
       "       [ 1.03750698],\n",
       "       [-1.35937383],\n",
       "       [ 0.69509543],\n",
       "       [ 0.69509543],\n",
       "       [-1.70178537],\n",
       "       [ 1.37991852],\n",
       "       [ 1.37991852],\n",
       "       [ 0.35268389],\n",
       "       [ 1.03750698],\n",
       "       [ 1.37991852],\n",
       "       [ 0.35268389],\n",
       "       [-0.3321392 ],\n",
       "       [-0.3321392 ],\n",
       "       [-1.35937383],\n",
       "       [ 0.69509543],\n",
       "       [-0.67455074],\n",
       "       [-1.35937383],\n",
       "       [-1.70178537],\n",
       "       [ 1.37991852],\n",
       "       [ 0.35268389],\n",
       "       [ 0.01027235],\n",
       "       [ 0.69509543],\n",
       "       [ 1.03750698],\n",
       "       [ 0.35268389],\n",
       "       [ 0.35268389],\n",
       "       [ 0.35268389],\n",
       "       [ 0.35268389],\n",
       "       [-1.35937383],\n",
       "       [ 1.37991852],\n",
       "       [ 0.69509543],\n",
       "       [-0.67455074],\n",
       "       [-0.3321392 ],\n",
       "       [ 0.69509543],\n",
       "       [ 0.35268389]])"
      ]
     },
     "metadata": {},
     "execution_count": 25
    }
   ],
   "source": [
    "scaler.fit_transform(a)"
   ]
  },
  {
   "cell_type": "code",
   "execution_count": null,
   "metadata": {},
   "outputs": [],
   "source": []
  }
 ]
}
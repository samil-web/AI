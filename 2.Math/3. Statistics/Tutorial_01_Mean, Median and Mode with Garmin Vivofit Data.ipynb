{
 "cells": [
  {
   "cell_type": "code",
   "execution_count": null,
   "metadata": {},
   "outputs": [],
   "source": [
    "%matplotlib inline\n",
    "import matplotlib.pyplot as plt\n",
    "import numpy as np\n",
    "import pandas as pd\n",
    "import math\n",
    "\n",
    "# turn of data table rendering\n",
    "pd.set_option('display.notebook_repr_html', False)\n",
    "plt.style.use('ggplot')\n",
    "pd.__version__"
   ]
  },
  {
   "cell_type": "markdown",
   "metadata": {},
   "source": [
    "## Data"
   ]
  },
  {
   "cell_type": "code",
   "execution_count": null,
   "metadata": {},
   "outputs": [],
   "source": [
    "# Load 248 days of step data and vivofit goals\n",
    "data = pd.read_csv('data\\garmin-vivofit.csv', index_col='date')\n",
    "data.head()"
   ]
  },
  {
   "cell_type": "code",
   "execution_count": null,
   "metadata": {},
   "outputs": [],
   "source": [
    "# Plot the steps and goal data\n",
    "data.steps.plot(kind='area', figsize=(8,5), color='#00A99D', alpha=.5)\n",
    "data.goal.plot()\n",
    "plt.ylabel('steps per day')\n",
    "plt.legend(loc='upper left')"
   ]
  },
  {
   "cell_type": "markdown",
   "metadata": {},
   "source": [
    "## Calculate the mean\n",
    "The arithmetic mean is the most commonly used measure of central tendency. The Greek letter $\\mu$ (mu) is used to represent the population mean. To calculate the mean, we sum up all values $x_0+x_1+x_n$ and divide it by the number of values $n$.\n",
    "\n",
    "$$\\mu= \\frac{1}{n}\\sum_{i=0}^n x_i$$\n"
   ]
  },
  {
   "cell_type": "code",
   "execution_count": null,
   "metadata": {},
   "outputs": [],
   "source": [
    "# Calculate the mean\n",
    "x, n = 0.0, 0\n",
    "\n",
    "for number_of_steps in data.steps:\n",
    "    x += number_of_steps\n",
    "\n",
    "n = len(data.steps)\n",
    "\n",
    "mean = x / n\n",
    "mean"
   ]
  },
  {
   "cell_type": "code",
   "execution_count": null,
   "metadata": {},
   "outputs": [],
   "source": [
    "# We can also let pandas use NumPy's mean function to do the job\n",
    "data.steps.mean()"
   ]
  },
  {
   "cell_type": "code",
   "execution_count": null,
   "metadata": {},
   "outputs": [],
   "source": [
    "# Or we can call NumPy's mean function ourselves\n",
    "np.mean(data.steps)"
   ]
  },
  {
   "cell_type": "code",
   "execution_count": null,
   "metadata": {},
   "outputs": [],
   "source": [
    "# Use pandas to get the mean for all columns at ones\n",
    "data.mean()"
   ]
  },
  {
   "cell_type": "code",
   "execution_count": null,
   "metadata": {},
   "outputs": [],
   "source": [
    "# Plot the mean, togehter with the steps and goal data\n",
    "data.steps.plot(kind='area', color='#00A99D', alpha=.5, figsize=(8,5))\n",
    "data.goal.plot(legend=True)\n",
    "plt.plot([0, len(data.steps)],[mean, mean])\n",
    "plt.ylabel('steps per day')\n",
    "plt.text(25, mean-1200, r'$\\mu=' + str(int(math.floor(mean))) + '$', fontsize=14)\n",
    "plt.legend(loc='upper left')"
   ]
  },
  {
   "cell_type": "markdown",
   "metadata": {},
   "source": [
    "## Calculate the median\n",
    "The median is often a better measure of central tendency when we have extreme outliers. The median is the value in the middle after we sort the data. This is why outliers do not influence the median as much as they do the mean. If the number of observations $n$ is even, we have to take the mean of the two middle values. We calculate for a zero based index.\n",
    "\n",
    "\n",
    "$$n\\ is\\ odd:\\ \\ x_{median}=x_{\\frac{n-1}{2}}$$\n",
    "\n",
    "$$n\\ is\\ even:\\ \\ x_{median}=\\frac{x_\\frac{n-2}{2}+x_\\frac{n}{2}}{2}$$\n"
   ]
  },
  {
   "cell_type": "code",
   "execution_count": null,
   "metadata": {},
   "outputs": [],
   "source": [
    "median, n = 0.0, 0\n",
    "\n",
    "# Get the number of observations\n",
    "n = len(data.steps)\n",
    "    \n",
    "# order the data\n",
    "ordered_data = data.steps.sort_values()\n",
    "\n",
    "if n % 2 == 0:\n",
    "    # n is even\n",
    "    m1 = ordered_data.iloc[int((n - 2) / 2)]\n",
    "    m2 = ordered_data.iloc[int((n / 2))]\n",
    "    median = (m1 + m2) / 2.0\n",
    "else:\n",
    "    # n is odd\n",
    "    median = ordered_data.iloc[int((n - 1) / 2.0)]\n",
    "\n",
    "median"
   ]
  },
  {
   "cell_type": "code",
   "execution_count": null,
   "metadata": {},
   "outputs": [],
   "source": [
    "# Again, we can let pandas use NumPy's median function to do the job\n",
    "data.steps.median()"
   ]
  },
  {
   "cell_type": "code",
   "execution_count": null,
   "metadata": {},
   "outputs": [],
   "source": [
    "# Or we can call NumPy's median function ourselves\n",
    "np.median(data.steps)"
   ]
  },
  {
   "cell_type": "code",
   "execution_count": null,
   "metadata": {},
   "outputs": [],
   "source": [
    "# Use pandas to get the median for all columns at ones\n",
    "data.median()"
   ]
  },
  {
   "cell_type": "markdown",
   "metadata": {},
   "source": [
    "## Calculate the Mode\n",
    "The mode is one or more values which occur most often in the series. This measure of central tendency is especially meaningful when you have a lot of repeated data points (like five-star ratings, day numbers). For the Garmin Vivofit data, however, this holds a problem, because we seldom have the same step count on a particular day. In that case we could categorize our data into range buckets, like 0-1000, 1000-2000 steps, and count the frequencies of the observations in the buckets. Choosing the right bucket size can be tricky, because we can obscure the data or miss the 'real' mode."
   ]
  },
  {
   "cell_type": "code",
   "execution_count": null,
   "metadata": {},
   "outputs": [],
   "source": [
    "# Let's create a lambda that assigns a bucket of size 1000 steps\n",
    "# to each of the step count in the data set\n",
    "bucket_size = 1000\n",
    "bucket_calculator = lambda x: int(x) / bucket_size * bucket_size\n",
    "\n",
    "data['bucket'] = data.steps.apply(bucket_calculator)\n",
    "bucket_min = data.bucket.min()\n",
    "bucket_max = data.bucket.max()\n",
    "bins = int((bucket_max-bucket_min)/bucket_size)\n",
    "\n",
    "data.bucket.hist(color='#00A99D', alpha=.5, bins=bins, figsize=(8,5))\n",
    "\n",
    "print('Mode:', data.groupby('bucket').steps.count().idxmax(), \\\n",
    "      'with bucket size', bucket_size)"
   ]
  }
 ],
 "metadata": {
  "kernelspec": {
   "display_name": "Python 3",
   "language": "python",
   "name": "python3"
  },
  "language_info": {
   "codemirror_mode": {
    "name": "ipython",
    "version": 3
   },
   "file_extension": ".py",
   "mimetype": "text/x-python",
   "name": "python",
   "nbconvert_exporter": "python",
   "pygments_lexer": "ipython3",
   "version": "3.8.5"
  }
 },
 "nbformat": 4,
 "nbformat_minor": 1
}
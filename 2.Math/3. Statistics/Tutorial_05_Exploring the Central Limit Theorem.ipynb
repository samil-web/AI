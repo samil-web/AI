{
 "cells": [
  {
   "cell_type": "code",
   "execution_count": null,
   "metadata": {},
   "outputs": [],
   "source": [
    "%matplotlib inline\n",
    "import numpy as np\n",
    "import pandas as pd\n",
    "import matplotlib.pyplot as plt\n",
    "import seaborn as sns\n",
    "from scipy import stats\n",
    "from __future__ import division\n",
    "\n",
    "# turn of data table rendering\n",
    "pd.set_option('display.notebook_repr_html', False)\n",
    "\n",
    "sns.set_palette(['#00A99D', '#F5CA0C', '#B6129F', '#76620C', '#095C57'])\n",
    "np.version.full_version"
   ]
  },
  {
   "cell_type": "markdown",
   "metadata": {},
   "source": [
    "## Data\n",
    "We take as our population a tetrahedral (four sided) die."
   ]
  },
  {
   "cell_type": "code",
   "execution_count": null,
   "metadata": {},
   "outputs": [],
   "source": [
    "# One throw leads to one of four outcomes\n",
    "data = np.array([1.0, 2.0, 3.0, 4.0])\n",
    "data"
   ]
  },
  {
   "cell_type": "code",
   "execution_count": null,
   "metadata": {},
   "outputs": [],
   "source": [
    "# Our data has a perfect uniform distribution\n",
    "p=sns.barplot(data)"
   ]
  },
  {
   "cell_type": "code",
   "execution_count": null,
   "metadata": {},
   "outputs": [],
   "source": [
    "# Calculate the population mean\n",
    "population_mu = data.mean()\n",
    "population_mu"
   ]
  },
  {
   "cell_type": "code",
   "execution_count": null,
   "metadata": {},
   "outputs": [],
   "source": [
    "# Calculate the standard deviation of the population\n",
    "population_sigma = data.std(ddof=0)\n",
    "population_sigma"
   ]
  },
  {
   "cell_type": "markdown",
   "metadata": {},
   "source": [
    "## Illustration of the Central Limit Theorem\n",
    "The Central Limit Theorem (CLT) states, if we take the mean of a large number of independent samples, the sampling distribution will aproximate a normal distribution, regardless of the shape of the underlying distribution. Let's illustrate this by sampling the mean of two throws ($n=2$) with the tetrahedral die."
   ]
  },
  {
   "cell_type": "code",
   "execution_count": null,
   "metadata": {},
   "outputs": [],
   "source": [
    "# Let's find out the number of possible outcomes with a sample size 2\n",
    "possible_outcomes = 4**2\n",
    "possible_outcomes"
   ]
  },
  {
   "cell_type": "code",
   "execution_count": null,
   "metadata": {},
   "outputs": [],
   "source": [
    "# Create a dataframe with the mean of all possible outcomes\n",
    "mean_outcome_matrix = pd.DataFrame(index=data, dtype='float64', columns=data )\n",
    "\n",
    "for x in data:\n",
    "    for y in data:\n",
    "        mean_outcome_matrix[x][y] = np.mean([x,y])\n",
    "\n",
    "# Below you see a heatmap of the mean of all possible outcomes\n",
    "p=sns.heatmap(mean_outcome_matrix, annot=True)"
   ]
  },
  {
   "cell_type": "code",
   "execution_count": null,
   "metadata": {},
   "outputs": [],
   "source": [
    "# Now get the mean of all possible mean outcomes\n",
    "sample_mean = mean_outcome_matrix.mean().mean()\n",
    "sample_mean"
   ]
  },
  {
   "cell_type": "code",
   "execution_count": null,
   "metadata": {},
   "outputs": [],
   "source": [
    "# Note the mean of all possible mean outcomes \n",
    "# is exactly the same as the population mean!\n",
    "population_mu == sample_mean"
   ]
  },
  {
   "cell_type": "code",
   "execution_count": null,
   "metadata": {},
   "outputs": [],
   "source": [
    "# Below a plot the sampling distribution of all possible mean outcomes\n",
    "# Note that it's perfectly normal\n",
    "diff_val_count = mean_outcome_matrix.stack().value_counts().count()\n",
    "p=sns.distplot(mean_outcome_matrix.stack(), bins=diff_val_count)"
   ]
  },
  {
   "cell_type": "markdown",
   "metadata": {},
   "source": [
    "## The Standard Error\n",
    "The standard deviation of the sampling distribution is called the standard Error (SE)."
   ]
  },
  {
   "cell_type": "code",
   "execution_count": null,
   "metadata": {},
   "outputs": [],
   "source": [
    "# Calculate the standard error (SE) of all possible mean outcomes\n",
    "mean_outcomes_SE = mean_outcome_matrix.stack().std(ddof=0)\n",
    "mean_outcomes_SE"
   ]
  },
  {
   "cell_type": "code",
   "execution_count": null,
   "metadata": {},
   "outputs": [],
   "source": [
    "# If we now calculate the ratio of sigma to SE\n",
    "# we see it is the square root of 2\n",
    "ratio_sigma_SE = population_sigma / mean_outcomes_SE\n",
    "ratio_sigma_SE"
   ]
  },
  {
   "cell_type": "code",
   "execution_count": null,
   "metadata": {},
   "outputs": [],
   "source": [
    "# So if we square this ratio we get... our sample size (approximately)\n",
    "ratio_sigma_SE ** 2"
   ]
  },
  {
   "cell_type": "markdown",
   "metadata": {},
   "source": [
    "This means that sigma $\\sigma$ divided by the standard error $SE$ is the square root of our sample size $n$:\n",
    "\n",
    "$$\\frac{\\sigma}{SE}= \\sqrt{n}$$\n",
    "\n",
    "Also means we can calculate the Standard Error as follows:\n",
    "\n",
    "$$SE=\\frac{\\sigma}{\\sqrt{n}}$$\n"
   ]
  },
  {
   "cell_type": "markdown",
   "metadata": {},
   "source": [
    "## Increasing the sample size\n",
    "When we take a larger sample to calculate the sampling mean, the resulting distribution will become more normal and skinny. Also, the mean of the sampling distribution will match up more with the population mean. This effect is illustrated in the example below."
   ]
  },
  {
   "cell_type": "code",
   "execution_count": null,
   "metadata": {},
   "outputs": [],
   "source": [
    "# Let's simulate a population of a 1000 throws with a weighted \n",
    "# tetrahedral die (with a 40% chance of throwing a 4)\n",
    "# The result is a negatively skewed distribution\n",
    "non_normal_data = np.random.choice(data, 1000, p=[0.10, .20, .30, .4])\n",
    "p=sns.barplot(non_normal_data)"
   ]
  },
  {
   "cell_type": "code",
   "execution_count": null,
   "metadata": {},
   "outputs": [],
   "source": [
    "# Check out the mean of the non normal distribution\n",
    "non_normal_data.mean()"
   ]
  },
  {
   "cell_type": "code",
   "execution_count": null,
   "metadata": {},
   "outputs": [],
   "source": [
    "# In this example we plot four sampling distributions of different\n",
    "# sizes to show the effect of the increasing sample size.\n",
    "# Note thst the distribution is getting more normal and skinny\n",
    "# with an increased sample size.\n",
    "f, (ax1, ax2) = plt.subplots(2, 2, sharex=True)\n",
    "axes = [ax1[0], ax1[1], ax2[0], ax2[1]]\n",
    "ax = 0\n",
    "\n",
    "for sample_size in [2,5,20,100]:\n",
    "    sampling_distribution = []\n",
    "    for i in range(100):\n",
    "        mean_sample = np.random.choice(non_normal_data, sample_size).mean()\n",
    "        sampling_distribution.append(mean_sample)\n",
    "\n",
    "    p=sns.distplot(sampling_distribution, ax=axes[ax], \n",
    "                   axlabel=str(sample_size) + ' samples, $\\\\bar{x}=$' + \n",
    "                   str(np.mean(sampling_distribution)))\n",
    "    ax += 1  "
   ]
  }
 ],
 "metadata": {
  "kernelspec": {
   "display_name": "Python 3",
   "language": "python",
   "name": "python3"
  },
  "language_info": {
   "codemirror_mode": {
    "name": "ipython",
    "version": 3
   },
   "file_extension": ".py",
   "mimetype": "text/x-python",
   "name": "python",
   "nbconvert_exporter": "python",
   "pygments_lexer": "ipython3",
   "version": "3.8.5"
  }
 },
 "nbformat": 4,
 "nbformat_minor": 1
}
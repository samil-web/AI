{
 "cells": [
  {
   "cell_type": "markdown",
   "metadata": {},
   "source": [
    "## Linear Algebra Quiz #1\n",
    "\n",
    "![title](./img/1_0.jpeg)\n",
    "\n",
    "We strongly suggest working with numpy :)"
   ]
  },
  {
   "cell_type": "code",
   "execution_count": 1,
   "metadata": {},
   "outputs": [],
   "source": [
    "#Do your imports here\n",
    "import numpy as np\n",
    "import math"
   ]
  },
  {
   "cell_type": "markdown",
   "metadata": {},
   "source": [
    "![title](./img/1_1.png)"
   ]
  },
  {
   "cell_type": "code",
   "execution_count": 11,
   "metadata": {},
   "outputs": [
    {
     "output_type": "execute_result",
     "data": {
      "text/plain": [
       "[(2, 4), (4, 6), (5, 82)]"
      ]
     },
     "metadata": {},
     "execution_count": 11
    }
   ],
   "source": [
    "# type a function that given a 3_dimensional vector it is able to calculate its magnitude\n",
    "\n",
    "# def magnitude_3(a,b,c):\n",
    "#     magnitude = math.sqrt(a**2+b**2+c**2)\n",
    "#     return magnitude\n",
    "\n",
    "# type a function that given a n_dimensional vector it is able to calculate its magnitude\n",
    "# if you want to try this from python (not jupyter notebook) https://docs.python.org/3/library/argparse.html would be a good addition\n",
    "# if you are doing this from a jupyter notebook only, you can try to promt the user for an input  \n",
    "\n",
    "# magnitude_3(3,4,5)\n",
    "element = [1,3,4,5,6,82,1]\n",
    "# for el,i in enumerate(element):\n",
    "#     print(el,i)\n",
    "div_2 = [(i,el) for i,el in enumerate(element) if el%2 == 0]\n",
    "div_2\n",
    "# def magnitude_complete(*args):\n",
    "#     magnitude = 0\n",
    "#     for arg in args:\n",
    "#         magnitude += math.sqrt(arg)\n",
    "#     return magnitude\n",
    "# magnitude_complete(1,2,3,4,5)"
   ]
  },
  {
   "cell_type": "markdown",
   "metadata": {},
   "source": [
    "uncomment the following line when you are ready to test"
   ]
  },
  {
   "cell_type": "code",
   "execution_count": 3,
   "metadata": {},
   "outputs": [
    {
     "output_type": "execute_result",
     "data": {
      "text/plain": [
       "True"
      ]
     },
     "metadata": {},
     "execution_count": 3
    }
   ],
   "source": [
    "magnitude_complete(1) == 1.0\n",
    "magnitude_complete(1,2) >= 2.236\n",
    "magnitude_complete(1,2,3) >= 3.741\n",
    "magnitude_complete(1,2,3,4,5) >= 5.477\n",
    "magnitude_complete(1,2,3,4,5) >= 7.416"
   ]
  },
  {
   "cell_type": "markdown",
   "metadata": {},
   "source": [
    "![title](./img/1_2.png)"
   ]
  },
  {
   "cell_type": "code",
   "execution_count": 4,
   "metadata": {},
   "outputs": [
    {
     "output_type": "execute_result",
     "data": {
      "text/plain": [
       "array([[2, 7, 6],\n",
       "       [6, 6, 8]])"
      ]
     },
     "metadata": {},
     "execution_count": 4
    }
   ],
   "source": [
    "def magnitude_vectors(a, b):\n",
    "    #checks that size is equal\n",
    "    if a.shape == b.shape:\n",
    "        # return (True,a.shape)\n",
    "        return a + b\n",
    "    return (False,a.shape)\n",
    "a = np.array([[1,2,3],[3,3,4]])\n",
    "b = np.array([[1,5,3],[3,3,4]])\n",
    "magnitude_vectors(a,b)\n",
    "    #returns the magnitude"
   ]
  },
  {
   "cell_type": "markdown",
   "metadata": {},
   "source": [
    "![title](./img/1_3.png)"
   ]
  },
  {
   "cell_type": "code",
   "execution_count": 5,
   "metadata": {},
   "outputs": [
    {
     "output_type": "stream",
     "name": "stdout",
     "text": [
      "The magnitude of a+b is (2,) and the direction is 1.0303768265243125degree\n"
     ]
    }
   ],
   "source": [
    "def direction_vectors(a, b):\n",
    "    #checks that size is equal\n",
    "    if a.shape == b.shape:\n",
    "        # return (True,a.shape)\n",
    "        return a + b\n",
    "    return (False,a.shape)\n",
    "a = np.array([[1,2],[3,3]])\n",
    "b = np.array([[1,5],[3,4]])\n",
    "magnitude_vectors(a,b)    \n",
    "    #returns the magnitude\n",
    "    \n",
    "# or if you want to do it all in one batch:\n",
    "def magdir_vectors(a, b):\n",
    "    #checks that size is equal\n",
    "    # tanO = y2-y1/x2-x1\n",
    "    theta = np.arctan((a[1]-b[1])/(a[0]-b[0]))\n",
    "\n",
    "    if a.shape == b.shape:\n",
    "        # return (True,a.shape)\n",
    "        c= math.sqrt(a + b\n",
    "    \n",
    "    #returns the magnitude and direction in a nicely printed format \n",
    "\n",
    "    #\"The magnitude of a + b is X and the direction is Y\"\n",
    "    print(f'The magnitude of a+b is {a.shape} and the direction is {theta}degree')\n",
    "u = np.array([6,6])\n",
    "v = np.array([3,1])\n",
    "magdir_vectors(u,v)"
   ]
  },
  {
   "cell_type": "markdown",
   "metadata": {},
   "source": [
    "![title](./img/1_4.png)\n",
    "\n",
    "- What is the magnitude of αx⃗? \n",
    "- If α>0, will the direction of the resulting vector change?\n",
    "- If α<0, will the direction of the resulting vector change?\n",
    "- If −1<α<1, will ∥αx⃗∥  increase, decrease or stay the same?"
   ]
  },
  {
   "cell_type": "code",
   "execution_count": null,
   "metadata": {},
   "outputs": [],
   "source": [
    "def alpha_magnitude(alpha, b):\n",
    "    magnitude = alpha*b\n",
    "    #returns the resulting magnitude, if the direction has changed and what has happened to the vector"
   ]
  }
 ],
 "metadata": {
  "kernelspec": {
   "name": "python3810jvsc74a57bd0f5610a57ce5a66969d95506b8c0c9e3b70160de2f7592df689878f178730b779",
   "display_name": "Python 3.8.10 64-bit ('strive': conda)"
  },
  "language_info": {
   "codemirror_mode": {
    "name": "ipython",
    "version": 3
   },
   "file_extension": ".py",
   "mimetype": "text/x-python",
   "name": "python",
   "nbconvert_exporter": "python",
   "pygments_lexer": "ipython3",
   "version": "3.8.10"
  }
 },
 "nbformat": 4,
 "nbformat_minor": 2
}
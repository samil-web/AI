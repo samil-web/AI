{
 "cells": [
  {
   "cell_type": "code",
   "execution_count": 1,
   "id": "0f6d7005",
   "metadata": {},
   "outputs": [
    {
     "data": {
      "text/plain": [
       "3"
      ]
     },
     "execution_count": 1,
     "metadata": {},
     "output_type": "execute_result"
    }
   ],
   "source": [
    "# Counting wood.\n",
    "text = \"\"\"How much wood would a woodchuck chuck\n",
    "If a woodchuck could chuck wood?\n",
    "He would chuck, he would, as much as he could,\n",
    "And chuck as much as a woodchuck would\n",
    "If a Mr. Smith could chuck wood\\n\\r\\t.\"\"\"\n",
    "def wood_counter(text):\n",
    "    text = text.replace(\"?\", \"\").replace(\".\",\"\")\n",
    "    l = text.lower().strip().split()\n",
    "    counter = 0\n",
    "    for word in l:\n",
    "        if word == \"wood\":\n",
    "            counter +=1\n",
    "    return counter\n",
    "wood_counter(text)\n"
   ]
  },
  {
   "cell_type": "code",
   "execution_count": null,
   "id": "fc766b71",
   "metadata": {},
   "outputs": [],
   "source": []
  }
 ],
 "metadata": {
  "kernelspec": {
   "display_name": "Python 3",
   "language": "python",
   "name": "python3"
  },
  "language_info": {
   "codemirror_mode": {
    "name": "ipython",
    "version": 3
   },
   "file_extension": ".py",
   "mimetype": "text/x-python",
   "name": "python",
   "nbconvert_exporter": "python",
   "pygments_lexer": "ipython3",
   "version": "3.8.8"
  }
 },
 "nbformat": 4,
 "nbformat_minor": 5
}

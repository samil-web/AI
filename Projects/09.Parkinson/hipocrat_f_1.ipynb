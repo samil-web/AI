{
 "cells": [
  {
   "cell_type": "code",
   "execution_count": null,
   "metadata": {
    "cell_id": "00000-e1330711-0829-4143-849c-b7890e70835a",
    "deepnote_cell_type": "code",
    "deepnote_to_be_reexecuted": false,
    "execution_millis": 8,
    "execution_start": 1626448841736,
    "source_hash": "f7bb5990",
    "tags": []
   },
   "outputs": [],
   "source": [
    "import pandas as pd\n",
    "import numpy as np\n",
    "from sklearn.model_selection import train_test_split\n",
    "from sklearn.tree          import DecisionTreeRegressor\n",
    "from sklearn.tree          import DecisionTreeClassifier\n",
    "from sklearn.ensemble      import RandomForestClassifier\n",
    "from sklearn.ensemble      import RandomForestRegressor\n",
    "from sklearn.ensemble      import ExtraTreesRegressor\n",
    "from sklearn.ensemble      import AdaBoostRegressor\n",
    "from sklearn.ensemble      import GradientBoostingRegressor\n",
    "from xgboost               import XGBRegressor\n",
    "from lightgbm              import LGBMRegressor\n",
    "from catboost              import CatBoostRegressor\n",
    "from sklearn.tree import plot_tree\n",
    "from sklearn.metrics import confusion_matrix, plot_confusion_matrix\n"
   ]
  },
  {
   "cell_type": "code",
   "execution_count": null,
   "metadata": {
    "cell_id": "00001-4951d784-d5e2-4d88-b519-8e12224ed78f",
    "deepnote_cell_type": "code",
    "deepnote_to_be_reexecuted": false,
    "execution_millis": 386852,
    "execution_start": 1626448500646,
    "source_hash": "5fe296d",
    "tags": []
   },
   "outputs": [],
   "source": [
    "hip_df = pd.read_csv('final_data.csv', index_col=0)"
   ]
  },
  {
   "cell_type": "markdown",
   "metadata": {
    "cell_id": "00002-fcdf4f0e-6448-4c50-8ed0-1f119e8227d0",
    "deepnote_cell_type": "markdown",
    "tags": []
   },
   "source": [
    "### Columns Explanation ###\n",
    "\n",
    "1- age: age in years\n",
    "\n",
    "2- sex: (1 = male, 0 = female)\n",
    "\n",
    "3- chest pain type: Value 1: typical angina | Value 2: atypical angina | Value 3: non-anginal pain | Value 4: asymptomatic \n",
    "\n",
    "4- resting blood pressure: in mm Hg on admission to the\n",
    "hospital)\n",
    "\n",
    "5- serum cholestoral in mg/dl\n",
    "\n",
    "6- (fasting blood sugar > 120 mg/dl) (1 = true; 0 = false)\n",
    "\n",
    "7- resting electrocardiographic results | Value 0: normal | Value 1: having ST-T wave abnormality (T wave inversions and/or ST elevation or depression of > 0.05 mV) | Value 2: showing probable or definite left ventricular hypertrophy\n",
    "\n",
    "8- max heart_rate: maximum heart rate achieved\n",
    "\n",
    "9- angina exercise: exercise induced angina (1 = yes; 0 = no) - which is a type of chest pain caused by not enough blood going to the muscles of the heart.\n",
    "\n",
    "10- depression exercise: ST depression induced by exercise relative to rest\n",
    "\n",
    "11- Heart Disease: the predicted value our label"
   ]
  },
  {
   "cell_type": "code",
   "execution_count": null,
   "metadata": {
    "cell_id": "00003-6dad60e4-c9f9-469d-b0c4-6d6339920b00",
    "deepnote_cell_type": "code",
    "deepnote_to_be_reexecuted": false,
    "execution_millis": 228,
    "execution_start": 1626448502729,
    "source_hash": "41dd1bbc",
    "tags": []
   },
   "outputs": [
    {
     "data": {
      "application/vnd.deepnote.dataframe.v2+json": {
       "column_count": 11,
       "columns": [
        {
         "dtype": "float64",
         "name": "age",
         "stats": {
          "histogram": [
           {
            "bin_end": 31.8,
            "bin_start": 28,
            "count": 6
           },
           {
            "bin_end": 35.6,
            "bin_start": 31.8,
            "count": 15
           },
           {
            "bin_end": 39.4,
            "bin_start": 35.6,
            "count": 31
           },
           {
            "bin_end": 43.2,
            "bin_start": 39.4,
            "count": 37
           },
           {
            "bin_end": 47,
            "bin_start": 43.2,
            "count": 28
           },
           {
            "bin_end": 50.8,
            "bin_start": 47,
            "count": 56
           },
           {
            "bin_end": 54.599999999999994,
            "bin_start": 50.8,
            "count": 63
           },
           {
            "bin_end": 58.4,
            "bin_start": 54.599999999999994,
            "count": 39
           },
           {
            "bin_end": 62.199999999999996,
            "bin_start": 58.4,
            "count": 14
           },
           {
            "bin_end": 66,
            "bin_start": 62.199999999999996,
            "count": 5
           }
          ],
          "max": "66.0",
          "min": "28.0",
          "nan_count": 0,
          "unique_count": 38
         }
        },
        {
         "dtype": "float64",
         "name": "sex",
         "stats": {
          "histogram": [
           {
            "bin_end": 0.1,
            "bin_start": 0,
            "count": 81
           },
           {
            "bin_end": 0.2,
            "bin_start": 0.1,
            "count": 0
           },
           {
            "bin_end": 0.30000000000000004,
            "bin_start": 0.2,
            "count": 0
           },
           {
            "bin_end": 0.4,
            "bin_start": 0.30000000000000004,
            "count": 0
           },
           {
            "bin_end": 0.5,
            "bin_start": 0.4,
            "count": 0
           },
           {
            "bin_end": 0.6000000000000001,
            "bin_start": 0.5,
            "count": 0
           },
           {
            "bin_end": 0.7000000000000001,
            "bin_start": 0.6000000000000001,
            "count": 0
           },
           {
            "bin_end": 0.8,
            "bin_start": 0.7000000000000001,
            "count": 0
           },
           {
            "bin_end": 0.9,
            "bin_start": 0.8,
            "count": 0
           },
           {
            "bin_end": 1,
            "bin_start": 0.9,
            "count": 213
           }
          ],
          "max": "1.0",
          "min": "0.0",
          "nan_count": 0,
          "unique_count": 2
         }
        },
        {
         "dtype": "float64",
         "name": "chest pain",
         "stats": {
          "histogram": [
           {
            "bin_end": 1.3,
            "bin_start": 1,
            "count": 11
           },
           {
            "bin_end": 1.6,
            "bin_start": 1.3,
            "count": 0
           },
           {
            "bin_end": 1.9,
            "bin_start": 1.6,
            "count": 0
           },
           {
            "bin_end": 2.2,
            "bin_start": 1.9,
            "count": 106
           },
           {
            "bin_end": 2.5,
            "bin_start": 2.2,
            "count": 0
           },
           {
            "bin_end": 2.8,
            "bin_start": 2.5,
            "count": 0
           },
           {
            "bin_end": 3.1,
            "bin_start": 2.8,
            "count": 54
           },
           {
            "bin_end": 3.4,
            "bin_start": 3.1,
            "count": 0
           },
           {
            "bin_end": 3.6999999999999997,
            "bin_start": 3.4,
            "count": 0
           },
           {
            "bin_end": 4,
            "bin_start": 3.6999999999999997,
            "count": 123
           }
          ],
          "max": "4.0",
          "min": "1.0",
          "nan_count": 0,
          "unique_count": 4
         }
        },
        {
         "dtype": "float64",
         "name": "blood pressure",
         "stats": {
          "histogram": [
           {
            "bin_end": 102.8,
            "bin_start": 92,
            "count": 8
           },
           {
            "bin_end": 113.6,
            "bin_start": 102.8,
            "count": 28
           },
           {
            "bin_end": 124.4,
            "bin_start": 113.6,
            "count": 73
           },
           {
            "bin_end": 135.2,
            "bin_start": 124.4,
            "count": 70
           },
           {
            "bin_end": 146,
            "bin_start": 135.2,
            "count": 58
           },
           {
            "bin_end": 156.8,
            "bin_start": 146,
            "count": 24
           },
           {
            "bin_end": 167.60000000000002,
            "bin_start": 156.8,
            "count": 20
           },
           {
            "bin_end": 178.4,
            "bin_start": 167.60000000000002,
            "count": 5
           },
           {
            "bin_end": 189.2,
            "bin_start": 178.4,
            "count": 6
           },
           {
            "bin_end": 200,
            "bin_start": 189.2,
            "count": 2
           }
          ],
          "max": "200.0",
          "min": "92.0",
          "nan_count": 0,
          "unique_count": 32
         }
        },
        {
         "dtype": "float64",
         "name": "serum cholestoral",
         "stats": {
          "histogram": [
           {
            "bin_end": 136.8,
            "bin_start": 85,
            "count": 5
           },
           {
            "bin_end": 188.6,
            "bin_start": 136.8,
            "count": 32
           },
           {
            "bin_end": 240.39999999999998,
            "bin_start": 188.6,
            "count": 95
           },
           {
            "bin_end": 292.2,
            "bin_start": 240.39999999999998,
            "count": 111
           },
           {
            "bin_end": 344,
            "bin_start": 292.2,
            "count": 34
           },
           {
            "bin_end": 395.79999999999995,
            "bin_start": 344,
            "count": 9
           },
           {
            "bin_end": 447.59999999999997,
            "bin_start": 395.79999999999995,
            "count": 2
           },
           {
            "bin_end": 499.4,
            "bin_start": 447.59999999999997,
            "count": 3
           },
           {
            "bin_end": 551.2,
            "bin_start": 499.4,
            "count": 2
           },
           {
            "bin_end": 603,
            "bin_start": 551.2,
            "count": 1
           }
          ],
          "max": "603.0",
          "min": "85.0",
          "nan_count": 0,
          "unique_count": 154
         }
        },
        {
         "dtype": "float64",
         "name": "blood sugar",
         "stats": {
          "histogram": [
           {
            "bin_end": 0.1,
            "bin_start": 0,
            "count": 274
           },
           {
            "bin_end": 0.2,
            "bin_start": 0.1,
            "count": 0
           },
           {
            "bin_end": 0.30000000000000004,
            "bin_start": 0.2,
            "count": 0
           },
           {
            "bin_end": 0.4,
            "bin_start": 0.30000000000000004,
            "count": 0
           },
           {
            "bin_end": 0.5,
            "bin_start": 0.4,
            "count": 0
           },
           {
            "bin_end": 0.6000000000000001,
            "bin_start": 0.5,
            "count": 0
           },
           {
            "bin_end": 0.7000000000000001,
            "bin_start": 0.6000000000000001,
            "count": 0
           },
           {
            "bin_end": 0.8,
            "bin_start": 0.7000000000000001,
            "count": 0
           },
           {
            "bin_end": 0.9,
            "bin_start": 0.8,
            "count": 0
           },
           {
            "bin_end": 1,
            "bin_start": 0.9,
            "count": 20
           }
          ],
          "max": "1.0",
          "min": "0.0",
          "nan_count": 0,
          "unique_count": 3
         }
        },
        {
         "dtype": "float64",
         "name": "electrocardiographic",
         "stats": {
          "histogram": [
           {
            "bin_end": 0.2,
            "bin_start": 0,
            "count": 235
           },
           {
            "bin_end": 0.4,
            "bin_start": 0.2,
            "count": 1
           },
           {
            "bin_end": 0.6000000000000001,
            "bin_start": 0.4,
            "count": 0
           },
           {
            "bin_end": 0.8,
            "bin_start": 0.6000000000000001,
            "count": 0
           },
           {
            "bin_end": 1,
            "bin_start": 0.8,
            "count": 0
           },
           {
            "bin_end": 1.2000000000000002,
            "bin_start": 1,
            "count": 52
           },
           {
            "bin_end": 1.4000000000000001,
            "bin_start": 1.2000000000000002,
            "count": 0
           },
           {
            "bin_end": 1.6,
            "bin_start": 1.4000000000000001,
            "count": 0
           },
           {
            "bin_end": 1.8,
            "bin_start": 1.6,
            "count": 0
           },
           {
            "bin_end": 2,
            "bin_start": 1.8,
            "count": 6
           }
          ],
          "max": "2.0",
          "min": "0.0",
          "nan_count": 0,
          "unique_count": 4
         }
        },
        {
         "dtype": "float64",
         "name": "max heart_rate",
         "stats": {
          "histogram": [
           {
            "bin_end": 92.8,
            "bin_start": 82,
            "count": 7
           },
           {
            "bin_end": 103.6,
            "bin_start": 92.8,
            "count": 20
           },
           {
            "bin_end": 114.4,
            "bin_start": 103.6,
            "count": 16
           },
           {
            "bin_end": 125.2,
            "bin_start": 114.4,
            "count": 45
           },
           {
            "bin_end": 136,
            "bin_start": 125.2,
            "count": 37
           },
           {
            "bin_end": 146.8,
            "bin_start": 136,
            "count": 55
           },
           {
            "bin_end": 157.60000000000002,
            "bin_start": 146.8,
            "count": 46
           },
           {
            "bin_end": 168.4,
            "bin_start": 157.60000000000002,
            "count": 27
           },
           {
            "bin_end": 179.2,
            "bin_start": 168.4,
            "count": 27
           },
           {
            "bin_end": 190,
            "bin_start": 179.2,
            "count": 14
           }
          ],
          "max": "190.0",
          "min": "82.0",
          "nan_count": 0,
          "unique_count": 72
         }
        },
        {
         "dtype": "float64",
         "name": "angina exercise",
         "stats": {
          "histogram": [
           {
            "bin_end": 0.1,
            "bin_start": 0,
            "count": 204
           },
           {
            "bin_end": 0.2,
            "bin_start": 0.1,
            "count": 0
           },
           {
            "bin_end": 0.30000000000000004,
            "bin_start": 0.2,
            "count": 0
           },
           {
            "bin_end": 0.4,
            "bin_start": 0.30000000000000004,
            "count": 1
           },
           {
            "bin_end": 0.5,
            "bin_start": 0.4,
            "count": 0
           },
           {
            "bin_end": 0.6000000000000001,
            "bin_start": 0.5,
            "count": 0
           },
           {
            "bin_end": 0.7000000000000001,
            "bin_start": 0.6000000000000001,
            "count": 0
           },
           {
            "bin_end": 0.8,
            "bin_start": 0.7000000000000001,
            "count": 0
           },
           {
            "bin_end": 0.9,
            "bin_start": 0.8,
            "count": 0
           },
           {
            "bin_end": 1,
            "bin_start": 0.9,
            "count": 89
           }
          ],
          "max": "1.0",
          "min": "0.0",
          "nan_count": 0,
          "unique_count": 3
         }
        },
        {
         "dtype": "float64",
         "name": "depression exercise",
         "stats": {
          "histogram": [
           {
            "bin_end": 0.5,
            "bin_start": 0,
            "count": 189
           },
           {
            "bin_end": 1,
            "bin_start": 0.5,
            "count": 3
           },
           {
            "bin_end": 1.5,
            "bin_start": 1,
            "count": 41
           },
           {
            "bin_end": 2,
            "bin_start": 1.5,
            "count": 16
           },
           {
            "bin_end": 2.5,
            "bin_start": 2,
            "count": 31
           },
           {
            "bin_end": 3,
            "bin_start": 2.5,
            "count": 3
           },
           {
            "bin_end": 3.5,
            "bin_start": 3,
            "count": 9
           },
           {
            "bin_end": 4,
            "bin_start": 3.5,
            "count": 0
           },
           {
            "bin_end": 4.5,
            "bin_start": 4,
            "count": 1
           },
           {
            "bin_end": 5,
            "bin_start": 4.5,
            "count": 1
           }
          ],
          "max": "5.0",
          "min": "0.0",
          "nan_count": 0,
          "unique_count": 10
         }
        },
        {
         "dtype": "float64",
         "name": "heart disease",
         "stats": {
          "histogram": [
           {
            "bin_end": 0.1,
            "bin_start": 0,
            "count": 188
           },
           {
            "bin_end": 0.2,
            "bin_start": 0.1,
            "count": 0
           },
           {
            "bin_end": 0.30000000000000004,
            "bin_start": 0.2,
            "count": 0
           },
           {
            "bin_end": 0.4,
            "bin_start": 0.30000000000000004,
            "count": 0
           },
           {
            "bin_end": 0.5,
            "bin_start": 0.4,
            "count": 0
           },
           {
            "bin_end": 0.6000000000000001,
            "bin_start": 0.5,
            "count": 0
           },
           {
            "bin_end": 0.7000000000000001,
            "bin_start": 0.6000000000000001,
            "count": 0
           },
           {
            "bin_end": 0.8,
            "bin_start": 0.7000000000000001,
            "count": 0
           },
           {
            "bin_end": 0.9,
            "bin_start": 0.8,
            "count": 0
           },
           {
            "bin_end": 1,
            "bin_start": 0.9,
            "count": 106
           }
          ],
          "max": "1.0",
          "min": "0.0",
          "nan_count": 0,
          "unique_count": 2
         }
        },
        {
         "dtype": "int64",
         "name": "_deepnote_index_column"
        }
       ],
       "row_count": 294,
       "rows_bottom": [
        {
         "_deepnote_index_column": 249,
         "age": 58,
         "angina exercise": 0,
         "blood pressure": 160,
         "blood sugar": 1,
         "chest pain": 3,
         "depression exercise": 0,
         "electrocardiographic": 1,
         "heart disease": 1,
         "max heart_rate": 92,
         "serum cholestoral": 211,
         "sex": 1
        },
        {
         "_deepnote_index_column": 250,
         "age": 58,
         "angina exercise": 1,
         "blood pressure": 130,
         "blood sugar": 0,
         "chest pain": 4,
         "depression exercise": 2,
         "electrocardiographic": 0,
         "heart disease": 1,
         "max heart_rate": 140,
         "serum cholestoral": 263,
         "sex": 1
        },
        {
         "_deepnote_index_column": 251,
         "age": 41,
         "angina exercise": 0,
         "blood pressure": 130,
         "blood sugar": 0,
         "chest pain": 4,
         "depression exercise": 2,
         "electrocardiographic": 1,
         "heart disease": 1,
         "max heart_rate": 130,
         "serum cholestoral": 172,
         "sex": 1
        },
        {
         "_deepnote_index_column": 252,
         "age": 43,
         "angina exercise": 1,
         "blood pressure": 120,
         "blood sugar": 0,
         "chest pain": 4,
         "depression exercise": 1,
         "electrocardiographic": 0,
         "heart disease": 1,
         "max heart_rate": 120,
         "serum cholestoral": 175,
         "sex": 1
        },
        {
         "_deepnote_index_column": 253,
         "age": 44,
         "angina exercise": 1,
         "blood pressure": 150,
         "blood sugar": 0,
         "chest pain": 2,
         "depression exercise": 3,
         "electrocardiographic": 0,
         "heart disease": 1,
         "max heart_rate": 150,
         "serum cholestoral": 288,
         "sex": 1
        },
        {
         "_deepnote_index_column": 254,
         "age": 44,
         "angina exercise": 1,
         "blood pressure": 130,
         "blood sugar": 0,
         "chest pain": 4,
         "depression exercise": 2,
         "electrocardiographic": 0,
         "heart disease": 1,
         "max heart_rate": 100,
         "serum cholestoral": 290,
         "sex": 1
        },
        {
         "_deepnote_index_column": 255,
         "age": 46,
         "angina exercise": 0,
         "blood pressure": 140,
         "blood sugar": 1,
         "chest pain": 1,
         "depression exercise": 2,
         "electrocardiographic": 0,
         "heart disease": 1,
         "max heart_rate": 175,
         "serum cholestoral": 272,
         "sex": 1
        },
        {
         "_deepnote_index_column": 256,
         "age": 47,
         "angina exercise": 0,
         "blood pressure": 135,
         "blood sugar": 1,
         "chest pain": 3,
         "depression exercise": 0,
         "electrocardiographic": 0,
         "heart disease": 1,
         "max heart_rate": 170,
         "serum cholestoral": 248,
         "sex": 0
        },
        {
         "_deepnote_index_column": 257,
         "age": 48,
         "angina exercise": 1,
         "blood pressure": 138,
         "blood sugar": 0,
         "chest pain": 4,
         "depression exercise": 1.5,
         "electrocardiographic": 0,
         "heart disease": 1,
         "max heart_rate": 108,
         "serum cholestoral": 214,
         "sex": 0
        },
        {
         "_deepnote_index_column": 258,
         "age": 49,
         "angina exercise": 1,
         "blood pressure": 130,
         "blood sugar": 0,
         "chest pain": 4,
         "depression exercise": 1,
         "electrocardiographic": 0,
         "heart disease": 1,
         "max heart_rate": 120,
         "serum cholestoral": 341,
         "sex": 1
        },
        {
         "_deepnote_index_column": 259,
         "age": 49,
         "angina exercise": 1,
         "blood pressure": 140,
         "blood sugar": 0,
         "chest pain": 4,
         "depression exercise": 1,
         "electrocardiographic": 0,
         "heart disease": 1,
         "max heart_rate": 140,
         "serum cholestoral": 234,
         "sex": 1
        },
        {
         "_deepnote_index_column": 260,
         "age": 51,
         "angina exercise": 0,
         "blood pressure": 135,
         "blood sugar": 0,
         "chest pain": 3,
         "depression exercise": 2,
         "electrocardiographic": 0,
         "heart disease": 1,
         "max heart_rate": 150,
         "serum cholestoral": 160,
         "sex": 1
        },
        {
         "_deepnote_index_column": 261,
         "age": 52,
         "angina exercise": 1,
         "blood pressure": 112,
         "blood sugar": 0,
         "chest pain": 4,
         "depression exercise": 1,
         "electrocardiographic": 1,
         "heart disease": 1,
         "max heart_rate": 96,
         "serum cholestoral": 342,
         "sex": 1
        },
        {
         "_deepnote_index_column": 262,
         "age": 52,
         "angina exercise": 1,
         "blood pressure": 130,
         "blood sugar": 0,
         "chest pain": 4,
         "depression exercise": 1,
         "electrocardiographic": 0,
         "heart disease": 1,
         "max heart_rate": 110,
         "serum cholestoral": 298,
         "sex": 1
        },
        {
         "_deepnote_index_column": 263,
         "age": 52,
         "angina exercise": 1,
         "blood pressure": 140,
         "blood sugar": 0,
         "chest pain": 4,
         "depression exercise": 2,
         "electrocardiographic": 0,
         "heart disease": 1,
         "max heart_rate": 124,
         "serum cholestoral": 404,
         "sex": 1
        },
        {
         "_deepnote_index_column": 264,
         "age": 52,
         "angina exercise": 1,
         "blood pressure": 160,
         "blood sugar": 0,
         "chest pain": 4,
         "depression exercise": 4,
         "electrocardiographic": 1,
         "heart disease": 1,
         "max heart_rate": 82,
         "serum cholestoral": 246,
         "sex": 1
        },
        {
         "_deepnote_index_column": 265,
         "age": 53,
         "angina exercise": 0,
         "blood pressure": 145,
         "blood sugar": 0,
         "chest pain": 3,
         "depression exercise": 0,
         "electrocardiographic": 0,
         "heart disease": 1,
         "max heart_rate": 130,
         "serum cholestoral": 518,
         "sex": 1
        },
        {
         "_deepnote_index_column": 266,
         "age": 53,
         "angina exercise": 1,
         "blood pressure": 180,
         "blood sugar": 0,
         "chest pain": 4,
         "depression exercise": 1.5,
         "electrocardiographic": 1,
         "heart disease": 1,
         "max heart_rate": 120,
         "serum cholestoral": 285,
         "sex": 1
        },
        {
         "_deepnote_index_column": 267,
         "age": 54,
         "angina exercise": 0,
         "blood pressure": 140,
         "blood sugar": 0,
         "chest pain": 4,
         "depression exercise": 1.5,
         "electrocardiographic": 0,
         "heart disease": 1,
         "max heart_rate": 105,
         "serum cholestoral": 216,
         "sex": 1
        },
        {
         "_deepnote_index_column": 268,
         "age": 55,
         "angina exercise": 0,
         "blood pressure": 140,
         "blood sugar": 0,
         "chest pain": 1,
         "depression exercise": 0,
         "electrocardiographic": 0.2184300341296928,
         "heart disease": 1,
         "max heart_rate": 136,
         "serum cholestoral": 295,
         "sex": 1
        },
        {
         "_deepnote_index_column": 269,
         "age": 55,
         "angina exercise": 1,
         "blood pressure": 160,
         "blood sugar": 1,
         "chest pain": 2,
         "depression exercise": 2,
         "electrocardiographic": 0,
         "heart disease": 1,
         "max heart_rate": 143,
         "serum cholestoral": 292,
         "sex": 1
        },
        {
         "_deepnote_index_column": 270,
         "age": 55,
         "angina exercise": 1,
         "blood pressure": 145,
         "blood sugar": 0,
         "chest pain": 4,
         "depression exercise": 2,
         "electrocardiographic": 0,
         "heart disease": 1,
         "max heart_rate": 96,
         "serum cholestoral": 248,
         "sex": 1
        },
        {
         "_deepnote_index_column": 271,
         "age": 56,
         "angina exercise": 0,
         "blood pressure": 120,
         "blood sugar": 0,
         "chest pain": 2,
         "depression exercise": 1,
         "electrocardiographic": 0,
         "heart disease": 1,
         "max heart_rate": 150,
         "serum cholestoral": 279,
         "sex": 0
        },
        {
         "_deepnote_index_column": 272,
         "age": 56,
         "angina exercise": 1,
         "blood pressure": 150,
         "blood sugar": 0,
         "chest pain": 4,
         "depression exercise": 1.5,
         "electrocardiographic": 1,
         "heart disease": 1,
         "max heart_rate": 124,
         "serum cholestoral": 230,
         "sex": 1
        },
        {
         "_deepnote_index_column": 273,
         "age": 56,
         "angina exercise": 1,
         "blood pressure": 170,
         "blood sugar": 0,
         "chest pain": 4,
         "depression exercise": 2,
         "electrocardiographic": 1,
         "heart disease": 1,
         "max heart_rate": 122,
         "serum cholestoral": 388,
         "sex": 1
        },
        {
         "_deepnote_index_column": 274,
         "age": 58,
         "angina exercise": 1,
         "blood pressure": 136,
         "blood sugar": 0,
         "chest pain": 2,
         "depression exercise": 2,
         "electrocardiographic": 1,
         "heart disease": 1,
         "max heart_rate": 99,
         "serum cholestoral": 164,
         "sex": 1
        },
        {
         "_deepnote_index_column": 275,
         "age": 59,
         "angina exercise": 0,
         "blood pressure": 130,
         "blood sugar": 0,
         "chest pain": 4,
         "depression exercise": 0,
         "electrocardiographic": 0,
         "heart disease": 1,
         "max heart_rate": 125,
         "serum cholestoral": 250.84870848708488,
         "sex": 1
        },
        {
         "_deepnote_index_column": 276,
         "age": 59,
         "angina exercise": 1,
         "blood pressure": 140,
         "blood sugar": 1,
         "chest pain": 4,
         "depression exercise": 0,
         "electrocardiographic": 2,
         "heart disease": 1,
         "max heart_rate": 119,
         "serum cholestoral": 264,
         "sex": 1
        },
        {
         "_deepnote_index_column": 277,
         "age": 65,
         "angina exercise": 1,
         "blood pressure": 170,
         "blood sugar": 1,
         "chest pain": 4,
         "depression exercise": 2,
         "electrocardiographic": 0,
         "heart disease": 1,
         "max heart_rate": 112,
         "serum cholestoral": 263,
         "sex": 1
        },
        {
         "_deepnote_index_column": 278,
         "age": 66,
         "angina exercise": 1,
         "blood pressure": 140,
         "blood sugar": 0,
         "chest pain": 4,
         "depression exercise": 1,
         "electrocardiographic": 0,
         "heart disease": 1,
         "max heart_rate": 94,
         "serum cholestoral": 250.84870848708488,
         "sex": 1
        },
        {
         "_deepnote_index_column": 279,
         "age": 41,
         "angina exercise": 1,
         "blood pressure": 120,
         "blood sugar": 0,
         "chest pain": 4,
         "depression exercise": 3,
         "electrocardiographic": 0,
         "heart disease": 1,
         "max heart_rate": 118,
         "serum cholestoral": 336,
         "sex": 1
        },
        {
         "_deepnote_index_column": 280,
         "age": 43,
         "angina exercise": 1,
         "blood pressure": 140,
         "blood sugar": 0,
         "chest pain": 4,
         "depression exercise": 2,
         "electrocardiographic": 0,
         "heart disease": 1,
         "max heart_rate": 135,
         "serum cholestoral": 288,
         "sex": 1
        },
        {
         "_deepnote_index_column": 281,
         "age": 44,
         "angina exercise": 0,
         "blood pressure": 135,
         "blood sugar": 0,
         "chest pain": 4,
         "depression exercise": 0,
         "electrocardiographic": 0,
         "heart disease": 1,
         "max heart_rate": 135,
         "serum cholestoral": 491,
         "sex": 1
        },
        {
         "_deepnote_index_column": 282,
         "age": 47,
         "angina exercise": 1,
         "blood pressure": 120,
         "blood sugar": 0,
         "chest pain": 4,
         "depression exercise": 2,
         "electrocardiographic": 0,
         "heart disease": 1,
         "max heart_rate": 98,
         "serum cholestoral": 205,
         "sex": 0
        },
        {
         "_deepnote_index_column": 283,
         "age": 47,
         "angina exercise": 1,
         "blood pressure": 160,
         "blood sugar": 0,
         "chest pain": 4,
         "depression exercise": 3,
         "electrocardiographic": 1,
         "heart disease": 1,
         "max heart_rate": 158,
         "serum cholestoral": 291,
         "sex": 1
        },
        {
         "_deepnote_index_column": 284,
         "age": 49,
         "angina exercise": 1,
         "blood pressure": 128,
         "blood sugar": 0,
         "chest pain": 4,
         "depression exercise": 0,
         "electrocardiographic": 0,
         "heart disease": 1,
         "max heart_rate": 96,
         "serum cholestoral": 212,
         "sex": 1
        },
        {
         "_deepnote_index_column": 285,
         "age": 49,
         "angina exercise": 0,
         "blood pressure": 150,
         "blood sugar": 0,
         "chest pain": 4,
         "depression exercise": 2,
         "electrocardiographic": 0,
         "heart disease": 1,
         "max heart_rate": 122,
         "serum cholestoral": 222,
         "sex": 1
        },
        {
         "_deepnote_index_column": 286,
         "age": 50,
         "angina exercise": 1,
         "blood pressure": 140,
         "blood sugar": 0,
         "chest pain": 4,
         "depression exercise": 5,
         "electrocardiographic": 1,
         "heart disease": 1,
         "max heart_rate": 140,
         "serum cholestoral": 231,
         "sex": 1
        },
        {
         "_deepnote_index_column": 287,
         "age": 50,
         "angina exercise": 1,
         "blood pressure": 140,
         "blood sugar": 0,
         "chest pain": 4,
         "depression exercise": 2.5,
         "electrocardiographic": 1,
         "heart disease": 1,
         "max heart_rate": 125,
         "serum cholestoral": 341,
         "sex": 1
        },
        {
         "_deepnote_index_column": 288,
         "age": 52,
         "angina exercise": 1,
         "blood pressure": 140,
         "blood sugar": 0,
         "chest pain": 4,
         "depression exercise": 2,
         "electrocardiographic": 0,
         "heart disease": 1,
         "max heart_rate": 134,
         "serum cholestoral": 266,
         "sex": 1
        },
        {
         "_deepnote_index_column": 289,
         "age": 52,
         "angina exercise": 1,
         "blood pressure": 160,
         "blood sugar": 0,
         "chest pain": 4,
         "depression exercise": 2.5,
         "electrocardiographic": 0,
         "heart disease": 1,
         "max heart_rate": 94,
         "serum cholestoral": 331,
         "sex": 1
        },
        {
         "_deepnote_index_column": 290,
         "age": 54,
         "angina exercise": 1,
         "blood pressure": 130,
         "blood sugar": 0,
         "chest pain": 3,
         "depression exercise": 0,
         "electrocardiographic": 1,
         "heart disease": 1,
         "max heart_rate": 100,
         "serum cholestoral": 294,
         "sex": 0
        },
        {
         "_deepnote_index_column": 291,
         "age": 56,
         "angina exercise": 1,
         "blood pressure": 155,
         "blood sugar": 1,
         "chest pain": 4,
         "depression exercise": 3,
         "electrocardiographic": 0,
         "heart disease": 1,
         "max heart_rate": 150,
         "serum cholestoral": 342,
         "sex": 1
        },
        {
         "_deepnote_index_column": 292,
         "age": 58,
         "angina exercise": 1,
         "blood pressure": 180,
         "blood sugar": 0,
         "chest pain": 2,
         "depression exercise": 1,
         "electrocardiographic": 0,
         "heart disease": 1,
         "max heart_rate": 110,
         "serum cholestoral": 393,
         "sex": 0
        },
        {
         "_deepnote_index_column": 293,
         "age": 65,
         "angina exercise": 1,
         "blood pressure": 130,
         "blood sugar": 0,
         "chest pain": 4,
         "depression exercise": 1,
         "electrocardiographic": 1,
         "heart disease": 1,
         "max heart_rate": 115,
         "serum cholestoral": 275,
         "sex": 1
        }
       ],
       "rows_top": [
        {
         "_deepnote_index_column": 0,
         "age": 28,
         "angina exercise": 0,
         "blood pressure": 130,
         "blood sugar": 0,
         "chest pain": 2,
         "depression exercise": 0,
         "electrocardiographic": 2,
         "heart disease": 0,
         "max heart_rate": 185,
         "serum cholestoral": 132,
         "sex": 1
        },
        {
         "_deepnote_index_column": 1,
         "age": 29,
         "angina exercise": 0,
         "blood pressure": 120,
         "blood sugar": 0,
         "chest pain": 2,
         "depression exercise": 0,
         "electrocardiographic": 0,
         "heart disease": 0,
         "max heart_rate": 160,
         "serum cholestoral": 243,
         "sex": 1
        },
        {
         "_deepnote_index_column": 2,
         "age": 29,
         "angina exercise": 0,
         "blood pressure": 140,
         "blood sugar": 0,
         "chest pain": 2,
         "depression exercise": 0,
         "electrocardiographic": 0,
         "heart disease": 0,
         "max heart_rate": 170,
         "serum cholestoral": 250.84870848708488,
         "sex": 1
        },
        {
         "_deepnote_index_column": 3,
         "age": 30,
         "angina exercise": 0,
         "blood pressure": 170,
         "blood sugar": 0,
         "chest pain": 1,
         "depression exercise": 0,
         "electrocardiographic": 1,
         "heart disease": 0,
         "max heart_rate": 170,
         "serum cholestoral": 237,
         "sex": 0
        },
        {
         "_deepnote_index_column": 4,
         "age": 31,
         "angina exercise": 0,
         "blood pressure": 100,
         "blood sugar": 0,
         "chest pain": 2,
         "depression exercise": 0,
         "electrocardiographic": 1,
         "heart disease": 0,
         "max heart_rate": 150,
         "serum cholestoral": 219,
         "sex": 0
        },
        {
         "_deepnote_index_column": 5,
         "age": 32,
         "angina exercise": 0,
         "blood pressure": 105,
         "blood sugar": 0,
         "chest pain": 2,
         "depression exercise": 0,
         "electrocardiographic": 0,
         "heart disease": 0,
         "max heart_rate": 165,
         "serum cholestoral": 198,
         "sex": 0
        },
        {
         "_deepnote_index_column": 6,
         "age": 32,
         "angina exercise": 0,
         "blood pressure": 110,
         "blood sugar": 0,
         "chest pain": 2,
         "depression exercise": 0,
         "electrocardiographic": 0,
         "heart disease": 0,
         "max heart_rate": 184,
         "serum cholestoral": 225,
         "sex": 1
        },
        {
         "_deepnote_index_column": 7,
         "age": 32,
         "angina exercise": 0,
         "blood pressure": 125,
         "blood sugar": 0,
         "chest pain": 2,
         "depression exercise": 0,
         "electrocardiographic": 0,
         "heart disease": 0,
         "max heart_rate": 155,
         "serum cholestoral": 254,
         "sex": 1
        },
        {
         "_deepnote_index_column": 8,
         "age": 33,
         "angina exercise": 0,
         "blood pressure": 120,
         "blood sugar": 0,
         "chest pain": 3,
         "depression exercise": 0,
         "electrocardiographic": 0,
         "heart disease": 0,
         "max heart_rate": 185,
         "serum cholestoral": 298,
         "sex": 1
        },
        {
         "_deepnote_index_column": 9,
         "age": 34,
         "angina exercise": 0,
         "blood pressure": 130,
         "blood sugar": 0,
         "chest pain": 2,
         "depression exercise": 0,
         "electrocardiographic": 0,
         "heart disease": 0,
         "max heart_rate": 190,
         "serum cholestoral": 161,
         "sex": 0
        },
        {
         "_deepnote_index_column": 10,
         "age": 34,
         "angina exercise": 0,
         "blood pressure": 150,
         "blood sugar": 0,
         "chest pain": 2,
         "depression exercise": 0,
         "electrocardiographic": 1,
         "heart disease": 0,
         "max heart_rate": 168,
         "serum cholestoral": 214,
         "sex": 1
        },
        {
         "_deepnote_index_column": 11,
         "age": 34,
         "angina exercise": 0,
         "blood pressure": 98,
         "blood sugar": 0,
         "chest pain": 2,
         "depression exercise": 0,
         "electrocardiographic": 0,
         "heart disease": 0,
         "max heart_rate": 150,
         "serum cholestoral": 220,
         "sex": 1
        },
        {
         "_deepnote_index_column": 12,
         "age": 35,
         "angina exercise": 0,
         "blood pressure": 120,
         "blood sugar": 0,
         "chest pain": 1,
         "depression exercise": 0,
         "electrocardiographic": 1,
         "heart disease": 0,
         "max heart_rate": 185,
         "serum cholestoral": 160,
         "sex": 0
        },
        {
         "_deepnote_index_column": 13,
         "age": 35,
         "angina exercise": 0,
         "blood pressure": 140,
         "blood sugar": 0,
         "chest pain": 4,
         "depression exercise": 0,
         "electrocardiographic": 0,
         "heart disease": 0,
         "max heart_rate": 150,
         "serum cholestoral": 167,
         "sex": 0
        },
        {
         "_deepnote_index_column": 14,
         "age": 35,
         "angina exercise": 0,
         "blood pressure": 120,
         "blood sugar": 0,
         "chest pain": 2,
         "depression exercise": 0,
         "electrocardiographic": 2,
         "heart disease": 0,
         "max heart_rate": 180,
         "serum cholestoral": 308,
         "sex": 1
        },
        {
         "_deepnote_index_column": 15,
         "age": 35,
         "angina exercise": 0,
         "blood pressure": 150,
         "blood sugar": 0,
         "chest pain": 2,
         "depression exercise": 0,
         "electrocardiographic": 0,
         "heart disease": 0,
         "max heart_rate": 168,
         "serum cholestoral": 264,
         "sex": 1
        },
        {
         "_deepnote_index_column": 16,
         "age": 36,
         "angina exercise": 0,
         "blood pressure": 120,
         "blood sugar": 0,
         "chest pain": 2,
         "depression exercise": 0,
         "electrocardiographic": 0,
         "heart disease": 0,
         "max heart_rate": 180,
         "serum cholestoral": 166,
         "sex": 1
        },
        {
         "_deepnote_index_column": 17,
         "age": 36,
         "angina exercise": 0,
         "blood pressure": 112,
         "blood sugar": 0,
         "chest pain": 3,
         "depression exercise": 1,
         "electrocardiographic": 0,
         "heart disease": 0,
         "max heart_rate": 184,
         "serum cholestoral": 340,
         "sex": 1
        },
        {
         "_deepnote_index_column": 18,
         "age": 36,
         "angina exercise": 0,
         "blood pressure": 130,
         "blood sugar": 0,
         "chest pain": 3,
         "depression exercise": 0,
         "electrocardiographic": 0,
         "heart disease": 0,
         "max heart_rate": 178,
         "serum cholestoral": 209,
         "sex": 1
        },
        {
         "_deepnote_index_column": 19,
         "age": 36,
         "angina exercise": 0,
         "blood pressure": 150,
         "blood sugar": 0,
         "chest pain": 3,
         "depression exercise": 0,
         "electrocardiographic": 0,
         "heart disease": 0,
         "max heart_rate": 172,
         "serum cholestoral": 160,
         "sex": 1
        },
        {
         "_deepnote_index_column": 20,
         "age": 37,
         "angina exercise": 0,
         "blood pressure": 120,
         "blood sugar": 0,
         "chest pain": 2,
         "depression exercise": 0,
         "electrocardiographic": 0,
         "heart disease": 0,
         "max heart_rate": 130,
         "serum cholestoral": 260,
         "sex": 0
        },
        {
         "_deepnote_index_column": 21,
         "age": 37,
         "angina exercise": 0,
         "blood pressure": 130,
         "blood sugar": 0,
         "chest pain": 3,
         "depression exercise": 0,
         "electrocardiographic": 0,
         "heart disease": 0,
         "max heart_rate": 142,
         "serum cholestoral": 211,
         "sex": 0
        },
        {
         "_deepnote_index_column": 22,
         "age": 37,
         "angina exercise": 0,
         "blood pressure": 130,
         "blood sugar": 0,
         "chest pain": 4,
         "depression exercise": 0,
         "electrocardiographic": 1,
         "heart disease": 0,
         "max heart_rate": 184,
         "serum cholestoral": 173,
         "sex": 0
        },
        {
         "_deepnote_index_column": 23,
         "age": 37,
         "angina exercise": 0,
         "blood pressure": 130,
         "blood sugar": 0,
         "chest pain": 2,
         "depression exercise": 0,
         "electrocardiographic": 1,
         "heart disease": 0,
         "max heart_rate": 98,
         "serum cholestoral": 283,
         "sex": 1
        },
        {
         "_deepnote_index_column": 24,
         "age": 37,
         "angina exercise": 0,
         "blood pressure": 130,
         "blood sugar": 0,
         "chest pain": 3,
         "depression exercise": 0,
         "electrocardiographic": 0,
         "heart disease": 0,
         "max heart_rate": 150,
         "serum cholestoral": 194,
         "sex": 1
        },
        {
         "_deepnote_index_column": 25,
         "age": 37,
         "angina exercise": 0,
         "blood pressure": 120,
         "blood sugar": 0,
         "chest pain": 4,
         "depression exercise": 0,
         "electrocardiographic": 0,
         "heart disease": 0,
         "max heart_rate": 168,
         "serum cholestoral": 223,
         "sex": 1
        },
        {
         "_deepnote_index_column": 26,
         "age": 37,
         "angina exercise": 0,
         "blood pressure": 130,
         "blood sugar": 0,
         "chest pain": 4,
         "depression exercise": 0,
         "electrocardiographic": 0,
         "heart disease": 0,
         "max heart_rate": 158,
         "serum cholestoral": 315,
         "sex": 1
        },
        {
         "_deepnote_index_column": 27,
         "age": 38,
         "angina exercise": 0,
         "blood pressure": 120,
         "blood sugar": 0.0699300699300699,
         "chest pain": 2,
         "depression exercise": 0,
         "electrocardiographic": 0,
         "heart disease": 0,
         "max heart_rate": 129,
         "serum cholestoral": 275,
         "sex": 0
        },
        {
         "_deepnote_index_column": 28,
         "age": 38,
         "angina exercise": 0,
         "blood pressure": 140,
         "blood sugar": 0,
         "chest pain": 2,
         "depression exercise": 0,
         "electrocardiographic": 0,
         "heart disease": 0,
         "max heart_rate": 150,
         "serum cholestoral": 297,
         "sex": 1
        },
        {
         "_deepnote_index_column": 29,
         "age": 38,
         "angina exercise": 0,
         "blood pressure": 145,
         "blood sugar": 0,
         "chest pain": 3,
         "depression exercise": 0,
         "electrocardiographic": 0,
         "heart disease": 0,
         "max heart_rate": 130,
         "serum cholestoral": 292,
         "sex": 1
        },
        {
         "_deepnote_index_column": 30,
         "age": 39,
         "angina exercise": 0,
         "blood pressure": 110,
         "blood sugar": 0,
         "chest pain": 3,
         "depression exercise": 0,
         "electrocardiographic": 1,
         "heart disease": 0,
         "max heart_rate": 180,
         "serum cholestoral": 182,
         "sex": 0
        },
        {
         "_deepnote_index_column": 31,
         "age": 39,
         "angina exercise": 0,
         "blood pressure": 120,
         "blood sugar": 0,
         "chest pain": 2,
         "depression exercise": 2,
         "electrocardiographic": 1,
         "heart disease": 0,
         "max heart_rate": 146,
         "serum cholestoral": 250.84870848708488,
         "sex": 1
        },
        {
         "_deepnote_index_column": 32,
         "age": 39,
         "angina exercise": 1,
         "blood pressure": 120,
         "blood sugar": 0,
         "chest pain": 2,
         "depression exercise": 1,
         "electrocardiographic": 0,
         "heart disease": 0,
         "max heart_rate": 160,
         "serum cholestoral": 200,
         "sex": 1
        },
        {
         "_deepnote_index_column": 33,
         "age": 39,
         "angina exercise": 0,
         "blood pressure": 120,
         "blood sugar": 0,
         "chest pain": 2,
         "depression exercise": 0,
         "electrocardiographic": 0,
         "heart disease": 0,
         "max heart_rate": 145,
         "serum cholestoral": 204,
         "sex": 1
        },
        {
         "_deepnote_index_column": 34,
         "age": 39,
         "angina exercise": 0,
         "blood pressure": 130,
         "blood sugar": 0,
         "chest pain": 2,
         "depression exercise": 0,
         "electrocardiographic": 0,
         "heart disease": 0,
         "max heart_rate": 120,
         "serum cholestoral": 250.84870848708488,
         "sex": 1
        },
        {
         "_deepnote_index_column": 35,
         "age": 39,
         "angina exercise": 0,
         "blood pressure": 190,
         "blood sugar": 0,
         "chest pain": 2,
         "depression exercise": 0,
         "electrocardiographic": 0,
         "heart disease": 0,
         "max heart_rate": 106,
         "serum cholestoral": 241,
         "sex": 1
        },
        {
         "_deepnote_index_column": 36,
         "age": 39,
         "angina exercise": 0,
         "blood pressure": 120,
         "blood sugar": 0,
         "chest pain": 3,
         "depression exercise": 0,
         "electrocardiographic": 0,
         "heart disease": 0,
         "max heart_rate": 170,
         "serum cholestoral": 339,
         "sex": 1
        },
        {
         "_deepnote_index_column": 37,
         "age": 39,
         "angina exercise": 0,
         "blood pressure": 160,
         "blood sugar": 1,
         "chest pain": 3,
         "depression exercise": 0,
         "electrocardiographic": 0,
         "heart disease": 0,
         "max heart_rate": 160,
         "serum cholestoral": 147,
         "sex": 1
        },
        {
         "_deepnote_index_column": 38,
         "age": 39,
         "angina exercise": 0,
         "blood pressure": 110,
         "blood sugar": 0,
         "chest pain": 4,
         "depression exercise": 0,
         "electrocardiographic": 0,
         "heart disease": 0,
         "max heart_rate": 132,
         "serum cholestoral": 273,
         "sex": 1
        },
        {
         "_deepnote_index_column": 39,
         "age": 39,
         "angina exercise": 0,
         "blood pressure": 130,
         "blood sugar": 0,
         "chest pain": 4,
         "depression exercise": 0,
         "electrocardiographic": 0,
         "heart disease": 0,
         "max heart_rate": 140,
         "serum cholestoral": 307,
         "sex": 1
        },
        {
         "_deepnote_index_column": 40,
         "age": 40,
         "angina exercise": 0,
         "blood pressure": 130,
         "blood sugar": 0,
         "chest pain": 2,
         "depression exercise": 0,
         "electrocardiographic": 0,
         "heart disease": 0,
         "max heart_rate": 150,
         "serum cholestoral": 275,
         "sex": 1
        },
        {
         "_deepnote_index_column": 41,
         "age": 40,
         "angina exercise": 0,
         "blood pressure": 140,
         "blood sugar": 0,
         "chest pain": 2,
         "depression exercise": 0,
         "electrocardiographic": 0,
         "heart disease": 0,
         "max heart_rate": 172,
         "serum cholestoral": 289,
         "sex": 1
        },
        {
         "_deepnote_index_column": 42,
         "age": 40,
         "angina exercise": 0,
         "blood pressure": 130,
         "blood sugar": 0,
         "chest pain": 3,
         "depression exercise": 0,
         "electrocardiographic": 0,
         "heart disease": 0,
         "max heart_rate": 138,
         "serum cholestoral": 215,
         "sex": 1
        },
        {
         "_deepnote_index_column": 43,
         "age": 40,
         "angina exercise": 0,
         "blood pressure": 130,
         "blood sugar": 0,
         "chest pain": 3,
         "depression exercise": 0,
         "electrocardiographic": 0,
         "heart disease": 0,
         "max heart_rate": 167,
         "serum cholestoral": 281,
         "sex": 1
        },
        {
         "_deepnote_index_column": 44,
         "age": 40,
         "angina exercise": 0,
         "blood pressure": 140,
         "blood sugar": 0,
         "chest pain": 3,
         "depression exercise": 0,
         "electrocardiographic": 0,
         "heart disease": 0,
         "max heart_rate": 188,
         "serum cholestoral": 250.84870848708488,
         "sex": 1
        }
       ]
      },
      "text/html": [
       "<div>\n",
       "<style scoped>\n",
       "    .dataframe tbody tr th:only-of-type {\n",
       "        vertical-align: middle;\n",
       "    }\n",
       "\n",
       "    .dataframe tbody tr th {\n",
       "        vertical-align: top;\n",
       "    }\n",
       "\n",
       "    .dataframe thead th {\n",
       "        text-align: right;\n",
       "    }\n",
       "</style>\n",
       "<table border=\"1\" class=\"dataframe\">\n",
       "  <thead>\n",
       "    <tr style=\"text-align: right;\">\n",
       "      <th></th>\n",
       "      <th>age</th>\n",
       "      <th>sex</th>\n",
       "      <th>chest pain</th>\n",
       "      <th>blood pressure</th>\n",
       "      <th>serum cholestoral</th>\n",
       "      <th>blood sugar</th>\n",
       "      <th>electrocardiographic</th>\n",
       "      <th>max heart_rate</th>\n",
       "      <th>angina exercise</th>\n",
       "      <th>depression exercise</th>\n",
       "      <th>heart disease</th>\n",
       "    </tr>\n",
       "  </thead>\n",
       "  <tbody>\n",
       "    <tr>\n",
       "      <th>0</th>\n",
       "      <td>28.0</td>\n",
       "      <td>1.0</td>\n",
       "      <td>2.0</td>\n",
       "      <td>130.0</td>\n",
       "      <td>132.000000</td>\n",
       "      <td>0.0</td>\n",
       "      <td>2.0</td>\n",
       "      <td>185.0</td>\n",
       "      <td>0.0</td>\n",
       "      <td>0.0</td>\n",
       "      <td>0.0</td>\n",
       "    </tr>\n",
       "    <tr>\n",
       "      <th>1</th>\n",
       "      <td>29.0</td>\n",
       "      <td>1.0</td>\n",
       "      <td>2.0</td>\n",
       "      <td>120.0</td>\n",
       "      <td>243.000000</td>\n",
       "      <td>0.0</td>\n",
       "      <td>0.0</td>\n",
       "      <td>160.0</td>\n",
       "      <td>0.0</td>\n",
       "      <td>0.0</td>\n",
       "      <td>0.0</td>\n",
       "    </tr>\n",
       "    <tr>\n",
       "      <th>2</th>\n",
       "      <td>29.0</td>\n",
       "      <td>1.0</td>\n",
       "      <td>2.0</td>\n",
       "      <td>140.0</td>\n",
       "      <td>250.848708</td>\n",
       "      <td>0.0</td>\n",
       "      <td>0.0</td>\n",
       "      <td>170.0</td>\n",
       "      <td>0.0</td>\n",
       "      <td>0.0</td>\n",
       "      <td>0.0</td>\n",
       "    </tr>\n",
       "    <tr>\n",
       "      <th>3</th>\n",
       "      <td>30.0</td>\n",
       "      <td>0.0</td>\n",
       "      <td>1.0</td>\n",
       "      <td>170.0</td>\n",
       "      <td>237.000000</td>\n",
       "      <td>0.0</td>\n",
       "      <td>1.0</td>\n",
       "      <td>170.0</td>\n",
       "      <td>0.0</td>\n",
       "      <td>0.0</td>\n",
       "      <td>0.0</td>\n",
       "    </tr>\n",
       "    <tr>\n",
       "      <th>4</th>\n",
       "      <td>31.0</td>\n",
       "      <td>0.0</td>\n",
       "      <td>2.0</td>\n",
       "      <td>100.0</td>\n",
       "      <td>219.000000</td>\n",
       "      <td>0.0</td>\n",
       "      <td>1.0</td>\n",
       "      <td>150.0</td>\n",
       "      <td>0.0</td>\n",
       "      <td>0.0</td>\n",
       "      <td>0.0</td>\n",
       "    </tr>\n",
       "    <tr>\n",
       "      <th>...</th>\n",
       "      <td>...</td>\n",
       "      <td>...</td>\n",
       "      <td>...</td>\n",
       "      <td>...</td>\n",
       "      <td>...</td>\n",
       "      <td>...</td>\n",
       "      <td>...</td>\n",
       "      <td>...</td>\n",
       "      <td>...</td>\n",
       "      <td>...</td>\n",
       "      <td>...</td>\n",
       "    </tr>\n",
       "    <tr>\n",
       "      <th>289</th>\n",
       "      <td>52.0</td>\n",
       "      <td>1.0</td>\n",
       "      <td>4.0</td>\n",
       "      <td>160.0</td>\n",
       "      <td>331.000000</td>\n",
       "      <td>0.0</td>\n",
       "      <td>0.0</td>\n",
       "      <td>94.0</td>\n",
       "      <td>1.0</td>\n",
       "      <td>2.5</td>\n",
       "      <td>1.0</td>\n",
       "    </tr>\n",
       "    <tr>\n",
       "      <th>290</th>\n",
       "      <td>54.0</td>\n",
       "      <td>0.0</td>\n",
       "      <td>3.0</td>\n",
       "      <td>130.0</td>\n",
       "      <td>294.000000</td>\n",
       "      <td>0.0</td>\n",
       "      <td>1.0</td>\n",
       "      <td>100.0</td>\n",
       "      <td>1.0</td>\n",
       "      <td>0.0</td>\n",
       "      <td>1.0</td>\n",
       "    </tr>\n",
       "    <tr>\n",
       "      <th>291</th>\n",
       "      <td>56.0</td>\n",
       "      <td>1.0</td>\n",
       "      <td>4.0</td>\n",
       "      <td>155.0</td>\n",
       "      <td>342.000000</td>\n",
       "      <td>1.0</td>\n",
       "      <td>0.0</td>\n",
       "      <td>150.0</td>\n",
       "      <td>1.0</td>\n",
       "      <td>3.0</td>\n",
       "      <td>1.0</td>\n",
       "    </tr>\n",
       "    <tr>\n",
       "      <th>292</th>\n",
       "      <td>58.0</td>\n",
       "      <td>0.0</td>\n",
       "      <td>2.0</td>\n",
       "      <td>180.0</td>\n",
       "      <td>393.000000</td>\n",
       "      <td>0.0</td>\n",
       "      <td>0.0</td>\n",
       "      <td>110.0</td>\n",
       "      <td>1.0</td>\n",
       "      <td>1.0</td>\n",
       "      <td>1.0</td>\n",
       "    </tr>\n",
       "    <tr>\n",
       "      <th>293</th>\n",
       "      <td>65.0</td>\n",
       "      <td>1.0</td>\n",
       "      <td>4.0</td>\n",
       "      <td>130.0</td>\n",
       "      <td>275.000000</td>\n",
       "      <td>0.0</td>\n",
       "      <td>1.0</td>\n",
       "      <td>115.0</td>\n",
       "      <td>1.0</td>\n",
       "      <td>1.0</td>\n",
       "      <td>1.0</td>\n",
       "    </tr>\n",
       "  </tbody>\n",
       "</table>\n",
       "<p>294 rows × 11 columns</p>\n",
       "</div>"
      ],
      "text/plain": [
       "      age  sex  chest pain  blood pressure  serum cholestoral  blood sugar  \\\n",
       "0    28.0  1.0         2.0           130.0         132.000000          0.0   \n",
       "1    29.0  1.0         2.0           120.0         243.000000          0.0   \n",
       "2    29.0  1.0         2.0           140.0         250.848708          0.0   \n",
       "3    30.0  0.0         1.0           170.0         237.000000          0.0   \n",
       "4    31.0  0.0         2.0           100.0         219.000000          0.0   \n",
       "..    ...  ...         ...             ...                ...          ...   \n",
       "289  52.0  1.0         4.0           160.0         331.000000          0.0   \n",
       "290  54.0  0.0         3.0           130.0         294.000000          0.0   \n",
       "291  56.0  1.0         4.0           155.0         342.000000          1.0   \n",
       "292  58.0  0.0         2.0           180.0         393.000000          0.0   \n",
       "293  65.0  1.0         4.0           130.0         275.000000          0.0   \n",
       "\n",
       "     electrocardiographic  max heart_rate  angina exercise  \\\n",
       "0                     2.0           185.0              0.0   \n",
       "1                     0.0           160.0              0.0   \n",
       "2                     0.0           170.0              0.0   \n",
       "3                     1.0           170.0              0.0   \n",
       "4                     1.0           150.0              0.0   \n",
       "..                    ...             ...              ...   \n",
       "289                   0.0            94.0              1.0   \n",
       "290                   1.0           100.0              1.0   \n",
       "291                   0.0           150.0              1.0   \n",
       "292                   0.0           110.0              1.0   \n",
       "293                   1.0           115.0              1.0   \n",
       "\n",
       "     depression exercise  heart disease  \n",
       "0                    0.0            0.0  \n",
       "1                    0.0            0.0  \n",
       "2                    0.0            0.0  \n",
       "3                    0.0            0.0  \n",
       "4                    0.0            0.0  \n",
       "..                   ...            ...  \n",
       "289                  2.5            1.0  \n",
       "290                  0.0            1.0  \n",
       "291                  3.0            1.0  \n",
       "292                  1.0            1.0  \n",
       "293                  1.0            1.0  \n",
       "\n",
       "[294 rows x 11 columns]"
      ]
     },
     "execution_count": 3,
     "metadata": {},
     "output_type": "execute_result"
    }
   ],
   "source": [
    "hip_df"
   ]
  },
  {
   "cell_type": "code",
   "execution_count": null,
   "metadata": {
    "cell_id": "00004-6fad8a6e-d674-4483-a478-f108db95946d",
    "deepnote_cell_type": "code",
    "deepnote_to_be_reexecuted": false,
    "execution_millis": 1723,
    "execution_start": 1626448503702,
    "source_hash": "d2c44844",
    "tags": []
   },
   "outputs": [
    {
     "data": {
      "text/plain": [
       "<AxesSubplot:>"
      ]
     },
     "execution_count": 4,
     "metadata": {},
     "output_type": "execute_result"
    },
    {
     "data": {
      "image/png": "[encoded data removed]",
      "text/plain": [
       "<Figure size 432x288 with 1 Axes>"
      ]
     },
     "metadata": {
      "image/png": {
       "height": 248,
       "width": 459
      },
      "needs_background": "light"
     },
     "output_type": "display_data"
    }
   ],
   "source": [
    "hip_df.corr()[\"heart disease\"].abs().sort_values().plot.barh()"
   ]
  },
  {
   "cell_type": "code",
   "execution_count": null,
   "metadata": {
    "cell_id": "00007-2a6594f3-9bce-4ff5-8b7f-75a6ffb6b4c2",
    "deepnote_cell_type": "code",
    "deepnote_to_be_reexecuted": false,
    "execution_millis": 510,
    "execution_start": 1626448506416,
    "source_hash": "5802ba9f",
    "tags": []
   },
   "outputs": [
    {
     "ename": "NameError",
     "evalue": "name 'hip_df_new' is not defined",
     "output_type": "error",
     "traceback": [
      "\u001b[0;31m---------------------------------------------------------------------------\u001b[0m",
      "\u001b[0;31mNameError\u001b[0m                                 Traceback (most recent call last)",
      "\u001b[0;32m/tmp/ipykernel_739/2884576800.py\u001b[0m in \u001b[0;36m<module>\u001b[0;34m\u001b[0m\n\u001b[0;32m----> 1\u001b[0;31m \u001b[0mhip_df_new\u001b[0m\u001b[0;34m\u001b[0m\u001b[0;34m\u001b[0m\u001b[0m\n\u001b[0m",
      "\u001b[0;31mNameError\u001b[0m: name 'hip_df_new' is not defined"
     ]
    }
   ],
   "source": [
    "hip_df_new"
   ]
  },
  {
   "cell_type": "code",
   "execution_count": null,
   "metadata": {
    "cell_id": "00008-f6f21b0d-54b8-40f0-8f1c-c210795fc037",
    "deepnote_cell_type": "code",
    "deepnote_to_be_reexecuted": false,
    "execution_millis": 17,
    "execution_start": 1626448507591,
    "source_hash": "997a74d1",
    "tags": []
   },
   "outputs": [],
   "source": [
    "X = hip_df.iloc[:,:-1]\n",
    "y = hip_df.iloc[:,-1]\n",
    "X_train, X_test, y_train, y_test = train_test_split(X, y, random_state=47, test_size=0.2)"
   ]
  },
  {
   "cell_type": "code",
   "execution_count": null,
   "metadata": {
    "cell_id": "00009-f9545fdc-16fe-47f3-bc9c-54ddcaae2141",
    "deepnote_cell_type": "code",
    "deepnote_to_be_reexecuted": false,
    "execution_millis": 3,
    "execution_start": 1626448508728,
    "source_hash": "4bd5b138",
    "tags": []
   },
   "outputs": [],
   "source": [
    "rfc = RandomForestClassifier()"
   ]
  },
  {
   "cell_type": "code",
   "execution_count": null,
   "metadata": {
    "cell_id": "00010-6dc0beea-7bce-4eb2-9d39-5c43baed76b3",
    "deepnote_cell_type": "code",
    "deepnote_to_be_reexecuted": false,
    "execution_millis": 4,
    "execution_start": 1626448510115,
    "source_hash": "f209a2e4",
    "tags": []
   },
   "outputs": [],
   "source": [
    "# rfc.fit(X_train, y_train)\n",
    "# (rfc.predict(X_test) == y_test).sum()/y_test.shape[0]"
   ]
  },
  {
   "cell_type": "code",
   "execution_count": null,
   "metadata": {
    "cell_id": "00009-67b42cbc-1ced-4db2-8ccf-1f9928f84a91",
    "deepnote_cell_type": "code",
    "deepnote_to_be_reexecuted": false,
    "execution_millis": 3,
    "execution_start": 1626448534972,
    "source_hash": "196dc08a",
    "tags": []
   },
   "outputs": [],
   "source": [
    "from sklearn.metrics import classification_report,confusion_matrix"
   ]
  },
  {
   "cell_type": "code",
   "execution_count": null,
   "metadata": {
    "cell_id": "00010-5a79872c-e61e-4eb9-9b1e-d667cb1233eb",
    "deepnote_cell_type": "code",
    "tags": []
   },
   "outputs": [],
   "source": []
  },
  {
   "cell_type": "code",
   "execution_count": null,
   "metadata": {
    "cell_id": "00009-ecae6bdc-4921-41ab-97b5-f969000a95a3",
    "deepnote_cell_type": "code",
    "deepnote_to_be_reexecuted": false,
    "execution_millis": 561,
    "execution_start": 1626448535304,
    "source_hash": "21a800a8",
    "tags": []
   },
   "outputs": [
    {
     "name": "stdout",
     "output_type": "stream",
     "text": [
      "              precision    recall  f1-score   support\n",
      "\n",
      "         0.0       0.89      0.87      0.88        39\n",
      "         1.0       0.76      0.80      0.78        20\n",
      "\n",
      "    accuracy                           0.85        59\n",
      "   macro avg       0.83      0.84      0.83        59\n",
      "weighted avg       0.85      0.85      0.85        59\n",
      "\n"
     ]
    }
   ],
   "source": [
    "rfc.fit(X_train, y_train)\n",
    "pred = rfc.predict(X_test)\n",
    "print(classification_report(pred,y_test))"
   ]
  },
  {
   "cell_type": "code",
   "execution_count": null,
   "metadata": {
    "cell_id": "00011-e6fa7b06-617c-4de7-bdd3-864c77bd4d74",
    "deepnote_cell_type": "code",
    "deepnote_to_be_reexecuted": false,
    "execution_millis": 14,
    "execution_start": 1626448555417,
    "source_hash": "7df51bc8",
    "tags": []
   },
   "outputs": [
    {
     "name": "stdout",
     "output_type": "stream",
     "text": [
      "[[34  5]\n",
      " [ 4 16]]\n"
     ]
    }
   ],
   "source": [
    "print(confusion_matrix(pred,y_test))"
   ]
  },
  {
   "cell_type": "code",
   "execution_count": null,
   "metadata": {
    "cell_id": "00012-3af69a39-e3ff-4c37-865d-9bfc66156ad6",
    "deepnote_cell_type": "code",
    "deepnote_to_be_reexecuted": false,
    "execution_millis": 11,
    "execution_start": 1626448763290,
    "source_hash": "77c469a6",
    "tags": []
   },
   "outputs": [],
   "source": [
    "hip_df_new = hip_df.copy()"
   ]
  },
  {
   "cell_type": "code",
   "execution_count": null,
   "metadata": {
    "cell_id": "00012-80e3cd74-752b-420a-a8cf-9c661adcae50",
    "deepnote_cell_type": "code",
    "deepnote_to_be_reexecuted": false,
    "execution_millis": 8,
    "execution_start": 1626448911211,
    "source_hash": "1f17b5d3",
    "tags": []
   },
   "outputs": [],
   "source": [
    "hip_df_new['exercise'] = round(hip_df_new['angina exercise']*0.55 + hip_df_new['depression exercise']*0.6)"
   ]
  },
  {
   "cell_type": "code",
   "execution_count": null,
   "metadata": {
    "cell_id": "00014-017393fa-78c8-4fed-86a9-3db04dda0163",
    "deepnote_cell_type": "code",
    "deepnote_to_be_reexecuted": false,
    "execution_millis": 13,
    "execution_start": 1626448911723,
    "source_hash": "d5a11e68",
    "tags": []
   },
   "outputs": [],
   "source": [
    "X = hip_df_new.iloc[:,:-1]\n",
    "y = hip_df_new.iloc[:,-1]\n",
    "X_train, X_test, y_train, y_test = train_test_split(X, y, random_state=47, test_size=0.2)"
   ]
  },
  {
   "cell_type": "code",
   "execution_count": null,
   "metadata": {
    "cell_id": "00016-4d3609b4-3bc2-47c5-85da-d90b7764b4a6",
    "deepnote_cell_type": "code",
    "deepnote_to_be_reexecuted": false,
    "execution_millis": 123,
    "execution_start": 1626448912658,
    "source_hash": "44b50bf7",
    "tags": []
   },
   "outputs": [
    {
     "data": {
      "application/vnd.deepnote.dataframe.v2+json": {
       "column_count": 12,
       "columns": [
        {
         "dtype": "float64",
         "name": "age",
         "stats": {
          "histogram": [
           {
            "bin_end": 39.6,
            "bin_start": 37,
            "count": 2
           },
           {
            "bin_end": 42.2,
            "bin_start": 39.6,
            "count": 0
           },
           {
            "bin_end": 44.8,
            "bin_start": 42.2,
            "count": 1
           },
           {
            "bin_end": 47.4,
            "bin_start": 44.8,
            "count": 2
           },
           {
            "bin_end": 50,
            "bin_start": 47.4,
            "count": 1
           },
           {
            "bin_end": 52.6,
            "bin_start": 50,
            "count": 1
           },
           {
            "bin_end": 55.2,
            "bin_start": 52.6,
            "count": 1
           },
           {
            "bin_end": 57.8,
            "bin_start": 55.2,
            "count": 1
           },
           {
            "bin_end": 60.400000000000006,
            "bin_start": 57.8,
            "count": 0
           },
           {
            "bin_end": 63,
            "bin_start": 60.400000000000006,
            "count": 1
           }
          ],
          "max": "63.0",
          "min": "37.0",
          "nan_count": 0,
          "unique_count": 9
         }
        },
        {
         "dtype": "float64",
         "name": "sex",
         "stats": {
          "histogram": [
           {
            "bin_end": 0.1,
            "bin_start": 0,
            "count": 2
           },
           {
            "bin_end": 0.2,
            "bin_start": 0.1,
            "count": 0
           },
           {
            "bin_end": 0.30000000000000004,
            "bin_start": 0.2,
            "count": 0
           },
           {
            "bin_end": 0.4,
            "bin_start": 0.30000000000000004,
            "count": 0
           },
           {
            "bin_end": 0.5,
            "bin_start": 0.4,
            "count": 0
           },
           {
            "bin_end": 0.6000000000000001,
            "bin_start": 0.5,
            "count": 0
           },
           {
            "bin_end": 0.7000000000000001,
            "bin_start": 0.6000000000000001,
            "count": 0
           },
           {
            "bin_end": 0.8,
            "bin_start": 0.7000000000000001,
            "count": 0
           },
           {
            "bin_end": 0.9,
            "bin_start": 0.8,
            "count": 0
           },
           {
            "bin_end": 1,
            "bin_start": 0.9,
            "count": 8
           }
          ],
          "max": "1.0",
          "min": "0.0",
          "nan_count": 0,
          "unique_count": 2
         }
        },
        {
         "dtype": "float64",
         "name": "chest pain",
         "stats": {
          "histogram": [
           {
            "bin_end": 2.2,
            "bin_start": 2,
            "count": 3
           },
           {
            "bin_end": 2.4,
            "bin_start": 2.2,
            "count": 0
           },
           {
            "bin_end": 2.6,
            "bin_start": 2.4,
            "count": 0
           },
           {
            "bin_end": 2.8,
            "bin_start": 2.6,
            "count": 0
           },
           {
            "bin_end": 3,
            "bin_start": 2.8,
            "count": 0
           },
           {
            "bin_end": 3.2,
            "bin_start": 3,
            "count": 4
           },
           {
            "bin_end": 3.4000000000000004,
            "bin_start": 3.2,
            "count": 0
           },
           {
            "bin_end": 3.6,
            "bin_start": 3.4000000000000004,
            "count": 0
           },
           {
            "bin_end": 3.8,
            "bin_start": 3.6,
            "count": 0
           },
           {
            "bin_end": 4,
            "bin_start": 3.8,
            "count": 3
           }
          ],
          "max": "4.0",
          "min": "2.0",
          "nan_count": 0,
          "unique_count": 3
         }
        },
        {
         "dtype": "float64",
         "name": "blood pressure",
         "stats": {
          "histogram": [
           {
            "bin_end": 115,
            "bin_start": 110,
            "count": 1
           },
           {
            "bin_end": 120,
            "bin_start": 115,
            "count": 0
           },
           {
            "bin_end": 125,
            "bin_start": 120,
            "count": 3
           },
           {
            "bin_end": 130,
            "bin_start": 125,
            "count": 0
           },
           {
            "bin_end": 135,
            "bin_start": 130,
            "count": 2
           },
           {
            "bin_end": 140,
            "bin_start": 135,
            "count": 0
           },
           {
            "bin_end": 145,
            "bin_start": 140,
            "count": 1
           },
           {
            "bin_end": 150,
            "bin_start": 145,
            "count": 0
           },
           {
            "bin_end": 155,
            "bin_start": 150,
            "count": 2
           },
           {
            "bin_end": 160,
            "bin_start": 155,
            "count": 1
           }
          ],
          "max": "160.0",
          "min": "110.0",
          "nan_count": 0,
          "unique_count": 6
         }
        },
        {
         "dtype": "float64",
         "name": "serum cholestoral",
         "stats": {
          "histogram": [
           {
            "bin_end": 173.7,
            "bin_start": 163,
            "count": 1
           },
           {
            "bin_end": 184.4,
            "bin_start": 173.7,
            "count": 1
           },
           {
            "bin_end": 195.1,
            "bin_start": 184.4,
            "count": 1
           },
           {
            "bin_end": 205.8,
            "bin_start": 195.1,
            "count": 1
           },
           {
            "bin_end": 216.5,
            "bin_start": 205.8,
            "count": 1
           },
           {
            "bin_end": 227.2,
            "bin_start": 216.5,
            "count": 1
           },
           {
            "bin_end": 237.89999999999998,
            "bin_start": 227.2,
            "count": 1
           },
           {
            "bin_end": 248.6,
            "bin_start": 237.89999999999998,
            "count": 0
           },
           {
            "bin_end": 259.3,
            "bin_start": 248.6,
            "count": 1
           },
           {
            "bin_end": 270,
            "bin_start": 259.3,
            "count": 2
           }
          ],
          "max": "270.0",
          "min": "163.0",
          "nan_count": 0,
          "unique_count": 10
         }
        },
        {
         "dtype": "float64",
         "name": "blood sugar",
         "stats": {
          "histogram": [
           {
            "bin_end": 0.0069930069930069895,
            "bin_start": 0,
            "count": 9
           },
           {
            "bin_end": 0.013986013986013979,
            "bin_start": 0.0069930069930069895,
            "count": 0
           },
           {
            "bin_end": 0.02097902097902097,
            "bin_start": 0.013986013986013979,
            "count": 0
           },
           {
            "bin_end": 0.027972027972027958,
            "bin_start": 0.02097902097902097,
            "count": 0
           },
           {
            "bin_end": 0.03496503496503495,
            "bin_start": 0.027972027972027958,
            "count": 0
           },
           {
            "bin_end": 0.04195804195804194,
            "bin_start": 0.03496503496503495,
            "count": 0
           },
           {
            "bin_end": 0.048951048951048924,
            "bin_start": 0.04195804195804194,
            "count": 0
           },
           {
            "bin_end": 0.055944055944055916,
            "bin_start": 0.048951048951048924,
            "count": 0
           },
           {
            "bin_end": 0.0629370629370629,
            "bin_start": 0.055944055944055916,
            "count": 0
           },
           {
            "bin_end": 0.0699300699300699,
            "bin_start": 0.0629370629370629,
            "count": 1
           }
          ],
          "max": "0.0699300699300699",
          "min": "0.0",
          "nan_count": 0,
          "unique_count": 2
         }
        },
        {
         "dtype": "float64",
         "name": "electrocardiographic",
         "stats": {
          "histogram": [
           {
            "bin_end": 0.1,
            "bin_start": 0,
            "count": 7
           },
           {
            "bin_end": 0.2,
            "bin_start": 0.1,
            "count": 0
           },
           {
            "bin_end": 0.30000000000000004,
            "bin_start": 0.2,
            "count": 0
           },
           {
            "bin_end": 0.4,
            "bin_start": 0.30000000000000004,
            "count": 0
           },
           {
            "bin_end": 0.5,
            "bin_start": 0.4,
            "count": 0
           },
           {
            "bin_end": 0.6000000000000001,
            "bin_start": 0.5,
            "count": 0
           },
           {
            "bin_end": 0.7000000000000001,
            "bin_start": 0.6000000000000001,
            "count": 0
           },
           {
            "bin_end": 0.8,
            "bin_start": 0.7000000000000001,
            "count": 0
           },
           {
            "bin_end": 0.9,
            "bin_start": 0.8,
            "count": 0
           },
           {
            "bin_end": 1,
            "bin_start": 0.9,
            "count": 3
           }
          ],
          "max": "1.0",
          "min": "0.0",
          "nan_count": 0,
          "unique_count": 2
         }
        },
        {
         "dtype": "float64",
         "name": "max heart_rate",
         "stats": {
          "histogram": [
           {
            "bin_end": 121.5,
            "bin_start": 115,
            "count": 2
           },
           {
            "bin_end": 128,
            "bin_start": 121.5,
            "count": 0
           },
           {
            "bin_end": 134.5,
            "bin_start": 128,
            "count": 0
           },
           {
            "bin_end": 141,
            "bin_start": 134.5,
            "count": 1
           },
           {
            "bin_end": 147.5,
            "bin_start": 141,
            "count": 1
           },
           {
            "bin_end": 154,
            "bin_start": 147.5,
            "count": 2
           },
           {
            "bin_end": 160.5,
            "bin_start": 154,
            "count": 0
           },
           {
            "bin_end": 167,
            "bin_start": 160.5,
            "count": 1
           },
           {
            "bin_end": 173.5,
            "bin_start": 167,
            "count": 1
           },
           {
            "bin_end": 180,
            "bin_start": 173.5,
            "count": 2
           }
          ],
          "max": "180.0",
          "min": "115.0",
          "nan_count": 0,
          "unique_count": 9
         }
        },
        {
         "dtype": "float64",
         "name": "angina exercise",
         "stats": {
          "histogram": [
           {
            "bin_end": 0.1,
            "bin_start": 0,
            "count": 9
           },
           {
            "bin_end": 0.2,
            "bin_start": 0.1,
            "count": 0
           },
           {
            "bin_end": 0.30000000000000004,
            "bin_start": 0.2,
            "count": 0
           },
           {
            "bin_end": 0.4,
            "bin_start": 0.30000000000000004,
            "count": 0
           },
           {
            "bin_end": 0.5,
            "bin_start": 0.4,
            "count": 0
           },
           {
            "bin_end": 0.6000000000000001,
            "bin_start": 0.5,
            "count": 0
           },
           {
            "bin_end": 0.7000000000000001,
            "bin_start": 0.6000000000000001,
            "count": 0
           },
           {
            "bin_end": 0.8,
            "bin_start": 0.7000000000000001,
            "count": 0
           },
           {
            "bin_end": 0.9,
            "bin_start": 0.8,
            "count": 0
           },
           {
            "bin_end": 1,
            "bin_start": 0.9,
            "count": 1
           }
          ],
          "max": "1.0",
          "min": "0.0",
          "nan_count": 0,
          "unique_count": 2
         }
        },
        {
         "dtype": "float64",
         "name": "depression exercise",
         "stats": {
          "histogram": [
           {
            "bin_end": 0.1,
            "bin_start": 0,
            "count": 9
           },
           {
            "bin_end": 0.2,
            "bin_start": 0.1,
            "count": 0
           },
           {
            "bin_end": 0.30000000000000004,
            "bin_start": 0.2,
            "count": 0
           },
           {
            "bin_end": 0.4,
            "bin_start": 0.30000000000000004,
            "count": 0
           },
           {
            "bin_end": 0.5,
            "bin_start": 0.4,
            "count": 0
           },
           {
            "bin_end": 0.6000000000000001,
            "bin_start": 0.5,
            "count": 0
           },
           {
            "bin_end": 0.7000000000000001,
            "bin_start": 0.6000000000000001,
            "count": 0
           },
           {
            "bin_end": 0.8,
            "bin_start": 0.7000000000000001,
            "count": 0
           },
           {
            "bin_end": 0.9,
            "bin_start": 0.8,
            "count": 0
           },
           {
            "bin_end": 1,
            "bin_start": 0.9,
            "count": 1
           }
          ],
          "max": "1.0",
          "min": "0.0",
          "nan_count": 0,
          "unique_count": 2
         }
        },
        {
         "dtype": "float64",
         "name": "heart disease",
         "stats": {
          "histogram": [
           {
            "bin_end": 0.1,
            "bin_start": 0,
            "count": 7
           },
           {
            "bin_end": 0.2,
            "bin_start": 0.1,
            "count": 0
           },
           {
            "bin_end": 0.30000000000000004,
            "bin_start": 0.2,
            "count": 0
           },
           {
            "bin_end": 0.4,
            "bin_start": 0.30000000000000004,
            "count": 0
           },
           {
            "bin_end": 0.5,
            "bin_start": 0.4,
            "count": 0
           },
           {
            "bin_end": 0.6000000000000001,
            "bin_start": 0.5,
            "count": 0
           },
           {
            "bin_end": 0.7000000000000001,
            "bin_start": 0.6000000000000001,
            "count": 0
           },
           {
            "bin_end": 0.8,
            "bin_start": 0.7000000000000001,
            "count": 0
           },
           {
            "bin_end": 0.9,
            "bin_start": 0.8,
            "count": 0
           },
           {
            "bin_end": 1,
            "bin_start": 0.9,
            "count": 3
           }
          ],
          "max": "1.0",
          "min": "0.0",
          "nan_count": 0,
          "unique_count": 2
         }
        },
        {
         "dtype": "float64",
         "name": "exercise",
         "stats": {
          "histogram": [
           {
            "bin_end": 0.1,
            "bin_start": 0,
            "count": 9
           },
           {
            "bin_end": 0.2,
            "bin_start": 0.1,
            "count": 0
           },
           {
            "bin_end": 0.30000000000000004,
            "bin_start": 0.2,
            "count": 0
           },
           {
            "bin_end": 0.4,
            "bin_start": 0.30000000000000004,
            "count": 0
           },
           {
            "bin_end": 0.5,
            "bin_start": 0.4,
            "count": 0
           },
           {
            "bin_end": 0.6000000000000001,
            "bin_start": 0.5,
            "count": 0
           },
           {
            "bin_end": 0.7000000000000001,
            "bin_start": 0.6000000000000001,
            "count": 0
           },
           {
            "bin_end": 0.8,
            "bin_start": 0.7000000000000001,
            "count": 0
           },
           {
            "bin_end": 0.9,
            "bin_start": 0.8,
            "count": 0
           },
           {
            "bin_end": 1,
            "bin_start": 0.9,
            "count": 1
           }
          ],
          "max": "1.0",
          "min": "0.0",
          "nan_count": 0,
          "unique_count": 2
         }
        },
        {
         "dtype": "int64",
         "name": "_deepnote_index_column"
        }
       ],
       "row_count": 10,
       "rows_bottom": null,
       "rows_top": [
        {
         "_deepnote_index_column": 223,
         "age": 63,
         "angina exercise": 0,
         "blood pressure": 150,
         "blood sugar": 0,
         "chest pain": 4,
         "depression exercise": 0,
         "electrocardiographic": 0,
         "exercise": 0,
         "heart disease": 1,
         "max heart_rate": 115,
         "serum cholestoral": 223,
         "sex": 1
        },
        {
         "_deepnote_index_column": 219,
         "age": 57,
         "angina exercise": 1,
         "blood pressure": 140,
         "blood sugar": 0,
         "chest pain": 2,
         "depression exercise": 1,
         "electrocardiographic": 1,
         "exercise": 1,
         "heart disease": 1,
         "max heart_rate": 145,
         "serum cholestoral": 265,
         "sex": 1
        },
        {
         "_deepnote_index_column": 30,
         "age": 39,
         "angina exercise": 0,
         "blood pressure": 110,
         "blood sugar": 0,
         "chest pain": 3,
         "depression exercise": 0,
         "electrocardiographic": 1,
         "exercise": 0,
         "heart disease": 0,
         "max heart_rate": 180,
         "serum cholestoral": 182,
         "sex": 0
        },
        {
         "_deepnote_index_column": 62,
         "age": 43,
         "angina exercise": 0,
         "blood pressure": 120,
         "blood sugar": 0,
         "chest pain": 2,
         "depression exercise": 0,
         "electrocardiographic": 1,
         "exercise": 0,
         "heart disease": 0,
         "max heart_rate": 176,
         "serum cholestoral": 249,
         "sex": 0
        },
        {
         "_deepnote_index_column": 129,
         "age": 52,
         "angina exercise": 0,
         "blood pressure": 160,
         "blood sugar": 0,
         "chest pain": 2,
         "depression exercise": 0,
         "electrocardiographic": 0,
         "exercise": 0,
         "heart disease": 0,
         "max heart_rate": 165,
         "serum cholestoral": 196,
         "sex": 1
        },
        {
         "_deepnote_index_column": 24,
         "age": 37,
         "angina exercise": 0,
         "blood pressure": 130,
         "blood sugar": 0,
         "chest pain": 3,
         "depression exercise": 0,
         "electrocardiographic": 0,
         "exercise": 0,
         "heart disease": 0,
         "max heart_rate": 150,
         "serum cholestoral": 194,
         "sex": 1
        },
        {
         "_deepnote_index_column": 211,
         "age": 49,
         "angina exercise": 0,
         "blood pressure": 130,
         "blood sugar": 0,
         "chest pain": 4,
         "depression exercise": 0,
         "electrocardiographic": 0,
         "exercise": 0,
         "heart disease": 1,
         "max heart_rate": 170,
         "serum cholestoral": 206,
         "sex": 1
        },
        {
         "_deepnote_index_column": 81,
         "age": 46,
         "angina exercise": 0,
         "blood pressure": 150,
         "blood sugar": 0.0699300699300699,
         "chest pain": 3,
         "depression exercise": 0,
         "electrocardiographic": 0,
         "exercise": 0,
         "heart disease": 0,
         "max heart_rate": 116,
         "serum cholestoral": 163,
         "sex": 1
        },
        {
         "_deepnote_index_column": 164,
         "age": 55,
         "angina exercise": 0,
         "blood pressure": 120,
         "blood sugar": 0,
         "chest pain": 4,
         "depression exercise": 0,
         "electrocardiographic": 0,
         "exercise": 0,
         "heart disease": 0,
         "max heart_rate": 140,
         "serum cholestoral": 270,
         "sex": 1
        },
        {
         "_deepnote_index_column": 80,
         "age": 46,
         "angina exercise": 0,
         "blood pressure": 120,
         "blood sugar": 0,
         "chest pain": 3,
         "depression exercise": 0,
         "electrocardiographic": 0,
         "exercise": 0,
         "heart disease": 0,
         "max heart_rate": 150,
         "serum cholestoral": 230,
         "sex": 1
        }
       ]
      },
      "text/html": [
       "<div>\n",
       "<style scoped>\n",
       "    .dataframe tbody tr th:only-of-type {\n",
       "        vertical-align: middle;\n",
       "    }\n",
       "\n",
       "    .dataframe tbody tr th {\n",
       "        vertical-align: top;\n",
       "    }\n",
       "\n",
       "    .dataframe thead th {\n",
       "        text-align: right;\n",
       "    }\n",
       "</style>\n",
       "<table border=\"1\" class=\"dataframe\">\n",
       "  <thead>\n",
       "    <tr style=\"text-align: right;\">\n",
       "      <th></th>\n",
       "      <th>age</th>\n",
       "      <th>sex</th>\n",
       "      <th>chest pain</th>\n",
       "      <th>blood pressure</th>\n",
       "      <th>serum cholestoral</th>\n",
       "      <th>blood sugar</th>\n",
       "      <th>electrocardiographic</th>\n",
       "      <th>max heart_rate</th>\n",
       "      <th>angina exercise</th>\n",
       "      <th>depression exercise</th>\n",
       "      <th>heart disease</th>\n",
       "      <th>exercise</th>\n",
       "    </tr>\n",
       "  </thead>\n",
       "  <tbody>\n",
       "    <tr>\n",
       "      <th>223</th>\n",
       "      <td>63.0</td>\n",
       "      <td>1.0</td>\n",
       "      <td>4.0</td>\n",
       "      <td>150.0</td>\n",
       "      <td>223.0</td>\n",
       "      <td>0.00000</td>\n",
       "      <td>0.0</td>\n",
       "      <td>115.0</td>\n",
       "      <td>0.0</td>\n",
       "      <td>0.0</td>\n",
       "      <td>1.0</td>\n",
       "      <td>0.0</td>\n",
       "    </tr>\n",
       "    <tr>\n",
       "      <th>219</th>\n",
       "      <td>57.0</td>\n",
       "      <td>1.0</td>\n",
       "      <td>2.0</td>\n",
       "      <td>140.0</td>\n",
       "      <td>265.0</td>\n",
       "      <td>0.00000</td>\n",
       "      <td>1.0</td>\n",
       "      <td>145.0</td>\n",
       "      <td>1.0</td>\n",
       "      <td>1.0</td>\n",
       "      <td>1.0</td>\n",
       "      <td>1.0</td>\n",
       "    </tr>\n",
       "    <tr>\n",
       "      <th>30</th>\n",
       "      <td>39.0</td>\n",
       "      <td>0.0</td>\n",
       "      <td>3.0</td>\n",
       "      <td>110.0</td>\n",
       "      <td>182.0</td>\n",
       "      <td>0.00000</td>\n",
       "      <td>1.0</td>\n",
       "      <td>180.0</td>\n",
       "      <td>0.0</td>\n",
       "      <td>0.0</td>\n",
       "      <td>0.0</td>\n",
       "      <td>0.0</td>\n",
       "    </tr>\n",
       "    <tr>\n",
       "      <th>62</th>\n",
       "      <td>43.0</td>\n",
       "      <td>0.0</td>\n",
       "      <td>2.0</td>\n",
       "      <td>120.0</td>\n",
       "      <td>249.0</td>\n",
       "      <td>0.00000</td>\n",
       "      <td>1.0</td>\n",
       "      <td>176.0</td>\n",
       "      <td>0.0</td>\n",
       "      <td>0.0</td>\n",
       "      <td>0.0</td>\n",
       "      <td>0.0</td>\n",
       "    </tr>\n",
       "    <tr>\n",
       "      <th>129</th>\n",
       "      <td>52.0</td>\n",
       "      <td>1.0</td>\n",
       "      <td>2.0</td>\n",
       "      <td>160.0</td>\n",
       "      <td>196.0</td>\n",
       "      <td>0.00000</td>\n",
       "      <td>0.0</td>\n",
       "      <td>165.0</td>\n",
       "      <td>0.0</td>\n",
       "      <td>0.0</td>\n",
       "      <td>0.0</td>\n",
       "      <td>0.0</td>\n",
       "    </tr>\n",
       "    <tr>\n",
       "      <th>24</th>\n",
       "      <td>37.0</td>\n",
       "      <td>1.0</td>\n",
       "      <td>3.0</td>\n",
       "      <td>130.0</td>\n",
       "      <td>194.0</td>\n",
       "      <td>0.00000</td>\n",
       "      <td>0.0</td>\n",
       "      <td>150.0</td>\n",
       "      <td>0.0</td>\n",
       "      <td>0.0</td>\n",
       "      <td>0.0</td>\n",
       "      <td>0.0</td>\n",
       "    </tr>\n",
       "    <tr>\n",
       "      <th>211</th>\n",
       "      <td>49.0</td>\n",
       "      <td>1.0</td>\n",
       "      <td>4.0</td>\n",
       "      <td>130.0</td>\n",
       "      <td>206.0</td>\n",
       "      <td>0.00000</td>\n",
       "      <td>0.0</td>\n",
       "      <td>170.0</td>\n",
       "      <td>0.0</td>\n",
       "      <td>0.0</td>\n",
       "      <td>1.0</td>\n",
       "      <td>0.0</td>\n",
       "    </tr>\n",
       "    <tr>\n",
       "      <th>81</th>\n",
       "      <td>46.0</td>\n",
       "      <td>1.0</td>\n",
       "      <td>3.0</td>\n",
       "      <td>150.0</td>\n",
       "      <td>163.0</td>\n",
       "      <td>0.06993</td>\n",
       "      <td>0.0</td>\n",
       "      <td>116.0</td>\n",
       "      <td>0.0</td>\n",
       "      <td>0.0</td>\n",
       "      <td>0.0</td>\n",
       "      <td>0.0</td>\n",
       "    </tr>\n",
       "    <tr>\n",
       "      <th>164</th>\n",
       "      <td>55.0</td>\n",
       "      <td>1.0</td>\n",
       "      <td>4.0</td>\n",
       "      <td>120.0</td>\n",
       "      <td>270.0</td>\n",
       "      <td>0.00000</td>\n",
       "      <td>0.0</td>\n",
       "      <td>140.0</td>\n",
       "      <td>0.0</td>\n",
       "      <td>0.0</td>\n",
       "      <td>0.0</td>\n",
       "      <td>0.0</td>\n",
       "    </tr>\n",
       "    <tr>\n",
       "      <th>80</th>\n",
       "      <td>46.0</td>\n",
       "      <td>1.0</td>\n",
       "      <td>3.0</td>\n",
       "      <td>120.0</td>\n",
       "      <td>230.0</td>\n",
       "      <td>0.00000</td>\n",
       "      <td>0.0</td>\n",
       "      <td>150.0</td>\n",
       "      <td>0.0</td>\n",
       "      <td>0.0</td>\n",
       "      <td>0.0</td>\n",
       "      <td>0.0</td>\n",
       "    </tr>\n",
       "  </tbody>\n",
       "</table>\n",
       "</div>"
      ],
      "text/plain": [
       "      age  sex  chest pain  blood pressure  serum cholestoral  blood sugar  \\\n",
       "223  63.0  1.0         4.0           150.0              223.0      0.00000   \n",
       "219  57.0  1.0         2.0           140.0              265.0      0.00000   \n",
       "30   39.0  0.0         3.0           110.0              182.0      0.00000   \n",
       "62   43.0  0.0         2.0           120.0              249.0      0.00000   \n",
       "129  52.0  1.0         2.0           160.0              196.0      0.00000   \n",
       "24   37.0  1.0         3.0           130.0              194.0      0.00000   \n",
       "211  49.0  1.0         4.0           130.0              206.0      0.00000   \n",
       "81   46.0  1.0         3.0           150.0              163.0      0.06993   \n",
       "164  55.0  1.0         4.0           120.0              270.0      0.00000   \n",
       "80   46.0  1.0         3.0           120.0              230.0      0.00000   \n",
       "\n",
       "     electrocardiographic  max heart_rate  angina exercise  \\\n",
       "223                   0.0           115.0              0.0   \n",
       "219                   1.0           145.0              1.0   \n",
       "30                    1.0           180.0              0.0   \n",
       "62                    1.0           176.0              0.0   \n",
       "129                   0.0           165.0              0.0   \n",
       "24                    0.0           150.0              0.0   \n",
       "211                   0.0           170.0              0.0   \n",
       "81                    0.0           116.0              0.0   \n",
       "164                   0.0           140.0              0.0   \n",
       "80                    0.0           150.0              0.0   \n",
       "\n",
       "     depression exercise  heart disease  exercise  \n",
       "223                  0.0            1.0       0.0  \n",
       "219                  1.0            1.0       1.0  \n",
       "30                   0.0            0.0       0.0  \n",
       "62                   0.0            0.0       0.0  \n",
       "129                  0.0            0.0       0.0  \n",
       "24                   0.0            0.0       0.0  \n",
       "211                  0.0            1.0       0.0  \n",
       "81                   0.0            0.0       0.0  \n",
       "164                  0.0            0.0       0.0  \n",
       "80                   0.0            0.0       0.0  "
      ]
     },
     "execution_count": 38,
     "metadata": {},
     "output_type": "execute_result"
    }
   ],
   "source": [
    "hip_df_new.sample(10)"
   ]
  },
  {
   "cell_type": "code",
   "execution_count": null,
   "metadata": {
    "cell_id": "00013-f116a724-e725-4b94-b31f-df54b8db0fec",
    "deepnote_cell_type": "code",
    "deepnote_to_be_reexecuted": false,
    "execution_millis": 497,
    "execution_start": 1626448913934,
    "source_hash": "cfbb0f9d",
    "tags": []
   },
   "outputs": [
    {
     "name": "stdout",
     "output_type": "stream",
     "text": [
      "              precision    recall  f1-score   support\n",
      "\n",
      "         0.0       0.94      0.87      0.91        39\n",
      "         1.0       0.75      0.60      0.67        20\n",
      "         2.0       0.00      0.00      0.00         0\n",
      "\n",
      "    accuracy                           0.78        59\n",
      "   macro avg       0.56      0.49      0.52        59\n",
      "weighted avg       0.88      0.78      0.83        59\n",
      "\n",
      "/shared-libs/python3.7/py/lib/python3.7/site-packages/sklearn/metrics/_classification.py:1248: UndefinedMetricWarning: Recall and F-score are ill-defined and being set to 0.0 in labels with no true samples. Use `zero_division` parameter to control this behavior.\n",
      "  _warn_prf(average, modifier, msg_start, len(result))\n",
      "/shared-libs/python3.7/py/lib/python3.7/site-packages/sklearn/metrics/_classification.py:1248: UndefinedMetricWarning: Recall and F-score are ill-defined and being set to 0.0 in labels with no true samples. Use `zero_division` parameter to control this behavior.\n",
      "  _warn_prf(average, modifier, msg_start, len(result))\n",
      "/shared-libs/python3.7/py/lib/python3.7/site-packages/sklearn/metrics/_classification.py:1248: UndefinedMetricWarning: Recall and F-score are ill-defined and being set to 0.0 in labels with no true samples. Use `zero_division` parameter to control this behavior.\n",
      "  _warn_prf(average, modifier, msg_start, len(result))\n"
     ]
    }
   ],
   "source": [
    "rfc.fit(X_train, y_train)\n",
    "pred_new = rfc.predict(X_test)\n",
    "print(classification_report(pred,y_test))"
   ]
  },
  {
   "cell_type": "markdown",
   "metadata": {
    "cell_id": "00011-6a2a732c-9c27-4930-8b0a-7c4719871060",
    "deepnote_cell_type": "markdown",
    "tags": []
   },
   "source": [
    "## Accuracy with Data Enhancement (Aditional Column - heart_rate/age)"
   ]
  },
  {
   "cell_type": "code",
   "execution_count": null,
   "metadata": {
    "cell_id": "00013-ebdf6f57-62e1-48d9-812a-cbfbbbddacd6",
    "deepnote_cell_type": "code",
    "deepnote_to_be_reexecuted": false,
    "execution_millis": 1,
    "execution_start": 1626448155654,
    "source_hash": "16bf26b9",
    "tags": []
   },
   "outputs": [],
   "source": [
    "hip_df_new = hip_df.copy()\n",
    "hip_df_new['cholesteral/age'] = hip_df_new['serum cholestoral'] / hip_df_new['age']\n",
    "# hip_df_new['']"
   ]
  },
  {
   "cell_type": "code",
   "execution_count": null,
   "metadata": {
    "cell_id": "00011-46717eb8-4e46-4d91-ad86-804d874e0a46",
    "deepnote_cell_type": "code",
    "deepnote_to_be_reexecuted": false,
    "execution_millis": 5,
    "execution_start": 1626448365230,
    "source_hash": "196dc08a",
    "tags": []
   },
   "outputs": [],
   "source": []
  },
  {
   "cell_type": "code",
   "execution_count": null,
   "metadata": {
    "cell_id": "00012-5b247237-8f9a-4574-98f9-fbae351d9e83",
    "deepnote_cell_type": "code",
    "deepnote_to_be_reexecuted": false,
    "execution_millis": 13,
    "execution_start": 1626448156897,
    "source_hash": "ec5a29d7",
    "tags": []
   },
   "outputs": [],
   "source": [
    "X = hip_df_new.drop(['heart disease'], axis=1)\n",
    "y = hip_df_new['heart disease']\n",
    "X_train, X_test, y_train, y_test = train_test_split(X, y, random_state=47, test_size=0.2)"
   ]
  },
  {
   "cell_type": "code",
   "execution_count": null,
   "metadata": {
    "cell_id": "00014-8cc88e3a-4a80-410f-8178-be41c3ef547b",
    "deepnote_cell_type": "code",
    "deepnote_to_be_reexecuted": false,
    "execution_millis": 564,
    "execution_start": 1626448157799,
    "source_hash": "12cd11c9",
    "tags": []
   },
   "outputs": [
    {
     "data": {
      "text/plain": [
       "0.8305084745762712"
      ]
     },
     "execution_count": 34,
     "metadata": {},
     "output_type": "execute_result"
    }
   ],
   "source": [
    "rfc.fit(X_train, y_train)\n",
    "pred = rfc.predict(X_test)\n",
    "print(confusion_matrix(pred,y_test))\n",
    "((rfc.predict(X_test) == y_test).sum())/y_test.shape[0]"
   ]
  },
  {
   "cell_type": "code",
   "execution_count": null,
   "metadata": {
    "cell_id": "00013-27466c3e-dbed-45fb-9f32-753da1c224d1",
    "deepnote_cell_type": "code",
    "deepnote_to_be_reexecuted": false,
    "execution_millis": 44,
    "execution_start": 1626448336101,
    "source_hash": "56a41bf2",
    "tags": []
   },
   "outputs": [],
   "source": [
    "pred = rfc.predict(X_test)"
   ]
  },
  {
   "cell_type": "code",
   "execution_count": null,
   "metadata": {
    "cell_id": "00014-eb324831-69d1-4686-aab4-7efb827ecb18",
    "deepnote_cell_type": "code",
    "deepnote_to_be_reexecuted": false,
    "execution_millis": 15,
    "execution_start": 1626448418838,
    "source_hash": "7df51bc8",
    "tags": []
   },
   "outputs": [
    {
     "name": "stdout",
     "output_type": "stream",
     "text": [
      "[[25 15]\n",
      " [ 8 11]]\n"
     ]
    }
   ],
   "source": [
    "print(confusion_matrix(pred,y_test))"
   ]
  },
  {
   "cell_type": "code",
   "execution_count": null,
   "metadata": {
    "cell_id": "00015-13ccdd46-d177-4896-b706-eb0dbd2d198b",
    "deepnote_cell_type": "code",
    "deepnote_to_be_reexecuted": false,
    "execution_millis": 32,
    "execution_start": 1626447752209,
    "source_hash": "ea840051",
    "tags": []
   },
   "outputs": [
    {
     "data": {
      "text/plain": [
       "Index(['age', 'sex', 'chest pain', 'blood pressure', 'serum cholestoral',\n",
       "       'blood sugar', 'electrocardiographic', 'max heart_rate',\n",
       "       'angina exercise', 'depression exercise', 'heart disease',\n",
       "       'cholesteral/age'],\n",
       "      dtype='object')"
      ]
     },
     "execution_count": 12,
     "metadata": {},
     "output_type": "execute_result"
    }
   ],
   "source": [
    "hip_df_new.columns"
   ]
  },
  {
   "cell_type": "code",
   "execution_count": null,
   "metadata": {
    "cell_id": "00016-1f7d50a2-36c4-4fc6-8282-6c1476b386de",
    "deepnote_cell_type": "code",
    "deepnote_to_be_reexecuted": false,
    "execution_millis": 1,
    "execution_start": 1626447753690,
    "source_hash": "2d27f36c",
    "tags": []
   },
   "outputs": [],
   "source": [
    "# Adding new rows\n",
    "# Francisco let results like this we can show them as success \n",
    "#  They are extra points ))\n",
    "# But the problem is that the results are not good. With the data enhancement its a decrease in accuracy\n"
   ]
  },
  {
   "cell_type": "code",
   "execution_count": null,
   "metadata": {
    "cell_id": "00018-1975c0ae-0135-400a-8c92-20c424f3d5f0",
    "deepnote_cell_type": "code",
    "deepnote_to_be_reexecuted": false,
    "execution_millis": 5,
    "execution_start": 1626447754717,
    "source_hash": "117ef061",
    "tags": []
   },
   "outputs": [],
   "source": [
    "# My internet is so unstable I will try joining again"
   ]
  },
  {
   "cell_type": "code",
   "execution_count": null,
   "metadata": {
    "cell_id": "00018-5de17f4d-6760-4b92-a40c-6c8402c5697b",
    "deepnote_cell_type": "code",
    "deepnote_to_be_reexecuted": false,
    "execution_millis": 14,
    "execution_start": 1626447755886,
    "source_hash": "bc3ecc43",
    "tags": []
   },
   "outputs": [
    {
     "data": {
      "text/plain": [
       "1"
      ]
     },
     "execution_count": 15,
     "metadata": {},
     "output_type": "execute_result"
    }
   ],
   "source": [
    "# Adding rows\n",
    "np.random.randint(2)"
   ]
  },
  {
   "cell_type": "code",
   "execution_count": null,
   "metadata": {
    "cell_id": "00018-a7540a9c-0a02-4824-ba5b-9ab1a38a4691",
    "deepnote_cell_type": "code",
    "deepnote_to_be_reexecuted": false,
    "execution_millis": 5,
    "execution_start": 1626447756584,
    "source_hash": "b623e53d",
    "tags": []
   },
   "outputs": [],
   "source": []
  },
  {
   "cell_type": "code",
   "execution_count": null,
   "metadata": {
    "cell_id": "00019-a3ad3709-45fd-4843-931c-06ab0b4cde46",
    "deepnote_cell_type": "code",
    "deepnote_to_be_reexecuted": false,
    "execution_millis": 304,
    "execution_start": 1626448579665,
    "source_hash": "57b90487",
    "tags": []
   },
   "outputs": [
    {
     "data": {
      "application/vnd.deepnote.dataframe.v2+json": {
       "column_count": 11,
       "columns": [
        {
         "dtype": "float64",
         "name": "age",
         "stats": {
          "histogram": [
           {
            "bin_end": 25.5,
            "bin_start": 21,
            "count": 4
           },
           {
            "bin_end": 30,
            "bin_start": 25.5,
            "count": 0
           },
           {
            "bin_end": 34.5,
            "bin_start": 30,
            "count": 5
           },
           {
            "bin_end": 39,
            "bin_start": 34.5,
            "count": 28
           },
           {
            "bin_end": 43.5,
            "bin_start": 39,
            "count": 52
           },
           {
            "bin_end": 48,
            "bin_start": 43.5,
            "count": 38
           },
           {
            "bin_end": 52.5,
            "bin_start": 48,
            "count": 72
           },
           {
            "bin_end": 57,
            "bin_start": 52.5,
            "count": 62
           },
           {
            "bin_end": 61.5,
            "bin_start": 57,
            "count": 26
           },
           {
            "bin_end": 66,
            "bin_start": 61.5,
            "count": 7
           }
          ],
          "max": "66.0",
          "min": "21.0",
          "nan_count": 0,
          "unique_count": 39
         }
        },
        {
         "dtype": "float64",
         "name": "sex",
         "stats": {
          "histogram": [
           {
            "bin_end": 0.1,
            "bin_start": 0,
            "count": 81
           },
           {
            "bin_end": 0.2,
            "bin_start": 0.1,
            "count": 0
           },
           {
            "bin_end": 0.30000000000000004,
            "bin_start": 0.2,
            "count": 0
           },
           {
            "bin_end": 0.4,
            "bin_start": 0.30000000000000004,
            "count": 0
           },
           {
            "bin_end": 0.5,
            "bin_start": 0.4,
            "count": 0
           },
           {
            "bin_end": 0.6000000000000001,
            "bin_start": 0.5,
            "count": 0
           },
           {
            "bin_end": 0.7000000000000001,
            "bin_start": 0.6000000000000001,
            "count": 0
           },
           {
            "bin_end": 0.8,
            "bin_start": 0.7000000000000001,
            "count": 0
           },
           {
            "bin_end": 0.9,
            "bin_start": 0.8,
            "count": 0
           },
           {
            "bin_end": 1,
            "bin_start": 0.9,
            "count": 213
           }
          ],
          "max": "1.0",
          "min": "0.0",
          "nan_count": 0,
          "unique_count": 2
         }
        },
        {
         "dtype": "float64",
         "name": "chest pain",
         "stats": {
          "histogram": [
           {
            "bin_end": 1.3,
            "bin_start": 1,
            "count": 11
           },
           {
            "bin_end": 1.6,
            "bin_start": 1.3,
            "count": 0
           },
           {
            "bin_end": 1.9,
            "bin_start": 1.6,
            "count": 0
           },
           {
            "bin_end": 2.2,
            "bin_start": 1.9,
            "count": 106
           },
           {
            "bin_end": 2.5,
            "bin_start": 2.2,
            "count": 0
           },
           {
            "bin_end": 2.8,
            "bin_start": 2.5,
            "count": 0
           },
           {
            "bin_end": 3.1,
            "bin_start": 2.8,
            "count": 54
           },
           {
            "bin_end": 3.4,
            "bin_start": 3.1,
            "count": 0
           },
           {
            "bin_end": 3.6999999999999997,
            "bin_start": 3.4,
            "count": 0
           },
           {
            "bin_end": 4,
            "bin_start": 3.6999999999999997,
            "count": 123
           }
          ],
          "max": "4.0",
          "min": "1.0",
          "nan_count": 0,
          "unique_count": 4
         }
        },
        {
         "dtype": "float64",
         "name": "blood pressure",
         "stats": {
          "histogram": [
           {
            "bin_end": 102.8,
            "bin_start": 92,
            "count": 9
           },
           {
            "bin_end": 113.6,
            "bin_start": 102.8,
            "count": 27
           },
           {
            "bin_end": 124.4,
            "bin_start": 113.6,
            "count": 73
           },
           {
            "bin_end": 135.2,
            "bin_start": 124.4,
            "count": 69
           },
           {
            "bin_end": 146,
            "bin_start": 135.2,
            "count": 57
           },
           {
            "bin_end": 156.8,
            "bin_start": 146,
            "count": 25
           },
           {
            "bin_end": 167.60000000000002,
            "bin_start": 156.8,
            "count": 21
           },
           {
            "bin_end": 178.4,
            "bin_start": 167.60000000000002,
            "count": 4
           },
           {
            "bin_end": 189.2,
            "bin_start": 178.4,
            "count": 7
           },
           {
            "bin_end": 200,
            "bin_start": 189.2,
            "count": 2
           }
          ],
          "max": "200.0",
          "min": "92.0",
          "nan_count": 0,
          "unique_count": 37
         }
        },
        {
         "dtype": "float64",
         "name": "serum cholestoral",
         "stats": {
          "histogram": [
           {
            "bin_end": 120.6,
            "bin_start": 67,
            "count": 4
           },
           {
            "bin_end": 174.2,
            "bin_start": 120.6,
            "count": 18
           },
           {
            "bin_end": 227.8,
            "bin_start": 174.2,
            "count": 90
           },
           {
            "bin_end": 281.4,
            "bin_start": 227.8,
            "count": 110
           },
           {
            "bin_end": 335,
            "bin_start": 281.4,
            "count": 47
           },
           {
            "bin_end": 388.6,
            "bin_start": 335,
            "count": 14
           },
           {
            "bin_end": 442.2,
            "bin_start": 388.6,
            "count": 5
           },
           {
            "bin_end": 495.8,
            "bin_start": 442.2,
            "count": 3
           },
           {
            "bin_end": 549.4000000000001,
            "bin_start": 495.8,
            "count": 2
           },
           {
            "bin_end": 603,
            "bin_start": 549.4000000000001,
            "count": 1
           }
          ],
          "max": "603.0",
          "min": "67.0",
          "nan_count": 0,
          "unique_count": 159
         }
        },
        {
         "dtype": "float64",
         "name": "blood sugar",
         "stats": {
          "histogram": [
           {
            "bin_end": 0.1,
            "bin_start": 0,
            "count": 274
           },
           {
            "bin_end": 0.2,
            "bin_start": 0.1,
            "count": 0
           },
           {
            "bin_end": 0.30000000000000004,
            "bin_start": 0.2,
            "count": 0
           },
           {
            "bin_end": 0.4,
            "bin_start": 0.30000000000000004,
            "count": 0
           },
           {
            "bin_end": 0.5,
            "bin_start": 0.4,
            "count": 0
           },
           {
            "bin_end": 0.6000000000000001,
            "bin_start": 0.5,
            "count": 0
           },
           {
            "bin_end": 0.7000000000000001,
            "bin_start": 0.6000000000000001,
            "count": 0
           },
           {
            "bin_end": 0.8,
            "bin_start": 0.7000000000000001,
            "count": 0
           },
           {
            "bin_end": 0.9,
            "bin_start": 0.8,
            "count": 0
           },
           {
            "bin_end": 1,
            "bin_start": 0.9,
            "count": 20
           }
          ],
          "max": "1.0",
          "min": "0.0",
          "nan_count": 0,
          "unique_count": 3
         }
        },
        {
         "dtype": "float64",
         "name": "electrocardiographic",
         "stats": {
          "histogram": [
           {
            "bin_end": 0.2,
            "bin_start": 0,
            "count": 235
           },
           {
            "bin_end": 0.4,
            "bin_start": 0.2,
            "count": 1
           },
           {
            "bin_end": 0.6000000000000001,
            "bin_start": 0.4,
            "count": 0
           },
           {
            "bin_end": 0.8,
            "bin_start": 0.6000000000000001,
            "count": 0
           },
           {
            "bin_end": 1,
            "bin_start": 0.8,
            "count": 0
           },
           {
            "bin_end": 1.2000000000000002,
            "bin_start": 1,
            "count": 52
           },
           {
            "bin_end": 1.4000000000000001,
            "bin_start": 1.2000000000000002,
            "count": 0
           },
           {
            "bin_end": 1.6,
            "bin_start": 1.4000000000000001,
            "count": 0
           },
           {
            "bin_end": 1.8,
            "bin_start": 1.6,
            "count": 0
           },
           {
            "bin_end": 2,
            "bin_start": 1.8,
            "count": 6
           }
          ],
          "max": "2.0",
          "min": "0.0",
          "nan_count": 0,
          "unique_count": 4
         }
        },
        {
         "dtype": "float64",
         "name": "max heart_rate",
         "stats": {
          "histogram": [
           {
            "bin_end": 94.6,
            "bin_start": 82,
            "count": 9
           },
           {
            "bin_end": 107.2,
            "bin_start": 94.6,
            "count": 20
           },
           {
            "bin_end": 119.8,
            "bin_start": 107.2,
            "count": 30
           },
           {
            "bin_end": 132.4,
            "bin_start": 119.8,
            "count": 56
           },
           {
            "bin_end": 145,
            "bin_start": 132.4,
            "count": 59
           },
           {
            "bin_end": 157.6,
            "bin_start": 145,
            "count": 52
           },
           {
            "bin_end": 170.2,
            "bin_start": 157.6,
            "count": 39
           },
           {
            "bin_end": 182.8,
            "bin_start": 170.2,
            "count": 20
           },
           {
            "bin_end": 195.39999999999998,
            "bin_start": 182.8,
            "count": 8
           },
           {
            "bin_end": 208,
            "bin_start": 195.39999999999998,
            "count": 1
           }
          ],
          "max": "208.0",
          "min": "82.0",
          "nan_count": 0,
          "unique_count": 77
         }
        },
        {
         "dtype": "float64",
         "name": "angina exercise",
         "stats": {
          "histogram": [
           {
            "bin_end": 0.1,
            "bin_start": 0,
            "count": 204
           },
           {
            "bin_end": 0.2,
            "bin_start": 0.1,
            "count": 0
           },
           {
            "bin_end": 0.30000000000000004,
            "bin_start": 0.2,
            "count": 0
           },
           {
            "bin_end": 0.4,
            "bin_start": 0.30000000000000004,
            "count": 1
           },
           {
            "bin_end": 0.5,
            "bin_start": 0.4,
            "count": 0
           },
           {
            "bin_end": 0.6000000000000001,
            "bin_start": 0.5,
            "count": 0
           },
           {
            "bin_end": 0.7000000000000001,
            "bin_start": 0.6000000000000001,
            "count": 0
           },
           {
            "bin_end": 0.8,
            "bin_start": 0.7000000000000001,
            "count": 0
           },
           {
            "bin_end": 0.9,
            "bin_start": 0.8,
            "count": 0
           },
           {
            "bin_end": 1,
            "bin_start": 0.9,
            "count": 89
           }
          ],
          "max": "1.0",
          "min": "0.0",
          "nan_count": 0,
          "unique_count": 3
         }
        },
        {
         "dtype": "float64",
         "name": "depression exercise",
         "stats": {
          "histogram": [
           {
            "bin_end": 0.5,
            "bin_start": 0,
            "count": 189
           },
           {
            "bin_end": 1,
            "bin_start": 0.5,
            "count": 3
           },
           {
            "bin_end": 1.5,
            "bin_start": 1,
            "count": 41
           },
           {
            "bin_end": 2,
            "bin_start": 1.5,
            "count": 16
           },
           {
            "bin_end": 2.5,
            "bin_start": 2,
            "count": 31
           },
           {
            "bin_end": 3,
            "bin_start": 2.5,
            "count": 3
           },
           {
            "bin_end": 3.5,
            "bin_start": 3,
            "count": 9
           },
           {
            "bin_end": 4,
            "bin_start": 3.5,
            "count": 0
           },
           {
            "bin_end": 4.5,
            "bin_start": 4,
            "count": 1
           },
           {
            "bin_end": 5,
            "bin_start": 4.5,
            "count": 1
           }
          ],
          "max": "5.0",
          "min": "0.0",
          "nan_count": 0,
          "unique_count": 10
         }
        },
        {
         "dtype": "float64",
         "name": "heart disease",
         "stats": {
          "histogram": [
           {
            "bin_end": 0.1,
            "bin_start": 0,
            "count": 188
           },
           {
            "bin_end": 0.2,
            "bin_start": 0.1,
            "count": 0
           },
           {
            "bin_end": 0.30000000000000004,
            "bin_start": 0.2,
            "count": 0
           },
           {
            "bin_end": 0.4,
            "bin_start": 0.30000000000000004,
            "count": 0
           },
           {
            "bin_end": 0.5,
            "bin_start": 0.4,
            "count": 0
           },
           {
            "bin_end": 0.6000000000000001,
            "bin_start": 0.5,
            "count": 0
           },
           {
            "bin_end": 0.7000000000000001,
            "bin_start": 0.6000000000000001,
            "count": 0
           },
           {
            "bin_end": 0.8,
            "bin_start": 0.7000000000000001,
            "count": 0
           },
           {
            "bin_end": 0.9,
            "bin_start": 0.8,
            "count": 0
           },
           {
            "bin_end": 1,
            "bin_start": 0.9,
            "count": 106
           }
          ],
          "max": "1.0",
          "min": "0.0",
          "nan_count": 0,
          "unique_count": 2
         }
        },
        {
         "dtype": "int64",
         "name": "_deepnote_index_column"
        }
       ],
       "row_count": 294,
       "rows_bottom": [
        {
         "_deepnote_index_column": 249,
         "age": 58,
         "angina exercise": 0,
         "blood pressure": 160,
         "blood sugar": 1,
         "chest pain": 3,
         "depression exercise": 0,
         "electrocardiographic": 1,
         "heart disease": 1,
         "max heart_rate": 92,
         "serum cholestoral": 211,
         "sex": 1
        },
        {
         "_deepnote_index_column": 250,
         "age": 58,
         "angina exercise": 1,
         "blood pressure": 130,
         "blood sugar": 0,
         "chest pain": 4,
         "depression exercise": 2,
         "electrocardiographic": 0,
         "heart disease": 1,
         "max heart_rate": 140,
         "serum cholestoral": 263,
         "sex": 1
        },
        {
         "_deepnote_index_column": 251,
         "age": 41,
         "angina exercise": 0,
         "blood pressure": 130,
         "blood sugar": 0,
         "chest pain": 4,
         "depression exercise": 2,
         "electrocardiographic": 1,
         "heart disease": 1,
         "max heart_rate": 130,
         "serum cholestoral": 172,
         "sex": 1
        },
        {
         "_deepnote_index_column": 252,
         "age": 43,
         "angina exercise": 1,
         "blood pressure": 120,
         "blood sugar": 0,
         "chest pain": 4,
         "depression exercise": 1,
         "electrocardiographic": 0,
         "heart disease": 1,
         "max heart_rate": 120,
         "serum cholestoral": 175,
         "sex": 1
        },
        {
         "_deepnote_index_column": 253,
         "age": 44,
         "angina exercise": 1,
         "blood pressure": 150,
         "blood sugar": 0,
         "chest pain": 2,
         "depression exercise": 3,
         "electrocardiographic": 0,
         "heart disease": 1,
         "max heart_rate": 150,
         "serum cholestoral": 288,
         "sex": 1
        },
        {
         "_deepnote_index_column": 254,
         "age": 44,
         "angina exercise": 1,
         "blood pressure": 130,
         "blood sugar": 0,
         "chest pain": 4,
         "depression exercise": 2,
         "electrocardiographic": 0,
         "heart disease": 1,
         "max heart_rate": 100,
         "serum cholestoral": 290,
         "sex": 1
        },
        {
         "_deepnote_index_column": 255,
         "age": 46,
         "angina exercise": 0,
         "blood pressure": 140,
         "blood sugar": 1,
         "chest pain": 1,
         "depression exercise": 2,
         "electrocardiographic": 0,
         "heart disease": 1,
         "max heart_rate": 175,
         "serum cholestoral": 272,
         "sex": 1
        },
        {
         "_deepnote_index_column": 256,
         "age": 47,
         "angina exercise": 0,
         "blood pressure": 135,
         "blood sugar": 1,
         "chest pain": 3,
         "depression exercise": 0,
         "electrocardiographic": 0,
         "heart disease": 1,
         "max heart_rate": 170,
         "serum cholestoral": 248,
         "sex": 0
        },
        {
         "_deepnote_index_column": 257,
         "age": 48,
         "angina exercise": 1,
         "blood pressure": 138,
         "blood sugar": 0,
         "chest pain": 4,
         "depression exercise": 1.5,
         "electrocardiographic": 0,
         "heart disease": 1,
         "max heart_rate": 108,
         "serum cholestoral": 214,
         "sex": 0
        },
        {
         "_deepnote_index_column": 258,
         "age": 49,
         "angina exercise": 1,
         "blood pressure": 130,
         "blood sugar": 0,
         "chest pain": 4,
         "depression exercise": 1,
         "electrocardiographic": 0,
         "heart disease": 1,
         "max heart_rate": 120,
         "serum cholestoral": 341,
         "sex": 1
        },
        {
         "_deepnote_index_column": 259,
         "age": 49,
         "angina exercise": 1,
         "blood pressure": 140,
         "blood sugar": 0,
         "chest pain": 4,
         "depression exercise": 1,
         "electrocardiographic": 0,
         "heart disease": 1,
         "max heart_rate": 140,
         "serum cholestoral": 234,
         "sex": 1
        },
        {
         "_deepnote_index_column": 260,
         "age": 51,
         "angina exercise": 0,
         "blood pressure": 135,
         "blood sugar": 0,
         "chest pain": 3,
         "depression exercise": 2,
         "electrocardiographic": 0,
         "heart disease": 1,
         "max heart_rate": 150,
         "serum cholestoral": 160,
         "sex": 1
        },
        {
         "_deepnote_index_column": 261,
         "age": 52,
         "angina exercise": 1,
         "blood pressure": 112,
         "blood sugar": 0,
         "chest pain": 4,
         "depression exercise": 1,
         "electrocardiographic": 1,
         "heart disease": 1,
         "max heart_rate": 96,
         "serum cholestoral": 342,
         "sex": 1
        },
        {
         "_deepnote_index_column": 262,
         "age": 52,
         "angina exercise": 1,
         "blood pressure": 130,
         "blood sugar": 0,
         "chest pain": 4,
         "depression exercise": 1,
         "electrocardiographic": 0,
         "heart disease": 1,
         "max heart_rate": 110,
         "serum cholestoral": 298,
         "sex": 1
        },
        {
         "_deepnote_index_column": 263,
         "age": 52,
         "angina exercise": 1,
         "blood pressure": 140,
         "blood sugar": 0,
         "chest pain": 4,
         "depression exercise": 2,
         "electrocardiographic": 0,
         "heart disease": 1,
         "max heart_rate": 124,
         "serum cholestoral": 404,
         "sex": 1
        },
        {
         "_deepnote_index_column": 264,
         "age": 52,
         "angina exercise": 1,
         "blood pressure": 160,
         "blood sugar": 0,
         "chest pain": 4,
         "depression exercise": 4,
         "electrocardiographic": 1,
         "heart disease": 1,
         "max heart_rate": 82,
         "serum cholestoral": 246,
         "sex": 1
        },
        {
         "_deepnote_index_column": 265,
         "age": 53,
         "angina exercise": 0,
         "blood pressure": 145,
         "blood sugar": 0,
         "chest pain": 3,
         "depression exercise": 0,
         "electrocardiographic": 0,
         "heart disease": 1,
         "max heart_rate": 130,
         "serum cholestoral": 518,
         "sex": 1
        },
        {
         "_deepnote_index_column": 266,
         "age": 53,
         "angina exercise": 1,
         "blood pressure": 180,
         "blood sugar": 0,
         "chest pain": 4,
         "depression exercise": 1.5,
         "electrocardiographic": 1,
         "heart disease": 1,
         "max heart_rate": 120,
         "serum cholestoral": 285,
         "sex": 1
        },
        {
         "_deepnote_index_column": 267,
         "age": 54,
         "angina exercise": 0,
         "blood pressure": 140,
         "blood sugar": 0,
         "chest pain": 4,
         "depression exercise": 1.5,
         "electrocardiographic": 0,
         "heart disease": 1,
         "max heart_rate": 105,
         "serum cholestoral": 216,
         "sex": 1
        },
        {
         "_deepnote_index_column": 268,
         "age": 55,
         "angina exercise": 0,
         "blood pressure": 140,
         "blood sugar": 0,
         "chest pain": 1,
         "depression exercise": 0,
         "electrocardiographic": 0.2184300341296928,
         "heart disease": 1,
         "max heart_rate": 136,
         "serum cholestoral": 295,
         "sex": 1
        },
        {
         "_deepnote_index_column": 269,
         "age": 55,
         "angina exercise": 1,
         "blood pressure": 160,
         "blood sugar": 1,
         "chest pain": 2,
         "depression exercise": 2,
         "electrocardiographic": 0,
         "heart disease": 1,
         "max heart_rate": 143,
         "serum cholestoral": 292,
         "sex": 1
        },
        {
         "_deepnote_index_column": 270,
         "age": 55,
         "angina exercise": 1,
         "blood pressure": 145,
         "blood sugar": 0,
         "chest pain": 4,
         "depression exercise": 2,
         "electrocardiographic": 0,
         "heart disease": 1,
         "max heart_rate": 96,
         "serum cholestoral": 248,
         "sex": 1
        },
        {
         "_deepnote_index_column": 271,
         "age": 56,
         "angina exercise": 0,
         "blood pressure": 120,
         "blood sugar": 0,
         "chest pain": 2,
         "depression exercise": 1,
         "electrocardiographic": 0,
         "heart disease": 1,
         "max heart_rate": 150,
         "serum cholestoral": 279,
         "sex": 0
        },
        {
         "_deepnote_index_column": 272,
         "age": 56,
         "angina exercise": 1,
         "blood pressure": 150,
         "blood sugar": 0,
         "chest pain": 4,
         "depression exercise": 1.5,
         "electrocardiographic": 1,
         "heart disease": 1,
         "max heart_rate": 124,
         "serum cholestoral": 230,
         "sex": 1
        },
        {
         "_deepnote_index_column": 273,
         "age": 56,
         "angina exercise": 1,
         "blood pressure": 170,
         "blood sugar": 0,
         "chest pain": 4,
         "depression exercise": 2,
         "electrocardiographic": 1,
         "heart disease": 1,
         "max heart_rate": 122,
         "serum cholestoral": 388,
         "sex": 1
        },
        {
         "_deepnote_index_column": 274,
         "age": 58,
         "angina exercise": 1,
         "blood pressure": 136,
         "blood sugar": 0,
         "chest pain": 2,
         "depression exercise": 2,
         "electrocardiographic": 1,
         "heart disease": 1,
         "max heart_rate": 99,
         "serum cholestoral": 164,
         "sex": 1
        },
        {
         "_deepnote_index_column": 275,
         "age": 59,
         "angina exercise": 0,
         "blood pressure": 130,
         "blood sugar": 0,
         "chest pain": 4,
         "depression exercise": 0,
         "electrocardiographic": 0,
         "heart disease": 1,
         "max heart_rate": 125,
         "serum cholestoral": 250.84870848708488,
         "sex": 1
        },
        {
         "_deepnote_index_column": 276,
         "age": 59,
         "angina exercise": 1,
         "blood pressure": 140,
         "blood sugar": 1,
         "chest pain": 4,
         "depression exercise": 0,
         "electrocardiographic": 2,
         "heart disease": 1,
         "max heart_rate": 119,
         "serum cholestoral": 264,
         "sex": 1
        },
        {
         "_deepnote_index_column": 277,
         "age": 65,
         "angina exercise": 1,
         "blood pressure": 170,
         "blood sugar": 1,
         "chest pain": 4,
         "depression exercise": 2,
         "electrocardiographic": 0,
         "heart disease": 1,
         "max heart_rate": 112,
         "serum cholestoral": 263,
         "sex": 1
        },
        {
         "_deepnote_index_column": 278,
         "age": 66,
         "angina exercise": 1,
         "blood pressure": 140,
         "blood sugar": 0,
         "chest pain": 4,
         "depression exercise": 1,
         "electrocardiographic": 0,
         "heart disease": 1,
         "max heart_rate": 94,
         "serum cholestoral": 250.84870848708488,
         "sex": 1
        },
        {
         "_deepnote_index_column": 279,
         "age": 41,
         "angina exercise": 1,
         "blood pressure": 120,
         "blood sugar": 0,
         "chest pain": 4,
         "depression exercise": 3,
         "electrocardiographic": 0,
         "heart disease": 1,
         "max heart_rate": 118,
         "serum cholestoral": 336,
         "sex": 1
        },
        {
         "_deepnote_index_column": 280,
         "age": 43,
         "angina exercise": 1,
         "blood pressure": 140,
         "blood sugar": 0,
         "chest pain": 4,
         "depression exercise": 2,
         "electrocardiographic": 0,
         "heart disease": 1,
         "max heart_rate": 135,
         "serum cholestoral": 288,
         "sex": 1
        },
        {
         "_deepnote_index_column": 281,
         "age": 44,
         "angina exercise": 0,
         "blood pressure": 135,
         "blood sugar": 0,
         "chest pain": 4,
         "depression exercise": 0,
         "electrocardiographic": 0,
         "heart disease": 1,
         "max heart_rate": 135,
         "serum cholestoral": 491,
         "sex": 1
        },
        {
         "_deepnote_index_column": 282,
         "age": 47,
         "angina exercise": 1,
         "blood pressure": 120,
         "blood sugar": 0,
         "chest pain": 4,
         "depression exercise": 2,
         "electrocardiographic": 0,
         "heart disease": 1,
         "max heart_rate": 98,
         "serum cholestoral": 205,
         "sex": 0
        },
        {
         "_deepnote_index_column": 283,
         "age": 47,
         "angina exercise": 1,
         "blood pressure": 160,
         "blood sugar": 0,
         "chest pain": 4,
         "depression exercise": 3,
         "electrocardiographic": 1,
         "heart disease": 1,
         "max heart_rate": 158,
         "serum cholestoral": 291,
         "sex": 1
        },
        {
         "_deepnote_index_column": 284,
         "age": 49,
         "angina exercise": 1,
         "blood pressure": 128,
         "blood sugar": 0,
         "chest pain": 4,
         "depression exercise": 0,
         "electrocardiographic": 0,
         "heart disease": 1,
         "max heart_rate": 96,
         "serum cholestoral": 212,
         "sex": 1
        },
        {
         "_deepnote_index_column": 285,
         "age": 49,
         "angina exercise": 0,
         "blood pressure": 150,
         "blood sugar": 0,
         "chest pain": 4,
         "depression exercise": 2,
         "electrocardiographic": 0,
         "heart disease": 1,
         "max heart_rate": 122,
         "serum cholestoral": 222,
         "sex": 1
        },
        {
         "_deepnote_index_column": 286,
         "age": 50,
         "angina exercise": 1,
         "blood pressure": 140,
         "blood sugar": 0,
         "chest pain": 4,
         "depression exercise": 5,
         "electrocardiographic": 1,
         "heart disease": 1,
         "max heart_rate": 140,
         "serum cholestoral": 231,
         "sex": 1
        },
        {
         "_deepnote_index_column": 287,
         "age": 50,
         "angina exercise": 1,
         "blood pressure": 140,
         "blood sugar": 0,
         "chest pain": 4,
         "depression exercise": 2.5,
         "electrocardiographic": 1,
         "heart disease": 1,
         "max heart_rate": 125,
         "serum cholestoral": 341,
         "sex": 1
        },
        {
         "_deepnote_index_column": 288,
         "age": 52,
         "angina exercise": 1,
         "blood pressure": 140,
         "blood sugar": 0,
         "chest pain": 4,
         "depression exercise": 2,
         "electrocardiographic": 0,
         "heart disease": 1,
         "max heart_rate": 134,
         "serum cholestoral": 266,
         "sex": 1
        },
        {
         "_deepnote_index_column": 289,
         "age": 52,
         "angina exercise": 1,
         "blood pressure": 160,
         "blood sugar": 0,
         "chest pain": 4,
         "depression exercise": 2.5,
         "electrocardiographic": 0,
         "heart disease": 1,
         "max heart_rate": 94,
         "serum cholestoral": 331,
         "sex": 1
        },
        {
         "_deepnote_index_column": 290,
         "age": 54,
         "angina exercise": 1,
         "blood pressure": 130,
         "blood sugar": 0,
         "chest pain": 3,
         "depression exercise": 0,
         "electrocardiographic": 1,
         "heart disease": 1,
         "max heart_rate": 100,
         "serum cholestoral": 294,
         "sex": 0
        },
        {
         "_deepnote_index_column": 291,
         "age": 56,
         "angina exercise": 1,
         "blood pressure": 155,
         "blood sugar": 1,
         "chest pain": 4,
         "depression exercise": 3,
         "electrocardiographic": 0,
         "heart disease": 1,
         "max heart_rate": 150,
         "serum cholestoral": 342,
         "sex": 1
        },
        {
         "_deepnote_index_column": 292,
         "age": 58,
         "angina exercise": 1,
         "blood pressure": 180,
         "blood sugar": 0,
         "chest pain": 2,
         "depression exercise": 1,
         "electrocardiographic": 0,
         "heart disease": 1,
         "max heart_rate": 110,
         "serum cholestoral": 393,
         "sex": 0
        },
        {
         "_deepnote_index_column": 293,
         "age": 65,
         "angina exercise": 1,
         "blood pressure": 130,
         "blood sugar": 0,
         "chest pain": 4,
         "depression exercise": 1,
         "electrocardiographic": 1,
         "heart disease": 1,
         "max heart_rate": 115,
         "serum cholestoral": 275,
         "sex": 1
        }
       ],
       "rows_top": [
        {
         "_deepnote_index_column": 0,
         "age": 36,
         "angina exercise": 0,
         "blood pressure": 148,
         "blood sugar": 0,
         "chest pain": 2,
         "depression exercise": 0,
         "electrocardiographic": 2,
         "heart disease": 0,
         "max heart_rate": 161,
         "serum cholestoral": 67,
         "sex": 1
        },
        {
         "_deepnote_index_column": 1,
         "age": 21,
         "angina exercise": 0,
         "blood pressure": 102,
         "blood sugar": 0,
         "chest pain": 2,
         "depression exercise": 0,
         "electrocardiographic": 0,
         "heart disease": 0,
         "max heart_rate": 184,
         "serum cholestoral": 178,
         "sex": 1
        },
        {
         "_deepnote_index_column": 2,
         "age": 37,
         "angina exercise": 0,
         "blood pressure": 158,
         "blood sugar": 0,
         "chest pain": 2,
         "depression exercise": 0,
         "electrocardiographic": 0,
         "heart disease": 0,
         "max heart_rate": 194,
         "serum cholestoral": 185.84870848708488,
         "sex": 1
        },
        {
         "_deepnote_index_column": 3,
         "age": 38,
         "angina exercise": 0,
         "blood pressure": 188,
         "blood sugar": 0,
         "chest pain": 1,
         "depression exercise": 0,
         "electrocardiographic": 1,
         "heart disease": 0,
         "max heart_rate": 194,
         "serum cholestoral": 302,
         "sex": 0
        },
        {
         "_deepnote_index_column": 4,
         "age": 23,
         "angina exercise": 0,
         "blood pressure": 118,
         "blood sugar": 0,
         "chest pain": 2,
         "depression exercise": 0,
         "electrocardiographic": 1,
         "heart disease": 0,
         "max heart_rate": 174,
         "serum cholestoral": 284,
         "sex": 0
        },
        {
         "_deepnote_index_column": 5,
         "age": 40,
         "angina exercise": 0,
         "blood pressure": 123,
         "blood sugar": 0,
         "chest pain": 2,
         "depression exercise": 0,
         "electrocardiographic": 0,
         "heart disease": 0,
         "max heart_rate": 141,
         "serum cholestoral": 133,
         "sex": 0
        },
        {
         "_deepnote_index_column": 6,
         "age": 24,
         "angina exercise": 0,
         "blood pressure": 128,
         "blood sugar": 0,
         "chest pain": 2,
         "depression exercise": 0,
         "electrocardiographic": 0,
         "heart disease": 0,
         "max heart_rate": 208,
         "serum cholestoral": 290,
         "sex": 1
        },
        {
         "_deepnote_index_column": 7,
         "age": 40,
         "angina exercise": 0,
         "blood pressure": 107,
         "blood sugar": 0,
         "chest pain": 2,
         "depression exercise": 0,
         "electrocardiographic": 0,
         "heart disease": 0,
         "max heart_rate": 131,
         "serum cholestoral": 319,
         "sex": 1
        },
        {
         "_deepnote_index_column": 8,
         "age": 25,
         "angina exercise": 0,
         "blood pressure": 102,
         "blood sugar": 0,
         "chest pain": 3,
         "depression exercise": 0,
         "electrocardiographic": 0,
         "heart disease": 0,
         "max heart_rate": 161,
         "serum cholestoral": 233,
         "sex": 1
        },
        {
         "_deepnote_index_column": 9,
         "age": 42,
         "angina exercise": 0,
         "blood pressure": 148,
         "blood sugar": 0,
         "chest pain": 2,
         "depression exercise": 0,
         "electrocardiographic": 0,
         "heart disease": 0,
         "max heart_rate": 166,
         "serum cholestoral": 226,
         "sex": 0
        },
        {
         "_deepnote_index_column": 10,
         "age": 42,
         "angina exercise": 0,
         "blood pressure": 132,
         "blood sugar": 0,
         "chest pain": 2,
         "depression exercise": 0,
         "electrocardiographic": 1,
         "heart disease": 0,
         "max heart_rate": 192,
         "serum cholestoral": 149,
         "sex": 1
        },
        {
         "_deepnote_index_column": 11,
         "age": 34,
         "angina exercise": 0,
         "blood pressure": 98,
         "blood sugar": 0,
         "chest pain": 2,
         "depression exercise": 0,
         "electrocardiographic": 0,
         "heart disease": 0,
         "max heart_rate": 150,
         "serum cholestoral": 220,
         "sex": 1
        },
        {
         "_deepnote_index_column": 12,
         "age": 35,
         "angina exercise": 0,
         "blood pressure": 120,
         "blood sugar": 0,
         "chest pain": 1,
         "depression exercise": 0,
         "electrocardiographic": 1,
         "heart disease": 0,
         "max heart_rate": 185,
         "serum cholestoral": 160,
         "sex": 0
        },
        {
         "_deepnote_index_column": 13,
         "age": 35,
         "angina exercise": 0,
         "blood pressure": 140,
         "blood sugar": 0,
         "chest pain": 4,
         "depression exercise": 0,
         "electrocardiographic": 0,
         "heart disease": 0,
         "max heart_rate": 150,
         "serum cholestoral": 167,
         "sex": 0
        },
        {
         "_deepnote_index_column": 14,
         "age": 35,
         "angina exercise": 0,
         "blood pressure": 120,
         "blood sugar": 0,
         "chest pain": 2,
         "depression exercise": 0,
         "electrocardiographic": 2,
         "heart disease": 0,
         "max heart_rate": 180,
         "serum cholestoral": 308,
         "sex": 1
        },
        {
         "_deepnote_index_column": 15,
         "age": 35,
         "angina exercise": 0,
         "blood pressure": 150,
         "blood sugar": 0,
         "chest pain": 2,
         "depression exercise": 0,
         "electrocardiographic": 0,
         "heart disease": 0,
         "max heart_rate": 168,
         "serum cholestoral": 264,
         "sex": 1
        },
        {
         "_deepnote_index_column": 16,
         "age": 36,
         "angina exercise": 0,
         "blood pressure": 120,
         "blood sugar": 0,
         "chest pain": 2,
         "depression exercise": 0,
         "electrocardiographic": 0,
         "heart disease": 0,
         "max heart_rate": 180,
         "serum cholestoral": 166,
         "sex": 1
        },
        {
         "_deepnote_index_column": 17,
         "age": 36,
         "angina exercise": 0,
         "blood pressure": 112,
         "blood sugar": 0,
         "chest pain": 3,
         "depression exercise": 1,
         "electrocardiographic": 0,
         "heart disease": 0,
         "max heart_rate": 184,
         "serum cholestoral": 340,
         "sex": 1
        },
        {
         "_deepnote_index_column": 18,
         "age": 36,
         "angina exercise": 0,
         "blood pressure": 130,
         "blood sugar": 0,
         "chest pain": 3,
         "depression exercise": 0,
         "electrocardiographic": 0,
         "heart disease": 0,
         "max heart_rate": 178,
         "serum cholestoral": 209,
         "sex": 1
        },
        {
         "_deepnote_index_column": 19,
         "age": 36,
         "angina exercise": 0,
         "blood pressure": 150,
         "blood sugar": 0,
         "chest pain": 3,
         "depression exercise": 0,
         "electrocardiographic": 0,
         "heart disease": 0,
         "max heart_rate": 172,
         "serum cholestoral": 160,
         "sex": 1
        },
        {
         "_deepnote_index_column": 20,
         "age": 37,
         "angina exercise": 0,
         "blood pressure": 120,
         "blood sugar": 0,
         "chest pain": 2,
         "depression exercise": 0,
         "electrocardiographic": 0,
         "heart disease": 0,
         "max heart_rate": 130,
         "serum cholestoral": 260,
         "sex": 0
        },
        {
         "_deepnote_index_column": 21,
         "age": 37,
         "angina exercise": 0,
         "blood pressure": 130,
         "blood sugar": 0,
         "chest pain": 3,
         "depression exercise": 0,
         "electrocardiographic": 0,
         "heart disease": 0,
         "max heart_rate": 142,
         "serum cholestoral": 211,
         "sex": 0
        },
        {
         "_deepnote_index_column": 22,
         "age": 37,
         "angina exercise": 0,
         "blood pressure": 130,
         "blood sugar": 0,
         "chest pain": 4,
         "depression exercise": 0,
         "electrocardiographic": 1,
         "heart disease": 0,
         "max heart_rate": 184,
         "serum cholestoral": 173,
         "sex": 0
        },
        {
         "_deepnote_index_column": 23,
         "age": 37,
         "angina exercise": 0,
         "blood pressure": 130,
         "blood sugar": 0,
         "chest pain": 2,
         "depression exercise": 0,
         "electrocardiographic": 1,
         "heart disease": 0,
         "max heart_rate": 98,
         "serum cholestoral": 283,
         "sex": 1
        },
        {
         "_deepnote_index_column": 24,
         "age": 37,
         "angina exercise": 0,
         "blood pressure": 130,
         "blood sugar": 0,
         "chest pain": 3,
         "depression exercise": 0,
         "electrocardiographic": 0,
         "heart disease": 0,
         "max heart_rate": 150,
         "serum cholestoral": 194,
         "sex": 1
        },
        {
         "_deepnote_index_column": 25,
         "age": 37,
         "angina exercise": 0,
         "blood pressure": 120,
         "blood sugar": 0,
         "chest pain": 4,
         "depression exercise": 0,
         "electrocardiographic": 0,
         "heart disease": 0,
         "max heart_rate": 168,
         "serum cholestoral": 223,
         "sex": 1
        },
        {
         "_deepnote_index_column": 26,
         "age": 37,
         "angina exercise": 0,
         "blood pressure": 130,
         "blood sugar": 0,
         "chest pain": 4,
         "depression exercise": 0,
         "electrocardiographic": 0,
         "heart disease": 0,
         "max heart_rate": 158,
         "serum cholestoral": 315,
         "sex": 1
        },
        {
         "_deepnote_index_column": 27,
         "age": 38,
         "angina exercise": 0,
         "blood pressure": 120,
         "blood sugar": 0.0699300699300699,
         "chest pain": 2,
         "depression exercise": 0,
         "electrocardiographic": 0,
         "heart disease": 0,
         "max heart_rate": 129,
         "serum cholestoral": 275,
         "sex": 0
        },
        {
         "_deepnote_index_column": 28,
         "age": 38,
         "angina exercise": 0,
         "blood pressure": 140,
         "blood sugar": 0,
         "chest pain": 2,
         "depression exercise": 0,
         "electrocardiographic": 0,
         "heart disease": 0,
         "max heart_rate": 150,
         "serum cholestoral": 297,
         "sex": 1
        },
        {
         "_deepnote_index_column": 29,
         "age": 38,
         "angina exercise": 0,
         "blood pressure": 145,
         "blood sugar": 0,
         "chest pain": 3,
         "depression exercise": 0,
         "electrocardiographic": 0,
         "heart disease": 0,
         "max heart_rate": 130,
         "serum cholestoral": 292,
         "sex": 1
        },
        {
         "_deepnote_index_column": 30,
         "age": 39,
         "angina exercise": 0,
         "blood pressure": 110,
         "blood sugar": 0,
         "chest pain": 3,
         "depression exercise": 0,
         "electrocardiographic": 1,
         "heart disease": 0,
         "max heart_rate": 180,
         "serum cholestoral": 182,
         "sex": 0
        },
        {
         "_deepnote_index_column": 31,
         "age": 39,
         "angina exercise": 0,
         "blood pressure": 120,
         "blood sugar": 0,
         "chest pain": 2,
         "depression exercise": 2,
         "electrocardiographic": 1,
         "heart disease": 0,
         "max heart_rate": 146,
         "serum cholestoral": 250.84870848708488,
         "sex": 1
        },
        {
         "_deepnote_index_column": 32,
         "age": 39,
         "angina exercise": 1,
         "blood pressure": 120,
         "blood sugar": 0,
         "chest pain": 2,
         "depression exercise": 1,
         "electrocardiographic": 0,
         "heart disease": 0,
         "max heart_rate": 160,
         "serum cholestoral": 200,
         "sex": 1
        },
        {
         "_deepnote_index_column": 33,
         "age": 39,
         "angina exercise": 0,
         "blood pressure": 120,
         "blood sugar": 0,
         "chest pain": 2,
         "depression exercise": 0,
         "electrocardiographic": 0,
         "heart disease": 0,
         "max heart_rate": 145,
         "serum cholestoral": 204,
         "sex": 1
        },
        {
         "_deepnote_index_column": 34,
         "age": 39,
         "angina exercise": 0,
         "blood pressure": 130,
         "blood sugar": 0,
         "chest pain": 2,
         "depression exercise": 0,
         "electrocardiographic": 0,
         "heart disease": 0,
         "max heart_rate": 120,
         "serum cholestoral": 250.84870848708488,
         "sex": 1
        },
        {
         "_deepnote_index_column": 35,
         "age": 39,
         "angina exercise": 0,
         "blood pressure": 190,
         "blood sugar": 0,
         "chest pain": 2,
         "depression exercise": 0,
         "electrocardiographic": 0,
         "heart disease": 0,
         "max heart_rate": 106,
         "serum cholestoral": 241,
         "sex": 1
        },
        {
         "_deepnote_index_column": 36,
         "age": 39,
         "angina exercise": 0,
         "blood pressure": 120,
         "blood sugar": 0,
         "chest pain": 3,
         "depression exercise": 0,
         "electrocardiographic": 0,
         "heart disease": 0,
         "max heart_rate": 170,
         "serum cholestoral": 339,
         "sex": 1
        },
        {
         "_deepnote_index_column": 37,
         "age": 39,
         "angina exercise": 0,
         "blood pressure": 160,
         "blood sugar": 1,
         "chest pain": 3,
         "depression exercise": 0,
         "electrocardiographic": 0,
         "heart disease": 0,
         "max heart_rate": 160,
         "serum cholestoral": 147,
         "sex": 1
        },
        {
         "_deepnote_index_column": 38,
         "age": 39,
         "angina exercise": 0,
         "blood pressure": 110,
         "blood sugar": 0,
         "chest pain": 4,
         "depression exercise": 0,
         "electrocardiographic": 0,
         "heart disease": 0,
         "max heart_rate": 132,
         "serum cholestoral": 273,
         "sex": 1
        },
        {
         "_deepnote_index_column": 39,
         "age": 39,
         "angina exercise": 0,
         "blood pressure": 130,
         "blood sugar": 0,
         "chest pain": 4,
         "depression exercise": 0,
         "electrocardiographic": 0,
         "heart disease": 0,
         "max heart_rate": 140,
         "serum cholestoral": 307,
         "sex": 1
        },
        {
         "_deepnote_index_column": 40,
         "age": 40,
         "angina exercise": 0,
         "blood pressure": 130,
         "blood sugar": 0,
         "chest pain": 2,
         "depression exercise": 0,
         "electrocardiographic": 0,
         "heart disease": 0,
         "max heart_rate": 150,
         "serum cholestoral": 275,
         "sex": 1
        },
        {
         "_deepnote_index_column": 41,
         "age": 40,
         "angina exercise": 0,
         "blood pressure": 140,
         "blood sugar": 0,
         "chest pain": 2,
         "depression exercise": 0,
         "electrocardiographic": 0,
         "heart disease": 0,
         "max heart_rate": 172,
         "serum cholestoral": 289,
         "sex": 1
        },
        {
         "_deepnote_index_column": 42,
         "age": 40,
         "angina exercise": 0,
         "blood pressure": 130,
         "blood sugar": 0,
         "chest pain": 3,
         "depression exercise": 0,
         "electrocardiographic": 0,
         "heart disease": 0,
         "max heart_rate": 138,
         "serum cholestoral": 215,
         "sex": 1
        },
        {
         "_deepnote_index_column": 43,
         "age": 40,
         "angina exercise": 0,
         "blood pressure": 130,
         "blood sugar": 0,
         "chest pain": 3,
         "depression exercise": 0,
         "electrocardiographic": 0,
         "heart disease": 0,
         "max heart_rate": 167,
         "serum cholestoral": 281,
         "sex": 1
        },
        {
         "_deepnote_index_column": 44,
         "age": 40,
         "angina exercise": 0,
         "blood pressure": 140,
         "blood sugar": 0,
         "chest pain": 3,
         "depression exercise": 0,
         "electrocardiographic": 0,
         "heart disease": 0,
         "max heart_rate": 188,
         "serum cholestoral": 250.84870848708488,
         "sex": 1
        }
       ]
      },
      "text/html": [
       "<div>\n",
       "<style scoped>\n",
       "    .dataframe tbody tr th:only-of-type {\n",
       "        vertical-align: middle;\n",
       "    }\n",
       "\n",
       "    .dataframe tbody tr th {\n",
       "        vertical-align: top;\n",
       "    }\n",
       "\n",
       "    .dataframe thead th {\n",
       "        text-align: right;\n",
       "    }\n",
       "</style>\n",
       "<table border=\"1\" class=\"dataframe\">\n",
       "  <thead>\n",
       "    <tr style=\"text-align: right;\">\n",
       "      <th></th>\n",
       "      <th>age</th>\n",
       "      <th>sex</th>\n",
       "      <th>chest pain</th>\n",
       "      <th>blood pressure</th>\n",
       "      <th>serum cholestoral</th>\n",
       "      <th>blood sugar</th>\n",
       "      <th>electrocardiographic</th>\n",
       "      <th>max heart_rate</th>\n",
       "      <th>angina exercise</th>\n",
       "      <th>depression exercise</th>\n",
       "      <th>heart disease</th>\n",
       "    </tr>\n",
       "  </thead>\n",
       "  <tbody>\n",
       "    <tr>\n",
       "      <th>0</th>\n",
       "      <td>36.0</td>\n",
       "      <td>1.0</td>\n",
       "      <td>2.0</td>\n",
       "      <td>148.0</td>\n",
       "      <td>67.000000</td>\n",
       "      <td>0.0</td>\n",
       "      <td>2.0</td>\n",
       "      <td>161.0</td>\n",
       "      <td>0.0</td>\n",
       "      <td>0.0</td>\n",
       "      <td>0.0</td>\n",
       "    </tr>\n",
       "    <tr>\n",
       "      <th>1</th>\n",
       "      <td>21.0</td>\n",
       "      <td>1.0</td>\n",
       "      <td>2.0</td>\n",
       "      <td>102.0</td>\n",
       "      <td>178.000000</td>\n",
       "      <td>0.0</td>\n",
       "      <td>0.0</td>\n",
       "      <td>184.0</td>\n",
       "      <td>0.0</td>\n",
       "      <td>0.0</td>\n",
       "      <td>0.0</td>\n",
       "    </tr>\n",
       "    <tr>\n",
       "      <th>2</th>\n",
       "      <td>37.0</td>\n",
       "      <td>1.0</td>\n",
       "      <td>2.0</td>\n",
       "      <td>158.0</td>\n",
       "      <td>185.848708</td>\n",
       "      <td>0.0</td>\n",
       "      <td>0.0</td>\n",
       "      <td>194.0</td>\n",
       "      <td>0.0</td>\n",
       "      <td>0.0</td>\n",
       "      <td>0.0</td>\n",
       "    </tr>\n",
       "    <tr>\n",
       "      <th>3</th>\n",
       "      <td>38.0</td>\n",
       "      <td>0.0</td>\n",
       "      <td>1.0</td>\n",
       "      <td>188.0</td>\n",
       "      <td>302.000000</td>\n",
       "      <td>0.0</td>\n",
       "      <td>1.0</td>\n",
       "      <td>194.0</td>\n",
       "      <td>0.0</td>\n",
       "      <td>0.0</td>\n",
       "      <td>0.0</td>\n",
       "    </tr>\n",
       "    <tr>\n",
       "      <th>4</th>\n",
       "      <td>23.0</td>\n",
       "      <td>0.0</td>\n",
       "      <td>2.0</td>\n",
       "      <td>118.0</td>\n",
       "      <td>284.000000</td>\n",
       "      <td>0.0</td>\n",
       "      <td>1.0</td>\n",
       "      <td>174.0</td>\n",
       "      <td>0.0</td>\n",
       "      <td>0.0</td>\n",
       "      <td>0.0</td>\n",
       "    </tr>\n",
       "    <tr>\n",
       "      <th>...</th>\n",
       "      <td>...</td>\n",
       "      <td>...</td>\n",
       "      <td>...</td>\n",
       "      <td>...</td>\n",
       "      <td>...</td>\n",
       "      <td>...</td>\n",
       "      <td>...</td>\n",
       "      <td>...</td>\n",
       "      <td>...</td>\n",
       "      <td>...</td>\n",
       "      <td>...</td>\n",
       "    </tr>\n",
       "    <tr>\n",
       "      <th>289</th>\n",
       "      <td>52.0</td>\n",
       "      <td>1.0</td>\n",
       "      <td>4.0</td>\n",
       "      <td>160.0</td>\n",
       "      <td>331.000000</td>\n",
       "      <td>0.0</td>\n",
       "      <td>0.0</td>\n",
       "      <td>94.0</td>\n",
       "      <td>1.0</td>\n",
       "      <td>2.5</td>\n",
       "      <td>1.0</td>\n",
       "    </tr>\n",
       "    <tr>\n",
       "      <th>290</th>\n",
       "      <td>54.0</td>\n",
       "      <td>0.0</td>\n",
       "      <td>3.0</td>\n",
       "      <td>130.0</td>\n",
       "      <td>294.000000</td>\n",
       "      <td>0.0</td>\n",
       "      <td>1.0</td>\n",
       "      <td>100.0</td>\n",
       "      <td>1.0</td>\n",
       "      <td>0.0</td>\n",
       "      <td>1.0</td>\n",
       "    </tr>\n",
       "    <tr>\n",
       "      <th>291</th>\n",
       "      <td>56.0</td>\n",
       "      <td>1.0</td>\n",
       "      <td>4.0</td>\n",
       "      <td>155.0</td>\n",
       "      <td>342.000000</td>\n",
       "      <td>1.0</td>\n",
       "      <td>0.0</td>\n",
       "      <td>150.0</td>\n",
       "      <td>1.0</td>\n",
       "      <td>3.0</td>\n",
       "      <td>1.0</td>\n",
       "    </tr>\n",
       "    <tr>\n",
       "      <th>292</th>\n",
       "      <td>58.0</td>\n",
       "      <td>0.0</td>\n",
       "      <td>2.0</td>\n",
       "      <td>180.0</td>\n",
       "      <td>393.000000</td>\n",
       "      <td>0.0</td>\n",
       "      <td>0.0</td>\n",
       "      <td>110.0</td>\n",
       "      <td>1.0</td>\n",
       "      <td>1.0</td>\n",
       "      <td>1.0</td>\n",
       "    </tr>\n",
       "    <tr>\n",
       "      <th>293</th>\n",
       "      <td>65.0</td>\n",
       "      <td>1.0</td>\n",
       "      <td>4.0</td>\n",
       "      <td>130.0</td>\n",
       "      <td>275.000000</td>\n",
       "      <td>0.0</td>\n",
       "      <td>1.0</td>\n",
       "      <td>115.0</td>\n",
       "      <td>1.0</td>\n",
       "      <td>1.0</td>\n",
       "      <td>1.0</td>\n",
       "    </tr>\n",
       "  </tbody>\n",
       "</table>\n",
       "<p>294 rows × 11 columns</p>\n",
       "</div>"
      ],
      "text/plain": [
       "      age  sex  chest pain  blood pressure  serum cholestoral  blood sugar  \\\n",
       "0    36.0  1.0         2.0           148.0          67.000000          0.0   \n",
       "1    21.0  1.0         2.0           102.0         178.000000          0.0   \n",
       "2    37.0  1.0         2.0           158.0         185.848708          0.0   \n",
       "3    38.0  0.0         1.0           188.0         302.000000          0.0   \n",
       "4    23.0  0.0         2.0           118.0         284.000000          0.0   \n",
       "..    ...  ...         ...             ...                ...          ...   \n",
       "289  52.0  1.0         4.0           160.0         331.000000          0.0   \n",
       "290  54.0  0.0         3.0           130.0         294.000000          0.0   \n",
       "291  56.0  1.0         4.0           155.0         342.000000          1.0   \n",
       "292  58.0  0.0         2.0           180.0         393.000000          0.0   \n",
       "293  65.0  1.0         4.0           130.0         275.000000          0.0   \n",
       "\n",
       "     electrocardiographic  max heart_rate  angina exercise  \\\n",
       "0                     2.0           161.0              0.0   \n",
       "1                     0.0           184.0              0.0   \n",
       "2                     0.0           194.0              0.0   \n",
       "3                     1.0           194.0              0.0   \n",
       "4                     1.0           174.0              0.0   \n",
       "..                    ...             ...              ...   \n",
       "289                   0.0            94.0              1.0   \n",
       "290                   1.0           100.0              1.0   \n",
       "291                   0.0           150.0              1.0   \n",
       "292                   0.0           110.0              1.0   \n",
       "293                   1.0           115.0              1.0   \n",
       "\n",
       "     depression exercise  heart disease  \n",
       "0                    0.0            0.0  \n",
       "1                    0.0            0.0  \n",
       "2                    0.0            0.0  \n",
       "3                    0.0            0.0  \n",
       "4                    0.0            0.0  \n",
       "..                   ...            ...  \n",
       "289                  2.5            1.0  \n",
       "290                  0.0            1.0  \n",
       "291                  3.0            1.0  \n",
       "292                  1.0            1.0  \n",
       "293                  1.0            1.0  \n",
       "\n",
       "[294 rows x 11 columns]"
      ]
     },
     "execution_count": 18,
     "metadata": {},
     "output_type": "execute_result"
    }
   ],
   "source": [
    "def data_enhancement(data):\n",
    "    \n",
    "    gen_data = hip_df.copy()\n",
    "    \n",
    "    blood_pressure_std = hip_df['blood pressure'].std()\n",
    "    serum_cholestoral_std = hip_df['serum cholestoral'].std()\n",
    "    heart_rate_std = hip_df['max heart_rate'].std()\n",
    "    age_std = hip_df['age'].std()\n",
    "\n",
    "    for i, d in enumerate(gen_data):\n",
    "        if np.random.randint(2) == 1:\n",
    "            gen_data['blood pressure'].values[i] += round(blood_pressure_std)\n",
    "        else:\n",
    "            gen_data['blood pressure'].values[i] -= round(blood_pressure_std)\n",
    "            \n",
    "        if np.random.randint(2) == 1:\n",
    "            gen_data['serum cholestoral'].values[i] += round(serum_cholestoral_std)\n",
    "        else:\n",
    "            gen_data['serum cholestoral'].values[i] -= round(serum_cholestoral_std)\n",
    "            \n",
    "        if np.random.randint(2) == 1:\n",
    "            gen_data['max heart_rate'].values[i] += round(heart_rate_std)\n",
    "        else:\n",
    "            gen_data['max heart_rate'].values[i] -= round(heart_rate_std)\n",
    "            \n",
    "        if np.random.randint(2) == 1:\n",
    "            gen_data['age'].values[i] += round(age_std)\n",
    "        else:\n",
    "            gen_data['age'].values[i] -= round(age_std)\n",
    "    \n",
    "    return gen_data\n",
    "\n",
    "hip_gen = data_enhancement(hip_df)\n",
    "hip_gen"
   ]
  },
  {
   "cell_type": "code",
   "execution_count": null,
   "metadata": {
    "cell_id": "00020-b401628a-0d75-45ef-b19e-57498fe3ee13",
    "deepnote_cell_type": "code",
    "deepnote_to_be_reexecuted": false,
    "execution_millis": 219,
    "execution_start": 1626447764176,
    "source_hash": "fe8e2093",
    "tags": []
   },
   "outputs": [
    {
     "data": {
      "application/vnd.deepnote.dataframe.v2+json": {
       "column_count": 11,
       "columns": [
        {
         "dtype": "float64",
         "name": "age",
         "stats": {
          "histogram": [
           {
            "bin_end": 24.6,
            "bin_start": 20,
            "count": 6
           },
           {
            "bin_end": 29.2,
            "bin_start": 24.6,
            "count": 1
           },
           {
            "bin_end": 33.8,
            "bin_start": 29.2,
            "count": 3
           },
           {
            "bin_end": 38.4,
            "bin_start": 33.8,
            "count": 27
           },
           {
            "bin_end": 43,
            "bin_start": 38.4,
            "count": 40
           },
           {
            "bin_end": 47.599999999999994,
            "bin_start": 43,
            "count": 50
           },
           {
            "bin_end": 52.199999999999996,
            "bin_start": 47.599999999999994,
            "count": 72
           },
           {
            "bin_end": 56.8,
            "bin_start": 52.199999999999996,
            "count": 62
           },
           {
            "bin_end": 61.4,
            "bin_start": 56.8,
            "count": 26
           },
           {
            "bin_end": 66,
            "bin_start": 61.4,
            "count": 7
           }
          ],
          "max": "66.0",
          "min": "20.0",
          "nan_count": 0,
          "unique_count": 40
         }
        },
        {
         "dtype": "float64",
         "name": "sex",
         "stats": {
          "histogram": [
           {
            "bin_end": 0.1,
            "bin_start": 0,
            "count": 81
           },
           {
            "bin_end": 0.2,
            "bin_start": 0.1,
            "count": 0
           },
           {
            "bin_end": 0.30000000000000004,
            "bin_start": 0.2,
            "count": 0
           },
           {
            "bin_end": 0.4,
            "bin_start": 0.30000000000000004,
            "count": 0
           },
           {
            "bin_end": 0.5,
            "bin_start": 0.4,
            "count": 0
           },
           {
            "bin_end": 0.6000000000000001,
            "bin_start": 0.5,
            "count": 0
           },
           {
            "bin_end": 0.7000000000000001,
            "bin_start": 0.6000000000000001,
            "count": 0
           },
           {
            "bin_end": 0.8,
            "bin_start": 0.7000000000000001,
            "count": 0
           },
           {
            "bin_end": 0.9,
            "bin_start": 0.8,
            "count": 0
           },
           {
            "bin_end": 1,
            "bin_start": 0.9,
            "count": 213
           }
          ],
          "max": "1.0",
          "min": "0.0",
          "nan_count": 0,
          "unique_count": 2
         }
        },
        {
         "dtype": "float64",
         "name": "chest pain",
         "stats": {
          "histogram": [
           {
            "bin_end": 1.3,
            "bin_start": 1,
            "count": 11
           },
           {
            "bin_end": 1.6,
            "bin_start": 1.3,
            "count": 0
           },
           {
            "bin_end": 1.9,
            "bin_start": 1.6,
            "count": 0
           },
           {
            "bin_end": 2.2,
            "bin_start": 1.9,
            "count": 106
           },
           {
            "bin_end": 2.5,
            "bin_start": 2.2,
            "count": 0
           },
           {
            "bin_end": 2.8,
            "bin_start": 2.5,
            "count": 0
           },
           {
            "bin_end": 3.1,
            "bin_start": 2.8,
            "count": 54
           },
           {
            "bin_end": 3.4,
            "bin_start": 3.1,
            "count": 0
           },
           {
            "bin_end": 3.6999999999999997,
            "bin_start": 3.4,
            "count": 0
           },
           {
            "bin_end": 4,
            "bin_start": 3.6999999999999997,
            "count": 123
           }
          ],
          "max": "4.0",
          "min": "1.0",
          "nan_count": 0,
          "unique_count": 4
         }
        },
        {
         "dtype": "float64",
         "name": "blood pressure",
         "stats": {
          "histogram": [
           {
            "bin_end": 93.8,
            "bin_start": 82,
            "count": 4
           },
           {
            "bin_end": 105.6,
            "bin_start": 93.8,
            "count": 8
           },
           {
            "bin_end": 117.4,
            "bin_start": 105.6,
            "count": 31
           },
           {
            "bin_end": 129.2,
            "bin_start": 117.4,
            "count": 77
           },
           {
            "bin_end": 141,
            "bin_start": 129.2,
            "count": 110
           },
           {
            "bin_end": 152.8,
            "bin_start": 141,
            "count": 29
           },
           {
            "bin_end": 164.60000000000002,
            "bin_start": 152.8,
            "count": 22
           },
           {
            "bin_end": 176.4,
            "bin_start": 164.60000000000002,
            "count": 5
           },
           {
            "bin_end": 188.2,
            "bin_start": 176.4,
            "count": 6
           },
           {
            "bin_end": 200,
            "bin_start": 188.2,
            "count": 2
           }
          ],
          "max": "200.0",
          "min": "82.0",
          "nan_count": 0,
          "unique_count": 38
         }
        },
        {
         "dtype": "float64",
         "name": "serum cholestoral",
         "stats": {
          "histogram": [
           {
            "bin_end": 120.6,
            "bin_start": 67,
            "count": 4
           },
           {
            "bin_end": 174.2,
            "bin_start": 120.6,
            "count": 18
           },
           {
            "bin_end": 227.8,
            "bin_start": 174.2,
            "count": 88
           },
           {
            "bin_end": 281.4,
            "bin_start": 227.8,
            "count": 110
           },
           {
            "bin_end": 335,
            "bin_start": 281.4,
            "count": 49
           },
           {
            "bin_end": 388.6,
            "bin_start": 335,
            "count": 14
           },
           {
            "bin_end": 442.2,
            "bin_start": 388.6,
            "count": 5
           },
           {
            "bin_end": 495.8,
            "bin_start": 442.2,
            "count": 3
           },
           {
            "bin_end": 549.4000000000001,
            "bin_start": 495.8,
            "count": 2
           },
           {
            "bin_end": 603,
            "bin_start": 549.4000000000001,
            "count": 1
           }
          ],
          "max": "603.0",
          "min": "67.0",
          "nan_count": 0,
          "unique_count": 158
         }
        },
        {
         "dtype": "float64",
         "name": "blood sugar",
         "stats": {
          "histogram": [
           {
            "bin_end": 0.1,
            "bin_start": 0,
            "count": 274
           },
           {
            "bin_end": 0.2,
            "bin_start": 0.1,
            "count": 0
           },
           {
            "bin_end": 0.30000000000000004,
            "bin_start": 0.2,
            "count": 0
           },
           {
            "bin_end": 0.4,
            "bin_start": 0.30000000000000004,
            "count": 0
           },
           {
            "bin_end": 0.5,
            "bin_start": 0.4,
            "count": 0
           },
           {
            "bin_end": 0.6000000000000001,
            "bin_start": 0.5,
            "count": 0
           },
           {
            "bin_end": 0.7000000000000001,
            "bin_start": 0.6000000000000001,
            "count": 0
           },
           {
            "bin_end": 0.8,
            "bin_start": 0.7000000000000001,
            "count": 0
           },
           {
            "bin_end": 0.9,
            "bin_start": 0.8,
            "count": 0
           },
           {
            "bin_end": 1,
            "bin_start": 0.9,
            "count": 20
           }
          ],
          "max": "1.0",
          "min": "0.0",
          "nan_count": 0,
          "unique_count": 3
         }
        },
        {
         "dtype": "float64",
         "name": "electrocardiographic",
         "stats": {
          "histogram": [
           {
            "bin_end": 0.2,
            "bin_start": 0,
            "count": 235
           },
           {
            "bin_end": 0.4,
            "bin_start": 0.2,
            "count": 1
           },
           {
            "bin_end": 0.6000000000000001,
            "bin_start": 0.4,
            "count": 0
           },
           {
            "bin_end": 0.8,
            "bin_start": 0.6000000000000001,
            "count": 0
           },
           {
            "bin_end": 1,
            "bin_start": 0.8,
            "count": 0
           },
           {
            "bin_end": 1.2000000000000002,
            "bin_start": 1,
            "count": 52
           },
           {
            "bin_end": 1.4000000000000001,
            "bin_start": 1.2000000000000002,
            "count": 0
           },
           {
            "bin_end": 1.6,
            "bin_start": 1.4000000000000001,
            "count": 0
           },
           {
            "bin_end": 1.8,
            "bin_start": 1.6,
            "count": 0
           },
           {
            "bin_end": 2,
            "bin_start": 1.8,
            "count": 6
           }
          ],
          "max": "2.0",
          "min": "0.0",
          "nan_count": 0,
          "unique_count": 4
         }
        },
        {
         "dtype": "float64",
         "name": "max heart_rate",
         "stats": {
          "histogram": [
           {
            "bin_end": 95.2,
            "bin_start": 82,
            "count": 9
           },
           {
            "bin_end": 108.4,
            "bin_start": 95.2,
            "count": 21
           },
           {
            "bin_end": 121.6,
            "bin_start": 108.4,
            "count": 41
           },
           {
            "bin_end": 134.8,
            "bin_start": 121.6,
            "count": 48
           },
           {
            "bin_end": 148,
            "bin_start": 134.8,
            "count": 64
           },
           {
            "bin_end": 161.2,
            "bin_start": 148,
            "count": 60
           },
           {
            "bin_end": 174.39999999999998,
            "bin_start": 161.2,
            "count": 27
           },
           {
            "bin_end": 187.6,
            "bin_start": 174.39999999999998,
            "count": 19
           },
           {
            "bin_end": 200.8,
            "bin_start": 187.6,
            "count": 3
           },
           {
            "bin_end": 214,
            "bin_start": 200.8,
            "count": 2
           }
          ],
          "max": "214.0",
          "min": "82.0",
          "nan_count": 0,
          "unique_count": 77
         }
        },
        {
         "dtype": "float64",
         "name": "angina exercise",
         "stats": {
          "histogram": [
           {
            "bin_end": 0.1,
            "bin_start": 0,
            "count": 204
           },
           {
            "bin_end": 0.2,
            "bin_start": 0.1,
            "count": 0
           },
           {
            "bin_end": 0.30000000000000004,
            "bin_start": 0.2,
            "count": 0
           },
           {
            "bin_end": 0.4,
            "bin_start": 0.30000000000000004,
            "count": 1
           },
           {
            "bin_end": 0.5,
            "bin_start": 0.4,
            "count": 0
           },
           {
            "bin_end": 0.6000000000000001,
            "bin_start": 0.5,
            "count": 0
           },
           {
            "bin_end": 0.7000000000000001,
            "bin_start": 0.6000000000000001,
            "count": 0
           },
           {
            "bin_end": 0.8,
            "bin_start": 0.7000000000000001,
            "count": 0
           },
           {
            "bin_end": 0.9,
            "bin_start": 0.8,
            "count": 0
           },
           {
            "bin_end": 1,
            "bin_start": 0.9,
            "count": 89
           }
          ],
          "max": "1.0",
          "min": "0.0",
          "nan_count": 0,
          "unique_count": 3
         }
        },
        {
         "dtype": "float64",
         "name": "depression exercise",
         "stats": {
          "histogram": [
           {
            "bin_end": 0.5,
            "bin_start": 0,
            "count": 189
           },
           {
            "bin_end": 1,
            "bin_start": 0.5,
            "count": 3
           },
           {
            "bin_end": 1.5,
            "bin_start": 1,
            "count": 41
           },
           {
            "bin_end": 2,
            "bin_start": 1.5,
            "count": 16
           },
           {
            "bin_end": 2.5,
            "bin_start": 2,
            "count": 31
           },
           {
            "bin_end": 3,
            "bin_start": 2.5,
            "count": 3
           },
           {
            "bin_end": 3.5,
            "bin_start": 3,
            "count": 9
           },
           {
            "bin_end": 4,
            "bin_start": 3.5,
            "count": 0
           },
           {
            "bin_end": 4.5,
            "bin_start": 4,
            "count": 1
           },
           {
            "bin_end": 5,
            "bin_start": 4.5,
            "count": 1
           }
          ],
          "max": "5.0",
          "min": "0.0",
          "nan_count": 0,
          "unique_count": 10
         }
        },
        {
         "dtype": "float64",
         "name": "heart disease",
         "stats": {
          "histogram": [
           {
            "bin_end": 0.1,
            "bin_start": 0,
            "count": 188
           },
           {
            "bin_end": 0.2,
            "bin_start": 0.1,
            "count": 0
           },
           {
            "bin_end": 0.30000000000000004,
            "bin_start": 0.2,
            "count": 0
           },
           {
            "bin_end": 0.4,
            "bin_start": 0.30000000000000004,
            "count": 0
           },
           {
            "bin_end": 0.5,
            "bin_start": 0.4,
            "count": 0
           },
           {
            "bin_end": 0.6000000000000001,
            "bin_start": 0.5,
            "count": 0
           },
           {
            "bin_end": 0.7000000000000001,
            "bin_start": 0.6000000000000001,
            "count": 0
           },
           {
            "bin_end": 0.8,
            "bin_start": 0.7000000000000001,
            "count": 0
           },
           {
            "bin_end": 0.9,
            "bin_start": 0.8,
            "count": 0
           },
           {
            "bin_end": 1,
            "bin_start": 0.9,
            "count": 106
           }
          ],
          "max": "1.0",
          "min": "0.0",
          "nan_count": 0,
          "unique_count": 2
         }
        },
        {
         "dtype": "int64",
         "name": "_deepnote_index_column"
        }
       ],
       "row_count": 294,
       "rows_bottom": [
        {
         "_deepnote_index_column": 249,
         "age": 58,
         "angina exercise": 0,
         "blood pressure": 160,
         "blood sugar": 1,
         "chest pain": 3,
         "depression exercise": 0,
         "electrocardiographic": 1,
         "heart disease": 1,
         "max heart_rate": 92,
         "serum cholestoral": 211,
         "sex": 1
        },
        {
         "_deepnote_index_column": 250,
         "age": 58,
         "angina exercise": 1,
         "blood pressure": 130,
         "blood sugar": 0,
         "chest pain": 4,
         "depression exercise": 2,
         "electrocardiographic": 0,
         "heart disease": 1,
         "max heart_rate": 140,
         "serum cholestoral": 263,
         "sex": 1
        },
        {
         "_deepnote_index_column": 251,
         "age": 41,
         "angina exercise": 0,
         "blood pressure": 130,
         "blood sugar": 0,
         "chest pain": 4,
         "depression exercise": 2,
         "electrocardiographic": 1,
         "heart disease": 1,
         "max heart_rate": 130,
         "serum cholestoral": 172,
         "sex": 1
        },
        {
         "_deepnote_index_column": 252,
         "age": 43,
         "angina exercise": 1,
         "blood pressure": 120,
         "blood sugar": 0,
         "chest pain": 4,
         "depression exercise": 1,
         "electrocardiographic": 0,
         "heart disease": 1,
         "max heart_rate": 120,
         "serum cholestoral": 175,
         "sex": 1
        },
        {
         "_deepnote_index_column": 253,
         "age": 44,
         "angina exercise": 1,
         "blood pressure": 150,
         "blood sugar": 0,
         "chest pain": 2,
         "depression exercise": 3,
         "electrocardiographic": 0,
         "heart disease": 1,
         "max heart_rate": 150,
         "serum cholestoral": 288,
         "sex": 1
        },
        {
         "_deepnote_index_column": 254,
         "age": 44,
         "angina exercise": 1,
         "blood pressure": 130,
         "blood sugar": 0,
         "chest pain": 4,
         "depression exercise": 2,
         "electrocardiographic": 0,
         "heart disease": 1,
         "max heart_rate": 100,
         "serum cholestoral": 290,
         "sex": 1
        },
        {
         "_deepnote_index_column": 255,
         "age": 46,
         "angina exercise": 0,
         "blood pressure": 140,
         "blood sugar": 1,
         "chest pain": 1,
         "depression exercise": 2,
         "electrocardiographic": 0,
         "heart disease": 1,
         "max heart_rate": 175,
         "serum cholestoral": 272,
         "sex": 1
        },
        {
         "_deepnote_index_column": 256,
         "age": 47,
         "angina exercise": 0,
         "blood pressure": 135,
         "blood sugar": 1,
         "chest pain": 3,
         "depression exercise": 0,
         "electrocardiographic": 0,
         "heart disease": 1,
         "max heart_rate": 170,
         "serum cholestoral": 248,
         "sex": 0
        },
        {
         "_deepnote_index_column": 257,
         "age": 48,
         "angina exercise": 1,
         "blood pressure": 138,
         "blood sugar": 0,
         "chest pain": 4,
         "depression exercise": 1.5,
         "electrocardiographic": 0,
         "heart disease": 1,
         "max heart_rate": 108,
         "serum cholestoral": 214,
         "sex": 0
        },
        {
         "_deepnote_index_column": 258,
         "age": 49,
         "angina exercise": 1,
         "blood pressure": 130,
         "blood sugar": 0,
         "chest pain": 4,
         "depression exercise": 1,
         "electrocardiographic": 0,
         "heart disease": 1,
         "max heart_rate": 120,
         "serum cholestoral": 341,
         "sex": 1
        },
        {
         "_deepnote_index_column": 259,
         "age": 49,
         "angina exercise": 1,
         "blood pressure": 140,
         "blood sugar": 0,
         "chest pain": 4,
         "depression exercise": 1,
         "electrocardiographic": 0,
         "heart disease": 1,
         "max heart_rate": 140,
         "serum cholestoral": 234,
         "sex": 1
        },
        {
         "_deepnote_index_column": 260,
         "age": 51,
         "angina exercise": 0,
         "blood pressure": 135,
         "blood sugar": 0,
         "chest pain": 3,
         "depression exercise": 2,
         "electrocardiographic": 0,
         "heart disease": 1,
         "max heart_rate": 150,
         "serum cholestoral": 160,
         "sex": 1
        },
        {
         "_deepnote_index_column": 261,
         "age": 52,
         "angina exercise": 1,
         "blood pressure": 112,
         "blood sugar": 0,
         "chest pain": 4,
         "depression exercise": 1,
         "electrocardiographic": 1,
         "heart disease": 1,
         "max heart_rate": 96,
         "serum cholestoral": 342,
         "sex": 1
        },
        {
         "_deepnote_index_column": 262,
         "age": 52,
         "angina exercise": 1,
         "blood pressure": 130,
         "blood sugar": 0,
         "chest pain": 4,
         "depression exercise": 1,
         "electrocardiographic": 0,
         "heart disease": 1,
         "max heart_rate": 110,
         "serum cholestoral": 298,
         "sex": 1
        },
        {
         "_deepnote_index_column": 263,
         "age": 52,
         "angina exercise": 1,
         "blood pressure": 140,
         "blood sugar": 0,
         "chest pain": 4,
         "depression exercise": 2,
         "electrocardiographic": 0,
         "heart disease": 1,
         "max heart_rate": 124,
         "serum cholestoral": 404,
         "sex": 1
        },
        {
         "_deepnote_index_column": 264,
         "age": 52,
         "angina exercise": 1,
         "blood pressure": 160,
         "blood sugar": 0,
         "chest pain": 4,
         "depression exercise": 4,
         "electrocardiographic": 1,
         "heart disease": 1,
         "max heart_rate": 82,
         "serum cholestoral": 246,
         "sex": 1
        },
        {
         "_deepnote_index_column": 265,
         "age": 53,
         "angina exercise": 0,
         "blood pressure": 145,
         "blood sugar": 0,
         "chest pain": 3,
         "depression exercise": 0,
         "electrocardiographic": 0,
         "heart disease": 1,
         "max heart_rate": 130,
         "serum cholestoral": 518,
         "sex": 1
        },
        {
         "_deepnote_index_column": 266,
         "age": 53,
         "angina exercise": 1,
         "blood pressure": 180,
         "blood sugar": 0,
         "chest pain": 4,
         "depression exercise": 1.5,
         "electrocardiographic": 1,
         "heart disease": 1,
         "max heart_rate": 120,
         "serum cholestoral": 285,
         "sex": 1
        },
        {
         "_deepnote_index_column": 267,
         "age": 54,
         "angina exercise": 0,
         "blood pressure": 140,
         "blood sugar": 0,
         "chest pain": 4,
         "depression exercise": 1.5,
         "electrocardiographic": 0,
         "heart disease": 1,
         "max heart_rate": 105,
         "serum cholestoral": 216,
         "sex": 1
        },
        {
         "_deepnote_index_column": 268,
         "age": 55,
         "angina exercise": 0,
         "blood pressure": 140,
         "blood sugar": 0,
         "chest pain": 1,
         "depression exercise": 0,
         "electrocardiographic": 0.2184300341296928,
         "heart disease": 1,
         "max heart_rate": 136,
         "serum cholestoral": 295,
         "sex": 1
        },
        {
         "_deepnote_index_column": 269,
         "age": 55,
         "angina exercise": 1,
         "blood pressure": 160,
         "blood sugar": 1,
         "chest pain": 2,
         "depression exercise": 2,
         "electrocardiographic": 0,
         "heart disease": 1,
         "max heart_rate": 143,
         "serum cholestoral": 292,
         "sex": 1
        },
        {
         "_deepnote_index_column": 270,
         "age": 55,
         "angina exercise": 1,
         "blood pressure": 145,
         "blood sugar": 0,
         "chest pain": 4,
         "depression exercise": 2,
         "electrocardiographic": 0,
         "heart disease": 1,
         "max heart_rate": 96,
         "serum cholestoral": 248,
         "sex": 1
        },
        {
         "_deepnote_index_column": 271,
         "age": 56,
         "angina exercise": 0,
         "blood pressure": 120,
         "blood sugar": 0,
         "chest pain": 2,
         "depression exercise": 1,
         "electrocardiographic": 0,
         "heart disease": 1,
         "max heart_rate": 150,
         "serum cholestoral": 279,
         "sex": 0
        },
        {
         "_deepnote_index_column": 272,
         "age": 56,
         "angina exercise": 1,
         "blood pressure": 150,
         "blood sugar": 0,
         "chest pain": 4,
         "depression exercise": 1.5,
         "electrocardiographic": 1,
         "heart disease": 1,
         "max heart_rate": 124,
         "serum cholestoral": 230,
         "sex": 1
        },
        {
         "_deepnote_index_column": 273,
         "age": 56,
         "angina exercise": 1,
         "blood pressure": 170,
         "blood sugar": 0,
         "chest pain": 4,
         "depression exercise": 2,
         "electrocardiographic": 1,
         "heart disease": 1,
         "max heart_rate": 122,
         "serum cholestoral": 388,
         "sex": 1
        },
        {
         "_deepnote_index_column": 274,
         "age": 58,
         "angina exercise": 1,
         "blood pressure": 136,
         "blood sugar": 0,
         "chest pain": 2,
         "depression exercise": 2,
         "electrocardiographic": 1,
         "heart disease": 1,
         "max heart_rate": 99,
         "serum cholestoral": 164,
         "sex": 1
        },
        {
         "_deepnote_index_column": 275,
         "age": 59,
         "angina exercise": 0,
         "blood pressure": 130,
         "blood sugar": 0,
         "chest pain": 4,
         "depression exercise": 0,
         "electrocardiographic": 0,
         "heart disease": 1,
         "max heart_rate": 125,
         "serum cholestoral": 250.84870848708488,
         "sex": 1
        },
        {
         "_deepnote_index_column": 276,
         "age": 59,
         "angina exercise": 1,
         "blood pressure": 140,
         "blood sugar": 1,
         "chest pain": 4,
         "depression exercise": 0,
         "electrocardiographic": 2,
         "heart disease": 1,
         "max heart_rate": 119,
         "serum cholestoral": 264,
         "sex": 1
        },
        {
         "_deepnote_index_column": 277,
         "age": 65,
         "angina exercise": 1,
         "blood pressure": 170,
         "blood sugar": 1,
         "chest pain": 4,
         "depression exercise": 2,
         "electrocardiographic": 0,
         "heart disease": 1,
         "max heart_rate": 112,
         "serum cholestoral": 263,
         "sex": 1
        },
        {
         "_deepnote_index_column": 278,
         "age": 66,
         "angina exercise": 1,
         "blood pressure": 140,
         "blood sugar": 0,
         "chest pain": 4,
         "depression exercise": 1,
         "electrocardiographic": 0,
         "heart disease": 1,
         "max heart_rate": 94,
         "serum cholestoral": 250.84870848708488,
         "sex": 1
        },
        {
         "_deepnote_index_column": 279,
         "age": 41,
         "angina exercise": 1,
         "blood pressure": 120,
         "blood sugar": 0,
         "chest pain": 4,
         "depression exercise": 3,
         "electrocardiographic": 0,
         "heart disease": 1,
         "max heart_rate": 118,
         "serum cholestoral": 336,
         "sex": 1
        },
        {
         "_deepnote_index_column": 280,
         "age": 43,
         "angina exercise": 1,
         "blood pressure": 140,
         "blood sugar": 0,
         "chest pain": 4,
         "depression exercise": 2,
         "electrocardiographic": 0,
         "heart disease": 1,
         "max heart_rate": 135,
         "serum cholestoral": 288,
         "sex": 1
        },
        {
         "_deepnote_index_column": 281,
         "age": 44,
         "angina exercise": 0,
         "blood pressure": 135,
         "blood sugar": 0,
         "chest pain": 4,
         "depression exercise": 0,
         "electrocardiographic": 0,
         "heart disease": 1,
         "max heart_rate": 135,
         "serum cholestoral": 491,
         "sex": 1
        },
        {
         "_deepnote_index_column": 282,
         "age": 47,
         "angina exercise": 1,
         "blood pressure": 120,
         "blood sugar": 0,
         "chest pain": 4,
         "depression exercise": 2,
         "electrocardiographic": 0,
         "heart disease": 1,
         "max heart_rate": 98,
         "serum cholestoral": 205,
         "sex": 0
        },
        {
         "_deepnote_index_column": 283,
         "age": 47,
         "angina exercise": 1,
         "blood pressure": 160,
         "blood sugar": 0,
         "chest pain": 4,
         "depression exercise": 3,
         "electrocardiographic": 1,
         "heart disease": 1,
         "max heart_rate": 158,
         "serum cholestoral": 291,
         "sex": 1
        },
        {
         "_deepnote_index_column": 284,
         "age": 49,
         "angina exercise": 1,
         "blood pressure": 128,
         "blood sugar": 0,
         "chest pain": 4,
         "depression exercise": 0,
         "electrocardiographic": 0,
         "heart disease": 1,
         "max heart_rate": 96,
         "serum cholestoral": 212,
         "sex": 1
        },
        {
         "_deepnote_index_column": 285,
         "age": 49,
         "angina exercise": 0,
         "blood pressure": 150,
         "blood sugar": 0,
         "chest pain": 4,
         "depression exercise": 2,
         "electrocardiographic": 0,
         "heart disease": 1,
         "max heart_rate": 122,
         "serum cholestoral": 222,
         "sex": 1
        },
        {
         "_deepnote_index_column": 286,
         "age": 50,
         "angina exercise": 1,
         "blood pressure": 140,
         "blood sugar": 0,
         "chest pain": 4,
         "depression exercise": 5,
         "electrocardiographic": 1,
         "heart disease": 1,
         "max heart_rate": 140,
         "serum cholestoral": 231,
         "sex": 1
        },
        {
         "_deepnote_index_column": 287,
         "age": 50,
         "angina exercise": 1,
         "blood pressure": 140,
         "blood sugar": 0,
         "chest pain": 4,
         "depression exercise": 2.5,
         "electrocardiographic": 1,
         "heart disease": 1,
         "max heart_rate": 125,
         "serum cholestoral": 341,
         "sex": 1
        },
        {
         "_deepnote_index_column": 288,
         "age": 52,
         "angina exercise": 1,
         "blood pressure": 140,
         "blood sugar": 0,
         "chest pain": 4,
         "depression exercise": 2,
         "electrocardiographic": 0,
         "heart disease": 1,
         "max heart_rate": 134,
         "serum cholestoral": 266,
         "sex": 1
        },
        {
         "_deepnote_index_column": 289,
         "age": 52,
         "angina exercise": 1,
         "blood pressure": 160,
         "blood sugar": 0,
         "chest pain": 4,
         "depression exercise": 2.5,
         "electrocardiographic": 0,
         "heart disease": 1,
         "max heart_rate": 94,
         "serum cholestoral": 331,
         "sex": 1
        },
        {
         "_deepnote_index_column": 290,
         "age": 54,
         "angina exercise": 1,
         "blood pressure": 130,
         "blood sugar": 0,
         "chest pain": 3,
         "depression exercise": 0,
         "electrocardiographic": 1,
         "heart disease": 1,
         "max heart_rate": 100,
         "serum cholestoral": 294,
         "sex": 0
        },
        {
         "_deepnote_index_column": 291,
         "age": 56,
         "angina exercise": 1,
         "blood pressure": 155,
         "blood sugar": 1,
         "chest pain": 4,
         "depression exercise": 3,
         "electrocardiographic": 0,
         "heart disease": 1,
         "max heart_rate": 150,
         "serum cholestoral": 342,
         "sex": 1
        },
        {
         "_deepnote_index_column": 292,
         "age": 58,
         "angina exercise": 1,
         "blood pressure": 180,
         "blood sugar": 0,
         "chest pain": 2,
         "depression exercise": 1,
         "electrocardiographic": 0,
         "heart disease": 1,
         "max heart_rate": 110,
         "serum cholestoral": 393,
         "sex": 0
        },
        {
         "_deepnote_index_column": 293,
         "age": 65,
         "angina exercise": 1,
         "blood pressure": 130,
         "blood sugar": 0,
         "chest pain": 4,
         "depression exercise": 1,
         "electrocardiographic": 1,
         "heart disease": 1,
         "max heart_rate": 115,
         "serum cholestoral": 275,
         "sex": 1
        }
       ],
       "rows_top": [
        {
         "_deepnote_index_column": 0,
         "age": 20,
         "angina exercise": 0,
         "blood pressure": 112,
         "blood sugar": 0,
         "chest pain": 2,
         "depression exercise": 0,
         "electrocardiographic": 2,
         "heart disease": 0,
         "max heart_rate": 209,
         "serum cholestoral": 67,
         "sex": 1
        },
        {
         "_deepnote_index_column": 1,
         "age": 21,
         "angina exercise": 0,
         "blood pressure": 102,
         "blood sugar": 0,
         "chest pain": 2,
         "depression exercise": 0,
         "electrocardiographic": 0,
         "heart disease": 0,
         "max heart_rate": 184,
         "serum cholestoral": 308,
         "sex": 1
        },
        {
         "_deepnote_index_column": 2,
         "age": 21,
         "angina exercise": 0,
         "blood pressure": 158,
         "blood sugar": 0,
         "chest pain": 2,
         "depression exercise": 0,
         "electrocardiographic": 0,
         "heart disease": 0,
         "max heart_rate": 146,
         "serum cholestoral": 315.8487084870849,
         "sex": 1
        },
        {
         "_deepnote_index_column": 3,
         "age": 22,
         "angina exercise": 0,
         "blood pressure": 152,
         "blood sugar": 0,
         "chest pain": 1,
         "depression exercise": 0,
         "electrocardiographic": 1,
         "heart disease": 0,
         "max heart_rate": 146,
         "serum cholestoral": 302,
         "sex": 0
        },
        {
         "_deepnote_index_column": 4,
         "age": 39,
         "angina exercise": 0,
         "blood pressure": 82,
         "blood sugar": 0,
         "chest pain": 2,
         "depression exercise": 0,
         "electrocardiographic": 1,
         "heart disease": 0,
         "max heart_rate": 126,
         "serum cholestoral": 284,
         "sex": 0
        },
        {
         "_deepnote_index_column": 5,
         "age": 24,
         "angina exercise": 0,
         "blood pressure": 87,
         "blood sugar": 0,
         "chest pain": 2,
         "depression exercise": 0,
         "electrocardiographic": 0,
         "heart disease": 0,
         "max heart_rate": 189,
         "serum cholestoral": 133,
         "sex": 0
        },
        {
         "_deepnote_index_column": 6,
         "age": 24,
         "angina exercise": 0,
         "blood pressure": 92,
         "blood sugar": 0,
         "chest pain": 2,
         "depression exercise": 0,
         "electrocardiographic": 0,
         "heart disease": 0,
         "max heart_rate": 160,
         "serum cholestoral": 290,
         "sex": 1
        },
        {
         "_deepnote_index_column": 7,
         "age": 40,
         "angina exercise": 0,
         "blood pressure": 107,
         "blood sugar": 0,
         "chest pain": 2,
         "depression exercise": 0,
         "electrocardiographic": 0,
         "heart disease": 0,
         "max heart_rate": 179,
         "serum cholestoral": 319,
         "sex": 1
        },
        {
         "_deepnote_index_column": 8,
         "age": 25,
         "angina exercise": 0,
         "blood pressure": 102,
         "blood sugar": 0,
         "chest pain": 3,
         "depression exercise": 0,
         "electrocardiographic": 0,
         "heart disease": 0,
         "max heart_rate": 161,
         "serum cholestoral": 233,
         "sex": 1
        },
        {
         "_deepnote_index_column": 9,
         "age": 42,
         "angina exercise": 0,
         "blood pressure": 112,
         "blood sugar": 0,
         "chest pain": 2,
         "depression exercise": 0,
         "electrocardiographic": 0,
         "heart disease": 0,
         "max heart_rate": 214,
         "serum cholestoral": 226,
         "sex": 0
        },
        {
         "_deepnote_index_column": 10,
         "age": 42,
         "angina exercise": 0,
         "blood pressure": 168,
         "blood sugar": 0,
         "chest pain": 2,
         "depression exercise": 0,
         "electrocardiographic": 1,
         "heart disease": 0,
         "max heart_rate": 192,
         "serum cholestoral": 149,
         "sex": 1
        },
        {
         "_deepnote_index_column": 11,
         "age": 34,
         "angina exercise": 0,
         "blood pressure": 98,
         "blood sugar": 0,
         "chest pain": 2,
         "depression exercise": 0,
         "electrocardiographic": 0,
         "heart disease": 0,
         "max heart_rate": 150,
         "serum cholestoral": 220,
         "sex": 1
        },
        {
         "_deepnote_index_column": 12,
         "age": 35,
         "angina exercise": 0,
         "blood pressure": 120,
         "blood sugar": 0,
         "chest pain": 1,
         "depression exercise": 0,
         "electrocardiographic": 1,
         "heart disease": 0,
         "max heart_rate": 185,
         "serum cholestoral": 160,
         "sex": 0
        },
        {
         "_deepnote_index_column": 13,
         "age": 35,
         "angina exercise": 0,
         "blood pressure": 140,
         "blood sugar": 0,
         "chest pain": 4,
         "depression exercise": 0,
         "electrocardiographic": 0,
         "heart disease": 0,
         "max heart_rate": 150,
         "serum cholestoral": 167,
         "sex": 0
        },
        {
         "_deepnote_index_column": 14,
         "age": 35,
         "angina exercise": 0,
         "blood pressure": 120,
         "blood sugar": 0,
         "chest pain": 2,
         "depression exercise": 0,
         "electrocardiographic": 2,
         "heart disease": 0,
         "max heart_rate": 180,
         "serum cholestoral": 308,
         "sex": 1
        },
        {
         "_deepnote_index_column": 15,
         "age": 35,
         "angina exercise": 0,
         "blood pressure": 150,
         "blood sugar": 0,
         "chest pain": 2,
         "depression exercise": 0,
         "electrocardiographic": 0,
         "heart disease": 0,
         "max heart_rate": 168,
         "serum cholestoral": 264,
         "sex": 1
        },
        {
         "_deepnote_index_column": 16,
         "age": 36,
         "angina exercise": 0,
         "blood pressure": 120,
         "blood sugar": 0,
         "chest pain": 2,
         "depression exercise": 0,
         "electrocardiographic": 0,
         "heart disease": 0,
         "max heart_rate": 180,
         "serum cholestoral": 166,
         "sex": 1
        },
        {
         "_deepnote_index_column": 17,
         "age": 36,
         "angina exercise": 0,
         "blood pressure": 112,
         "blood sugar": 0,
         "chest pain": 3,
         "depression exercise": 1,
         "electrocardiographic": 0,
         "heart disease": 0,
         "max heart_rate": 184,
         "serum cholestoral": 340,
         "sex": 1
        },
        {
         "_deepnote_index_column": 18,
         "age": 36,
         "angina exercise": 0,
         "blood pressure": 130,
         "blood sugar": 0,
         "chest pain": 3,
         "depression exercise": 0,
         "electrocardiographic": 0,
         "heart disease": 0,
         "max heart_rate": 178,
         "serum cholestoral": 209,
         "sex": 1
        },
        {
         "_deepnote_index_column": 19,
         "age": 36,
         "angina exercise": 0,
         "blood pressure": 150,
         "blood sugar": 0,
         "chest pain": 3,
         "depression exercise": 0,
         "electrocardiographic": 0,
         "heart disease": 0,
         "max heart_rate": 172,
         "serum cholestoral": 160,
         "sex": 1
        },
        {
         "_deepnote_index_column": 20,
         "age": 37,
         "angina exercise": 0,
         "blood pressure": 120,
         "blood sugar": 0,
         "chest pain": 2,
         "depression exercise": 0,
         "electrocardiographic": 0,
         "heart disease": 0,
         "max heart_rate": 130,
         "serum cholestoral": 260,
         "sex": 0
        },
        {
         "_deepnote_index_column": 21,
         "age": 37,
         "angina exercise": 0,
         "blood pressure": 130,
         "blood sugar": 0,
         "chest pain": 3,
         "depression exercise": 0,
         "electrocardiographic": 0,
         "heart disease": 0,
         "max heart_rate": 142,
         "serum cholestoral": 211,
         "sex": 0
        },
        {
         "_deepnote_index_column": 22,
         "age": 37,
         "angina exercise": 0,
         "blood pressure": 130,
         "blood sugar": 0,
         "chest pain": 4,
         "depression exercise": 0,
         "electrocardiographic": 1,
         "heart disease": 0,
         "max heart_rate": 184,
         "serum cholestoral": 173,
         "sex": 0
        },
        {
         "_deepnote_index_column": 23,
         "age": 37,
         "angina exercise": 0,
         "blood pressure": 130,
         "blood sugar": 0,
         "chest pain": 2,
         "depression exercise": 0,
         "electrocardiographic": 1,
         "heart disease": 0,
         "max heart_rate": 98,
         "serum cholestoral": 283,
         "sex": 1
        },
        {
         "_deepnote_index_column": 24,
         "age": 37,
         "angina exercise": 0,
         "blood pressure": 130,
         "blood sugar": 0,
         "chest pain": 3,
         "depression exercise": 0,
         "electrocardiographic": 0,
         "heart disease": 0,
         "max heart_rate": 150,
         "serum cholestoral": 194,
         "sex": 1
        },
        {
         "_deepnote_index_column": 25,
         "age": 37,
         "angina exercise": 0,
         "blood pressure": 120,
         "blood sugar": 0,
         "chest pain": 4,
         "depression exercise": 0,
         "electrocardiographic": 0,
         "heart disease": 0,
         "max heart_rate": 168,
         "serum cholestoral": 223,
         "sex": 1
        },
        {
         "_deepnote_index_column": 26,
         "age": 37,
         "angina exercise": 0,
         "blood pressure": 130,
         "blood sugar": 0,
         "chest pain": 4,
         "depression exercise": 0,
         "electrocardiographic": 0,
         "heart disease": 0,
         "max heart_rate": 158,
         "serum cholestoral": 315,
         "sex": 1
        },
        {
         "_deepnote_index_column": 27,
         "age": 38,
         "angina exercise": 0,
         "blood pressure": 120,
         "blood sugar": 0.0699300699300699,
         "chest pain": 2,
         "depression exercise": 0,
         "electrocardiographic": 0,
         "heart disease": 0,
         "max heart_rate": 129,
         "serum cholestoral": 275,
         "sex": 0
        },
        {
         "_deepnote_index_column": 28,
         "age": 38,
         "angina exercise": 0,
         "blood pressure": 140,
         "blood sugar": 0,
         "chest pain": 2,
         "depression exercise": 0,
         "electrocardiographic": 0,
         "heart disease": 0,
         "max heart_rate": 150,
         "serum cholestoral": 297,
         "sex": 1
        },
        {
         "_deepnote_index_column": 29,
         "age": 38,
         "angina exercise": 0,
         "blood pressure": 145,
         "blood sugar": 0,
         "chest pain": 3,
         "depression exercise": 0,
         "electrocardiographic": 0,
         "heart disease": 0,
         "max heart_rate": 130,
         "serum cholestoral": 292,
         "sex": 1
        },
        {
         "_deepnote_index_column": 30,
         "age": 39,
         "angina exercise": 0,
         "blood pressure": 110,
         "blood sugar": 0,
         "chest pain": 3,
         "depression exercise": 0,
         "electrocardiographic": 1,
         "heart disease": 0,
         "max heart_rate": 180,
         "serum cholestoral": 182,
         "sex": 0
        },
        {
         "_deepnote_index_column": 31,
         "age": 39,
         "angina exercise": 0,
         "blood pressure": 120,
         "blood sugar": 0,
         "chest pain": 2,
         "depression exercise": 2,
         "electrocardiographic": 1,
         "heart disease": 0,
         "max heart_rate": 146,
         "serum cholestoral": 250.84870848708488,
         "sex": 1
        },
        {
         "_deepnote_index_column": 32,
         "age": 39,
         "angina exercise": 1,
         "blood pressure": 120,
         "blood sugar": 0,
         "chest pain": 2,
         "depression exercise": 1,
         "electrocardiographic": 0,
         "heart disease": 0,
         "max heart_rate": 160,
         "serum cholestoral": 200,
         "sex": 1
        },
        {
         "_deepnote_index_column": 33,
         "age": 39,
         "angina exercise": 0,
         "blood pressure": 120,
         "blood sugar": 0,
         "chest pain": 2,
         "depression exercise": 0,
         "electrocardiographic": 0,
         "heart disease": 0,
         "max heart_rate": 145,
         "serum cholestoral": 204,
         "sex": 1
        },
        {
         "_deepnote_index_column": 34,
         "age": 39,
         "angina exercise": 0,
         "blood pressure": 130,
         "blood sugar": 0,
         "chest pain": 2,
         "depression exercise": 0,
         "electrocardiographic": 0,
         "heart disease": 0,
         "max heart_rate": 120,
         "serum cholestoral": 250.84870848708488,
         "sex": 1
        },
        {
         "_deepnote_index_column": 35,
         "age": 39,
         "angina exercise": 0,
         "blood pressure": 190,
         "blood sugar": 0,
         "chest pain": 2,
         "depression exercise": 0,
         "electrocardiographic": 0,
         "heart disease": 0,
         "max heart_rate": 106,
         "serum cholestoral": 241,
         "sex": 1
        },
        {
         "_deepnote_index_column": 36,
         "age": 39,
         "angina exercise": 0,
         "blood pressure": 120,
         "blood sugar": 0,
         "chest pain": 3,
         "depression exercise": 0,
         "electrocardiographic": 0,
         "heart disease": 0,
         "max heart_rate": 170,
         "serum cholestoral": 339,
         "sex": 1
        },
        {
         "_deepnote_index_column": 37,
         "age": 39,
         "angina exercise": 0,
         "blood pressure": 160,
         "blood sugar": 1,
         "chest pain": 3,
         "depression exercise": 0,
         "electrocardiographic": 0,
         "heart disease": 0,
         "max heart_rate": 160,
         "serum cholestoral": 147,
         "sex": 1
        },
        {
         "_deepnote_index_column": 38,
         "age": 39,
         "angina exercise": 0,
         "blood pressure": 110,
         "blood sugar": 0,
         "chest pain": 4,
         "depression exercise": 0,
         "electrocardiographic": 0,
         "heart disease": 0,
         "max heart_rate": 132,
         "serum cholestoral": 273,
         "sex": 1
        },
        {
         "_deepnote_index_column": 39,
         "age": 39,
         "angina exercise": 0,
         "blood pressure": 130,
         "blood sugar": 0,
         "chest pain": 4,
         "depression exercise": 0,
         "electrocardiographic": 0,
         "heart disease": 0,
         "max heart_rate": 140,
         "serum cholestoral": 307,
         "sex": 1
        },
        {
         "_deepnote_index_column": 40,
         "age": 40,
         "angina exercise": 0,
         "blood pressure": 130,
         "blood sugar": 0,
         "chest pain": 2,
         "depression exercise": 0,
         "electrocardiographic": 0,
         "heart disease": 0,
         "max heart_rate": 150,
         "serum cholestoral": 275,
         "sex": 1
        },
        {
         "_deepnote_index_column": 41,
         "age": 40,
         "angina exercise": 0,
         "blood pressure": 140,
         "blood sugar": 0,
         "chest pain": 2,
         "depression exercise": 0,
         "electrocardiographic": 0,
         "heart disease": 0,
         "max heart_rate": 172,
         "serum cholestoral": 289,
         "sex": 1
        },
        {
         "_deepnote_index_column": 42,
         "age": 40,
         "angina exercise": 0,
         "blood pressure": 130,
         "blood sugar": 0,
         "chest pain": 3,
         "depression exercise": 0,
         "electrocardiographic": 0,
         "heart disease": 0,
         "max heart_rate": 138,
         "serum cholestoral": 215,
         "sex": 1
        },
        {
         "_deepnote_index_column": 43,
         "age": 40,
         "angina exercise": 0,
         "blood pressure": 130,
         "blood sugar": 0,
         "chest pain": 3,
         "depression exercise": 0,
         "electrocardiographic": 0,
         "heart disease": 0,
         "max heart_rate": 167,
         "serum cholestoral": 281,
         "sex": 1
        },
        {
         "_deepnote_index_column": 44,
         "age": 40,
         "angina exercise": 0,
         "blood pressure": 140,
         "blood sugar": 0,
         "chest pain": 3,
         "depression exercise": 0,
         "electrocardiographic": 0,
         "heart disease": 0,
         "max heart_rate": 188,
         "serum cholestoral": 250.84870848708488,
         "sex": 1
        }
       ]
      },
      "text/html": [
       "<div>\n",
       "<style scoped>\n",
       "    .dataframe tbody tr th:only-of-type {\n",
       "        vertical-align: middle;\n",
       "    }\n",
       "\n",
       "    .dataframe tbody tr th {\n",
       "        vertical-align: top;\n",
       "    }\n",
       "\n",
       "    .dataframe thead th {\n",
       "        text-align: right;\n",
       "    }\n",
       "</style>\n",
       "<table border=\"1\" class=\"dataframe\">\n",
       "  <thead>\n",
       "    <tr style=\"text-align: right;\">\n",
       "      <th></th>\n",
       "      <th>age</th>\n",
       "      <th>sex</th>\n",
       "      <th>chest pain</th>\n",
       "      <th>blood pressure</th>\n",
       "      <th>serum cholestoral</th>\n",
       "      <th>blood sugar</th>\n",
       "      <th>electrocardiographic</th>\n",
       "      <th>max heart_rate</th>\n",
       "      <th>angina exercise</th>\n",
       "      <th>depression exercise</th>\n",
       "      <th>heart disease</th>\n",
       "    </tr>\n",
       "  </thead>\n",
       "  <tbody>\n",
       "    <tr>\n",
       "      <th>0</th>\n",
       "      <td>20.0</td>\n",
       "      <td>1.0</td>\n",
       "      <td>2.0</td>\n",
       "      <td>112.0</td>\n",
       "      <td>67.000000</td>\n",
       "      <td>0.0</td>\n",
       "      <td>2.0</td>\n",
       "      <td>209.0</td>\n",
       "      <td>0.0</td>\n",
       "      <td>0.0</td>\n",
       "      <td>0.0</td>\n",
       "    </tr>\n",
       "    <tr>\n",
       "      <th>1</th>\n",
       "      <td>21.0</td>\n",
       "      <td>1.0</td>\n",
       "      <td>2.0</td>\n",
       "      <td>102.0</td>\n",
       "      <td>308.000000</td>\n",
       "      <td>0.0</td>\n",
       "      <td>0.0</td>\n",
       "      <td>184.0</td>\n",
       "      <td>0.0</td>\n",
       "      <td>0.0</td>\n",
       "      <td>0.0</td>\n",
       "    </tr>\n",
       "    <tr>\n",
       "      <th>2</th>\n",
       "      <td>21.0</td>\n",
       "      <td>1.0</td>\n",
       "      <td>2.0</td>\n",
       "      <td>158.0</td>\n",
       "      <td>315.848708</td>\n",
       "      <td>0.0</td>\n",
       "      <td>0.0</td>\n",
       "      <td>146.0</td>\n",
       "      <td>0.0</td>\n",
       "      <td>0.0</td>\n",
       "      <td>0.0</td>\n",
       "    </tr>\n",
       "    <tr>\n",
       "      <th>3</th>\n",
       "      <td>22.0</td>\n",
       "      <td>0.0</td>\n",
       "      <td>1.0</td>\n",
       "      <td>152.0</td>\n",
       "      <td>302.000000</td>\n",
       "      <td>0.0</td>\n",
       "      <td>1.0</td>\n",
       "      <td>146.0</td>\n",
       "      <td>0.0</td>\n",
       "      <td>0.0</td>\n",
       "      <td>0.0</td>\n",
       "    </tr>\n",
       "    <tr>\n",
       "      <th>4</th>\n",
       "      <td>39.0</td>\n",
       "      <td>0.0</td>\n",
       "      <td>2.0</td>\n",
       "      <td>82.0</td>\n",
       "      <td>284.000000</td>\n",
       "      <td>0.0</td>\n",
       "      <td>1.0</td>\n",
       "      <td>126.0</td>\n",
       "      <td>0.0</td>\n",
       "      <td>0.0</td>\n",
       "      <td>0.0</td>\n",
       "    </tr>\n",
       "    <tr>\n",
       "      <th>...</th>\n",
       "      <td>...</td>\n",
       "      <td>...</td>\n",
       "      <td>...</td>\n",
       "      <td>...</td>\n",
       "      <td>...</td>\n",
       "      <td>...</td>\n",
       "      <td>...</td>\n",
       "      <td>...</td>\n",
       "      <td>...</td>\n",
       "      <td>...</td>\n",
       "      <td>...</td>\n",
       "    </tr>\n",
       "    <tr>\n",
       "      <th>289</th>\n",
       "      <td>52.0</td>\n",
       "      <td>1.0</td>\n",
       "      <td>4.0</td>\n",
       "      <td>160.0</td>\n",
       "      <td>331.000000</td>\n",
       "      <td>0.0</td>\n",
       "      <td>0.0</td>\n",
       "      <td>94.0</td>\n",
       "      <td>1.0</td>\n",
       "      <td>2.5</td>\n",
       "      <td>1.0</td>\n",
       "    </tr>\n",
       "    <tr>\n",
       "      <th>290</th>\n",
       "      <td>54.0</td>\n",
       "      <td>0.0</td>\n",
       "      <td>3.0</td>\n",
       "      <td>130.0</td>\n",
       "      <td>294.000000</td>\n",
       "      <td>0.0</td>\n",
       "      <td>1.0</td>\n",
       "      <td>100.0</td>\n",
       "      <td>1.0</td>\n",
       "      <td>0.0</td>\n",
       "      <td>1.0</td>\n",
       "    </tr>\n",
       "    <tr>\n",
       "      <th>291</th>\n",
       "      <td>56.0</td>\n",
       "      <td>1.0</td>\n",
       "      <td>4.0</td>\n",
       "      <td>155.0</td>\n",
       "      <td>342.000000</td>\n",
       "      <td>1.0</td>\n",
       "      <td>0.0</td>\n",
       "      <td>150.0</td>\n",
       "      <td>1.0</td>\n",
       "      <td>3.0</td>\n",
       "      <td>1.0</td>\n",
       "    </tr>\n",
       "    <tr>\n",
       "      <th>292</th>\n",
       "      <td>58.0</td>\n",
       "      <td>0.0</td>\n",
       "      <td>2.0</td>\n",
       "      <td>180.0</td>\n",
       "      <td>393.000000</td>\n",
       "      <td>0.0</td>\n",
       "      <td>0.0</td>\n",
       "      <td>110.0</td>\n",
       "      <td>1.0</td>\n",
       "      <td>1.0</td>\n",
       "      <td>1.0</td>\n",
       "    </tr>\n",
       "    <tr>\n",
       "      <th>293</th>\n",
       "      <td>65.0</td>\n",
       "      <td>1.0</td>\n",
       "      <td>4.0</td>\n",
       "      <td>130.0</td>\n",
       "      <td>275.000000</td>\n",
       "      <td>0.0</td>\n",
       "      <td>1.0</td>\n",
       "      <td>115.0</td>\n",
       "      <td>1.0</td>\n",
       "      <td>1.0</td>\n",
       "      <td>1.0</td>\n",
       "    </tr>\n",
       "  </tbody>\n",
       "</table>\n",
       "<p>294 rows × 11 columns</p>\n",
       "</div>"
      ],
      "text/plain": [
       "      age  sex  chest pain  blood pressure  serum cholestoral  blood sugar  \\\n",
       "0    20.0  1.0         2.0           112.0          67.000000          0.0   \n",
       "1    21.0  1.0         2.0           102.0         308.000000          0.0   \n",
       "2    21.0  1.0         2.0           158.0         315.848708          0.0   \n",
       "3    22.0  0.0         1.0           152.0         302.000000          0.0   \n",
       "4    39.0  0.0         2.0            82.0         284.000000          0.0   \n",
       "..    ...  ...         ...             ...                ...          ...   \n",
       "289  52.0  1.0         4.0           160.0         331.000000          0.0   \n",
       "290  54.0  0.0         3.0           130.0         294.000000          0.0   \n",
       "291  56.0  1.0         4.0           155.0         342.000000          1.0   \n",
       "292  58.0  0.0         2.0           180.0         393.000000          0.0   \n",
       "293  65.0  1.0         4.0           130.0         275.000000          0.0   \n",
       "\n",
       "     electrocardiographic  max heart_rate  angina exercise  \\\n",
       "0                     2.0           209.0              0.0   \n",
       "1                     0.0           184.0              0.0   \n",
       "2                     0.0           146.0              0.0   \n",
       "3                     1.0           146.0              0.0   \n",
       "4                     1.0           126.0              0.0   \n",
       "..                    ...             ...              ...   \n",
       "289                   0.0            94.0              1.0   \n",
       "290                   1.0           100.0              1.0   \n",
       "291                   0.0           150.0              1.0   \n",
       "292                   0.0           110.0              1.0   \n",
       "293                   1.0           115.0              1.0   \n",
       "\n",
       "     depression exercise  heart disease  \n",
       "0                    0.0            0.0  \n",
       "1                    0.0            0.0  \n",
       "2                    0.0            0.0  \n",
       "3                    0.0            0.0  \n",
       "4                    0.0            0.0  \n",
       "..                   ...            ...  \n",
       "289                  2.5            1.0  \n",
       "290                  0.0            1.0  \n",
       "291                  3.0            1.0  \n",
       "292                  1.0            1.0  \n",
       "293                  1.0            1.0  \n",
       "\n",
       "[294 rows x 11 columns]"
      ]
     },
     "execution_count": 17,
     "metadata": {},
     "output_type": "execute_result"
    }
   ],
   "source": [
    "hip_gen"
   ]
  },
  {
   "cell_type": "code",
   "execution_count": null,
   "metadata": {
    "cell_id": "00020-950acf3a-fa3d-46ea-9aae-bb2b0805fc33",
    "deepnote_cell_type": "code",
    "deepnote_to_be_reexecuted": false,
    "execution_millis": 4,
    "execution_start": 1626447766791,
    "source_hash": "b623e53d",
    "tags": []
   },
   "outputs": [],
   "source": []
  },
  {
   "cell_type": "code",
   "execution_count": null,
   "metadata": {
    "cell_id": "00020-d6309cde-781c-4a35-bf40-2c881bd8bdf4",
    "deepnote_cell_type": "code",
    "deepnote_to_be_reexecuted": false,
    "execution_millis": 18,
    "execution_start": 1626447767472,
    "source_hash": "51ffb5e0",
    "tags": []
   },
   "outputs": [
    {
     "data": {
      "text/plain": [
       "array([[28.,  1.,  2., ...,  0.,  0.,  0.],\n",
       "       [29.,  1.,  2., ...,  0.,  0.,  0.],\n",
       "       [29.,  1.,  2., ...,  0.,  0.,  0.],\n",
       "       ...,\n",
       "       [56.,  1.,  4., ...,  1.,  3.,  1.],\n",
       "       [58.,  0.,  2., ...,  1.,  1.,  1.],\n",
       "       [65.,  1.,  4., ...,  1.,  1.,  1.]])"
      ]
     },
     "execution_count": 18,
     "metadata": {},
     "output_type": "execute_result"
    }
   ],
   "source": [
    "hip_df.values"
   ]
  },
  {
   "cell_type": "code",
   "execution_count": null,
   "metadata": {
    "cell_id": "00022-8a5e24b5-a4d8-4ba3-9612-7c614f8e4d7c",
    "deepnote_cell_type": "code",
    "deepnote_to_be_reexecuted": false,
    "execution_millis": 12,
    "execution_start": 1626448588167,
    "source_hash": "7cc5f3da",
    "tags": []
   },
   "outputs": [],
   "source": [
    "X = hip_df.iloc[:,:-1]\n",
    "y = hip_df.iloc[:,-1]"
   ]
  },
  {
   "cell_type": "code",
   "execution_count": null,
   "metadata": {
    "cell_id": "00023-79dc7097-fa74-4927-a97d-db2267ed60d0",
    "deepnote_cell_type": "code",
    "deepnote_to_be_reexecuted": false,
    "execution_millis": 8,
    "execution_start": 1626448588872,
    "source_hash": "18ad8a27",
    "tags": []
   },
   "outputs": [],
   "source": [
    "X_train, X_test, y_train, y_test = train_test_split(X, y,\n",
    "                                    test_size=0.2,\n",
    "                                    random_state=0 )"
   ]
  },
  {
   "cell_type": "code",
   "execution_count": null,
   "metadata": {
    "cell_id": "00026-b9b7aaa0-a0ec-4f0c-a04b-9ffbad42b69d",
    "deepnote_cell_type": "code",
    "deepnote_to_be_reexecuted": false,
    "execution_millis": 30,
    "execution_start": 1626448585347,
    "source_hash": "5c713350",
    "tags": []
   },
   "outputs": [],
   "source": [
    "extra_sample = hip_gen.sample(hip_df.shape[0]//3)"
   ]
  },
  {
   "cell_type": "code",
   "execution_count": null,
   "metadata": {
    "cell_id": "00022-05ce77b1-8b3d-4337-aeb9-4f4dd9113ed6",
    "deepnote_cell_type": "code",
    "deepnote_to_be_reexecuted": false,
    "execution_millis": 10,
    "execution_start": 1626448591219,
    "source_hash": "538b159b",
    "tags": []
   },
   "outputs": [],
   "source": [
    "x_train = pd.concat([X_train, extra_sample.drop(['heart disease'], axis=1 ) ])\n",
    "y_train = pd.concat([y_train, extra_sample['heart disease'] ])"
   ]
  },
  {
   "cell_type": "code",
   "execution_count": null,
   "metadata": {
    "cell_id": "00024-97e25847-579a-4409-8b07-a7141e410168",
    "deepnote_cell_type": "code",
    "deepnote_to_be_reexecuted": false,
    "execution_millis": 4,
    "execution_start": 1626448594638,
    "source_hash": "4bd5b138",
    "tags": []
   },
   "outputs": [],
   "source": [
    "rfc = RandomForestClassifier()"
   ]
  },
  {
   "cell_type": "code",
   "execution_count": 1,
   "metadata": {
    "cell_id": "00030-aaaf164b-f149-4895-b9e3-31e80aa3f7b4",
    "deepnote_cell_type": "code",
    "deepnote_to_be_reexecuted": false,
    "execution_millis": 38,
    "execution_start": 1626448934897,
    "source_hash": "fa09274b",
    "tags": []
   },
   "outputs": [],
   "source": [
    "# rfc.fit(x_train, y_train)\n",
    "# rfc.predict(X_test)\n",
    "# (rfc.predict(X_test) == y_test).sum()"
   ]
  },
  {
   "cell_type": "code",
   "execution_count": null,
   "metadata": {
    "cell_id": "00031-c0a703e5-2262-4c61-88f4-3afc478b96a4",
    "deepnote_cell_type": "code",
    "tags": []
   },
   "outputs": [],
   "source": []
  },
  {
   "cell_type": "markdown",
   "metadata": {
    "created_in_deepnote_cell": true,
    "deepnote_cell_type": "markdown",
    "tags": []
   },
   "source": [
    "<a style='text-decoration:none;line-height:16px;display:flex;color:#5B5B62;padding:10px;justify-content:end;' href='https://deepnote.com?utm_source=created-in-deepnote-cell&projectId=dad8d7d6-76f3-451f-977e-9da9ec3b791d' target=\"_blank\">\n",
    "<img alt='Created in deepnote.com' style='display:inline;max-height:16px;margin:0px;margin-right:7.5px;' src='data:image/svg+xml;base64,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' > </img>\n",
    "Created in <span style='font-weight:600;margin-left:4px;'>Deepnote</span></a>"
   ]
  }
 ],
 "metadata": {
  "deepnote": {
   "is_reactive": false
  },
  "deepnote_execution_queue": [],
  "deepnote_notebook_id": "f0915d19-2caf-4b8e-b2c7-f5a3209340ac",
  "interpreter": {
   "hash": "f5610a57ce5a66969d95506b8c0c9e3b70160de2f7592df689878f178730b779"
  },
  "kernelspec": {
   "display_name": "Python 3.8.11 64-bit ('strive': conda)",
   "language": "python",
   "name": "python3"
  },
  "language_info": {
   "codemirror_mode": {
    "name": "ipython",
    "version": 3
   },
   "file_extension": ".py",
   "mimetype": "text/x-python",
   "name": "python",
   "nbconvert_exporter": "python",
   "pygments_lexer": "ipython3",
   "version": "3.8.11"
  },
  "orig_nbformat": 2
 },
 "nbformat": 4,
 "nbformat_minor": 2
}

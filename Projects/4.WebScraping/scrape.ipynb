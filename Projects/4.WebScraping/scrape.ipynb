{
 "cells": [
  {
   "cell_type": "code",
   "execution_count": 1,
   "metadata": {},
   "outputs": [],
   "source": [
    "import requests \n",
    "from bs4 import BeautifulSoup"
   ]
  },
  {
   "cell_type": "code",
   "execution_count": 2,
   "metadata": {},
   "outputs": [],
   "source": [
    "import pandas as pd\n",
    "import numpy as np"
   ]
  },
  {
   "cell_type": "code",
   "execution_count": 3,
   "metadata": {},
   "outputs": [],
   "source": [
    "table = pd.DataFrame()"
   ]
  },
  {
   "cell_type": "code",
   "execution_count": 35,
   "metadata": {},
   "outputs": [],
   "source": [
    "# Let's scrape data \n",
    "URL = 'https://www.espn.com/boxing/story/_/id/12370125/boxing-champions-list'\n",
    "\n",
    "page = requests.get(URL)\n",
    "soup = BeautifulSoup(page.content,'html.parser')"
   ]
  },
  {
   "cell_type": "code",
   "execution_count": 36,
   "metadata": {},
   "outputs": [],
   "source": [
    "# soup.prettify"
   ]
  },
  {
   "cell_type": "code",
   "execution_count": 42,
   "metadata": {},
   "outputs": [],
   "source": [
    "table = soup.find_all('p')"
   ]
  },
  {
   "cell_type": "code",
   "execution_count": 48,
   "metadata": {},
   "outputs": [],
   "source": [
    "import regex as re"
   ]
  },
  {
   "cell_type": "code",
   "execution_count": 47,
   "metadata": {},
   "outputs": [
    {
     "data": {
      "text/plain": [
       "[<p>With 17 weight classes in boxing and four major sanctioning bodies that bestow world titles, keeping track of who holds each of the belts can be difficult -- especially when there are sometimes multiple titlists in each organization because of interim and secondary belts.</p>,\n",
       " <p>To make it easier for boxing fans, below is a quick reference chart of who holds each of the titles in the four organizations</p>,\n",
       " <p>To check the top 10 fighters in each division, visit <a href=\"/boxing/story/_/id/21675272/divisional-rankings-tyson-fury-shakes-heavyweight-division-again\">ESPN's divisional rankings</a>.</p>,\n",
       " <p>For a list of the best fighters regardless of weight class, check <a href=\"/boxing/story/_/id/30335986/pound-pound-terence-crawford-king-gervonta-davis-makes-move\">ESPN's pound-for-pound rankings</a>.</p>,\n",
       " <p><b>WBO:</b> Oleksandr Usyk</p>,\n",
       " <p><b>IBF:</b> Oleksandr Usyk</p>,\n",
       " <p><b>WBA:</b> Oleksandr Usyk*</p>,\n",
       " <p><b>WBC:</b> Tyson Fury**</p>,\n",
       " <p><i>*Trevor Bryan is the WBA \"regular\" heavyweight champion</i></p>,\n",
       " <p><i>**Dillian Whyte is the WBC interim heavyweight champion</i></p>,\n",
       " <p><b>WBO:</b> Lawrence Okolie</p>,\n",
       " <p><b>IBF:</b> Mairis Briedis</p>,\n",
       " <p><b>WBA:</b> Arsen Goulamirian*</p>,\n",
       " <p><b>WBC:</b> Ilunga Makabu</p>,\n",
       " <p><i>*Ryad Merhy is the WBA \"regular\" cruiserweight champion</i></p>,\n",
       " <p><b>WBO:</b> Joe Smith Jr.</p>,\n",
       " <p><b>IBF:</b> Artur Beterbiev</p>,\n",
       " <p><b>WBA:</b> Dmitry Bivol*</p>,\n",
       " <p><b>WBC:</b> Artur Beterbiev</p>,\n",
       " <p><i>*Jean Pascal is the WBA \"regular\" light heavyweight champion and Robin Krasniqi is the WBA interim light heavyweight champion</i></p>,\n",
       " <p><b>WBO:</b> Canelo Alvarez</p>,\n",
       " <p><b>IBF:</b> Caleb Plant</p>,\n",
       " <p><b>WBA:</b> Canelo Alvarez*</p>,\n",
       " <p><b>WBC:</b> Canelo Alvarez</p>,\n",
       " <p><i>*David Morrell is the WBA \"regular\" super middleweight champion</i></p>,\n",
       " <p><b>WBO:</b> Demetrius Andrade</p>,\n",
       " <p><b>IBF:</b> Gennadiy Golovkin</p>,\n",
       " <p><b>WBA:</b> Ryota Murata*</p>,\n",
       " <p><b>WBC:</b> Jermall Charlo**</p>,\n",
       " <p><i>*Erislandy Lara is the WBA \"regular\" middleweight champion, and Chris Eubank Jr. is the WBA interim middleweight champion</i></p>,\n",
       " <p><i>**Canelo Alvarez is the WBC \"franchise champion\"</i></p>,\n",
       " <p><b>WBO:</b> Brian Castano</p>,\n",
       " <p><b>IBF:</b> Jermell Charlo</p>,\n",
       " <p><b>WBA:</b> Jermell Charlo*</p>,\n",
       " <p><b>WBC:</b> Jermell Charlo</p>,\n",
       " <p><i>*Erislandy Lara is the WBA \"regular\" junior middleweight champion</i></p>,\n",
       " <p><b>WBO:</b> Terence Crawford</p>,\n",
       " <p><b>IBF:</b> Errol Spence Jr.</p>,\n",
       " <p><b>WBA:</b> Yordenis Ugas*</p>,\n",
       " <p><b>WBC:</b> Errol Spence Jr.</p>,\n",
       " <p><i>*Jamal James is the WBA \"regular\" champion and Gabriel Maestre is the WBA \"interim\" champion</i></p>,\n",
       " <p><b>WBO:</b> Josh Taylor</p>,\n",
       " <p><b>IBF:</b> Josh Taylor</p>,\n",
       " <p><b>WBA:</b> Josh Taylor*</p>,\n",
       " <p><b>WBC:</b> Josh Taylor</p>,\n",
       " <p><i>*Gervonta Davis is the WBA \"regular\" junior welterweight champion and Alberto Puello is the WBA interim junior welterweight champion</i></p>,\n",
       " <p><b>WBO:</b> Teofimo Lopez Jr.</p>,\n",
       " <p><b>IBF:</b> Teofimo Lopez Jr.</p>,\n",
       " <p><b>WBA:</b> Teofimo Lopez Jr.*</p>,\n",
       " <p><b>WBC:</b> Devin Haney**</p>,\n",
       " <p><i>*Gervonta Davis is the WBA \"regular\" lightweight champion and Rolando Romero is the WBA interim lightweight champion</i></p>,\n",
       " <p><i>**Teofimo Lopez Jr. is the WBC \"franchise\" champion and Joseph Diaz Jr. is the WBC interim champion</i></p>,\n",
       " <p><b>WBO:</b> Jamel Herring*</p>,\n",
       " <p><b>IBF:</b> Vacant</p>,\n",
       " <p><b>WBA:</b> Vacant**</p>,\n",
       " <p><b>WBC:</b> Oscar Valdez</p>,\n",
       " <p><i>*Shakur Stevenson is the WBO interim junior lightweight champion</i></p>,\n",
       " <p><i>**Roger Gutierrez is the WBA \"regular\" junior lightweight champion and Chris Colbert is the WBA interim junior lightweight champion</i></p>,\n",
       " <p><b>WBO:</b> Emanuel Navarrete</p>,\n",
       " <p><b>IBF:</b> Kid Galahad</p>,\n",
       " <p><b>WBA:</b> Leo Santa Cruz*</p>,\n",
       " <p><b>WBC:</b> Gary Russell Jr.</p>,\n",
       " <p><i>*Leigh Wood is the WBA \"regular\" featherweight champion, and Michael Conlan is the WBA interim featherweight champion</i></p>,\n",
       " <p><b>WBO:</b> Stephen Fulton</p>,\n",
       " <p><b>IBF:</b> Murodjon Akhmadaliev</p>,\n",
       " <p><b>WBA:</b> Murodjon Akhmadaliev*</p>,\n",
       " <p><b>WBC:</b> Brandon Figueroa</p>,\n",
       " <p><i>*Brandon Figueroa is the WBA \"regular\" junior featherweight champion and Raeese Aleem is the WBA interim junior featherweight champion</i></p>,\n",
       " <p><b>WBO:</b> John Riel Casimero</p>,\n",
       " <p><b>IBF:</b> Naoya Inoue</p>,\n",
       " <p><b>WBA:</b> Naoya Inoue*</p>,\n",
       " <p><b>WBC:</b> Nonito Donaire</p>,\n",
       " <p><i>*Guillermo Rigondeaux is the WBA \"regular\" bantamweight champion</i></p>,\n",
       " <p><b>WBO:</b> Kazuto Ioka</p>,\n",
       " <p><b>IBF:</b> Jerwin Ancajas</p>,\n",
       " <p><b>WBA:</b> Roman \"Chocolatito\" Gonzalez*</p>,\n",
       " <p><b>WBC:</b> Juan Francisco Estrada</p>,\n",
       " <p><i>*Joshua Franco is the WBA \"regular\" junior bantamweight champion</i></p>,\n",
       " <p><b>WBO:</b> Junto Nakatani</p>,\n",
       " <p><b>IBF:</b> Sunny Edwards</p>,\n",
       " <p><b>WBA:</b> Artem Dalakian*</p>,\n",
       " <p><b>WBC:</b> Julio Cesar Martinez**</p>,\n",
       " <p><i>*Luis Concepcion is the WBA interim flyweight champion and McWilliams Arroyo is the WBC interim flyweight champion</i></p>,\n",
       " <p><b>WBO:</b> Jonathan Gonzalez</p>,\n",
       " <p><b>IBF:</b> Felix Alvarado</p>,\n",
       " <p><b>WBA:</b> Hiroto Kyoguchi*</p>,\n",
       " <p><b>WBC:</b> Kenshiro Teraji</p>,\n",
       " <p><i>*Esteban Bermudez is the WBA \"regular\" junior flyweight champion and Daniel Matellon is the WBA interim junior flyweight champion</i></p>,\n",
       " <p><b>WBO:</b> Wilfredo Mendez</p>,\n",
       " <p><b>IBF:</b> Rene Mark Cuarto</p>,\n",
       " <p><b>WBA:</b> Knockout CP Freshmart*</p>,\n",
       " <p><b>WBC:</b> Panya Pradabsri</p>,\n",
       " <p><i>*Victorio Saludar is the WBA \"regular\" strawweight champion</i></p>]"
      ]
     },
     "execution_count": 47,
     "metadata": {},
     "output_type": "execute_result"
    }
   ],
   "source": [
    "table"
   ]
  },
  {
   "cell_type": "code",
   "execution_count": 68,
   "metadata": {},
   "outputs": [
    {
     "ename": "SyntaxError",
     "evalue": "cannot assign to function call (Temp/ipykernel_2124/3242653090.py, line 1)",
     "output_type": "error",
     "traceback": [
      "\u001b[1;36m  File \u001b[1;32m\"C:\\Users\\Lenovo\\AppData\\Local\\Temp/ipykernel_2124/3242653090.py\"\u001b[1;36m, line \u001b[1;32m1\u001b[0m\n\u001b[1;33m    lst = [i for i.split('p') in table]\u001b[0m\n\u001b[1;37m                 ^\u001b[0m\n\u001b[1;31mSyntaxError\u001b[0m\u001b[1;31m:\u001b[0m cannot assign to function call\n"
     ]
    }
   ],
   "source": [
    "lst = [i for i in table]"
   ]
  },
  {
   "cell_type": "code",
   "execution_count": 67,
   "metadata": {},
   "outputs": [
    {
     "data": {
      "text/plain": [
       "[]"
      ]
     },
     "execution_count": 67,
     "metadata": {},
     "output_type": "execute_result"
    }
   ],
   "source": [
    "lst"
   ]
  },
  {
   "cell_type": "code",
   "execution_count": 75,
   "metadata": {},
   "outputs": [
    {
     "name": "stdout",
     "output_type": "stream",
     "text": [
      "<class 'bs4.element.Tag'>\n"
     ]
    }
   ],
   "source": [
    "print(type(table[0]))"
   ]
  },
  {
   "cell_type": "code",
   "execution_count": 91,
   "metadata": {},
   "outputs": [
    {
     "name": "stdout",
     "output_type": "stream",
     "text": [
      "WBO: Oleksandr Usyk\n",
      "---------\n",
      "WBO: Lawrence Okolie\n",
      "---------\n",
      "WBO: Joe Smith Jr.\n",
      "---------\n",
      "WBO: Canelo Alvarez\n",
      "---------\n",
      "WBO: Demetrius Andrade\n",
      "---------\n",
      "WBO: Brian Castano\n",
      "---------\n",
      "WBO: Terence Crawford\n",
      "---------\n",
      "WBO: Josh Taylor\n",
      "---------\n",
      "WBO: Teofimo Lopez Jr.\n",
      "---------\n",
      "WBO: Jamel Herring*\n",
      "---------\n",
      "*Shakur Stevenson is the WBO interim junior lightweight champion\n",
      "---------\n",
      "WBO: Emanuel Navarrete\n",
      "---------\n",
      "WBO: Stephen Fulton\n",
      "---------\n",
      "WBO: John Riel Casimero\n",
      "---------\n",
      "WBO: Kazuto Ioka\n",
      "---------\n",
      "WBO: Junto Nakatani\n",
      "---------\n",
      "WBO: Jonathan Gonzalez\n",
      "---------\n",
      "WBO: Wilfredo Mendez\n",
      "---------\n",
      "18\n"
     ]
    }
   ],
   "source": [
    "count = 0\n",
    "WBO = []\n",
    "for i in table:\n",
    "    if 'WBO' in i.text:\n",
    "        count+=1\n",
    "        print(i.text)\n",
    "        # print(type(i.text))\n",
    "        print('---------')\n",
    "        # WBO.append(i.text.split(':')[1])\n",
    "print(count)    \n",
    "    # print(i)"
   ]
  },
  {
   "cell_type": "code",
   "execution_count": 90,
   "metadata": {},
   "outputs": [
    {
     "data": {
      "text/plain": [
       "[' Oleksandr Usyk',\n",
       " ' Lawrence Okolie',\n",
       " ' Joe Smith Jr.',\n",
       " ' Canelo Alvarez',\n",
       " ' Demetrius Andrade',\n",
       " ' Brian Castano',\n",
       " ' Terence Crawford',\n",
       " ' Josh Taylor',\n",
       " ' Teofimo Lopez Jr.',\n",
       " ' Jamel Herring*']"
      ]
     },
     "execution_count": 90,
     "metadata": {},
     "output_type": "execute_result"
    }
   ],
   "source": [
    "WBO"
   ]
  },
  {
   "cell_type": "code",
   "execution_count": null,
   "metadata": {},
   "outputs": [],
   "source": []
  }
 ],
 "metadata": {
  "interpreter": {
   "hash": "f5610a57ce5a66969d95506b8c0c9e3b70160de2f7592df689878f178730b779"
  },
  "kernelspec": {
   "display_name": "Python 3.8.11 64-bit ('strive': conda)",
   "name": "python3"
  },
  "language_info": {
   "codemirror_mode": {
    "name": "ipython",
    "version": 3
   },
   "file_extension": ".py",
   "mimetype": "text/x-python",
   "name": "python",
   "nbconvert_exporter": "python",
   "pygments_lexer": "ipython3",
   "version": "3.8.11"
  },
  "orig_nbformat": 4
 },
 "nbformat": 4,
 "nbformat_minor": 2
}

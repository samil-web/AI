{
 "cells": [
  {
   "cell_type": "code",
   "execution_count": 1,
   "id": "1ff68fe5",
   "metadata": {},
   "outputs": [],
   "source": [
    "import pandas as pd\n",
    "import numpy as np\n",
    "import requests\n",
    "from bs4 import BeautifulSoup\n",
    "URL = \"https://forecast.weather.gov/MapClick.php?lat=37.777120000000025&lon=-122.41963999999996#.YLeNFagzbIV\"\n",
    "page = requests.get(URL)\n",
    "\n",
    "soup = BeautifulSoup(page.content,'html.parser')\n",
    "# print(soup.prettify)\n",
    "# page.status_code\n",
    "# page.content"
   ]
  },
  {
   "cell_type": "code",
   "execution_count": 2,
   "id": "4161d89a",
   "metadata": {},
   "outputs": [],
   "source": [
    "# Extract the 10 days weather from san Francisco in weather.gov.\n",
    "# inspect with the console\n",
    "# write code to target the right elements of the text\n",
    "# For each day, you need to store:\n",
    "# The day of the week (Tuesday)\n",
    "# The date (01/06/2021)\n",
    "# A short description of the conditions (Clear early then increasing cloudiness after midnight. Low 41F. Winds light and variable)\n",
    "# The temperature low and high, with a function of your own to convert into Celsius\n",
    "# For each element you scrape, The name of the item you targetted (ex: DailyContent--daypartDate--3MM0J)\n",
    "# Save all of this into a Pandas dataframe\n",
    "\n",
    "period = soup.find_all('p',class_ = 'period-name')\n",
    "# period"
   ]
  },
  {
   "cell_type": "code",
   "execution_count": null,
   "id": "d91c358c",
   "metadata": {},
   "outputs": [],
   "source": [
    "# table = soup.findAll(\"div\", attrs = {\"class\":\"table-responsive\"})\n",
    "\n",
    "#     new-responsive = table.findAll(class_ = 'table-responsive')"
   ]
  },
  {
   "cell_type": "code",
   "execution_count": null,
   "id": "5e342fc4",
   "metadata": {},
   "outputs": [],
   "source": []
  },
  {
   "cell_type": "code",
   "execution_count": 4,
   "id": "d77ea1bc",
   "metadata": {},
   "outputs": [],
   "source": [
    "# URL1 = \"https://forecast.weather.gov/MapClick.php?lat=37.777120000000025\"\n",
    "\n",
    "df = pd.read_html(URL)\n",
    "# print(df)\n",
    "# print(len(df))"
   ]
  },
  {
   "cell_type": "code",
   "execution_count": 5,
   "id": "e29bb45f",
   "metadata": {},
   "outputs": [],
   "source": [
    "# 10 days weather\n",
    "URL1 = \"https://forecast.weather.gov/MapClick.php?lat=37.777120000000025&lon=-122.41963999999996#.YLeH-agzbIX\"\n",
    "page = requests.get(URL1)\n",
    "\n",
    "soup1 = BeautifulSoup(page.content,'html.parser')\n",
    "# soup1"
   ]
  },
  {
   "cell_type": "code",
   "execution_count": 6,
   "id": "940340f8",
   "metadata": {},
   "outputs": [],
   "source": [
    "period = soup.find_all('p',class_ = 'period-name')\n",
    "# period"
   ]
  },
  {
   "cell_type": "code",
   "execution_count": 7,
   "id": "dc20318e",
   "metadata": {},
   "outputs": [],
   "source": [
    "import re\n",
    "days = []\n",
    "for day in period:\n",
    "    days.append(day.text)\n",
    "# print(days)"
   ]
  },
  {
   "cell_type": "code",
   "execution_count": 8,
   "id": "8ffe0e1e",
   "metadata": {},
   "outputs": [],
   "source": [
    "infos = soup.findAll(class_ = \"col-sm-10 forecast-text\")\n",
    "details = []\n",
    "for info in infos:\n",
    "    details.append(info.text)\n",
    "# print(details)"
   ]
  },
  {
   "cell_type": "code",
   "execution_count": 9,
   "id": "44f6c482",
   "metadata": {},
   "outputs": [],
   "source": [
    "# Extract the 10 days weather from san Francisco in weather.gov.\n",
    "# inspect with the console\n",
    "# write code to target the right elements of the text\n",
    "# For each day, you need to store:\n",
    "# The day of the week (Tuesday)\n",
    "# The date (01/06/2021)\n",
    "# A short description of the conditions (Clear early then increasing cloudiness after midnight. Low 41F. Winds light and variable)\n",
    "# The temperature low and high, with a function of your own to convert into Celsius\n",
    "# For each element you scrape, The name of the item you targetted (ex: DailyContent--daypartDate--3MM0J)\n",
    "# Save all of this into a Pandas dataframe\n",
    "temperature = []\n",
    "description = []\n",
    "for detail in details:\n",
    "    temperature.append(re.findall('[0-9]+',detail.split('.')[0]))\n",
    "    description.append(detail.split(\"''\"))\n",
    "# print(temperature)\n",
    "# print(description)"
   ]
  },
  {
   "cell_type": "code",
   "execution_count": 11,
   "id": "3e4f9dda",
   "metadata": {},
   "outputs": [
    {
     "name": "stdout",
     "output_type": "stream",
     "text": [
      "Mostly cloudy, then gradually becoming sunny, with a high near 63. Breezy, with a west southwest wind 11 to 16 mph increasing to 19 to 24 mph in the afternoon. Winds could gust as high as 31 mph. \n",
      "Mostly cloudy, with a low around 53. Breezy, with a west southwest wind 18 to 23 mph decreasing to 10 to 15 mph after midnight. Winds could gust as high as 30 mph. \n",
      "Mostly cloudy, then gradually becoming sunny, with a high near 68. Breezy, with a southwest wind 10 to 15 mph increasing to 17 to 22 mph in the afternoon. Winds could gust as high as 29 mph. \n",
      "Partly cloudy, with a low around 53. Breezy, with a west wind 18 to 23 mph decreasing to 11 to 16 mph after midnight. Winds could gust as high as 30 mph. \n",
      "Mostly sunny, with a high near 67. Breezy, with a west southwest wind 9 to 14 mph increasing to 18 to 23 mph in the afternoon. Winds could gust as high as 30 mph. \n",
      "Mostly clear, with a low around 53. Breezy. \n",
      "Sunny, with a high near 68.\n",
      "Mostly clear, with a low around 52.\n",
      "Sunny, with a high near 67.\n",
      "Mostly clear, with a low around 52.\n",
      "Sunny, with a high near 65.\n",
      "Mostly clear, with a low around 51. Breezy. \n",
      "Sunny, with a high near 64.\n"
     ]
    }
   ],
   "source": [
    "for detail in details:\n",
    "    print(detail)"
   ]
  },
  {
   "cell_type": "code",
   "execution_count": 12,
   "id": "4710cd4b",
   "metadata": {},
   "outputs": [],
   "source": [
    "dates = soup.findAll(class_ = \"col-sm-2 forecast-label\")\n",
    "days = []\n",
    "for date in dates:\n",
    "    days.append(date.text)\n",
    "# print(days)"
   ]
  },
  {
   "cell_type": "code",
   "execution_count": 14,
   "id": "73c62406",
   "metadata": {},
   "outputs": [],
   "source": [
    "# tomorrow\n",
    "today = np.datetime64('today',\"D\")"
   ]
  },
  {
   "cell_type": "code",
   "execution_count": 15,
   "id": "b40975ed",
   "metadata": {},
   "outputs": [],
   "source": [
    "dates = []\n",
    "for i in range(10):\n",
    "    dates.append(today + np.timedelta64(i,'D'))\n",
    "# print(dates)"
   ]
  },
  {
   "cell_type": "code",
   "execution_count": 16,
   "id": "a9801717",
   "metadata": {},
   "outputs": [],
   "source": [
    "df = pd.DataFrame(zip(dates,period,temperature,description), columns = [\"Dates\", \"Period\", \"Temperature\", \"Description\"])"
   ]
  },
  {
   "cell_type": "code",
   "execution_count": 17,
   "id": "ca8b8db3",
   "metadata": {},
   "outputs": [
    {
     "data": {
      "text/html": [
       "<div>\n",
       "<style scoped>\n",
       "    .dataframe tbody tr th:only-of-type {\n",
       "        vertical-align: middle;\n",
       "    }\n",
       "\n",
       "    .dataframe tbody tr th {\n",
       "        vertical-align: top;\n",
       "    }\n",
       "\n",
       "    .dataframe thead th {\n",
       "        text-align: right;\n",
       "    }\n",
       "</style>\n",
       "<table border=\"1\" class=\"dataframe\">\n",
       "  <thead>\n",
       "    <tr style=\"text-align: right;\">\n",
       "      <th></th>\n",
       "      <th>Dates</th>\n",
       "      <th>Period</th>\n",
       "      <th>Temperature</th>\n",
       "      <th>Description</th>\n",
       "    </tr>\n",
       "  </thead>\n",
       "  <tbody>\n",
       "    <tr>\n",
       "      <th>0</th>\n",
       "      <td>2021-06-02</td>\n",
       "      <td>[Today, [], []]</td>\n",
       "      <td>[63]</td>\n",
       "      <td>[Mostly cloudy, then gradually becoming sunny,...</td>\n",
       "    </tr>\n",
       "    <tr>\n",
       "      <th>1</th>\n",
       "      <td>2021-06-03</td>\n",
       "      <td>[Tonight, [], []]</td>\n",
       "      <td>[53]</td>\n",
       "      <td>[Mostly cloudy, with a low around 53. Breezy, ...</td>\n",
       "    </tr>\n",
       "    <tr>\n",
       "      <th>2</th>\n",
       "      <td>2021-06-04</td>\n",
       "      <td>[Thursday, [], []]</td>\n",
       "      <td>[68]</td>\n",
       "      <td>[Mostly cloudy, then gradually becoming sunny,...</td>\n",
       "    </tr>\n",
       "    <tr>\n",
       "      <th>3</th>\n",
       "      <td>2021-06-05</td>\n",
       "      <td>[Thursday, [], Night]</td>\n",
       "      <td>[53]</td>\n",
       "      <td>[Partly cloudy, with a low around 53. Breezy, ...</td>\n",
       "    </tr>\n",
       "    <tr>\n",
       "      <th>4</th>\n",
       "      <td>2021-06-06</td>\n",
       "      <td>[Friday, [], []]</td>\n",
       "      <td>[67]</td>\n",
       "      <td>[Mostly sunny, with a high near 67. Breezy, wi...</td>\n",
       "    </tr>\n",
       "    <tr>\n",
       "      <th>5</th>\n",
       "      <td>2021-06-07</td>\n",
       "      <td>[Friday, [], Night]</td>\n",
       "      <td>[53]</td>\n",
       "      <td>[Mostly clear, with a low around 53. Breezy. ]</td>\n",
       "    </tr>\n",
       "    <tr>\n",
       "      <th>6</th>\n",
       "      <td>2021-06-08</td>\n",
       "      <td>[Saturday, [], []]</td>\n",
       "      <td>[68]</td>\n",
       "      <td>[Sunny, with a high near 68.]</td>\n",
       "    </tr>\n",
       "    <tr>\n",
       "      <th>7</th>\n",
       "      <td>2021-06-09</td>\n",
       "      <td>[Saturday, [], Night]</td>\n",
       "      <td>[52]</td>\n",
       "      <td>[Mostly clear, with a low around 52.]</td>\n",
       "    </tr>\n",
       "    <tr>\n",
       "      <th>8</th>\n",
       "      <td>2021-06-10</td>\n",
       "      <td>[Sunday, [], []]</td>\n",
       "      <td>[67]</td>\n",
       "      <td>[Sunny, with a high near 67.]</td>\n",
       "    </tr>\n",
       "  </tbody>\n",
       "</table>\n",
       "</div>"
      ],
      "text/plain": [
       "       Dates                 Period Temperature  \\\n",
       "0 2021-06-02        [Today, [], []]        [63]   \n",
       "1 2021-06-03      [Tonight, [], []]        [53]   \n",
       "2 2021-06-04     [Thursday, [], []]        [68]   \n",
       "3 2021-06-05  [Thursday, [], Night]        [53]   \n",
       "4 2021-06-06       [Friday, [], []]        [67]   \n",
       "5 2021-06-07    [Friday, [], Night]        [53]   \n",
       "6 2021-06-08     [Saturday, [], []]        [68]   \n",
       "7 2021-06-09  [Saturday, [], Night]        [52]   \n",
       "8 2021-06-10       [Sunday, [], []]        [67]   \n",
       "\n",
       "                                         Description  \n",
       "0  [Mostly cloudy, then gradually becoming sunny,...  \n",
       "1  [Mostly cloudy, with a low around 53. Breezy, ...  \n",
       "2  [Mostly cloudy, then gradually becoming sunny,...  \n",
       "3  [Partly cloudy, with a low around 53. Breezy, ...  \n",
       "4  [Mostly sunny, with a high near 67. Breezy, wi...  \n",
       "5     [Mostly clear, with a low around 53. Breezy. ]  \n",
       "6                      [Sunny, with a high near 68.]  \n",
       "7              [Mostly clear, with a low around 52.]  \n",
       "8                      [Sunny, with a high near 67.]  "
      ]
     },
     "execution_count": 17,
     "metadata": {},
     "output_type": "execute_result"
    }
   ],
   "source": [
    "df"
   ]
  },
  {
   "cell_type": "code",
   "execution_count": null,
   "id": "6052efea",
   "metadata": {},
   "outputs": [],
   "source": []
  }
 ],
 "metadata": {
  "kernelspec": {
   "display_name": "Python 3",
   "language": "python",
   "name": "python3"
  },
  "language_info": {
   "codemirror_mode": {
    "name": "ipython",
    "version": 3
   },
   "file_extension": ".py",
   "mimetype": "text/x-python",
   "name": "python",
   "nbconvert_exporter": "python",
   "pygments_lexer": "ipython3",
   "version": "3.8.8"
  }
 },
 "nbformat": 4,
 "nbformat_minor": 5
}

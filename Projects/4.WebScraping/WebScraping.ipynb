{
 "cells": [
  {
   "cell_type": "code",
   "execution_count": 1,
   "metadata": {},
   "outputs": [
    {
     "name": "stderr",
     "output_type": "stream",
     "text": [
      "C:\\Users\\Lenovo\\anaconda3.1\\envs\\strive\\lib\\site-packages\\numpy\\_distributor_init.py:30: UserWarning: loaded more than 1 DLL from .libs:\n",
      "C:\\Users\\Lenovo\\anaconda3.1\\envs\\strive\\lib\\site-packages\\numpy\\.libs\\libopenblas.PYQHXLVVQ7VESDPUVUADXEVJOBGHJPAY.gfortran-win_amd64.dll\n",
      "C:\\Users\\Lenovo\\anaconda3.1\\envs\\strive\\lib\\site-packages\\numpy\\.libs\\libopenblas.WCDJNK7YVMPZQ2ME2ZZHJJRJ3JIKNDB7.gfortran-win_amd64.dll\n",
      "  warnings.warn(\"loaded more than 1 DLL from .libs:\\n%s\" %\n"
     ]
    }
   ],
   "source": [
    "import pandas as pd\n",
    "import numpy as np\n",
    "import requests\n",
    "from bs4 import BeautifulSoup\n",
    "URL = \"https://forecast.weather.gov/MapClick.php?lat=37.777120000000025&lon=-122.41963999999996#.YLeNFagzbIV\"\n",
    "page = requests.get(URL)\n",
    "\n",
    "soup = BeautifulSoup(page.content,'html.parser')\n",
    "# print(soup.prettify)\n",
    "# page.status_code\n",
    "# page.content"
   ]
  },
  {
   "cell_type": "code",
   "execution_count": 2,
   "metadata": {},
   "outputs": [
    {
     "data": {
      "text/plain": [
       "'\\n\\n\\n\\n\\nNational Weather Service\\n\\n\\n\\n\\n\\n\\n\\n\\n\\n\\n\\n\\n\\n\\n\\n\\n\\n\\n\\n\\n\\n\\n\\n\\n\\n\\n\\n\\n\\n\\n\\n\\n\\n\\n\\n\\n\\n\\n\\n\\n\\nToggle navigation\\n\\n\\n\\n\\n\\n\\n\\nHOME\\nFORECAST\\xa0LocalGraphicalAviationMarineRivers and LakesHurricanesSevere WeatherFire WeatherSun/MoonLong Range ForecastsClimate PredictionSpace Weather \\nPAST WEATHER\\xa0Past WeatherHeating/Cooling DaysMonthly TemperaturesRecordsAstronomical Data \\nSAFETY\\xa0FloodsTsunamisBeach HazardsWildfireColdTornadoesAir QualityFogHeatHurricanesLightningSafe BoatingRip CurrentsThunderstormsSpace WeatherSun (Ultraviolet Radiation)Safety CampaignsWindDroughtWinter Weather \\nINFORMATION\\xa0Wireless Emergency AlertsBrochuresWeather-Ready NationCooperative ObserversDaily BriefingDamage/Fatality/Injury StatisticsForecast ModelsGIS Data PortalNOAA Weather RadioPublicationsSKYWARN Storm SpottersStormReadyTsunamiReadyService Change Notices \\nEDUCATION\\xa0Be A Force of NatureNWS Education Home \\nNEWS\\xa0NWS NewsEventsSocial MediaPubs/Brochures/Booklets NWS Media Contacts \\nSEARCH\\xa0 \\n\\n\\n\\nSearch For\\n\\n\\n\\n\\nNWS\\n\\nAll NOAA\\n\\n\\n\\n\\n \\nABOUT\\xa0About NWSOrganizationStrategic PlanFor NWS EmployeesInternationalNational CentersCareersContact UsGlossary \\n\\n\\n\\n\\n\\n\\n\\n\\n\\n\\n\\nView Location Examples\\n\\n\\nSorry, the location you searched for was not found. Please try another search.\\nMultiple locations were found. Please select one of the following:\\n\\n\\n\\n\\nYour local forecast office is\\n\\n\\n\\n\\n\\n\\n\\n\\n\\n\\nFirst Widespread Snow of the Season for Northern New England\\n\\n            A storm will bring areas of heavy snow and gusty winds to northern New England and downwind of the Great Lakes. Heavy rainfall from a series of systems will bring flooding, beach hazards, and potential for isolated landslides. Santa Ana winds in southern California and gusty winds in the central Plains will keep fire weather threats critical.\\n            Read More >\\n\\n\\n\\n\\n\\n\\n\\nEn Español\\n\\nShare\\n|\\n\\n\\n\\n\\n\\n\\n\\n\\n\\n\\n\\n\\n\\nCurrent conditions at\\nSAN FRANCISCO DOWNTOWN (SFOC1)\\nLat:\\xa037.77056°NLon:\\xa0122.42694°WElev:\\xa0150ft.\\n\\n\\n\\n\\n\\nNA\\n56°F\\n13°C\\n\\n\\n\\n\\nHumidity\\n69%\\n\\n\\nWind Speed\\nNA NA MPH\\n\\n\\nBarometer\\nNA\\n\\n\\nDewpoint\\n46°F (8°C)\\n\\n\\nVisibility\\nNA\\n\\n\\nLast update\\n\\n                25 Nov 09:43 PM PST            \\n\\n\\n\\n\\n\\n\\nMore Information:Local Forecast OfficeMore Local Wx3 Day HistoryMobile WeatherHourly Weather Forecast \\n\\n\\n\\n\\n\\n\\n\\n\\n\\nExtended Forecast for\\n\\n\\t    \\t    San Francisco CA\\t\\n\\n\\n\\n\\nTonight\\nMostly CloudyLow: 52 °F\\n\\nFriday\\nSunnyHigh: 65 °F\\n\\nFridayNight\\nPartly CloudyLow: 50 °F\\n\\nSaturday\\nSunnyHigh: 66 °F\\n\\nSaturdayNight\\nMostly ClearLow: 51 °F\\n\\nSunday\\nSunnyHigh: 67 °F\\n\\nSundayNight\\nMostly ClearLow: 50 °F\\n\\nMonday\\nSunnyHigh: 67 °F\\n\\nMondayNight\\nMostly ClearLow: 51 °F\\n \\n\\n\\n\\n\\n\\n\\n\\n\\nDetailed Forecast\\n\\n\\nTonightMostly cloudy, with a steady temperature around 52. North wind around 7 mph. FridaySunny, with a high near 65. North wind 6 to 11 mph becoming west in the afternoon. Friday NightPartly cloudy, with a low around 50. West southwest wind around 6 mph becoming calm  after midnight. SaturdaySunny, with a high near 66. Calm wind becoming west northwest 5 to 7 mph in the afternoon. Saturday NightMostly clear, with a low around 51. West wind around 6 mph becoming north northwest after midnight. SundaySunny, with a high near 67.Sunday NightMostly clear, with a low around 50.MondaySunny, with a high near 67.Monday NightMostly clear, with a low around 51.TuesdaySunny, with a high near 66.Tuesday NightMostly clear, with a low around 51.WednesdaySunny, with a high near 67.Wednesday NightMostly clear, with a low around 51.ThursdaySunny, with a high near 66. \\n\\n\\n\\n\\n\\nAdditional Forecasts and Information\\n\\n\\nZone Area Forecast for San Francisco County, CA\\n\\n\\n\\n\\nForecast Discussion\\nPrintable Forecast\\nText Only Forecast\\n\\n\\n\\n\\nHourly Weather Forecast\\nTabular Forecast\\n\\n\\n\\n\\n\\nAir Quality Forecasts\\nInternational System of Units\\nForecast Weather Table Interface\\n\\n\\n\\n\\nHourly River StagesHourly RainfallNWS Office MapWeather CalculatorUser Defined Area\\n \\n\\n \\n \\n\\n\\n\\n\\n\\n\\n\\n\\n\\n\\n\\n\\n\\nSelect Basemap\\nTopographic\\nStreets\\nSatellite\\nOcean\\n\\n\\n\\n\\n                    Click Map For Forecast\\n                \\n\\n\\n\\n\\n\\nMap function requires Javascript and a compatible browser.\\nDisclaimer\\n\\n\\n\\n\\n \\n\\n\\n\\n\\n\\nPoint Forecast:\\nSan Francisco CA\\xa037.77°N 122.41°W (Elev. 131 ft)\\n\\n\\nLast Update: \\n3:02 pm PST Nov 25, 2021\\n\\n\\nForecast Valid: \\n10pm PST Nov 25, 2021-6pm PST Dec 2, 2021\\n\\n\\n\\xa0\\nForecast Discussion\\n\\n\\n\\xa0\\n\\n\\n\\n\\n\\n\\n\\n\\n\\n\\n\\nAdditional Resources\\n\\n\\n\\n\\nRadar & Satellite Image\\n  \\n\\n\\n\\nHourly Weather Forecast\\n\\n\\n\\n\\n\\nNational Digital Forecast Database\\n\\nHigh Temperature\\nChance of Precipitation \\n\\n\\n\\n\\n\\n\\n\\n\\n\\n\\n\\n\\n\\n\\n\\n\\n\\n\\nACTIVE ALERTS\\n\\nToggle menu\\n\\n\\n\\n\\n\\n\\n\\nWarnings By State\\nExcessive Rainfall and Winter Weather Forecasts\\nRiver Flooding \\nLatest Warnings\\nThunderstorm/Tornado Outlook \\nHurricanes \\nFire Weather Outlooks \\nUV Alerts \\nDrought \\nSpace Weather \\nNOAA Weather Radio \\nNWS CAP Feeds \\n\\n\\n\\n\\n\\nPAST WEATHER\\n\\nToggle menu\\n\\n\\n\\n\\n\\n\\n\\nClimate Monitoring \\nPast Weather \\nMonthly Temps \\nRecords \\nAstronomical Data \\nCertified Weather Data \\n\\n\\n\\n\\n\\nCURRENT CONDITIONS\\n\\nToggle menu\\n\\n\\n\\n\\n\\n\\n\\nRadar \\nClimate Monitoring \\nRiver Levels \\nObserved Precipitation \\nSurface Weather \\nUpper Air \\nMarine and Buoy Reports \\nSnow Cover \\nSatellite \\nSpace Weather \\nInternational Observations\\n\\n\\n\\n\\n\\nFORECAST\\n\\nToggle menu\\n\\n\\n\\n\\n\\n\\n\\nLocal Forecast \\nInternational Forecasts\\nSevere Weather \\nCurrent Outlook Maps \\nDrought \\nFire Weather \\nFronts/Precipitation Maps \\nCurrent Graphical Forecast Maps \\nRivers \\nMarine \\nOffshore and High Seas\\nHurricanes \\nAviation Weather \\nClimatic Outlook \\n\\n\\n\\n\\n\\nINFORMATION CENTER\\n\\nToggle menu\\n\\n\\n\\n\\n\\n\\n\\nSpace Weather \\nDaily Briefing \\nMarine \\nClimate \\nFire Weather \\nAviation \\nForecast Models \\nWater \\nGIS\\nCooperative Observers \\nStorm Spotters \\nTsunami Warning System\\nNational Water Center\\nInternational Weather\\n\\n\\n\\n\\n\\nWEATHER SAFETY\\n\\nToggle menu\\n\\n\\n\\n\\n\\n\\n\\nNOAA Weather Radio\\nStormReady\\nHeat \\nLightning \\nHurricanes \\nThunderstorms \\nTornadoes \\nRip Currents \\nFloods \\nTsunamis\\nTsunamiReady\\nWinter Weather \\nUltra Violet Radiation \\nAir Quality \\nDamage/Fatality/Injury Statistics \\nRed Cross \\nFederal Emergency Management Agency (FEMA) \\nBrochures \\nSafe Boating\\n\\n\\n\\n\\n\\nNEWS\\n\\nToggle menu\\n\\n\\n\\n\\n\\n\\n\\nNewsroom\\nSocial Media \\nEvents\\nPubs/Brochures/Booklets \\n\\n\\n\\n\\n\\nEDUCATION\\n\\nToggle menu\\n\\n\\n\\n\\n\\n\\n\\nNWS Education Home\\nBe A Force of Nature\\nNOAA Education Resources \\nGlossary \\nJetStream \\nNWS Training Portal \\nNOAA Library \\nFor Students, Parents and Teachers\\nBrochures \\n\\n\\n\\n\\n\\nABOUT\\n\\nToggle menu\\n\\n\\n\\n\\n\\n\\n\\nOrganization \\nStrategic Plan \\nFor NWS Employees \\nInternational \\nNational Centers \\nProducts and Services \\nCareers\\nGlossary \\nContact Us \\n\\n\\n\\n\\n\\n\\n\\n\\n\\n\\n\\n\\n\\nUS Dept of Commerce\\nNational Oceanic and Atmospheric Administration\\nNational Weather Service\\nSan Francisco Bay Area, CAComments? Questions? Please Contact Us. \\n\\n\\n\\nDisclaimer\\nInformation Quality\\nHelp\\nGlossary\\n\\n\\n\\n\\nPrivacy Policy\\nFreedom of Information Act (FOIA)\\nAbout Us\\nCareer Opportunities\\n\\n\\n\\n\\n\\n\\n\\n'"
      ]
     },
     "execution_count": 2,
     "metadata": {},
     "output_type": "execute_result"
    }
   ],
   "source": [
    "soup.text"
   ]
  },
  {
   "cell_type": "code",
   "execution_count": 3,
   "metadata": {},
   "outputs": [],
   "source": [
    "# Extract the 10 days weather from san Francisco in weather.gov.\n",
    "# inspect with the console\n",
    "# write code to target the right elements of the text\n",
    "# For each day, you need to store:\n",
    "# The day of the week (Tuesday)\n",
    "# The date (01/06/2021)\n",
    "# A short description of the conditions (Clear early then increasing cloudiness after midnight. Low 41F. Winds light and variable)\n",
    "# The temperature low and high, with a function of your own to convert into Celsius\n",
    "# For each element you scrape, The name of the item you targetted (ex: DailyContent--daypartDate--3MM0J)\n",
    "# Save all of this into a Pandas dataframe\n",
    "\n",
    "period = soup.find_all('p',class_ = 'period-name')\n",
    "# period"
   ]
  },
  {
   "cell_type": "code",
   "execution_count": 4,
   "metadata": {},
   "outputs": [
    {
     "data": {
      "text/plain": [
       "[<p class=\"period-name\">Tonight<br/><br/></p>,\n",
       " <p class=\"period-name\">Friday<br/><br/></p>,\n",
       " <p class=\"period-name\">Friday<br/>Night</p>,\n",
       " <p class=\"period-name\">Saturday<br/><br/></p>,\n",
       " <p class=\"period-name\">Saturday<br/>Night</p>,\n",
       " <p class=\"period-name\">Sunday<br/><br/></p>,\n",
       " <p class=\"period-name\">Sunday<br/>Night</p>,\n",
       " <p class=\"period-name\">Monday<br/><br/></p>,\n",
       " <p class=\"period-name\">Monday<br/>Night</p>]"
      ]
     },
     "execution_count": 4,
     "metadata": {},
     "output_type": "execute_result"
    }
   ],
   "source": [
    "period"
   ]
  },
  {
   "cell_type": "code",
   "execution_count": 5,
   "metadata": {},
   "outputs": [],
   "source": [
    "# table = soup.findAll(\"div\", attrs = {\"class\":\"table-responsive\"})\n",
    "\n",
    "#     new-responsive = table.findAll(class_ = 'table-responsive')"
   ]
  },
  {
   "cell_type": "code",
   "execution_count": 6,
   "metadata": {},
   "outputs": [],
   "source": [
    "# 10 days weather\n",
    "URL1 = \"https://forecast.weather.gov/MapClick.php?lat=37.777120000000025&lon=-122.41963999999996#.YLeH-agzbIX\"\n",
    "page = requests.get(URL1)\n",
    "\n",
    "soup1 = BeautifulSoup(page.content,'html.parser')\n",
    "# soup1"
   ]
  },
  {
   "cell_type": "code",
   "execution_count": null,
   "metadata": {},
   "outputs": [],
   "source": []
  },
  {
   "cell_type": "code",
   "execution_count": 7,
   "metadata": {},
   "outputs": [],
   "source": [
    "period = soup.find_all('p',class_ = 'period-name')\n",
    "# period"
   ]
  },
  {
   "cell_type": "code",
   "execution_count": 8,
   "metadata": {},
   "outputs": [],
   "source": [
    "import re\n",
    "days = []\n",
    "for day in period:\n",
    "    days.append(day.text)\n",
    "# print(days)"
   ]
  },
  {
   "cell_type": "code",
   "execution_count": 9,
   "metadata": {},
   "outputs": [
    {
     "data": {
      "text/plain": [
       "['Tonight',\n",
       " 'Friday',\n",
       " 'FridayNight',\n",
       " 'Saturday',\n",
       " 'SaturdayNight',\n",
       " 'Sunday',\n",
       " 'SundayNight',\n",
       " 'Monday',\n",
       " 'MondayNight']"
      ]
     },
     "execution_count": 9,
     "metadata": {},
     "output_type": "execute_result"
    }
   ],
   "source": [
    "days"
   ]
  },
  {
   "cell_type": "code",
   "execution_count": null,
   "metadata": {},
   "outputs": [],
   "source": []
  },
  {
   "cell_type": "code",
   "execution_count": 10,
   "metadata": {},
   "outputs": [],
   "source": [
    "infos = soup.findAll('div',class_ = \"col-sm-10 forecast-text\")\n",
    "details = []\n",
    "for info in infos:\n",
    "    details.append(info.text)\n",
    "# print(details)"
   ]
  },
  {
   "cell_type": "code",
   "execution_count": 11,
   "metadata": {},
   "outputs": [
    {
     "data": {
      "text/plain": [
       "['Mostly cloudy, with a steady temperature around 52. North wind around 7 mph. ',\n",
       " 'Sunny, with a high near 65. North wind 6 to 11 mph becoming west in the afternoon. ',\n",
       " 'Partly cloudy, with a low around 50. West southwest wind around 6 mph becoming calm  after midnight. ',\n",
       " 'Sunny, with a high near 66. Calm wind becoming west northwest 5 to 7 mph in the afternoon. ',\n",
       " 'Mostly clear, with a low around 51. West wind around 6 mph becoming north northwest after midnight. ',\n",
       " 'Sunny, with a high near 67.',\n",
       " 'Mostly clear, with a low around 50.',\n",
       " 'Sunny, with a high near 67.',\n",
       " 'Mostly clear, with a low around 51.',\n",
       " 'Sunny, with a high near 66.',\n",
       " 'Mostly clear, with a low around 51.',\n",
       " 'Sunny, with a high near 67.',\n",
       " 'Mostly clear, with a low around 51.',\n",
       " 'Sunny, with a high near 66.']"
      ]
     },
     "execution_count": 11,
     "metadata": {},
     "output_type": "execute_result"
    }
   ],
   "source": [
    "details"
   ]
  },
  {
   "cell_type": "code",
   "execution_count": null,
   "metadata": {},
   "outputs": [],
   "source": []
  },
  {
   "cell_type": "code",
   "execution_count": 12,
   "metadata": {},
   "outputs": [],
   "source": [
    "# Extract the 10 days weather from san Francisco in weather.gov.\n",
    "# inspect with the console\n",
    "# write code to target the right elements of the text\n",
    "# For each day, you need to store:\n",
    "# The day of the week (Tuesday)\n",
    "# The date (01/06/2021)\n",
    "# A short description of the conditions (Clear early then increasing cloudiness after midnight. Low 41F. Winds light and variable)\n",
    "# The temperature low and high, with a function of your own to convert into Celsius\n",
    "# For each element you scrape, The name of the item you targetted (ex: DailyContent--daypartDate--3MM0J)\n",
    "# Save all of this into a Pandas dataframe\n",
    "temperature = []\n",
    "description = []\n",
    "for detail in details:\n",
    "    temperature.append(re.findall('[0-9]+',detail.split('.')[0]))\n",
    "    description.append(detail.split(\"''\"))\n",
    "# print(temperature)\n",
    "# print(description)"
   ]
  },
  {
   "cell_type": "code",
   "execution_count": 13,
   "metadata": {},
   "outputs": [
    {
     "data": {
      "text/plain": [
       "[['Mostly cloudy, with a steady temperature around 52. North wind around 7 mph. '],\n",
       " ['Sunny, with a high near 65. North wind 6 to 11 mph becoming west in the afternoon. '],\n",
       " ['Partly cloudy, with a low around 50. West southwest wind around 6 mph becoming calm  after midnight. '],\n",
       " ['Sunny, with a high near 66. Calm wind becoming west northwest 5 to 7 mph in the afternoon. '],\n",
       " ['Mostly clear, with a low around 51. West wind around 6 mph becoming north northwest after midnight. '],\n",
       " ['Sunny, with a high near 67.'],\n",
       " ['Mostly clear, with a low around 50.'],\n",
       " ['Sunny, with a high near 67.'],\n",
       " ['Mostly clear, with a low around 51.'],\n",
       " ['Sunny, with a high near 66.'],\n",
       " ['Mostly clear, with a low around 51.'],\n",
       " ['Sunny, with a high near 67.'],\n",
       " ['Mostly clear, with a low around 51.'],\n",
       " ['Sunny, with a high near 66.']]"
      ]
     },
     "execution_count": 13,
     "metadata": {},
     "output_type": "execute_result"
    }
   ],
   "source": [
    "description"
   ]
  },
  {
   "cell_type": "code",
   "execution_count": 14,
   "metadata": {},
   "outputs": [
    {
     "name": "stdout",
     "output_type": "stream",
     "text": [
      "Mostly cloudy, with a steady temperature around 52. North wind around 7 mph. \n",
      "Sunny, with a high near 65. North wind 6 to 11 mph becoming west in the afternoon. \n",
      "Partly cloudy, with a low around 50. West southwest wind around 6 mph becoming calm  after midnight. \n",
      "Sunny, with a high near 66. Calm wind becoming west northwest 5 to 7 mph in the afternoon. \n",
      "Mostly clear, with a low around 51. West wind around 6 mph becoming north northwest after midnight. \n",
      "Sunny, with a high near 67.\n",
      "Mostly clear, with a low around 50.\n",
      "Sunny, with a high near 67.\n",
      "Mostly clear, with a low around 51.\n",
      "Sunny, with a high near 66.\n",
      "Mostly clear, with a low around 51.\n",
      "Sunny, with a high near 67.\n",
      "Mostly clear, with a low around 51.\n",
      "Sunny, with a high near 66.\n"
     ]
    }
   ],
   "source": [
    "for detail in details:\n",
    "    print(detail)"
   ]
  },
  {
   "cell_type": "code",
   "execution_count": 15,
   "metadata": {},
   "outputs": [],
   "source": [
    "dates = soup.findAll(class_ = \"col-sm-2 forecast-label\")\n",
    "days = []\n",
    "for date in dates:\n",
    "    days.append(date.text)\n",
    "# print(days)"
   ]
  },
  {
   "cell_type": "code",
   "execution_count": 16,
   "metadata": {},
   "outputs": [],
   "source": [
    "# tomorrow\n",
    "today = np.datetime64('today',\"D\")"
   ]
  },
  {
   "cell_type": "code",
   "execution_count": 17,
   "metadata": {},
   "outputs": [],
   "source": [
    "from datetime import datetime,timedelta"
   ]
  },
  {
   "cell_type": "code",
   "execution_count": 18,
   "metadata": {},
   "outputs": [],
   "source": [
    "tomorrow = np.datetime64('today',\"D\") + np.timedelta64(1)"
   ]
  },
  {
   "cell_type": "code",
   "execution_count": 19,
   "metadata": {},
   "outputs": [
    {
     "data": {
      "text/plain": [
       "numpy.datetime64('2021-11-27')"
      ]
     },
     "execution_count": 19,
     "metadata": {},
     "output_type": "execute_result"
    }
   ],
   "source": [
    "tomorrow"
   ]
  },
  {
   "cell_type": "code",
   "execution_count": null,
   "metadata": {},
   "outputs": [],
   "source": []
  },
  {
   "cell_type": "code",
   "execution_count": 20,
   "metadata": {},
   "outputs": [
    {
     "data": {
      "text/plain": [
       "['Tonight',\n",
       " 'Friday',\n",
       " 'Friday Night',\n",
       " 'Saturday',\n",
       " 'Saturday Night',\n",
       " 'Sunday',\n",
       " 'Sunday Night',\n",
       " 'Monday',\n",
       " 'Monday Night',\n",
       " 'Tuesday',\n",
       " 'Tuesday Night',\n",
       " 'Wednesday',\n",
       " 'Wednesday Night',\n",
       " 'Thursday']"
      ]
     },
     "execution_count": 20,
     "metadata": {},
     "output_type": "execute_result"
    }
   ],
   "source": [
    "days"
   ]
  },
  {
   "cell_type": "code",
   "execution_count": 21,
   "metadata": {},
   "outputs": [],
   "source": [
    "dates = []\n",
    "for i in range(10):\n",
    "    dates.append(today + np.timedelta64(i,'D'))\n",
    "# print(dates)"
   ]
  },
  {
   "cell_type": "code",
   "execution_count": 22,
   "metadata": {},
   "outputs": [
    {
     "data": {
      "text/plain": [
       "[numpy.datetime64('2021-11-26'),\n",
       " numpy.datetime64('2021-11-27'),\n",
       " numpy.datetime64('2021-11-28'),\n",
       " numpy.datetime64('2021-11-29'),\n",
       " numpy.datetime64('2021-11-30'),\n",
       " numpy.datetime64('2021-12-01'),\n",
       " numpy.datetime64('2021-12-02'),\n",
       " numpy.datetime64('2021-12-03'),\n",
       " numpy.datetime64('2021-12-04'),\n",
       " numpy.datetime64('2021-12-05')]"
      ]
     },
     "execution_count": 22,
     "metadata": {},
     "output_type": "execute_result"
    }
   ],
   "source": [
    "dates"
   ]
  },
  {
   "cell_type": "code",
   "execution_count": 24,
   "metadata": {},
   "outputs": [],
   "source": [
    "df = pd.DataFrame(zip(dates,period,temperature,description), columns = [\"Dates\", \"Period\", \"Temperature\", \"Description\"])"
   ]
  },
  {
   "cell_type": "code",
   "execution_count": 25,
   "metadata": {},
   "outputs": [
    {
     "data": {
      "text/html": [
       "<div>\n",
       "<style scoped>\n",
       "    .dataframe tbody tr th:only-of-type {\n",
       "        vertical-align: middle;\n",
       "    }\n",
       "\n",
       "    .dataframe tbody tr th {\n",
       "        vertical-align: top;\n",
       "    }\n",
       "\n",
       "    .dataframe thead th {\n",
       "        text-align: right;\n",
       "    }\n",
       "</style>\n",
       "<table border=\"1\" class=\"dataframe\">\n",
       "  <thead>\n",
       "    <tr style=\"text-align: right;\">\n",
       "      <th></th>\n",
       "      <th>Dates</th>\n",
       "      <th>Period</th>\n",
       "      <th>Temperature</th>\n",
       "      <th>Description</th>\n",
       "    </tr>\n",
       "  </thead>\n",
       "  <tbody>\n",
       "    <tr>\n",
       "      <th>0</th>\n",
       "      <td>2021-11-26</td>\n",
       "      <td>[Tonight, [], []]</td>\n",
       "      <td>[52]</td>\n",
       "      <td>[Mostly cloudy, with a steady temperature arou...</td>\n",
       "    </tr>\n",
       "    <tr>\n",
       "      <th>1</th>\n",
       "      <td>2021-11-27</td>\n",
       "      <td>[Friday, [], []]</td>\n",
       "      <td>[65]</td>\n",
       "      <td>[Sunny, with a high near 65. North wind 6 to 1...</td>\n",
       "    </tr>\n",
       "    <tr>\n",
       "      <th>2</th>\n",
       "      <td>2021-11-28</td>\n",
       "      <td>[Friday, [], Night]</td>\n",
       "      <td>[50]</td>\n",
       "      <td>[Partly cloudy, with a low around 50. West sou...</td>\n",
       "    </tr>\n",
       "    <tr>\n",
       "      <th>3</th>\n",
       "      <td>2021-11-29</td>\n",
       "      <td>[Saturday, [], []]</td>\n",
       "      <td>[66]</td>\n",
       "      <td>[Sunny, with a high near 66. Calm wind becomin...</td>\n",
       "    </tr>\n",
       "    <tr>\n",
       "      <th>4</th>\n",
       "      <td>2021-11-30</td>\n",
       "      <td>[Saturday, [], Night]</td>\n",
       "      <td>[51]</td>\n",
       "      <td>[Mostly clear, with a low around 51. West wind...</td>\n",
       "    </tr>\n",
       "    <tr>\n",
       "      <th>5</th>\n",
       "      <td>2021-12-01</td>\n",
       "      <td>[Sunday, [], []]</td>\n",
       "      <td>[67]</td>\n",
       "      <td>[Sunny, with a high near 67.]</td>\n",
       "    </tr>\n",
       "    <tr>\n",
       "      <th>6</th>\n",
       "      <td>2021-12-02</td>\n",
       "      <td>[Sunday, [], Night]</td>\n",
       "      <td>[50]</td>\n",
       "      <td>[Mostly clear, with a low around 50.]</td>\n",
       "    </tr>\n",
       "    <tr>\n",
       "      <th>7</th>\n",
       "      <td>2021-12-03</td>\n",
       "      <td>[Monday, [], []]</td>\n",
       "      <td>[67]</td>\n",
       "      <td>[Sunny, with a high near 67.]</td>\n",
       "    </tr>\n",
       "    <tr>\n",
       "      <th>8</th>\n",
       "      <td>2021-12-04</td>\n",
       "      <td>[Monday, [], Night]</td>\n",
       "      <td>[51]</td>\n",
       "      <td>[Mostly clear, with a low around 51.]</td>\n",
       "    </tr>\n",
       "  </tbody>\n",
       "</table>\n",
       "</div>"
      ],
      "text/plain": [
       "       Dates                 Period Temperature  \\\n",
       "0 2021-11-26      [Tonight, [], []]        [52]   \n",
       "1 2021-11-27       [Friday, [], []]        [65]   \n",
       "2 2021-11-28    [Friday, [], Night]        [50]   \n",
       "3 2021-11-29     [Saturday, [], []]        [66]   \n",
       "4 2021-11-30  [Saturday, [], Night]        [51]   \n",
       "5 2021-12-01       [Sunday, [], []]        [67]   \n",
       "6 2021-12-02    [Sunday, [], Night]        [50]   \n",
       "7 2021-12-03       [Monday, [], []]        [67]   \n",
       "8 2021-12-04    [Monday, [], Night]        [51]   \n",
       "\n",
       "                                         Description  \n",
       "0  [Mostly cloudy, with a steady temperature arou...  \n",
       "1  [Sunny, with a high near 65. North wind 6 to 1...  \n",
       "2  [Partly cloudy, with a low around 50. West sou...  \n",
       "3  [Sunny, with a high near 66. Calm wind becomin...  \n",
       "4  [Mostly clear, with a low around 51. West wind...  \n",
       "5                      [Sunny, with a high near 67.]  \n",
       "6              [Mostly clear, with a low around 50.]  \n",
       "7                      [Sunny, with a high near 67.]  \n",
       "8              [Mostly clear, with a low around 51.]  "
      ]
     },
     "execution_count": 25,
     "metadata": {},
     "output_type": "execute_result"
    }
   ],
   "source": [
    "df"
   ]
  },
  {
   "cell_type": "code",
   "execution_count": 37,
   "metadata": {},
   "outputs": [],
   "source": [
    "new_days_list = []\n",
    "for i in range(len(df['Period'])):\n",
    "    new_days_list.append(df['Period'][i].text)"
   ]
  },
  {
   "cell_type": "code",
   "execution_count": 38,
   "id": "a0ac6b47",
   "metadata": {},
   "outputs": [
    {
     "data": {
      "text/plain": [
       "['Tonight',\n",
       " 'Friday',\n",
       " 'FridayNight',\n",
       " 'Saturday',\n",
       " 'SaturdayNight',\n",
       " 'Sunday',\n",
       " 'SundayNight',\n",
       " 'Monday',\n",
       " 'MondayNight']"
      ]
     },
     "execution_count": 38,
     "metadata": {},
     "output_type": "execute_result"
    }
   ],
   "source": [
    "new_days_list"
   ]
  },
  {
   "cell_type": "code",
   "execution_count": 39,
   "id": "89232fa4",
   "metadata": {},
   "outputs": [],
   "source": [
    "df['Period'] = new_days_list"
   ]
  },
  {
   "cell_type": "code",
   "execution_count": 40,
   "id": "6271672f",
   "metadata": {},
   "outputs": [
    {
     "data": {
      "text/html": [
       "<div>\n",
       "<style scoped>\n",
       "    .dataframe tbody tr th:only-of-type {\n",
       "        vertical-align: middle;\n",
       "    }\n",
       "\n",
       "    .dataframe tbody tr th {\n",
       "        vertical-align: top;\n",
       "    }\n",
       "\n",
       "    .dataframe thead th {\n",
       "        text-align: right;\n",
       "    }\n",
       "</style>\n",
       "<table border=\"1\" class=\"dataframe\">\n",
       "  <thead>\n",
       "    <tr style=\"text-align: right;\">\n",
       "      <th></th>\n",
       "      <th>Dates</th>\n",
       "      <th>Period</th>\n",
       "      <th>Temperature</th>\n",
       "      <th>Description</th>\n",
       "    </tr>\n",
       "  </thead>\n",
       "  <tbody>\n",
       "    <tr>\n",
       "      <th>0</th>\n",
       "      <td>2021-11-26</td>\n",
       "      <td>Tonight</td>\n",
       "      <td>[52]</td>\n",
       "      <td>[Mostly cloudy, with a steady temperature arou...</td>\n",
       "    </tr>\n",
       "    <tr>\n",
       "      <th>1</th>\n",
       "      <td>2021-11-27</td>\n",
       "      <td>Friday</td>\n",
       "      <td>[65]</td>\n",
       "      <td>[Sunny, with a high near 65. North wind 6 to 1...</td>\n",
       "    </tr>\n",
       "    <tr>\n",
       "      <th>2</th>\n",
       "      <td>2021-11-28</td>\n",
       "      <td>FridayNight</td>\n",
       "      <td>[50]</td>\n",
       "      <td>[Partly cloudy, with a low around 50. West sou...</td>\n",
       "    </tr>\n",
       "    <tr>\n",
       "      <th>3</th>\n",
       "      <td>2021-11-29</td>\n",
       "      <td>Saturday</td>\n",
       "      <td>[66]</td>\n",
       "      <td>[Sunny, with a high near 66. Calm wind becomin...</td>\n",
       "    </tr>\n",
       "    <tr>\n",
       "      <th>4</th>\n",
       "      <td>2021-11-30</td>\n",
       "      <td>SaturdayNight</td>\n",
       "      <td>[51]</td>\n",
       "      <td>[Mostly clear, with a low around 51. West wind...</td>\n",
       "    </tr>\n",
       "    <tr>\n",
       "      <th>5</th>\n",
       "      <td>2021-12-01</td>\n",
       "      <td>Sunday</td>\n",
       "      <td>[67]</td>\n",
       "      <td>[Sunny, with a high near 67.]</td>\n",
       "    </tr>\n",
       "    <tr>\n",
       "      <th>6</th>\n",
       "      <td>2021-12-02</td>\n",
       "      <td>SundayNight</td>\n",
       "      <td>[50]</td>\n",
       "      <td>[Mostly clear, with a low around 50.]</td>\n",
       "    </tr>\n",
       "    <tr>\n",
       "      <th>7</th>\n",
       "      <td>2021-12-03</td>\n",
       "      <td>Monday</td>\n",
       "      <td>[67]</td>\n",
       "      <td>[Sunny, with a high near 67.]</td>\n",
       "    </tr>\n",
       "    <tr>\n",
       "      <th>8</th>\n",
       "      <td>2021-12-04</td>\n",
       "      <td>MondayNight</td>\n",
       "      <td>[51]</td>\n",
       "      <td>[Mostly clear, with a low around 51.]</td>\n",
       "    </tr>\n",
       "  </tbody>\n",
       "</table>\n",
       "</div>"
      ],
      "text/plain": [
       "       Dates         Period Temperature  \\\n",
       "0 2021-11-26        Tonight        [52]   \n",
       "1 2021-11-27         Friday        [65]   \n",
       "2 2021-11-28    FridayNight        [50]   \n",
       "3 2021-11-29       Saturday        [66]   \n",
       "4 2021-11-30  SaturdayNight        [51]   \n",
       "5 2021-12-01         Sunday        [67]   \n",
       "6 2021-12-02    SundayNight        [50]   \n",
       "7 2021-12-03         Monday        [67]   \n",
       "8 2021-12-04    MondayNight        [51]   \n",
       "\n",
       "                                         Description  \n",
       "0  [Mostly cloudy, with a steady temperature arou...  \n",
       "1  [Sunny, with a high near 65. North wind 6 to 1...  \n",
       "2  [Partly cloudy, with a low around 50. West sou...  \n",
       "3  [Sunny, with a high near 66. Calm wind becomin...  \n",
       "4  [Mostly clear, with a low around 51. West wind...  \n",
       "5                      [Sunny, with a high near 67.]  \n",
       "6              [Mostly clear, with a low around 50.]  \n",
       "7                      [Sunny, with a high near 67.]  \n",
       "8              [Mostly clear, with a low around 51.]  "
      ]
     },
     "execution_count": 40,
     "metadata": {},
     "output_type": "execute_result"
    }
   ],
   "source": [
    "df"
   ]
  },
  {
   "cell_type": "code",
   "execution_count": 51,
   "id": "fb201aa7",
   "metadata": {},
   "outputs": [],
   "source": [
    "new_temp_list = [''.join(i) for i in df['Temperature'] ]"
   ]
  },
  {
   "cell_type": "code",
   "execution_count": 53,
   "id": "cf6cf83a",
   "metadata": {},
   "outputs": [
    {
     "name": "stdout",
     "output_type": "stream",
     "text": [
      "52\n",
      "65\n",
      "50\n",
      "66\n",
      "51\n",
      "67\n",
      "50\n",
      "67\n",
      "51\n"
     ]
    }
   ],
   "source": [
    "for i  in df['Temperature']:\n",
    "    print(''.join(i))"
   ]
  },
  {
   "cell_type": "code",
   "execution_count": 54,
   "id": "52aad135",
   "metadata": {},
   "outputs": [],
   "source": [
    "df['Temperature'] = new_temp_list"
   ]
  },
  {
   "cell_type": "code",
   "execution_count": 55,
   "id": "dcdba2ae",
   "metadata": {},
   "outputs": [
    {
     "data": {
      "text/html": [
       "<div>\n",
       "<style scoped>\n",
       "    .dataframe tbody tr th:only-of-type {\n",
       "        vertical-align: middle;\n",
       "    }\n",
       "\n",
       "    .dataframe tbody tr th {\n",
       "        vertical-align: top;\n",
       "    }\n",
       "\n",
       "    .dataframe thead th {\n",
       "        text-align: right;\n",
       "    }\n",
       "</style>\n",
       "<table border=\"1\" class=\"dataframe\">\n",
       "  <thead>\n",
       "    <tr style=\"text-align: right;\">\n",
       "      <th></th>\n",
       "      <th>Dates</th>\n",
       "      <th>Period</th>\n",
       "      <th>Temperature</th>\n",
       "      <th>Description</th>\n",
       "    </tr>\n",
       "  </thead>\n",
       "  <tbody>\n",
       "    <tr>\n",
       "      <th>0</th>\n",
       "      <td>2021-11-26</td>\n",
       "      <td>Tonight</td>\n",
       "      <td>52</td>\n",
       "      <td>[Mostly cloudy, with a steady temperature arou...</td>\n",
       "    </tr>\n",
       "    <tr>\n",
       "      <th>1</th>\n",
       "      <td>2021-11-27</td>\n",
       "      <td>Friday</td>\n",
       "      <td>65</td>\n",
       "      <td>[Sunny, with a high near 65. North wind 6 to 1...</td>\n",
       "    </tr>\n",
       "    <tr>\n",
       "      <th>2</th>\n",
       "      <td>2021-11-28</td>\n",
       "      <td>FridayNight</td>\n",
       "      <td>50</td>\n",
       "      <td>[Partly cloudy, with a low around 50. West sou...</td>\n",
       "    </tr>\n",
       "    <tr>\n",
       "      <th>3</th>\n",
       "      <td>2021-11-29</td>\n",
       "      <td>Saturday</td>\n",
       "      <td>66</td>\n",
       "      <td>[Sunny, with a high near 66. Calm wind becomin...</td>\n",
       "    </tr>\n",
       "    <tr>\n",
       "      <th>4</th>\n",
       "      <td>2021-11-30</td>\n",
       "      <td>SaturdayNight</td>\n",
       "      <td>51</td>\n",
       "      <td>[Mostly clear, with a low around 51. West wind...</td>\n",
       "    </tr>\n",
       "    <tr>\n",
       "      <th>5</th>\n",
       "      <td>2021-12-01</td>\n",
       "      <td>Sunday</td>\n",
       "      <td>67</td>\n",
       "      <td>[Sunny, with a high near 67.]</td>\n",
       "    </tr>\n",
       "    <tr>\n",
       "      <th>6</th>\n",
       "      <td>2021-12-02</td>\n",
       "      <td>SundayNight</td>\n",
       "      <td>50</td>\n",
       "      <td>[Mostly clear, with a low around 50.]</td>\n",
       "    </tr>\n",
       "    <tr>\n",
       "      <th>7</th>\n",
       "      <td>2021-12-03</td>\n",
       "      <td>Monday</td>\n",
       "      <td>67</td>\n",
       "      <td>[Sunny, with a high near 67.]</td>\n",
       "    </tr>\n",
       "    <tr>\n",
       "      <th>8</th>\n",
       "      <td>2021-12-04</td>\n",
       "      <td>MondayNight</td>\n",
       "      <td>51</td>\n",
       "      <td>[Mostly clear, with a low around 51.]</td>\n",
       "    </tr>\n",
       "  </tbody>\n",
       "</table>\n",
       "</div>"
      ],
      "text/plain": [
       "       Dates         Period Temperature  \\\n",
       "0 2021-11-26        Tonight          52   \n",
       "1 2021-11-27         Friday          65   \n",
       "2 2021-11-28    FridayNight          50   \n",
       "3 2021-11-29       Saturday          66   \n",
       "4 2021-11-30  SaturdayNight          51   \n",
       "5 2021-12-01         Sunday          67   \n",
       "6 2021-12-02    SundayNight          50   \n",
       "7 2021-12-03         Monday          67   \n",
       "8 2021-12-04    MondayNight          51   \n",
       "\n",
       "                                         Description  \n",
       "0  [Mostly cloudy, with a steady temperature arou...  \n",
       "1  [Sunny, with a high near 65. North wind 6 to 1...  \n",
       "2  [Partly cloudy, with a low around 50. West sou...  \n",
       "3  [Sunny, with a high near 66. Calm wind becomin...  \n",
       "4  [Mostly clear, with a low around 51. West wind...  \n",
       "5                      [Sunny, with a high near 67.]  \n",
       "6              [Mostly clear, with a low around 50.]  \n",
       "7                      [Sunny, with a high near 67.]  \n",
       "8              [Mostly clear, with a low around 51.]  "
      ]
     },
     "execution_count": 55,
     "metadata": {},
     "output_type": "execute_result"
    }
   ],
   "source": [
    "df"
   ]
  },
  {
   "cell_type": "code",
   "execution_count": 56,
   "id": "8941ec22",
   "metadata": {},
   "outputs": [],
   "source": [
    "df['Description'] = [''.join(i) for i in df['Description']]"
   ]
  },
  {
   "cell_type": "code",
   "execution_count": 57,
   "id": "d20ecd5f",
   "metadata": {},
   "outputs": [
    {
     "data": {
      "text/html": [
       "<div>\n",
       "<style scoped>\n",
       "    .dataframe tbody tr th:only-of-type {\n",
       "        vertical-align: middle;\n",
       "    }\n",
       "\n",
       "    .dataframe tbody tr th {\n",
       "        vertical-align: top;\n",
       "    }\n",
       "\n",
       "    .dataframe thead th {\n",
       "        text-align: right;\n",
       "    }\n",
       "</style>\n",
       "<table border=\"1\" class=\"dataframe\">\n",
       "  <thead>\n",
       "    <tr style=\"text-align: right;\">\n",
       "      <th></th>\n",
       "      <th>Dates</th>\n",
       "      <th>Period</th>\n",
       "      <th>Temperature</th>\n",
       "      <th>Description</th>\n",
       "    </tr>\n",
       "  </thead>\n",
       "  <tbody>\n",
       "    <tr>\n",
       "      <th>0</th>\n",
       "      <td>2021-11-26</td>\n",
       "      <td>Tonight</td>\n",
       "      <td>52</td>\n",
       "      <td>Mostly cloudy, with a steady temperature aroun...</td>\n",
       "    </tr>\n",
       "    <tr>\n",
       "      <th>1</th>\n",
       "      <td>2021-11-27</td>\n",
       "      <td>Friday</td>\n",
       "      <td>65</td>\n",
       "      <td>Sunny, with a high near 65. North wind 6 to 11...</td>\n",
       "    </tr>\n",
       "    <tr>\n",
       "      <th>2</th>\n",
       "      <td>2021-11-28</td>\n",
       "      <td>FridayNight</td>\n",
       "      <td>50</td>\n",
       "      <td>Partly cloudy, with a low around 50. West sout...</td>\n",
       "    </tr>\n",
       "    <tr>\n",
       "      <th>3</th>\n",
       "      <td>2021-11-29</td>\n",
       "      <td>Saturday</td>\n",
       "      <td>66</td>\n",
       "      <td>Sunny, with a high near 66. Calm wind becoming...</td>\n",
       "    </tr>\n",
       "    <tr>\n",
       "      <th>4</th>\n",
       "      <td>2021-11-30</td>\n",
       "      <td>SaturdayNight</td>\n",
       "      <td>51</td>\n",
       "      <td>Mostly clear, with a low around 51. West wind ...</td>\n",
       "    </tr>\n",
       "    <tr>\n",
       "      <th>5</th>\n",
       "      <td>2021-12-01</td>\n",
       "      <td>Sunday</td>\n",
       "      <td>67</td>\n",
       "      <td>Sunny, with a high near 67.</td>\n",
       "    </tr>\n",
       "    <tr>\n",
       "      <th>6</th>\n",
       "      <td>2021-12-02</td>\n",
       "      <td>SundayNight</td>\n",
       "      <td>50</td>\n",
       "      <td>Mostly clear, with a low around 50.</td>\n",
       "    </tr>\n",
       "    <tr>\n",
       "      <th>7</th>\n",
       "      <td>2021-12-03</td>\n",
       "      <td>Monday</td>\n",
       "      <td>67</td>\n",
       "      <td>Sunny, with a high near 67.</td>\n",
       "    </tr>\n",
       "    <tr>\n",
       "      <th>8</th>\n",
       "      <td>2021-12-04</td>\n",
       "      <td>MondayNight</td>\n",
       "      <td>51</td>\n",
       "      <td>Mostly clear, with a low around 51.</td>\n",
       "    </tr>\n",
       "  </tbody>\n",
       "</table>\n",
       "</div>"
      ],
      "text/plain": [
       "       Dates         Period Temperature  \\\n",
       "0 2021-11-26        Tonight          52   \n",
       "1 2021-11-27         Friday          65   \n",
       "2 2021-11-28    FridayNight          50   \n",
       "3 2021-11-29       Saturday          66   \n",
       "4 2021-11-30  SaturdayNight          51   \n",
       "5 2021-12-01         Sunday          67   \n",
       "6 2021-12-02    SundayNight          50   \n",
       "7 2021-12-03         Monday          67   \n",
       "8 2021-12-04    MondayNight          51   \n",
       "\n",
       "                                         Description  \n",
       "0  Mostly cloudy, with a steady temperature aroun...  \n",
       "1  Sunny, with a high near 65. North wind 6 to 11...  \n",
       "2  Partly cloudy, with a low around 50. West sout...  \n",
       "3  Sunny, with a high near 66. Calm wind becoming...  \n",
       "4  Mostly clear, with a low around 51. West wind ...  \n",
       "5                        Sunny, with a high near 67.  \n",
       "6                Mostly clear, with a low around 50.  \n",
       "7                        Sunny, with a high near 67.  \n",
       "8                Mostly clear, with a low around 51.  "
      ]
     },
     "execution_count": 57,
     "metadata": {},
     "output_type": "execute_result"
    }
   ],
   "source": [
    "df"
   ]
  },
  {
   "cell_type": "code",
   "execution_count": null,
   "id": "1b296ff4",
   "metadata": {},
   "outputs": [],
   "source": []
  }
 ],
 "metadata": {
  "interpreter": {
   "hash": "f5610a57ce5a66969d95506b8c0c9e3b70160de2f7592df689878f178730b779"
  },
  "kernelspec": {
   "display_name": "Python 3.8.10 64-bit ('strive': conda)",
   "name": "python3"
  },
  "language_info": {
   "codemirror_mode": {
    "name": "ipython",
    "version": 3
   },
   "file_extension": ".py",
   "mimetype": "text/x-python",
   "name": "python",
   "nbconvert_exporter": "python",
   "pygments_lexer": "ipython3",
   "version": "3.8.11"
  }
 },
 "nbformat": 4,
 "nbformat_minor": 5
}

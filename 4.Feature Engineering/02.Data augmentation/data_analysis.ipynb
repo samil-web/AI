{
 "metadata": {
  "language_info": {
   "codemirror_mode": {
    "name": "ipython",
    "version": 3
   },
   "file_extension": ".py",
   "mimetype": "text/x-python",
   "name": "python",
   "nbconvert_exporter": "python",
   "pygments_lexer": "ipython3",
   "version": "3.8.8"
  },
  "orig_nbformat": 4,
  "kernelspec": {
   "name": "python3",
   "display_name": "Python 3.8.8 64-bit ('base': conda)"
  },
  "interpreter": {
   "hash": "143651e9f3dc95e1558cdc2d0b27b52202d2b9aa9523165c82e28886d3f6d1a2"
  }
 },
 "nbformat": 4,
 "nbformat_minor": 2,
 "cells": [
  {
   "cell_type": "code",
   "execution_count": 40,
   "source": [
    "import pandas as pd\r\n",
    "import numpy as np"
   ],
   "outputs": [],
   "metadata": {}
  },
  {
   "cell_type": "code",
   "execution_count": 47,
   "source": [
    "import seaborn as sns"
   ],
   "outputs": [],
   "metadata": {}
  },
  {
   "cell_type": "code",
   "execution_count": 3,
   "source": [
    "\r\n",
    "bikes = pd.read_csv('london_merged.csv')"
   ],
   "outputs": [],
   "metadata": {}
  },
  {
   "cell_type": "code",
   "execution_count": 4,
   "source": [
    "bikes.head()"
   ],
   "outputs": [
    {
     "output_type": "execute_result",
     "data": {
      "text/html": [
       "<div>\n",
       "<style scoped>\n",
       "    .dataframe tbody tr th:only-of-type {\n",
       "        vertical-align: middle;\n",
       "    }\n",
       "\n",
       "    .dataframe tbody tr th {\n",
       "        vertical-align: top;\n",
       "    }\n",
       "\n",
       "    .dataframe thead th {\n",
       "        text-align: right;\n",
       "    }\n",
       "</style>\n",
       "<table border=\"1\" class=\"dataframe\">\n",
       "  <thead>\n",
       "    <tr style=\"text-align: right;\">\n",
       "      <th></th>\n",
       "      <th>timestamp</th>\n",
       "      <th>cnt</th>\n",
       "      <th>t1</th>\n",
       "      <th>t2</th>\n",
       "      <th>hum</th>\n",
       "      <th>wind_speed</th>\n",
       "      <th>weather_code</th>\n",
       "      <th>is_holiday</th>\n",
       "      <th>is_weekend</th>\n",
       "      <th>season</th>\n",
       "    </tr>\n",
       "  </thead>\n",
       "  <tbody>\n",
       "    <tr>\n",
       "      <th>0</th>\n",
       "      <td>2015-01-04 00:00:00</td>\n",
       "      <td>182</td>\n",
       "      <td>3.0</td>\n",
       "      <td>2.0</td>\n",
       "      <td>93.0</td>\n",
       "      <td>6.0</td>\n",
       "      <td>3.0</td>\n",
       "      <td>0.0</td>\n",
       "      <td>1.0</td>\n",
       "      <td>3.0</td>\n",
       "    </tr>\n",
       "    <tr>\n",
       "      <th>1</th>\n",
       "      <td>2015-01-04 01:00:00</td>\n",
       "      <td>138</td>\n",
       "      <td>3.0</td>\n",
       "      <td>2.5</td>\n",
       "      <td>93.0</td>\n",
       "      <td>5.0</td>\n",
       "      <td>1.0</td>\n",
       "      <td>0.0</td>\n",
       "      <td>1.0</td>\n",
       "      <td>3.0</td>\n",
       "    </tr>\n",
       "    <tr>\n",
       "      <th>2</th>\n",
       "      <td>2015-01-04 02:00:00</td>\n",
       "      <td>134</td>\n",
       "      <td>2.5</td>\n",
       "      <td>2.5</td>\n",
       "      <td>96.5</td>\n",
       "      <td>0.0</td>\n",
       "      <td>1.0</td>\n",
       "      <td>0.0</td>\n",
       "      <td>1.0</td>\n",
       "      <td>3.0</td>\n",
       "    </tr>\n",
       "    <tr>\n",
       "      <th>3</th>\n",
       "      <td>2015-01-04 03:00:00</td>\n",
       "      <td>72</td>\n",
       "      <td>2.0</td>\n",
       "      <td>2.0</td>\n",
       "      <td>100.0</td>\n",
       "      <td>0.0</td>\n",
       "      <td>1.0</td>\n",
       "      <td>0.0</td>\n",
       "      <td>1.0</td>\n",
       "      <td>3.0</td>\n",
       "    </tr>\n",
       "    <tr>\n",
       "      <th>4</th>\n",
       "      <td>2015-01-04 04:00:00</td>\n",
       "      <td>47</td>\n",
       "      <td>2.0</td>\n",
       "      <td>0.0</td>\n",
       "      <td>93.0</td>\n",
       "      <td>6.5</td>\n",
       "      <td>1.0</td>\n",
       "      <td>0.0</td>\n",
       "      <td>1.0</td>\n",
       "      <td>3.0</td>\n",
       "    </tr>\n",
       "  </tbody>\n",
       "</table>\n",
       "</div>"
      ],
      "text/plain": [
       "             timestamp  cnt   t1   t2    hum  wind_speed  weather_code  \\\n",
       "0  2015-01-04 00:00:00  182  3.0  2.0   93.0         6.0           3.0   \n",
       "1  2015-01-04 01:00:00  138  3.0  2.5   93.0         5.0           1.0   \n",
       "2  2015-01-04 02:00:00  134  2.5  2.5   96.5         0.0           1.0   \n",
       "3  2015-01-04 03:00:00   72  2.0  2.0  100.0         0.0           1.0   \n",
       "4  2015-01-04 04:00:00   47  2.0  0.0   93.0         6.5           1.0   \n",
       "\n",
       "   is_holiday  is_weekend  season  \n",
       "0         0.0         1.0     3.0  \n",
       "1         0.0         1.0     3.0  \n",
       "2         0.0         1.0     3.0  \n",
       "3         0.0         1.0     3.0  \n",
       "4         0.0         1.0     3.0  "
      ]
     },
     "metadata": {},
     "execution_count": 4
    }
   ],
   "metadata": {}
  },
  {
   "cell_type": "code",
   "execution_count": 5,
   "source": [
    "bikes.isnull().any()"
   ],
   "outputs": [
    {
     "output_type": "execute_result",
     "data": {
      "text/plain": [
       "timestamp       False\n",
       "cnt             False\n",
       "t1              False\n",
       "t2              False\n",
       "hum             False\n",
       "wind_speed      False\n",
       "weather_code    False\n",
       "is_holiday      False\n",
       "is_weekend      False\n",
       "season          False\n",
       "dtype: bool"
      ]
     },
     "metadata": {},
     "execution_count": 5
    }
   ],
   "metadata": {}
  },
  {
   "cell_type": "code",
   "execution_count": 7,
   "source": [
    "bikes.info()"
   ],
   "outputs": [
    {
     "output_type": "stream",
     "name": "stdout",
     "text": [
      "<class 'pandas.core.frame.DataFrame'>\n",
      "RangeIndex: 17414 entries, 0 to 17413\n",
      "Data columns (total 10 columns):\n",
      " #   Column        Non-Null Count  Dtype  \n",
      "---  ------        --------------  -----  \n",
      " 0   timestamp     17414 non-null  object \n",
      " 1   cnt           17414 non-null  int64  \n",
      " 2   t1            17414 non-null  float64\n",
      " 3   t2            17414 non-null  float64\n",
      " 4   hum           17414 non-null  float64\n",
      " 5   wind_speed    17414 non-null  float64\n",
      " 6   weather_code  17414 non-null  float64\n",
      " 7   is_holiday    17414 non-null  float64\n",
      " 8   is_weekend    17414 non-null  float64\n",
      " 9   season        17414 non-null  float64\n",
      "dtypes: float64(8), int64(1), object(1)\n",
      "memory usage: 1.3+ MB\n"
     ]
    }
   ],
   "metadata": {}
  },
  {
   "cell_type": "code",
   "execution_count": 8,
   "source": [
    "bikes.columns"
   ],
   "outputs": [
    {
     "output_type": "execute_result",
     "data": {
      "text/plain": [
       "Index(['timestamp', 'cnt', 't1', 't2', 'hum', 'wind_speed', 'weather_code',\n",
       "       'is_holiday', 'is_weekend', 'season'],\n",
       "      dtype='object')"
      ]
     },
     "metadata": {},
     "execution_count": 8
    }
   ],
   "metadata": {}
  },
  {
   "cell_type": "code",
   "execution_count": null,
   "source": [
    "\"\"\"\r\n",
    "\"timestamp\" - timestamp field for grouping the data\r\n",
    "\"cnt\" - the count of a new bike shares\r\n",
    "\"t1\" - real temperature in C\r\n",
    "\"t2\" - temperature in C \"feels like\"\r\n",
    "\"hum\" - humidity in percentage\r\n",
    "\"windspeed\" - wind speed in km/h\r\n",
    "\"weathercode\" - category of the weather\r\n",
    "\"isholiday\" - boolean field - 1 holiday / 0 non holiday\r\n",
    "\"isweekend\" - boolean field - 1 if the day is weekend\r\n",
    "\"season\" - category field meteorological seasons: 0-spring ; 1-summer; 2-fall; 3-winter.\r\n",
    "\r\n",
    "\"weathe_code\" category description:\r\n",
    "1 = Clear ; mostly clear but have some values with haze/fog/patches of fog/ fog in vicinity 2 = scattered clouds / few clouds 3 = Broken clouds 4 = Cloudy 7 = Rain/ light Rain shower/ Light rain 10 = rain with thunderstorm 26 = snowfall 94 = Freezing Fog\r\n",
    "\"\"\""
   ],
   "outputs": [],
   "metadata": {}
  },
  {
   "cell_type": "code",
   "execution_count": 16,
   "source": [
    "cols = ['timestamp','count_of_shares','real temperature','feels like','humidity','wind-speed', 'weather-code','is_holiday','is_weekend','season']"
   ],
   "outputs": [],
   "metadata": {}
  },
  {
   "cell_type": "code",
   "execution_count": 17,
   "source": [
    "bikes.columns = cols"
   ],
   "outputs": [],
   "metadata": {}
  },
  {
   "cell_type": "code",
   "execution_count": 18,
   "source": [
    "bikes.columns"
   ],
   "outputs": [
    {
     "output_type": "execute_result",
     "data": {
      "text/plain": [
       "Index(['timestamp', 'count_of_shares', 'real temperature', 'feels like',\n",
       "       'humidity', 'wind-speed', 'weather-code', 'is_holiday', 'is_weekend',\n",
       "       'season'],\n",
       "      dtype='object')"
      ]
     },
     "metadata": {},
     "execution_count": 18
    }
   ],
   "metadata": {}
  },
  {
   "cell_type": "code",
   "execution_count": 19,
   "source": [
    "bikes.head()"
   ],
   "outputs": [
    {
     "output_type": "execute_result",
     "data": {
      "text/html": [
       "<div>\n",
       "<style scoped>\n",
       "    .dataframe tbody tr th:only-of-type {\n",
       "        vertical-align: middle;\n",
       "    }\n",
       "\n",
       "    .dataframe tbody tr th {\n",
       "        vertical-align: top;\n",
       "    }\n",
       "\n",
       "    .dataframe thead th {\n",
       "        text-align: right;\n",
       "    }\n",
       "</style>\n",
       "<table border=\"1\" class=\"dataframe\">\n",
       "  <thead>\n",
       "    <tr style=\"text-align: right;\">\n",
       "      <th></th>\n",
       "      <th>timestamp</th>\n",
       "      <th>count_of_shares</th>\n",
       "      <th>real temperature</th>\n",
       "      <th>feels like</th>\n",
       "      <th>humidity</th>\n",
       "      <th>wind-speed</th>\n",
       "      <th>weather-code</th>\n",
       "      <th>is_holiday</th>\n",
       "      <th>is_weekend</th>\n",
       "      <th>season</th>\n",
       "    </tr>\n",
       "  </thead>\n",
       "  <tbody>\n",
       "    <tr>\n",
       "      <th>0</th>\n",
       "      <td>2015-01-04 00:00:00</td>\n",
       "      <td>182</td>\n",
       "      <td>3.0</td>\n",
       "      <td>2.0</td>\n",
       "      <td>93.0</td>\n",
       "      <td>6.0</td>\n",
       "      <td>3.0</td>\n",
       "      <td>0.0</td>\n",
       "      <td>1.0</td>\n",
       "      <td>3.0</td>\n",
       "    </tr>\n",
       "    <tr>\n",
       "      <th>1</th>\n",
       "      <td>2015-01-04 01:00:00</td>\n",
       "      <td>138</td>\n",
       "      <td>3.0</td>\n",
       "      <td>2.5</td>\n",
       "      <td>93.0</td>\n",
       "      <td>5.0</td>\n",
       "      <td>1.0</td>\n",
       "      <td>0.0</td>\n",
       "      <td>1.0</td>\n",
       "      <td>3.0</td>\n",
       "    </tr>\n",
       "    <tr>\n",
       "      <th>2</th>\n",
       "      <td>2015-01-04 02:00:00</td>\n",
       "      <td>134</td>\n",
       "      <td>2.5</td>\n",
       "      <td>2.5</td>\n",
       "      <td>96.5</td>\n",
       "      <td>0.0</td>\n",
       "      <td>1.0</td>\n",
       "      <td>0.0</td>\n",
       "      <td>1.0</td>\n",
       "      <td>3.0</td>\n",
       "    </tr>\n",
       "    <tr>\n",
       "      <th>3</th>\n",
       "      <td>2015-01-04 03:00:00</td>\n",
       "      <td>72</td>\n",
       "      <td>2.0</td>\n",
       "      <td>2.0</td>\n",
       "      <td>100.0</td>\n",
       "      <td>0.0</td>\n",
       "      <td>1.0</td>\n",
       "      <td>0.0</td>\n",
       "      <td>1.0</td>\n",
       "      <td>3.0</td>\n",
       "    </tr>\n",
       "    <tr>\n",
       "      <th>4</th>\n",
       "      <td>2015-01-04 04:00:00</td>\n",
       "      <td>47</td>\n",
       "      <td>2.0</td>\n",
       "      <td>0.0</td>\n",
       "      <td>93.0</td>\n",
       "      <td>6.5</td>\n",
       "      <td>1.0</td>\n",
       "      <td>0.0</td>\n",
       "      <td>1.0</td>\n",
       "      <td>3.0</td>\n",
       "    </tr>\n",
       "  </tbody>\n",
       "</table>\n",
       "</div>"
      ],
      "text/plain": [
       "             timestamp  count_of_shares  real temperature  feels like  \\\n",
       "0  2015-01-04 00:00:00              182               3.0         2.0   \n",
       "1  2015-01-04 01:00:00              138               3.0         2.5   \n",
       "2  2015-01-04 02:00:00              134               2.5         2.5   \n",
       "3  2015-01-04 03:00:00               72               2.0         2.0   \n",
       "4  2015-01-04 04:00:00               47               2.0         0.0   \n",
       "\n",
       "   humidity  wind-speed  weather-code  is_holiday  is_weekend  season  \n",
       "0      93.0         6.0           3.0         0.0         1.0     3.0  \n",
       "1      93.0         5.0           1.0         0.0         1.0     3.0  \n",
       "2      96.5         0.0           1.0         0.0         1.0     3.0  \n",
       "3     100.0         0.0           1.0         0.0         1.0     3.0  \n",
       "4      93.0         6.5           1.0         0.0         1.0     3.0  "
      ]
     },
     "metadata": {},
     "execution_count": 19
    }
   ],
   "metadata": {}
  },
  {
   "cell_type": "code",
   "execution_count": 27,
   "source": [
    "# create 1 new feature and increase data by 20-30%\r\n",
    "bikes['real temperature'].value_counts()"
   ],
   "outputs": [
    {
     "output_type": "execute_result",
     "data": {
      "text/plain": [
       " 13.000000    969\n",
       " 12.000000    822\n",
       " 9.000000     807\n",
       " 14.000000    802\n",
       " 11.000000    779\n",
       "             ... \n",
       " 33.500000      3\n",
       " 31.500000      3\n",
       " 34.000000      2\n",
       " 10.333333      1\n",
       "-1.500000       1\n",
       "Name: real temperature, Length: 73, dtype: int64"
      ]
     },
     "metadata": {},
     "execution_count": 27
    }
   ],
   "metadata": {}
  },
  {
   "cell_type": "code",
   "execution_count": 21,
   "source": [
    "bikes.shape"
   ],
   "outputs": [
    {
     "output_type": "execute_result",
     "data": {
      "text/plain": [
       "(17414, 10)"
      ]
     },
     "metadata": {},
     "execution_count": 21
    }
   ],
   "metadata": {}
  },
  {
   "cell_type": "code",
   "execution_count": 46,
   "source": [
    "bikes['humidity'].values.mean()"
   ],
   "outputs": [
    {
     "output_type": "execute_result",
     "data": {
      "text/plain": [
       "72.32495405995176"
      ]
     },
     "metadata": {},
     "execution_count": 46
    }
   ],
   "metadata": {}
  },
  {
   "cell_type": "code",
   "execution_count": 52,
   "source": [
    "#  Lets find corellation between features and new feature based on it\r\n",
    "sns.heatmap(bikes.iloc[:,1:].corr(),)\r\n",
    "# corellations :\r\n",
    "\"\"\"\r\n",
    "humidity - count of shares,real temperature,feels like\r\n",
    "seasomn-humidity\r\n",
    "\r\n",
    "\"\"\""
   ],
   "outputs": [
    {
     "output_type": "execute_result",
     "data": {
      "text/plain": [
       "<AxesSubplot:>"
      ]
     },
     "metadata": {},
     "execution_count": 52
    },
    {
     "output_type": "display_data",
     "data": {
      "image/png": "[encoded data removed]",
      "image/svg+xml": "<?xml version=\"1.0\" encoding=\"utf-8\" standalone=\"no\"?>\r\n<!DOCTYPE svg PUBLIC \"-//W3C//DTD SVG 1.1//EN\"\r\n  \"http://www.w3.org/Graphics/SVG/1.1/DTD/svg11.dtd\">\r\n<!-- Created with matplotlib (https://matplotlib.org/) -->\r\n<svg height=\"327.614219pt\" version=\"1.1\" viewBox=\"0 0 433.109812 327.614219\" width=\"433.109812pt\" xmlns=\"http://www.w3.org/2000/svg\" xmlns:xlink=\"http://www.w3.org/1999/xlink\">\r\n <metadata>\r\n  <rdf:RDF xmlns:cc=\"http://creativecommons.org/ns#\" xmlns:dc=\"http://purl.org/dc/elements/1.1/\" xmlns:rdf=\"http://www.w3.org/1999/02/22-rdf-syntax-ns#\">\r\n   <cc:Work>\r\n    <dc:type rdf:resource=\"http://purl.org/dc/dcmitype/StillImage\"/>\r\n    <dc:date>2021-07-13T17:02:26.188764</dc:date>\r\n    <dc:format>image/svg+xml</dc:format>\r\n    <dc:creator>\r\n     <cc:Agent>\r\n      <dc:title>Matplotlib v3.3.4, https://matplotlib.org/</dc:title>\r\n     </cc:Agent>\r\n    </dc:creator>\r\n   </cc:Work>\r\n  </rdf:RDF>\r\n </metadata>\r\n <defs>\r\n  <style type=\"text/css\">*{stroke-linecap:butt;stroke-linejoin:round;}</style>\r\n </defs>\r\n <g id=\"figure_1\">\r\n  <g id=\"patch_1\">\r\n   <path d=\"M 0 327.614219 \r\nL 433.109813 327.614219 \r\nL 433.109813 0 \r\nL 0 0 \r\nz\r\n\" style=\"fill:none;\"/>\r\n  </g>\r\n  <g id=\"axes_1\">\r\n   <g id=\"patch_2\">\r\n    <path d=\"M 99.175 228.439219 \r\nL 367.015 228.439219 \r\nL 367.015 10.999219 \r\nL 99.175 10.999219 \r\nz\r\n\" style=\"fill:#ffffff;\"/>\r\n   </g>\r\n   <g id=\"QuadMesh_1\">\r\n    <path clip-path=\"url(#p3535980ba5)\" d=\"M 99.175 10.999219 \r\nL 128.935 10.999219 \r\nL 128.935 35.159219 \r\nL 99.175 35.159219 \r\nL 99.175 10.999219 \r\n\" style=\"fill:#faebdd;\"/>\r\n    <path clip-path=\"url(#p3535980ba5)\" d=\"M 128.935 10.999219 \r\nL 158.695 10.999219 \r\nL 158.695 35.159219 \r\nL 128.935 35.159219 \r\nL 128.935 10.999219 \r\n\" style=\"fill:#e43841;\"/>\r\n    <path clip-path=\"url(#p3535980ba5)\" d=\"M 158.695 10.999219 \r\nL 188.455 10.999219 \r\nL 188.455 35.159219 \r\nL 158.695 35.159219 \r\nL 158.695 10.999219 \r\n\" style=\"fill:#e03143;\"/>\r\n    <path clip-path=\"url(#p3535980ba5)\" d=\"M 188.455 10.999219 \r\nL 218.215 10.999219 \r\nL 218.215 35.159219 \r\nL 188.455 35.159219 \r\nL 188.455 10.999219 \r\n\" style=\"fill:#03051a;\"/>\r\n    <path clip-path=\"url(#p3535980ba5)\" d=\"M 218.215 10.999219 \r\nL 247.975 10.999219 \r\nL 247.975 35.159219 \r\nL 218.215 35.159219 \r\nL 218.215 10.999219 \r\n\" style=\"fill:#9f1a5b;\"/>\r\n    <path clip-path=\"url(#p3535980ba5)\" d=\"M 247.975 10.999219 \r\nL 277.735 10.999219 \r\nL 277.735 35.159219 \r\nL 247.975 35.159219 \r\nL 247.975 10.999219 \r\n\" style=\"fill:#4c1d4b;\"/>\r\n    <path clip-path=\"url(#p3535980ba5)\" d=\"M 277.735 10.999219 \r\nL 307.495 10.999219 \r\nL 307.495 35.159219 \r\nL 277.735 35.159219 \r\nL 277.735 10.999219 \r\n\" style=\"fill:#6d1f56;\"/>\r\n    <path clip-path=\"url(#p3535980ba5)\" d=\"M 307.495 10.999219 \r\nL 337.255 10.999219 \r\nL 337.255 35.159219 \r\nL 307.495 35.159219 \r\nL 307.495 10.999219 \r\n\" style=\"fill:#611f53;\"/>\r\n    <path clip-path=\"url(#p3535980ba5)\" d=\"M 337.255 10.999219 \r\nL 367.015 10.999219 \r\nL 367.015 35.159219 \r\nL 337.255 35.159219 \r\nL 337.255 10.999219 \r\n\" style=\"fill:#5b1e51;\"/>\r\n    <path clip-path=\"url(#p3535980ba5)\" d=\"M 99.175 35.159219 \r\nL 128.935 35.159219 \r\nL 128.935 59.319219 \r\nL 99.175 59.319219 \r\nL 99.175 35.159219 \r\n\" style=\"fill:#e43841;\"/>\r\n    <path clip-path=\"url(#p3535980ba5)\" d=\"M 128.935 35.159219 \r\nL 158.695 35.159219 \r\nL 158.695 59.319219 \r\nL 128.935 59.319219 \r\nL 128.935 35.159219 \r\n\" style=\"fill:#faebdd;\"/>\r\n    <path clip-path=\"url(#p3535980ba5)\" d=\"M 158.695 35.159219 \r\nL 188.455 35.159219 \r\nL 188.455 59.319219 \r\nL 158.695 59.319219 \r\nL 158.695 35.159219 \r\n\" style=\"fill:#fae8d8;\"/>\r\n    <path clip-path=\"url(#p3535980ba5)\" d=\"M 188.455 35.159219 \r\nL 218.215 35.159219 \r\nL 218.215 59.319219 \r\nL 188.455 59.319219 \r\nL 188.455 35.159219 \r\n\" style=\"fill:#05061b;\"/>\r\n    <path clip-path=\"url(#p3535980ba5)\" d=\"M 218.215 35.159219 \r\nL 247.975 35.159219 \r\nL 247.975 59.319219 \r\nL 218.215 59.319219 \r\nL 218.215 35.159219 \r\n\" style=\"fill:#a8185a;\"/>\r\n    <path clip-path=\"url(#p3535980ba5)\" d=\"M 247.975 35.159219 \r\nL 277.735 35.159219 \r\nL 277.735 59.319219 \r\nL 247.975 59.319219 \r\nL 247.975 35.159219 \r\n\" style=\"fill:#611f53;\"/>\r\n    <path clip-path=\"url(#p3535980ba5)\" d=\"M 277.735 35.159219 \r\nL 307.495 35.159219 \r\nL 307.495 59.319219 \r\nL 277.735 59.319219 \r\nL 277.735 35.159219 \r\n\" style=\"fill:#701f57;\"/>\r\n    <path clip-path=\"url(#p3535980ba5)\" d=\"M 307.495 35.159219 \r\nL 337.255 35.159219 \r\nL 337.255 59.319219 \r\nL 307.495 59.319219 \r\nL 307.495 35.159219 \r\n\" style=\"fill:#7b1f59;\"/>\r\n    <path clip-path=\"url(#p3535980ba5)\" d=\"M 337.255 35.159219 \r\nL 367.015 35.159219 \r\nL 367.015 59.319219 \r\nL 337.255 59.319219 \r\nL 337.255 35.159219 \r\n\" style=\"fill:#2d1738;\"/>\r\n    <path clip-path=\"url(#p3535980ba5)\" d=\"M 99.175 59.319219 \r\nL 128.935 59.319219 \r\nL 128.935 83.479219 \r\nL 99.175 83.479219 \r\nL 99.175 59.319219 \r\n\" style=\"fill:#e03143;\"/>\r\n    <path clip-path=\"url(#p3535980ba5)\" d=\"M 128.935 59.319219 \r\nL 158.695 59.319219 \r\nL 158.695 83.479219 \r\nL 128.935 83.479219 \r\nL 128.935 59.319219 \r\n\" style=\"fill:#fae8d8;\"/>\r\n    <path clip-path=\"url(#p3535980ba5)\" d=\"M 158.695 59.319219 \r\nL 188.455 59.319219 \r\nL 188.455 83.479219 \r\nL 158.695 83.479219 \r\nL 158.695 59.319219 \r\n\" style=\"fill:#faebdd;\"/>\r\n    <path clip-path=\"url(#p3535980ba5)\" d=\"M 188.455 59.319219 \r\nL 218.215 59.319219 \r\nL 218.215 83.479219 \r\nL 188.455 83.479219 \r\nL 188.455 59.319219 \r\n\" style=\"fill:#100b23;\"/>\r\n    <path clip-path=\"url(#p3535980ba5)\" d=\"M 218.215 59.319219 \r\nL 247.975 59.319219 \r\nL 247.975 83.479219 \r\nL 218.215 83.479219 \r\nL 218.215 59.319219 \r\n\" style=\"fill:#971c5b;\"/>\r\n    <path clip-path=\"url(#p3535980ba5)\" d=\"M 247.975 59.319219 \r\nL 277.735 59.319219 \r\nL 277.735 83.479219 \r\nL 247.975 83.479219 \r\nL 247.975 59.319219 \r\n\" style=\"fill:#601f52;\"/>\r\n    <path clip-path=\"url(#p3535980ba5)\" d=\"M 277.735 59.319219 \r\nL 307.495 59.319219 \r\nL 307.495 83.479219 \r\nL 277.735 83.479219 \r\nL 277.735 59.319219 \r\n\" style=\"fill:#701f57;\"/>\r\n    <path clip-path=\"url(#p3535980ba5)\" d=\"M 307.495 59.319219 \r\nL 337.255 59.319219 \r\nL 337.255 83.479219 \r\nL 307.495 83.479219 \r\nL 307.495 59.319219 \r\n\" style=\"fill:#7a1f59;\"/>\r\n    <path clip-path=\"url(#p3535980ba5)\" d=\"M 337.255 59.319219 \r\nL 367.015 59.319219 \r\nL 367.015 83.479219 \r\nL 337.255 83.479219 \r\nL 337.255 59.319219 \r\n\" style=\"fill:#2d1738;\"/>\r\n    <path clip-path=\"url(#p3535980ba5)\" d=\"M 99.175 83.479219 \r\nL 128.935 83.479219 \r\nL 128.935 107.639219 \r\nL 99.175 107.639219 \r\nL 99.175 83.479219 \r\n\" style=\"fill:#03051a;\"/>\r\n    <path clip-path=\"url(#p3535980ba5)\" d=\"M 128.935 83.479219 \r\nL 158.695 83.479219 \r\nL 158.695 107.639219 \r\nL 128.935 107.639219 \r\nL 128.935 83.479219 \r\n\" style=\"fill:#05061b;\"/>\r\n    <path clip-path=\"url(#p3535980ba5)\" d=\"M 158.695 83.479219 \r\nL 188.455 83.479219 \r\nL 188.455 107.639219 \r\nL 158.695 107.639219 \r\nL 158.695 83.479219 \r\n\" style=\"fill:#100b23;\"/>\r\n    <path clip-path=\"url(#p3535980ba5)\" d=\"M 188.455 83.479219 \r\nL 218.215 83.479219 \r\nL 218.215 107.639219 \r\nL 188.455 107.639219 \r\nL 188.455 83.479219 \r\n\" style=\"fill:#faebdd;\"/>\r\n    <path clip-path=\"url(#p3535980ba5)\" d=\"M 218.215 83.479219 \r\nL 247.975 83.479219 \r\nL 247.975 107.639219 \r\nL 218.215 107.639219 \r\nL 218.215 83.479219 \r\n\" style=\"fill:#2d1738;\"/>\r\n    <path clip-path=\"url(#p3535980ba5)\" d=\"M 247.975 83.479219 \r\nL 277.735 83.479219 \r\nL 277.735 107.639219 \r\nL 247.975 107.639219 \r\nL 247.975 83.479219 \r\n\" style=\"fill:#d92847;\"/>\r\n    <path clip-path=\"url(#p3535980ba5)\" d=\"M 277.735 83.479219 \r\nL 307.495 83.479219 \r\nL 307.495 107.639219 \r\nL 277.735 107.639219 \r\nL 277.735 83.479219 \r\n\" style=\"fill:#861e5b;\"/>\r\n    <path clip-path=\"url(#p3535980ba5)\" d=\"M 307.495 83.479219 \r\nL 337.255 83.479219 \r\nL 337.255 107.639219 \r\nL 307.495 107.639219 \r\nL 307.495 83.479219 \r\n\" style=\"fill:#841e5a;\"/>\r\n    <path clip-path=\"url(#p3535980ba5)\" d=\"M 337.255 83.479219 \r\nL 367.015 83.479219 \r\nL 367.015 107.639219 \r\nL 337.255 107.639219 \r\nL 337.255 83.479219 \r\n\" style=\"fill:#cf1e4d;\"/>\r\n    <path clip-path=\"url(#p3535980ba5)\" d=\"M 99.175 107.639219 \r\nL 128.935 107.639219 \r\nL 128.935 131.799219 \r\nL 99.175 131.799219 \r\nL 99.175 107.639219 \r\n\" style=\"fill:#9f1a5b;\"/>\r\n    <path clip-path=\"url(#p3535980ba5)\" d=\"M 128.935 107.639219 \r\nL 158.695 107.639219 \r\nL 158.695 131.799219 \r\nL 128.935 131.799219 \r\nL 128.935 107.639219 \r\n\" style=\"fill:#a8185a;\"/>\r\n    <path clip-path=\"url(#p3535980ba5)\" d=\"M 158.695 107.639219 \r\nL 188.455 107.639219 \r\nL 188.455 131.799219 \r\nL 158.695 131.799219 \r\nL 158.695 107.639219 \r\n\" style=\"fill:#971c5b;\"/>\r\n    <path clip-path=\"url(#p3535980ba5)\" d=\"M 188.455 107.639219 \r\nL 218.215 107.639219 \r\nL 218.215 131.799219 \r\nL 188.455 131.799219 \r\nL 188.455 107.639219 \r\n\" style=\"fill:#2d1738;\"/>\r\n    <path clip-path=\"url(#p3535980ba5)\" d=\"M 218.215 107.639219 \r\nL 247.975 107.639219 \r\nL 247.975 131.799219 \r\nL 218.215 131.799219 \r\nL 218.215 107.639219 \r\n\" style=\"fill:#faebdd;\"/>\r\n    <path clip-path=\"url(#p3535980ba5)\" d=\"M 247.975 107.639219 \r\nL 277.735 107.639219 \r\nL 277.735 131.799219 \r\nL 247.975 131.799219 \r\nL 247.975 107.639219 \r\n\" style=\"fill:#a11a5b;\"/>\r\n    <path clip-path=\"url(#p3535980ba5)\" d=\"M 277.735 107.639219 \r\nL 307.495 107.639219 \r\nL 307.495 131.799219 \r\nL 277.735 131.799219 \r\nL 277.735 107.639219 \r\n\" style=\"fill:#7b1f59;\"/>\r\n    <path clip-path=\"url(#p3535980ba5)\" d=\"M 307.495 107.639219 \r\nL 337.255 107.639219 \r\nL 337.255 131.799219 \r\nL 307.495 131.799219 \r\nL 307.495 107.639219 \r\n\" style=\"fill:#811e5a;\"/>\r\n    <path clip-path=\"url(#p3535980ba5)\" d=\"M 337.255 107.639219 \r\nL 367.015 107.639219 \r\nL 367.015 131.799219 \r\nL 337.255 131.799219 \r\nL 337.255 107.639219 \r\n\" style=\"fill:#7f1e5a;\"/>\r\n    <path clip-path=\"url(#p3535980ba5)\" d=\"M 99.175 131.799219 \r\nL 128.935 131.799219 \r\nL 128.935 155.959219 \r\nL 99.175 155.959219 \r\nL 99.175 131.799219 \r\n\" style=\"fill:#4c1d4b;\"/>\r\n    <path clip-path=\"url(#p3535980ba5)\" d=\"M 128.935 131.799219 \r\nL 158.695 131.799219 \r\nL 158.695 155.959219 \r\nL 128.935 155.959219 \r\nL 128.935 131.799219 \r\n\" style=\"fill:#611f53;\"/>\r\n    <path clip-path=\"url(#p3535980ba5)\" d=\"M 158.695 131.799219 \r\nL 188.455 131.799219 \r\nL 188.455 155.959219 \r\nL 158.695 155.959219 \r\nL 158.695 131.799219 \r\n\" style=\"fill:#601f52;\"/>\r\n    <path clip-path=\"url(#p3535980ba5)\" d=\"M 188.455 131.799219 \r\nL 218.215 131.799219 \r\nL 218.215 155.959219 \r\nL 188.455 155.959219 \r\nL 188.455 131.799219 \r\n\" style=\"fill:#d92847;\"/>\r\n    <path clip-path=\"url(#p3535980ba5)\" d=\"M 218.215 131.799219 \r\nL 247.975 131.799219 \r\nL 247.975 155.959219 \r\nL 218.215 155.959219 \r\nL 218.215 131.799219 \r\n\" style=\"fill:#a11a5b;\"/>\r\n    <path clip-path=\"url(#p3535980ba5)\" d=\"M 247.975 131.799219 \r\nL 277.735 131.799219 \r\nL 277.735 155.959219 \r\nL 247.975 155.959219 \r\nL 247.975 131.799219 \r\n\" style=\"fill:#faebdd;\"/>\r\n    <path clip-path=\"url(#p3535980ba5)\" d=\"M 277.735 131.799219 \r\nL 307.495 131.799219 \r\nL 307.495 155.959219 \r\nL 277.735 155.959219 \r\nL 277.735 131.799219 \r\n\" style=\"fill:#811e5a;\"/>\r\n    <path clip-path=\"url(#p3535980ba5)\" d=\"M 307.495 131.799219 \r\nL 337.255 131.799219 \r\nL 337.255 155.959219 \r\nL 307.495 155.959219 \r\nL 307.495 131.799219 \r\n\" style=\"fill:#891e5b;\"/>\r\n    <path clip-path=\"url(#p3535980ba5)\" d=\"M 337.255 131.799219 \r\nL 367.015 131.799219 \r\nL 367.015 155.959219 \r\nL 337.255 155.959219 \r\nL 337.255 131.799219 \r\n\" style=\"fill:#9a1b5b;\"/>\r\n    <path clip-path=\"url(#p3535980ba5)\" d=\"M 99.175 155.959219 \r\nL 128.935 155.959219 \r\nL 128.935 180.119219 \r\nL 99.175 180.119219 \r\nL 99.175 155.959219 \r\n\" style=\"fill:#6d1f56;\"/>\r\n    <path clip-path=\"url(#p3535980ba5)\" d=\"M 128.935 155.959219 \r\nL 158.695 155.959219 \r\nL 158.695 180.119219 \r\nL 128.935 180.119219 \r\nL 128.935 155.959219 \r\n\" style=\"fill:#701f57;\"/>\r\n    <path clip-path=\"url(#p3535980ba5)\" d=\"M 158.695 155.959219 \r\nL 188.455 155.959219 \r\nL 188.455 180.119219 \r\nL 158.695 180.119219 \r\nL 158.695 155.959219 \r\n\" style=\"fill:#701f57;\"/>\r\n    <path clip-path=\"url(#p3535980ba5)\" d=\"M 188.455 155.959219 \r\nL 218.215 155.959219 \r\nL 218.215 180.119219 \r\nL 188.455 180.119219 \r\nL 188.455 155.959219 \r\n\" style=\"fill:#861e5b;\"/>\r\n    <path clip-path=\"url(#p3535980ba5)\" d=\"M 218.215 155.959219 \r\nL 247.975 155.959219 \r\nL 247.975 180.119219 \r\nL 218.215 180.119219 \r\nL 218.215 155.959219 \r\n\" style=\"fill:#7b1f59;\"/>\r\n    <path clip-path=\"url(#p3535980ba5)\" d=\"M 247.975 155.959219 \r\nL 277.735 155.959219 \r\nL 277.735 180.119219 \r\nL 247.975 180.119219 \r\nL 247.975 155.959219 \r\n\" style=\"fill:#811e5a;\"/>\r\n    <path clip-path=\"url(#p3535980ba5)\" d=\"M 277.735 155.959219 \r\nL 307.495 155.959219 \r\nL 307.495 180.119219 \r\nL 277.735 180.119219 \r\nL 277.735 155.959219 \r\n\" style=\"fill:#faebdd;\"/>\r\n    <path clip-path=\"url(#p3535980ba5)\" d=\"M 307.495 155.959219 \r\nL 337.255 155.959219 \r\nL 337.255 180.119219 \r\nL 307.495 180.119219 \r\nL 307.495 155.959219 \r\n\" style=\"fill:#611f53;\"/>\r\n    <path clip-path=\"url(#p3535980ba5)\" d=\"M 337.255 155.959219 \r\nL 367.015 155.959219 \r\nL 367.015 180.119219 \r\nL 337.255 180.119219 \r\nL 337.255 155.959219 \r\n\" style=\"fill:#731f58;\"/>\r\n    <path clip-path=\"url(#p3535980ba5)\" d=\"M 99.175 180.119219 \r\nL 128.935 180.119219 \r\nL 128.935 204.279219 \r\nL 99.175 204.279219 \r\nL 99.175 180.119219 \r\n\" style=\"fill:#611f53;\"/>\r\n    <path clip-path=\"url(#p3535980ba5)\" d=\"M 128.935 180.119219 \r\nL 158.695 180.119219 \r\nL 158.695 204.279219 \r\nL 128.935 204.279219 \r\nL 128.935 180.119219 \r\n\" style=\"fill:#7b1f59;\"/>\r\n    <path clip-path=\"url(#p3535980ba5)\" d=\"M 158.695 180.119219 \r\nL 188.455 180.119219 \r\nL 188.455 204.279219 \r\nL 158.695 204.279219 \r\nL 158.695 180.119219 \r\n\" style=\"fill:#7a1f59;\"/>\r\n    <path clip-path=\"url(#p3535980ba5)\" d=\"M 188.455 180.119219 \r\nL 218.215 180.119219 \r\nL 218.215 204.279219 \r\nL 188.455 204.279219 \r\nL 188.455 180.119219 \r\n\" style=\"fill:#841e5a;\"/>\r\n    <path clip-path=\"url(#p3535980ba5)\" d=\"M 218.215 180.119219 \r\nL 247.975 180.119219 \r\nL 247.975 204.279219 \r\nL 218.215 204.279219 \r\nL 218.215 180.119219 \r\n\" style=\"fill:#811e5a;\"/>\r\n    <path clip-path=\"url(#p3535980ba5)\" d=\"M 247.975 180.119219 \r\nL 277.735 180.119219 \r\nL 277.735 204.279219 \r\nL 247.975 204.279219 \r\nL 247.975 180.119219 \r\n\" style=\"fill:#891e5b;\"/>\r\n    <path clip-path=\"url(#p3535980ba5)\" d=\"M 277.735 180.119219 \r\nL 307.495 180.119219 \r\nL 307.495 204.279219 \r\nL 277.735 204.279219 \r\nL 277.735 180.119219 \r\n\" style=\"fill:#611f53;\"/>\r\n    <path clip-path=\"url(#p3535980ba5)\" d=\"M 307.495 180.119219 \r\nL 337.255 180.119219 \r\nL 337.255 204.279219 \r\nL 307.495 204.279219 \r\nL 307.495 180.119219 \r\n\" style=\"fill:#faebdd;\"/>\r\n    <path clip-path=\"url(#p3535980ba5)\" d=\"M 337.255 180.119219 \r\nL 367.015 180.119219 \r\nL 367.015 204.279219 \r\nL 337.255 204.279219 \r\nL 337.255 180.119219 \r\n\" style=\"fill:#7d1f5a;\"/>\r\n    <path clip-path=\"url(#p3535980ba5)\" d=\"M 99.175 204.279219 \r\nL 128.935 204.279219 \r\nL 128.935 228.439219 \r\nL 99.175 228.439219 \r\nL 99.175 204.279219 \r\n\" style=\"fill:#5b1e51;\"/>\r\n    <path clip-path=\"url(#p3535980ba5)\" d=\"M 128.935 204.279219 \r\nL 158.695 204.279219 \r\nL 158.695 228.439219 \r\nL 128.935 228.439219 \r\nL 128.935 204.279219 \r\n\" style=\"fill:#2d1738;\"/>\r\n    <path clip-path=\"url(#p3535980ba5)\" d=\"M 158.695 204.279219 \r\nL 188.455 204.279219 \r\nL 188.455 228.439219 \r\nL 158.695 228.439219 \r\nL 158.695 204.279219 \r\n\" style=\"fill:#2d1738;\"/>\r\n    <path clip-path=\"url(#p3535980ba5)\" d=\"M 188.455 204.279219 \r\nL 218.215 204.279219 \r\nL 218.215 228.439219 \r\nL 188.455 228.439219 \r\nL 188.455 204.279219 \r\n\" style=\"fill:#cf1e4d;\"/>\r\n    <path clip-path=\"url(#p3535980ba5)\" d=\"M 218.215 204.279219 \r\nL 247.975 204.279219 \r\nL 247.975 228.439219 \r\nL 218.215 228.439219 \r\nL 218.215 204.279219 \r\n\" style=\"fill:#7f1e5a;\"/>\r\n    <path clip-path=\"url(#p3535980ba5)\" d=\"M 247.975 204.279219 \r\nL 277.735 204.279219 \r\nL 277.735 228.439219 \r\nL 247.975 228.439219 \r\nL 247.975 204.279219 \r\n\" style=\"fill:#9a1b5b;\"/>\r\n    <path clip-path=\"url(#p3535980ba5)\" d=\"M 277.735 204.279219 \r\nL 307.495 204.279219 \r\nL 307.495 228.439219 \r\nL 277.735 228.439219 \r\nL 277.735 204.279219 \r\n\" style=\"fill:#731f58;\"/>\r\n    <path clip-path=\"url(#p3535980ba5)\" d=\"M 307.495 204.279219 \r\nL 337.255 204.279219 \r\nL 337.255 228.439219 \r\nL 307.495 228.439219 \r\nL 307.495 204.279219 \r\n\" style=\"fill:#7d1f5a;\"/>\r\n    <path clip-path=\"url(#p3535980ba5)\" d=\"M 337.255 204.279219 \r\nL 367.015 204.279219 \r\nL 367.015 228.439219 \r\nL 337.255 228.439219 \r\nL 337.255 204.279219 \r\n\" style=\"fill:#faebdd;\"/>\r\n   </g>\r\n   <g id=\"matplotlib.axis_1\">\r\n    <g id=\"xtick_1\">\r\n     <g id=\"line2d_1\">\r\n      <defs>\r\n       <path d=\"M 0 0 \r\nL 0 3.5 \r\n\" id=\"m93587094a5\" style=\"stroke:#000000;stroke-width:0.8;\"/>\r\n      </defs>\r\n      <g>\r\n       <use style=\"stroke:#000000;stroke-width:0.8;\" x=\"114.055\" xlink:href=\"#m93587094a5\" y=\"228.439219\"/>\r\n      </g>\r\n     </g>\r\n     <g id=\"text_1\">\r\n      <!-- count_of_shares -->\r\n      <g transform=\"translate(116.675313 316.214219)rotate(-90)scale(0.1 -0.1)\">\r\n       <defs>\r\n        <path d=\"M 48.78125 52.59375 \r\nL 48.78125 44.1875 \r\nQ 44.96875 46.296875 41.140625 47.34375 \r\nQ 37.3125 48.390625 33.40625 48.390625 \r\nQ 24.65625 48.390625 19.8125 42.84375 \r\nQ 14.984375 37.3125 14.984375 27.296875 \r\nQ 14.984375 17.28125 19.8125 11.734375 \r\nQ 24.65625 6.203125 33.40625 6.203125 \r\nQ 37.3125 6.203125 41.140625 7.25 \r\nQ 44.96875 8.296875 48.78125 10.40625 \r\nL 48.78125 2.09375 \r\nQ 45.015625 0.34375 40.984375 -0.53125 \r\nQ 36.96875 -1.421875 32.421875 -1.421875 \r\nQ 20.0625 -1.421875 12.78125 6.34375 \r\nQ 5.515625 14.109375 5.515625 27.296875 \r\nQ 5.515625 40.671875 12.859375 48.328125 \r\nQ 20.21875 56 33.015625 56 \r\nQ 37.15625 56 41.109375 55.140625 \r\nQ 45.0625 54.296875 48.78125 52.59375 \r\nz\r\n\" id=\"DejaVuSans-99\"/>\r\n        <path d=\"M 30.609375 48.390625 \r\nQ 23.390625 48.390625 19.1875 42.75 \r\nQ 14.984375 37.109375 14.984375 27.296875 \r\nQ 14.984375 17.484375 19.15625 11.84375 \r\nQ 23.34375 6.203125 30.609375 6.203125 \r\nQ 37.796875 6.203125 41.984375 11.859375 \r\nQ 46.1875 17.53125 46.1875 27.296875 \r\nQ 46.1875 37.015625 41.984375 42.703125 \r\nQ 37.796875 48.390625 30.609375 48.390625 \r\nz\r\nM 30.609375 56 \r\nQ 42.328125 56 49.015625 48.375 \r\nQ 55.71875 40.765625 55.71875 27.296875 \r\nQ 55.71875 13.875 49.015625 6.21875 \r\nQ 42.328125 -1.421875 30.609375 -1.421875 \r\nQ 18.84375 -1.421875 12.171875 6.21875 \r\nQ 5.515625 13.875 5.515625 27.296875 \r\nQ 5.515625 40.765625 12.171875 48.375 \r\nQ 18.84375 56 30.609375 56 \r\nz\r\n\" id=\"DejaVuSans-111\"/>\r\n        <path d=\"M 8.5 21.578125 \r\nL 8.5 54.6875 \r\nL 17.484375 54.6875 \r\nL 17.484375 21.921875 \r\nQ 17.484375 14.15625 20.5 10.265625 \r\nQ 23.53125 6.390625 29.59375 6.390625 \r\nQ 36.859375 6.390625 41.078125 11.03125 \r\nQ 45.3125 15.671875 45.3125 23.6875 \r\nL 45.3125 54.6875 \r\nL 54.296875 54.6875 \r\nL 54.296875 0 \r\nL 45.3125 0 \r\nL 45.3125 8.40625 \r\nQ 42.046875 3.421875 37.71875 1 \r\nQ 33.40625 -1.421875 27.6875 -1.421875 \r\nQ 18.265625 -1.421875 13.375 4.4375 \r\nQ 8.5 10.296875 8.5 21.578125 \r\nz\r\nM 31.109375 56 \r\nz\r\n\" id=\"DejaVuSans-117\"/>\r\n        <path d=\"M 54.890625 33.015625 \r\nL 54.890625 0 \r\nL 45.90625 0 \r\nL 45.90625 32.71875 \r\nQ 45.90625 40.484375 42.875 44.328125 \r\nQ 39.84375 48.1875 33.796875 48.1875 \r\nQ 26.515625 48.1875 22.3125 43.546875 \r\nQ 18.109375 38.921875 18.109375 30.90625 \r\nL 18.109375 0 \r\nL 9.078125 0 \r\nL 9.078125 54.6875 \r\nL 18.109375 54.6875 \r\nL 18.109375 46.1875 \r\nQ 21.34375 51.125 25.703125 53.5625 \r\nQ 30.078125 56 35.796875 56 \r\nQ 45.21875 56 50.046875 50.171875 \r\nQ 54.890625 44.34375 54.890625 33.015625 \r\nz\r\n\" id=\"DejaVuSans-110\"/>\r\n        <path d=\"M 18.3125 70.21875 \r\nL 18.3125 54.6875 \r\nL 36.8125 54.6875 \r\nL 36.8125 47.703125 \r\nL 18.3125 47.703125 \r\nL 18.3125 18.015625 \r\nQ 18.3125 11.328125 20.140625 9.421875 \r\nQ 21.96875 7.515625 27.59375 7.515625 \r\nL 36.8125 7.515625 \r\nL 36.8125 0 \r\nL 27.59375 0 \r\nQ 17.1875 0 13.234375 3.875 \r\nQ 9.28125 7.765625 9.28125 18.015625 \r\nL 9.28125 47.703125 \r\nL 2.6875 47.703125 \r\nL 2.6875 54.6875 \r\nL 9.28125 54.6875 \r\nL 9.28125 70.21875 \r\nz\r\n\" id=\"DejaVuSans-116\"/>\r\n        <path d=\"M 50.984375 -16.609375 \r\nL 50.984375 -23.578125 \r\nL -0.984375 -23.578125 \r\nL -0.984375 -16.609375 \r\nz\r\n\" id=\"DejaVuSans-95\"/>\r\n        <path d=\"M 37.109375 75.984375 \r\nL 37.109375 68.5 \r\nL 28.515625 68.5 \r\nQ 23.6875 68.5 21.796875 66.546875 \r\nQ 19.921875 64.59375 19.921875 59.515625 \r\nL 19.921875 54.6875 \r\nL 34.71875 54.6875 \r\nL 34.71875 47.703125 \r\nL 19.921875 47.703125 \r\nL 19.921875 0 \r\nL 10.890625 0 \r\nL 10.890625 47.703125 \r\nL 2.296875 47.703125 \r\nL 2.296875 54.6875 \r\nL 10.890625 54.6875 \r\nL 10.890625 58.5 \r\nQ 10.890625 67.625 15.140625 71.796875 \r\nQ 19.390625 75.984375 28.609375 75.984375 \r\nz\r\n\" id=\"DejaVuSans-102\"/>\r\n        <path d=\"M 44.28125 53.078125 \r\nL 44.28125 44.578125 \r\nQ 40.484375 46.53125 36.375 47.5 \r\nQ 32.28125 48.484375 27.875 48.484375 \r\nQ 21.1875 48.484375 17.84375 46.4375 \r\nQ 14.5 44.390625 14.5 40.28125 \r\nQ 14.5 37.15625 16.890625 35.375 \r\nQ 19.28125 33.59375 26.515625 31.984375 \r\nL 29.59375 31.296875 \r\nQ 39.15625 29.25 43.1875 25.515625 \r\nQ 47.21875 21.78125 47.21875 15.09375 \r\nQ 47.21875 7.46875 41.1875 3.015625 \r\nQ 35.15625 -1.421875 24.609375 -1.421875 \r\nQ 20.21875 -1.421875 15.453125 -0.5625 \r\nQ 10.6875 0.296875 5.421875 2 \r\nL 5.421875 11.28125 \r\nQ 10.40625 8.6875 15.234375 7.390625 \r\nQ 20.0625 6.109375 24.8125 6.109375 \r\nQ 31.15625 6.109375 34.5625 8.28125 \r\nQ 37.984375 10.453125 37.984375 14.40625 \r\nQ 37.984375 18.0625 35.515625 20.015625 \r\nQ 33.0625 21.96875 24.703125 23.78125 \r\nL 21.578125 24.515625 \r\nQ 13.234375 26.265625 9.515625 29.90625 \r\nQ 5.8125 33.546875 5.8125 39.890625 \r\nQ 5.8125 47.609375 11.28125 51.796875 \r\nQ 16.75 56 26.8125 56 \r\nQ 31.78125 56 36.171875 55.265625 \r\nQ 40.578125 54.546875 44.28125 53.078125 \r\nz\r\n\" id=\"DejaVuSans-115\"/>\r\n        <path d=\"M 54.890625 33.015625 \r\nL 54.890625 0 \r\nL 45.90625 0 \r\nL 45.90625 32.71875 \r\nQ 45.90625 40.484375 42.875 44.328125 \r\nQ 39.84375 48.1875 33.796875 48.1875 \r\nQ 26.515625 48.1875 22.3125 43.546875 \r\nQ 18.109375 38.921875 18.109375 30.90625 \r\nL 18.109375 0 \r\nL 9.078125 0 \r\nL 9.078125 75.984375 \r\nL 18.109375 75.984375 \r\nL 18.109375 46.1875 \r\nQ 21.34375 51.125 25.703125 53.5625 \r\nQ 30.078125 56 35.796875 56 \r\nQ 45.21875 56 50.046875 50.171875 \r\nQ 54.890625 44.34375 54.890625 33.015625 \r\nz\r\n\" id=\"DejaVuSans-104\"/>\r\n        <path d=\"M 34.28125 27.484375 \r\nQ 23.390625 27.484375 19.1875 25 \r\nQ 14.984375 22.515625 14.984375 16.5 \r\nQ 14.984375 11.71875 18.140625 8.90625 \r\nQ 21.296875 6.109375 26.703125 6.109375 \r\nQ 34.1875 6.109375 38.703125 11.40625 \r\nQ 43.21875 16.703125 43.21875 25.484375 \r\nL 43.21875 27.484375 \r\nz\r\nM 52.203125 31.203125 \r\nL 52.203125 0 \r\nL 43.21875 0 \r\nL 43.21875 8.296875 \r\nQ 40.140625 3.328125 35.546875 0.953125 \r\nQ 30.953125 -1.421875 24.3125 -1.421875 \r\nQ 15.921875 -1.421875 10.953125 3.296875 \r\nQ 6 8.015625 6 15.921875 \r\nQ 6 25.140625 12.171875 29.828125 \r\nQ 18.359375 34.515625 30.609375 34.515625 \r\nL 43.21875 34.515625 \r\nL 43.21875 35.40625 \r\nQ 43.21875 41.609375 39.140625 45 \r\nQ 35.0625 48.390625 27.6875 48.390625 \r\nQ 23 48.390625 18.546875 47.265625 \r\nQ 14.109375 46.140625 10.015625 43.890625 \r\nL 10.015625 52.203125 \r\nQ 14.9375 54.109375 19.578125 55.046875 \r\nQ 24.21875 56 28.609375 56 \r\nQ 40.484375 56 46.34375 49.84375 \r\nQ 52.203125 43.703125 52.203125 31.203125 \r\nz\r\n\" id=\"DejaVuSans-97\"/>\r\n        <path d=\"M 41.109375 46.296875 \r\nQ 39.59375 47.171875 37.8125 47.578125 \r\nQ 36.03125 48 33.890625 48 \r\nQ 26.265625 48 22.1875 43.046875 \r\nQ 18.109375 38.09375 18.109375 28.8125 \r\nL 18.109375 0 \r\nL 9.078125 0 \r\nL 9.078125 54.6875 \r\nL 18.109375 54.6875 \r\nL 18.109375 46.1875 \r\nQ 20.953125 51.171875 25.484375 53.578125 \r\nQ 30.03125 56 36.53125 56 \r\nQ 37.453125 56 38.578125 55.875 \r\nQ 39.703125 55.765625 41.0625 55.515625 \r\nz\r\n\" id=\"DejaVuSans-114\"/>\r\n        <path d=\"M 56.203125 29.59375 \r\nL 56.203125 25.203125 \r\nL 14.890625 25.203125 \r\nQ 15.484375 15.921875 20.484375 11.0625 \r\nQ 25.484375 6.203125 34.421875 6.203125 \r\nQ 39.59375 6.203125 44.453125 7.46875 \r\nQ 49.3125 8.734375 54.109375 11.28125 \r\nL 54.109375 2.78125 \r\nQ 49.265625 0.734375 44.1875 -0.34375 \r\nQ 39.109375 -1.421875 33.890625 -1.421875 \r\nQ 20.796875 -1.421875 13.15625 6.1875 \r\nQ 5.515625 13.8125 5.515625 26.8125 \r\nQ 5.515625 40.234375 12.765625 48.109375 \r\nQ 20.015625 56 32.328125 56 \r\nQ 43.359375 56 49.78125 48.890625 \r\nQ 56.203125 41.796875 56.203125 29.59375 \r\nz\r\nM 47.21875 32.234375 \r\nQ 47.125 39.59375 43.09375 43.984375 \r\nQ 39.0625 48.390625 32.421875 48.390625 \r\nQ 24.90625 48.390625 20.390625 44.140625 \r\nQ 15.875 39.890625 15.1875 32.171875 \r\nz\r\n\" id=\"DejaVuSans-101\"/>\r\n       </defs>\r\n       <use xlink:href=\"#DejaVuSans-99\"/>\r\n       <use x=\"54.980469\" xlink:href=\"#DejaVuSans-111\"/>\r\n       <use x=\"116.162109\" xlink:href=\"#DejaVuSans-117\"/>\r\n       <use x=\"179.541016\" xlink:href=\"#DejaVuSans-110\"/>\r\n       <use x=\"242.919922\" xlink:href=\"#DejaVuSans-116\"/>\r\n       <use x=\"282.128906\" xlink:href=\"#DejaVuSans-95\"/>\r\n       <use x=\"332.128906\" xlink:href=\"#DejaVuSans-111\"/>\r\n       <use x=\"393.310547\" xlink:href=\"#DejaVuSans-102\"/>\r\n       <use x=\"428.515625\" xlink:href=\"#DejaVuSans-95\"/>\r\n       <use x=\"478.515625\" xlink:href=\"#DejaVuSans-115\"/>\r\n       <use x=\"530.615234\" xlink:href=\"#DejaVuSans-104\"/>\r\n       <use x=\"593.994141\" xlink:href=\"#DejaVuSans-97\"/>\r\n       <use x=\"655.273438\" xlink:href=\"#DejaVuSans-114\"/>\r\n       <use x=\"694.136719\" xlink:href=\"#DejaVuSans-101\"/>\r\n       <use x=\"755.660156\" xlink:href=\"#DejaVuSans-115\"/>\r\n      </g>\r\n     </g>\r\n    </g>\r\n    <g id=\"xtick_2\">\r\n     <g id=\"line2d_2\">\r\n      <g>\r\n       <use style=\"stroke:#000000;stroke-width:0.8;\" x=\"143.815\" xlink:href=\"#m93587094a5\" y=\"228.439219\"/>\r\n      </g>\r\n     </g>\r\n     <g id=\"text_2\">\r\n      <!-- real temperature -->\r\n      <g transform=\"translate(146.574375 320.414219)rotate(-90)scale(0.1 -0.1)\">\r\n       <defs>\r\n        <path d=\"M 9.421875 75.984375 \r\nL 18.40625 75.984375 \r\nL 18.40625 0 \r\nL 9.421875 0 \r\nz\r\n\" id=\"DejaVuSans-108\"/>\r\n        <path id=\"DejaVuSans-32\"/>\r\n        <path d=\"M 52 44.1875 \r\nQ 55.375 50.25 60.0625 53.125 \r\nQ 64.75 56 71.09375 56 \r\nQ 79.640625 56 84.28125 50.015625 \r\nQ 88.921875 44.046875 88.921875 33.015625 \r\nL 88.921875 0 \r\nL 79.890625 0 \r\nL 79.890625 32.71875 \r\nQ 79.890625 40.578125 77.09375 44.375 \r\nQ 74.3125 48.1875 68.609375 48.1875 \r\nQ 61.625 48.1875 57.5625 43.546875 \r\nQ 53.515625 38.921875 53.515625 30.90625 \r\nL 53.515625 0 \r\nL 44.484375 0 \r\nL 44.484375 32.71875 \r\nQ 44.484375 40.625 41.703125 44.40625 \r\nQ 38.921875 48.1875 33.109375 48.1875 \r\nQ 26.21875 48.1875 22.15625 43.53125 \r\nQ 18.109375 38.875 18.109375 30.90625 \r\nL 18.109375 0 \r\nL 9.078125 0 \r\nL 9.078125 54.6875 \r\nL 18.109375 54.6875 \r\nL 18.109375 46.1875 \r\nQ 21.1875 51.21875 25.484375 53.609375 \r\nQ 29.78125 56 35.6875 56 \r\nQ 41.65625 56 45.828125 52.96875 \r\nQ 50 49.953125 52 44.1875 \r\nz\r\n\" id=\"DejaVuSans-109\"/>\r\n        <path d=\"M 18.109375 8.203125 \r\nL 18.109375 -20.796875 \r\nL 9.078125 -20.796875 \r\nL 9.078125 54.6875 \r\nL 18.109375 54.6875 \r\nL 18.109375 46.390625 \r\nQ 20.953125 51.265625 25.265625 53.625 \r\nQ 29.59375 56 35.59375 56 \r\nQ 45.5625 56 51.78125 48.09375 \r\nQ 58.015625 40.1875 58.015625 27.296875 \r\nQ 58.015625 14.40625 51.78125 6.484375 \r\nQ 45.5625 -1.421875 35.59375 -1.421875 \r\nQ 29.59375 -1.421875 25.265625 0.953125 \r\nQ 20.953125 3.328125 18.109375 8.203125 \r\nz\r\nM 48.6875 27.296875 \r\nQ 48.6875 37.203125 44.609375 42.84375 \r\nQ 40.53125 48.484375 33.40625 48.484375 \r\nQ 26.265625 48.484375 22.1875 42.84375 \r\nQ 18.109375 37.203125 18.109375 27.296875 \r\nQ 18.109375 17.390625 22.1875 11.75 \r\nQ 26.265625 6.109375 33.40625 6.109375 \r\nQ 40.53125 6.109375 44.609375 11.75 \r\nQ 48.6875 17.390625 48.6875 27.296875 \r\nz\r\n\" id=\"DejaVuSans-112\"/>\r\n       </defs>\r\n       <use xlink:href=\"#DejaVuSans-114\"/>\r\n       <use x=\"38.863281\" xlink:href=\"#DejaVuSans-101\"/>\r\n       <use x=\"100.386719\" xlink:href=\"#DejaVuSans-97\"/>\r\n       <use x=\"161.666016\" xlink:href=\"#DejaVuSans-108\"/>\r\n       <use x=\"189.449219\" xlink:href=\"#DejaVuSans-32\"/>\r\n       <use x=\"221.236328\" xlink:href=\"#DejaVuSans-116\"/>\r\n       <use x=\"260.445312\" xlink:href=\"#DejaVuSans-101\"/>\r\n       <use x=\"321.96875\" xlink:href=\"#DejaVuSans-109\"/>\r\n       <use x=\"419.380859\" xlink:href=\"#DejaVuSans-112\"/>\r\n       <use x=\"482.857422\" xlink:href=\"#DejaVuSans-101\"/>\r\n       <use x=\"544.380859\" xlink:href=\"#DejaVuSans-114\"/>\r\n       <use x=\"585.494141\" xlink:href=\"#DejaVuSans-97\"/>\r\n       <use x=\"646.773438\" xlink:href=\"#DejaVuSans-116\"/>\r\n       <use x=\"685.982422\" xlink:href=\"#DejaVuSans-117\"/>\r\n       <use x=\"749.361328\" xlink:href=\"#DejaVuSans-114\"/>\r\n       <use x=\"788.224609\" xlink:href=\"#DejaVuSans-101\"/>\r\n      </g>\r\n     </g>\r\n    </g>\r\n    <g id=\"xtick_3\">\r\n     <g id=\"line2d_3\">\r\n      <g>\r\n       <use style=\"stroke:#000000;stroke-width:0.8;\" x=\"173.575\" xlink:href=\"#m93587094a5\" y=\"228.439219\"/>\r\n      </g>\r\n     </g>\r\n     <g id=\"text_3\">\r\n      <!-- feels like -->\r\n      <g transform=\"translate(176.334375 279.568906)rotate(-90)scale(0.1 -0.1)\">\r\n       <defs>\r\n        <path d=\"M 9.421875 54.6875 \r\nL 18.40625 54.6875 \r\nL 18.40625 0 \r\nL 9.421875 0 \r\nz\r\nM 9.421875 75.984375 \r\nL 18.40625 75.984375 \r\nL 18.40625 64.59375 \r\nL 9.421875 64.59375 \r\nz\r\n\" id=\"DejaVuSans-105\"/>\r\n        <path d=\"M 9.078125 75.984375 \r\nL 18.109375 75.984375 \r\nL 18.109375 31.109375 \r\nL 44.921875 54.6875 \r\nL 56.390625 54.6875 \r\nL 27.390625 29.109375 \r\nL 57.625 0 \r\nL 45.90625 0 \r\nL 18.109375 26.703125 \r\nL 18.109375 0 \r\nL 9.078125 0 \r\nz\r\n\" id=\"DejaVuSans-107\"/>\r\n       </defs>\r\n       <use xlink:href=\"#DejaVuSans-102\"/>\r\n       <use x=\"35.205078\" xlink:href=\"#DejaVuSans-101\"/>\r\n       <use x=\"96.728516\" xlink:href=\"#DejaVuSans-101\"/>\r\n       <use x=\"158.251953\" xlink:href=\"#DejaVuSans-108\"/>\r\n       <use x=\"186.035156\" xlink:href=\"#DejaVuSans-115\"/>\r\n       <use x=\"238.134766\" xlink:href=\"#DejaVuSans-32\"/>\r\n       <use x=\"269.921875\" xlink:href=\"#DejaVuSans-108\"/>\r\n       <use x=\"297.705078\" xlink:href=\"#DejaVuSans-105\"/>\r\n       <use x=\"325.488281\" xlink:href=\"#DejaVuSans-107\"/>\r\n       <use x=\"379.773438\" xlink:href=\"#DejaVuSans-101\"/>\r\n      </g>\r\n     </g>\r\n    </g>\r\n    <g id=\"xtick_4\">\r\n     <g id=\"line2d_4\">\r\n      <g>\r\n       <use style=\"stroke:#000000;stroke-width:0.8;\" x=\"203.335\" xlink:href=\"#m93587094a5\" y=\"228.439219\"/>\r\n      </g>\r\n     </g>\r\n     <g id=\"text_4\">\r\n      <!-- humidity -->\r\n      <g transform=\"translate(206.094375 279.598594)rotate(-90)scale(0.1 -0.1)\">\r\n       <defs>\r\n        <path d=\"M 45.40625 46.390625 \r\nL 45.40625 75.984375 \r\nL 54.390625 75.984375 \r\nL 54.390625 0 \r\nL 45.40625 0 \r\nL 45.40625 8.203125 \r\nQ 42.578125 3.328125 38.25 0.953125 \r\nQ 33.9375 -1.421875 27.875 -1.421875 \r\nQ 17.96875 -1.421875 11.734375 6.484375 \r\nQ 5.515625 14.40625 5.515625 27.296875 \r\nQ 5.515625 40.1875 11.734375 48.09375 \r\nQ 17.96875 56 27.875 56 \r\nQ 33.9375 56 38.25 53.625 \r\nQ 42.578125 51.265625 45.40625 46.390625 \r\nz\r\nM 14.796875 27.296875 \r\nQ 14.796875 17.390625 18.875 11.75 \r\nQ 22.953125 6.109375 30.078125 6.109375 \r\nQ 37.203125 6.109375 41.296875 11.75 \r\nQ 45.40625 17.390625 45.40625 27.296875 \r\nQ 45.40625 37.203125 41.296875 42.84375 \r\nQ 37.203125 48.484375 30.078125 48.484375 \r\nQ 22.953125 48.484375 18.875 42.84375 \r\nQ 14.796875 37.203125 14.796875 27.296875 \r\nz\r\n\" id=\"DejaVuSans-100\"/>\r\n        <path d=\"M 32.171875 -5.078125 \r\nQ 28.375 -14.84375 24.75 -17.8125 \r\nQ 21.140625 -20.796875 15.09375 -20.796875 \r\nL 7.90625 -20.796875 \r\nL 7.90625 -13.28125 \r\nL 13.1875 -13.28125 \r\nQ 16.890625 -13.28125 18.9375 -11.515625 \r\nQ 21 -9.765625 23.484375 -3.21875 \r\nL 25.09375 0.875 \r\nL 2.984375 54.6875 \r\nL 12.5 54.6875 \r\nL 29.59375 11.921875 \r\nL 46.6875 54.6875 \r\nL 56.203125 54.6875 \r\nz\r\n\" id=\"DejaVuSans-121\"/>\r\n       </defs>\r\n       <use xlink:href=\"#DejaVuSans-104\"/>\r\n       <use x=\"63.378906\" xlink:href=\"#DejaVuSans-117\"/>\r\n       <use x=\"126.757812\" xlink:href=\"#DejaVuSans-109\"/>\r\n       <use x=\"224.169922\" xlink:href=\"#DejaVuSans-105\"/>\r\n       <use x=\"251.953125\" xlink:href=\"#DejaVuSans-100\"/>\r\n       <use x=\"315.429688\" xlink:href=\"#DejaVuSans-105\"/>\r\n       <use x=\"343.212891\" xlink:href=\"#DejaVuSans-116\"/>\r\n       <use x=\"382.421875\" xlink:href=\"#DejaVuSans-121\"/>\r\n      </g>\r\n     </g>\r\n    </g>\r\n    <g id=\"xtick_5\">\r\n     <g id=\"line2d_5\">\r\n      <g>\r\n       <use style=\"stroke:#000000;stroke-width:0.8;\" x=\"233.095\" xlink:href=\"#m93587094a5\" y=\"228.439219\"/>\r\n      </g>\r\n     </g>\r\n     <g id=\"text_5\">\r\n      <!-- wind-speed -->\r\n      <g transform=\"translate(235.854375 292.901719)rotate(-90)scale(0.1 -0.1)\">\r\n       <defs>\r\n        <path d=\"M 4.203125 54.6875 \r\nL 13.1875 54.6875 \r\nL 24.421875 12.015625 \r\nL 35.59375 54.6875 \r\nL 46.1875 54.6875 \r\nL 57.421875 12.015625 \r\nL 68.609375 54.6875 \r\nL 77.59375 54.6875 \r\nL 63.28125 0 \r\nL 52.6875 0 \r\nL 40.921875 44.828125 \r\nL 29.109375 0 \r\nL 18.5 0 \r\nz\r\n\" id=\"DejaVuSans-119\"/>\r\n        <path d=\"M 4.890625 31.390625 \r\nL 31.203125 31.390625 \r\nL 31.203125 23.390625 \r\nL 4.890625 23.390625 \r\nz\r\n\" id=\"DejaVuSans-45\"/>\r\n       </defs>\r\n       <use xlink:href=\"#DejaVuSans-119\"/>\r\n       <use x=\"81.787109\" xlink:href=\"#DejaVuSans-105\"/>\r\n       <use x=\"109.570312\" xlink:href=\"#DejaVuSans-110\"/>\r\n       <use x=\"172.949219\" xlink:href=\"#DejaVuSans-100\"/>\r\n       <use x=\"236.425781\" xlink:href=\"#DejaVuSans-45\"/>\r\n       <use x=\"272.509766\" xlink:href=\"#DejaVuSans-115\"/>\r\n       <use x=\"324.609375\" xlink:href=\"#DejaVuSans-112\"/>\r\n       <use x=\"388.085938\" xlink:href=\"#DejaVuSans-101\"/>\r\n       <use x=\"449.609375\" xlink:href=\"#DejaVuSans-101\"/>\r\n       <use x=\"511.132812\" xlink:href=\"#DejaVuSans-100\"/>\r\n      </g>\r\n     </g>\r\n    </g>\r\n    <g id=\"xtick_6\">\r\n     <g id=\"line2d_6\">\r\n      <g>\r\n       <use style=\"stroke:#000000;stroke-width:0.8;\" x=\"262.855\" xlink:href=\"#m93587094a5\" y=\"228.439219\"/>\r\n      </g>\r\n     </g>\r\n     <g id=\"text_6\">\r\n      <!-- weather-code -->\r\n      <g transform=\"translate(265.614375 303.509531)rotate(-90)scale(0.1 -0.1)\">\r\n       <use xlink:href=\"#DejaVuSans-119\"/>\r\n       <use x=\"81.787109\" xlink:href=\"#DejaVuSans-101\"/>\r\n       <use x=\"143.310547\" xlink:href=\"#DejaVuSans-97\"/>\r\n       <use x=\"204.589844\" xlink:href=\"#DejaVuSans-116\"/>\r\n       <use x=\"243.798828\" xlink:href=\"#DejaVuSans-104\"/>\r\n       <use x=\"307.177734\" xlink:href=\"#DejaVuSans-101\"/>\r\n       <use x=\"368.701172\" xlink:href=\"#DejaVuSans-114\"/>\r\n       <use x=\"403.439453\" xlink:href=\"#DejaVuSans-45\"/>\r\n       <use x=\"439.523438\" xlink:href=\"#DejaVuSans-99\"/>\r\n       <use x=\"494.503906\" xlink:href=\"#DejaVuSans-111\"/>\r\n       <use x=\"555.685547\" xlink:href=\"#DejaVuSans-100\"/>\r\n       <use x=\"619.162109\" xlink:href=\"#DejaVuSans-101\"/>\r\n      </g>\r\n     </g>\r\n    </g>\r\n    <g id=\"xtick_7\">\r\n     <g id=\"line2d_7\">\r\n      <g>\r\n       <use style=\"stroke:#000000;stroke-width:0.8;\" x=\"292.615\" xlink:href=\"#m93587094a5\" y=\"228.439219\"/>\r\n      </g>\r\n     </g>\r\n     <g id=\"text_7\">\r\n      <!-- is_holiday -->\r\n      <g transform=\"translate(295.235313 284.834531)rotate(-90)scale(0.1 -0.1)\">\r\n       <use xlink:href=\"#DejaVuSans-105\"/>\r\n       <use x=\"27.783203\" xlink:href=\"#DejaVuSans-115\"/>\r\n       <use x=\"79.882812\" xlink:href=\"#DejaVuSans-95\"/>\r\n       <use x=\"129.882812\" xlink:href=\"#DejaVuSans-104\"/>\r\n       <use x=\"193.261719\" xlink:href=\"#DejaVuSans-111\"/>\r\n       <use x=\"254.443359\" xlink:href=\"#DejaVuSans-108\"/>\r\n       <use x=\"282.226562\" xlink:href=\"#DejaVuSans-105\"/>\r\n       <use x=\"310.009766\" xlink:href=\"#DejaVuSans-100\"/>\r\n       <use x=\"373.486328\" xlink:href=\"#DejaVuSans-97\"/>\r\n       <use x=\"434.765625\" xlink:href=\"#DejaVuSans-121\"/>\r\n      </g>\r\n     </g>\r\n    </g>\r\n    <g id=\"xtick_8\">\r\n     <g id=\"line2d_8\">\r\n      <g>\r\n       <use style=\"stroke:#000000;stroke-width:0.8;\" x=\"322.375\" xlink:href=\"#m93587094a5\" y=\"228.439219\"/>\r\n      </g>\r\n     </g>\r\n     <g id=\"text_8\">\r\n      <!-- is_weekend -->\r\n      <g transform=\"translate(324.995313 293.178281)rotate(-90)scale(0.1 -0.1)\">\r\n       <use xlink:href=\"#DejaVuSans-105\"/>\r\n       <use x=\"27.783203\" xlink:href=\"#DejaVuSans-115\"/>\r\n       <use x=\"79.882812\" xlink:href=\"#DejaVuSans-95\"/>\r\n       <use x=\"129.882812\" xlink:href=\"#DejaVuSans-119\"/>\r\n       <use x=\"211.669922\" xlink:href=\"#DejaVuSans-101\"/>\r\n       <use x=\"273.193359\" xlink:href=\"#DejaVuSans-101\"/>\r\n       <use x=\"334.716797\" xlink:href=\"#DejaVuSans-107\"/>\r\n       <use x=\"389.001953\" xlink:href=\"#DejaVuSans-101\"/>\r\n       <use x=\"450.525391\" xlink:href=\"#DejaVuSans-110\"/>\r\n       <use x=\"513.904297\" xlink:href=\"#DejaVuSans-100\"/>\r\n      </g>\r\n     </g>\r\n    </g>\r\n    <g id=\"xtick_9\">\r\n     <g id=\"line2d_9\">\r\n      <g>\r\n       <use style=\"stroke:#000000;stroke-width:0.8;\" x=\"352.135\" xlink:href=\"#m93587094a5\" y=\"228.439219\"/>\r\n      </g>\r\n     </g>\r\n     <g id=\"text_9\">\r\n      <!-- season -->\r\n      <g transform=\"translate(354.894375 270.595469)rotate(-90)scale(0.1 -0.1)\">\r\n       <use xlink:href=\"#DejaVuSans-115\"/>\r\n       <use x=\"52.099609\" xlink:href=\"#DejaVuSans-101\"/>\r\n       <use x=\"113.623047\" xlink:href=\"#DejaVuSans-97\"/>\r\n       <use x=\"174.902344\" xlink:href=\"#DejaVuSans-115\"/>\r\n       <use x=\"227.001953\" xlink:href=\"#DejaVuSans-111\"/>\r\n       <use x=\"288.183594\" xlink:href=\"#DejaVuSans-110\"/>\r\n      </g>\r\n     </g>\r\n    </g>\r\n   </g>\r\n   <g id=\"matplotlib.axis_2\">\r\n    <g id=\"ytick_1\">\r\n     <g id=\"line2d_10\">\r\n      <defs>\r\n       <path d=\"M 0 0 \r\nL -3.5 0 \r\n\" id=\"m6fdee15809\" style=\"stroke:#000000;stroke-width:0.8;\"/>\r\n      </defs>\r\n      <g>\r\n       <use style=\"stroke:#000000;stroke-width:0.8;\" x=\"99.175\" xlink:href=\"#m6fdee15809\" y=\"23.079219\"/>\r\n      </g>\r\n     </g>\r\n     <g id=\"text_10\">\r\n      <!-- count_of_shares -->\r\n      <g transform=\"translate(11.4 26.878437)scale(0.1 -0.1)\">\r\n       <use xlink:href=\"#DejaVuSans-99\"/>\r\n       <use x=\"54.980469\" xlink:href=\"#DejaVuSans-111\"/>\r\n       <use x=\"116.162109\" xlink:href=\"#DejaVuSans-117\"/>\r\n       <use x=\"179.541016\" xlink:href=\"#DejaVuSans-110\"/>\r\n       <use x=\"242.919922\" xlink:href=\"#DejaVuSans-116\"/>\r\n       <use x=\"282.128906\" xlink:href=\"#DejaVuSans-95\"/>\r\n       <use x=\"332.128906\" xlink:href=\"#DejaVuSans-111\"/>\r\n       <use x=\"393.310547\" xlink:href=\"#DejaVuSans-102\"/>\r\n       <use x=\"428.515625\" xlink:href=\"#DejaVuSans-95\"/>\r\n       <use x=\"478.515625\" xlink:href=\"#DejaVuSans-115\"/>\r\n       <use x=\"530.615234\" xlink:href=\"#DejaVuSans-104\"/>\r\n       <use x=\"593.994141\" xlink:href=\"#DejaVuSans-97\"/>\r\n       <use x=\"655.273438\" xlink:href=\"#DejaVuSans-114\"/>\r\n       <use x=\"694.136719\" xlink:href=\"#DejaVuSans-101\"/>\r\n       <use x=\"755.660156\" xlink:href=\"#DejaVuSans-115\"/>\r\n      </g>\r\n     </g>\r\n    </g>\r\n    <g id=\"ytick_2\">\r\n     <g id=\"line2d_11\">\r\n      <g>\r\n       <use style=\"stroke:#000000;stroke-width:0.8;\" x=\"99.175\" xlink:href=\"#m6fdee15809\" y=\"47.239219\"/>\r\n      </g>\r\n     </g>\r\n     <g id=\"text_11\">\r\n      <!-- real temperature -->\r\n      <g transform=\"translate(7.2 51.038437)scale(0.1 -0.1)\">\r\n       <use xlink:href=\"#DejaVuSans-114\"/>\r\n       <use x=\"38.863281\" xlink:href=\"#DejaVuSans-101\"/>\r\n       <use x=\"100.386719\" xlink:href=\"#DejaVuSans-97\"/>\r\n       <use x=\"161.666016\" xlink:href=\"#DejaVuSans-108\"/>\r\n       <use x=\"189.449219\" xlink:href=\"#DejaVuSans-32\"/>\r\n       <use x=\"221.236328\" xlink:href=\"#DejaVuSans-116\"/>\r\n       <use x=\"260.445312\" xlink:href=\"#DejaVuSans-101\"/>\r\n       <use x=\"321.96875\" xlink:href=\"#DejaVuSans-109\"/>\r\n       <use x=\"419.380859\" xlink:href=\"#DejaVuSans-112\"/>\r\n       <use x=\"482.857422\" xlink:href=\"#DejaVuSans-101\"/>\r\n       <use x=\"544.380859\" xlink:href=\"#DejaVuSans-114\"/>\r\n       <use x=\"585.494141\" xlink:href=\"#DejaVuSans-97\"/>\r\n       <use x=\"646.773438\" xlink:href=\"#DejaVuSans-116\"/>\r\n       <use x=\"685.982422\" xlink:href=\"#DejaVuSans-117\"/>\r\n       <use x=\"749.361328\" xlink:href=\"#DejaVuSans-114\"/>\r\n       <use x=\"788.224609\" xlink:href=\"#DejaVuSans-101\"/>\r\n      </g>\r\n     </g>\r\n    </g>\r\n    <g id=\"ytick_3\">\r\n     <g id=\"line2d_12\">\r\n      <g>\r\n       <use style=\"stroke:#000000;stroke-width:0.8;\" x=\"99.175\" xlink:href=\"#m6fdee15809\" y=\"71.399219\"/>\r\n      </g>\r\n     </g>\r\n     <g id=\"text_12\">\r\n      <!-- feels like -->\r\n      <g transform=\"translate(48.045313 75.198437)scale(0.1 -0.1)\">\r\n       <use xlink:href=\"#DejaVuSans-102\"/>\r\n       <use x=\"35.205078\" xlink:href=\"#DejaVuSans-101\"/>\r\n       <use x=\"96.728516\" xlink:href=\"#DejaVuSans-101\"/>\r\n       <use x=\"158.251953\" xlink:href=\"#DejaVuSans-108\"/>\r\n       <use x=\"186.035156\" xlink:href=\"#DejaVuSans-115\"/>\r\n       <use x=\"238.134766\" xlink:href=\"#DejaVuSans-32\"/>\r\n       <use x=\"269.921875\" xlink:href=\"#DejaVuSans-108\"/>\r\n       <use x=\"297.705078\" xlink:href=\"#DejaVuSans-105\"/>\r\n       <use x=\"325.488281\" xlink:href=\"#DejaVuSans-107\"/>\r\n       <use x=\"379.773438\" xlink:href=\"#DejaVuSans-101\"/>\r\n      </g>\r\n     </g>\r\n    </g>\r\n    <g id=\"ytick_4\">\r\n     <g id=\"line2d_13\">\r\n      <g>\r\n       <use style=\"stroke:#000000;stroke-width:0.8;\" x=\"99.175\" xlink:href=\"#m6fdee15809\" y=\"95.559219\"/>\r\n      </g>\r\n     </g>\r\n     <g id=\"text_13\">\r\n      <!-- humidity -->\r\n      <g transform=\"translate(48.015625 99.358437)scale(0.1 -0.1)\">\r\n       <use xlink:href=\"#DejaVuSans-104\"/>\r\n       <use x=\"63.378906\" xlink:href=\"#DejaVuSans-117\"/>\r\n       <use x=\"126.757812\" xlink:href=\"#DejaVuSans-109\"/>\r\n       <use x=\"224.169922\" xlink:href=\"#DejaVuSans-105\"/>\r\n       <use x=\"251.953125\" xlink:href=\"#DejaVuSans-100\"/>\r\n       <use x=\"315.429688\" xlink:href=\"#DejaVuSans-105\"/>\r\n       <use x=\"343.212891\" xlink:href=\"#DejaVuSans-116\"/>\r\n       <use x=\"382.421875\" xlink:href=\"#DejaVuSans-121\"/>\r\n      </g>\r\n     </g>\r\n    </g>\r\n    <g id=\"ytick_5\">\r\n     <g id=\"line2d_14\">\r\n      <g>\r\n       <use style=\"stroke:#000000;stroke-width:0.8;\" x=\"99.175\" xlink:href=\"#m6fdee15809\" y=\"119.719219\"/>\r\n      </g>\r\n     </g>\r\n     <g id=\"text_14\">\r\n      <!-- wind-speed -->\r\n      <g transform=\"translate(34.7125 123.518437)scale(0.1 -0.1)\">\r\n       <use xlink:href=\"#DejaVuSans-119\"/>\r\n       <use x=\"81.787109\" xlink:href=\"#DejaVuSans-105\"/>\r\n       <use x=\"109.570312\" xlink:href=\"#DejaVuSans-110\"/>\r\n       <use x=\"172.949219\" xlink:href=\"#DejaVuSans-100\"/>\r\n       <use x=\"236.425781\" xlink:href=\"#DejaVuSans-45\"/>\r\n       <use x=\"272.509766\" xlink:href=\"#DejaVuSans-115\"/>\r\n       <use x=\"324.609375\" xlink:href=\"#DejaVuSans-112\"/>\r\n       <use x=\"388.085938\" xlink:href=\"#DejaVuSans-101\"/>\r\n       <use x=\"449.609375\" xlink:href=\"#DejaVuSans-101\"/>\r\n       <use x=\"511.132812\" xlink:href=\"#DejaVuSans-100\"/>\r\n      </g>\r\n     </g>\r\n    </g>\r\n    <g id=\"ytick_6\">\r\n     <g id=\"line2d_15\">\r\n      <g>\r\n       <use style=\"stroke:#000000;stroke-width:0.8;\" x=\"99.175\" xlink:href=\"#m6fdee15809\" y=\"143.879219\"/>\r\n      </g>\r\n     </g>\r\n     <g id=\"text_15\">\r\n      <!-- weather-code -->\r\n      <g transform=\"translate(24.104688 147.678437)scale(0.1 -0.1)\">\r\n       <use xlink:href=\"#DejaVuSans-119\"/>\r\n       <use x=\"81.787109\" xlink:href=\"#DejaVuSans-101\"/>\r\n       <use x=\"143.310547\" xlink:href=\"#DejaVuSans-97\"/>\r\n       <use x=\"204.589844\" xlink:href=\"#DejaVuSans-116\"/>\r\n       <use x=\"243.798828\" xlink:href=\"#DejaVuSans-104\"/>\r\n       <use x=\"307.177734\" xlink:href=\"#DejaVuSans-101\"/>\r\n       <use x=\"368.701172\" xlink:href=\"#DejaVuSans-114\"/>\r\n       <use x=\"403.439453\" xlink:href=\"#DejaVuSans-45\"/>\r\n       <use x=\"439.523438\" xlink:href=\"#DejaVuSans-99\"/>\r\n       <use x=\"494.503906\" xlink:href=\"#DejaVuSans-111\"/>\r\n       <use x=\"555.685547\" xlink:href=\"#DejaVuSans-100\"/>\r\n       <use x=\"619.162109\" xlink:href=\"#DejaVuSans-101\"/>\r\n      </g>\r\n     </g>\r\n    </g>\r\n    <g id=\"ytick_7\">\r\n     <g id=\"line2d_16\">\r\n      <g>\r\n       <use style=\"stroke:#000000;stroke-width:0.8;\" x=\"99.175\" xlink:href=\"#m6fdee15809\" y=\"168.039219\"/>\r\n      </g>\r\n     </g>\r\n     <g id=\"text_16\">\r\n      <!-- is_holiday -->\r\n      <g transform=\"translate(42.779688 171.838437)scale(0.1 -0.1)\">\r\n       <use xlink:href=\"#DejaVuSans-105\"/>\r\n       <use x=\"27.783203\" xlink:href=\"#DejaVuSans-115\"/>\r\n       <use x=\"79.882812\" xlink:href=\"#DejaVuSans-95\"/>\r\n       <use x=\"129.882812\" xlink:href=\"#DejaVuSans-104\"/>\r\n       <use x=\"193.261719\" xlink:href=\"#DejaVuSans-111\"/>\r\n       <use x=\"254.443359\" xlink:href=\"#DejaVuSans-108\"/>\r\n       <use x=\"282.226562\" xlink:href=\"#DejaVuSans-105\"/>\r\n       <use x=\"310.009766\" xlink:href=\"#DejaVuSans-100\"/>\r\n       <use x=\"373.486328\" xlink:href=\"#DejaVuSans-97\"/>\r\n       <use x=\"434.765625\" xlink:href=\"#DejaVuSans-121\"/>\r\n      </g>\r\n     </g>\r\n    </g>\r\n    <g id=\"ytick_8\">\r\n     <g id=\"line2d_17\">\r\n      <g>\r\n       <use style=\"stroke:#000000;stroke-width:0.8;\" x=\"99.175\" xlink:href=\"#m6fdee15809\" y=\"192.199219\"/>\r\n      </g>\r\n     </g>\r\n     <g id=\"text_17\">\r\n      <!-- is_weekend -->\r\n      <g transform=\"translate(34.435938 195.998437)scale(0.1 -0.1)\">\r\n       <use xlink:href=\"#DejaVuSans-105\"/>\r\n       <use x=\"27.783203\" xlink:href=\"#DejaVuSans-115\"/>\r\n       <use x=\"79.882812\" xlink:href=\"#DejaVuSans-95\"/>\r\n       <use x=\"129.882812\" xlink:href=\"#DejaVuSans-119\"/>\r\n       <use x=\"211.669922\" xlink:href=\"#DejaVuSans-101\"/>\r\n       <use x=\"273.193359\" xlink:href=\"#DejaVuSans-101\"/>\r\n       <use x=\"334.716797\" xlink:href=\"#DejaVuSans-107\"/>\r\n       <use x=\"389.001953\" xlink:href=\"#DejaVuSans-101\"/>\r\n       <use x=\"450.525391\" xlink:href=\"#DejaVuSans-110\"/>\r\n       <use x=\"513.904297\" xlink:href=\"#DejaVuSans-100\"/>\r\n      </g>\r\n     </g>\r\n    </g>\r\n    <g id=\"ytick_9\">\r\n     <g id=\"line2d_18\">\r\n      <g>\r\n       <use style=\"stroke:#000000;stroke-width:0.8;\" x=\"99.175\" xlink:href=\"#m6fdee15809\" y=\"216.359219\"/>\r\n      </g>\r\n     </g>\r\n     <g id=\"text_18\">\r\n      <!-- season -->\r\n      <g transform=\"translate(57.01875 220.158437)scale(0.1 -0.1)\">\r\n       <use xlink:href=\"#DejaVuSans-115\"/>\r\n       <use x=\"52.099609\" xlink:href=\"#DejaVuSans-101\"/>\r\n       <use x=\"113.623047\" xlink:href=\"#DejaVuSans-97\"/>\r\n       <use x=\"174.902344\" xlink:href=\"#DejaVuSans-115\"/>\r\n       <use x=\"227.001953\" xlink:href=\"#DejaVuSans-111\"/>\r\n       <use x=\"288.183594\" xlink:href=\"#DejaVuSans-110\"/>\r\n      </g>\r\n     </g>\r\n    </g>\r\n   </g>\r\n  </g>\r\n  <g id=\"axes_2\">\r\n   <g id=\"patch_3\">\r\n    <path clip-path=\"url(#p640997de22)\" d=\"M 383.755 228.439219 \r\nL 383.755 227.589844 \r\nL 383.755 11.848594 \r\nL 383.755 10.999219 \r\nL 394.627 10.999219 \r\nL 394.627 11.848594 \r\nL 394.627 227.589844 \r\nL 394.627 228.439219 \r\nz\r\n\" style=\"fill:#ffffff;stroke:#ffffff;stroke-linejoin:miter;stroke-width:0.01;\"/>\r\n   </g>\r\n   <image height=\"218\" id=\"imagef5561e357c\" transform=\"scale(1 -1)translate(0 -218)\" width=\"11\" x=\"384\" xlink:href=\"data:image/png;base64,\r\niVBORw0KGgoAAAANSUhEUgAAAAsAAADaCAYAAABwzrisAAABUElEQVR4nN3ay43DMBAEUX7kJDb/OO1Nge9QAG2dB43qniElUZr79fcZh9ez5jytHc+k4lEpE/Oeq8K4wyApWxpisGPuct5zg3KXRqZ8S7tJOWx3lka3FWQY+ws7aAbvwMDozq+vbDcZJAxqN21fHXOn/NiIAsYl7SZlmw1RviQ6M3j8ehCnQcW0FYiypFEalGJhtjSkeGaDZMPfYYSzcS5dtvsjGKJ8TRqdwSuUZRGWzIKxjBkw9npXGMARprFg+tGgKFsapgzFG7Z+U74lDWo3pQHLW6MTZUqjM5gVjw7j6TDgYfsWZbhfmfIQZjQoypsMVhhjVRgW3Yaj+y6NmaUx5LBanvpLjC66sN2CIceGuFK6NOSrRzgbVxgMmbtBes7v9KXBS5R/Po0NBqd8wi7nuUvjdQWG/UaSNUVmA9MQ5izn+fMGSZnSAINytjf+AUuCLCXvFYM7AAAAAElFTkSuQmCC\" y=\"-10\"/>\r\n   <g id=\"matplotlib.axis_3\"/>\r\n   <g id=\"matplotlib.axis_4\">\r\n    <g id=\"ytick_10\">\r\n     <g id=\"line2d_19\">\r\n      <defs>\r\n       <path d=\"M 0 0 \r\nL 3.5 0 \r\n\" id=\"m97a0fc8a9b\" style=\"stroke:#000000;stroke-width:0.8;\"/>\r\n      </defs>\r\n      <g>\r\n       <use style=\"stroke:#000000;stroke-width:0.8;\" x=\"394.627\" xlink:href=\"#m97a0fc8a9b\" y=\"219.08986\"/>\r\n      </g>\r\n     </g>\r\n     <g id=\"text_19\">\r\n      <!-- −0.4 -->\r\n      <g transform=\"translate(401.627 222.889079)scale(0.1 -0.1)\">\r\n       <defs>\r\n        <path d=\"M 10.59375 35.5 \r\nL 73.1875 35.5 \r\nL 73.1875 27.203125 \r\nL 10.59375 27.203125 \r\nz\r\n\" id=\"DejaVuSans-8722\"/>\r\n        <path d=\"M 31.78125 66.40625 \r\nQ 24.171875 66.40625 20.328125 58.90625 \r\nQ 16.5 51.421875 16.5 36.375 \r\nQ 16.5 21.390625 20.328125 13.890625 \r\nQ 24.171875 6.390625 31.78125 6.390625 \r\nQ 39.453125 6.390625 43.28125 13.890625 \r\nQ 47.125 21.390625 47.125 36.375 \r\nQ 47.125 51.421875 43.28125 58.90625 \r\nQ 39.453125 66.40625 31.78125 66.40625 \r\nz\r\nM 31.78125 74.21875 \r\nQ 44.046875 74.21875 50.515625 64.515625 \r\nQ 56.984375 54.828125 56.984375 36.375 \r\nQ 56.984375 17.96875 50.515625 8.265625 \r\nQ 44.046875 -1.421875 31.78125 -1.421875 \r\nQ 19.53125 -1.421875 13.0625 8.265625 \r\nQ 6.59375 17.96875 6.59375 36.375 \r\nQ 6.59375 54.828125 13.0625 64.515625 \r\nQ 19.53125 74.21875 31.78125 74.21875 \r\nz\r\n\" id=\"DejaVuSans-48\"/>\r\n        <path d=\"M 10.6875 12.40625 \r\nL 21 12.40625 \r\nL 21 0 \r\nL 10.6875 0 \r\nz\r\n\" id=\"DejaVuSans-46\"/>\r\n        <path d=\"M 37.796875 64.3125 \r\nL 12.890625 25.390625 \r\nL 37.796875 25.390625 \r\nz\r\nM 35.203125 72.90625 \r\nL 47.609375 72.90625 \r\nL 47.609375 25.390625 \r\nL 58.015625 25.390625 \r\nL 58.015625 17.1875 \r\nL 47.609375 17.1875 \r\nL 47.609375 0 \r\nL 37.796875 0 \r\nL 37.796875 17.1875 \r\nL 4.890625 17.1875 \r\nL 4.890625 26.703125 \r\nz\r\n\" id=\"DejaVuSans-52\"/>\r\n       </defs>\r\n       <use xlink:href=\"#DejaVuSans-8722\"/>\r\n       <use x=\"83.789062\" xlink:href=\"#DejaVuSans-48\"/>\r\n       <use x=\"147.412109\" xlink:href=\"#DejaVuSans-46\"/>\r\n       <use x=\"179.199219\" xlink:href=\"#DejaVuSans-52\"/>\r\n      </g>\r\n     </g>\r\n    </g>\r\n    <g id=\"ytick_11\">\r\n     <g id=\"line2d_20\">\r\n      <g>\r\n       <use style=\"stroke:#000000;stroke-width:0.8;\" x=\"394.627\" xlink:href=\"#m97a0fc8a9b\" y=\"189.362626\"/>\r\n      </g>\r\n     </g>\r\n     <g id=\"text_20\">\r\n      <!-- −0.2 -->\r\n      <g transform=\"translate(401.627 193.161844)scale(0.1 -0.1)\">\r\n       <defs>\r\n        <path d=\"M 19.1875 8.296875 \r\nL 53.609375 8.296875 \r\nL 53.609375 0 \r\nL 7.328125 0 \r\nL 7.328125 8.296875 \r\nQ 12.9375 14.109375 22.625 23.890625 \r\nQ 32.328125 33.6875 34.8125 36.53125 \r\nQ 39.546875 41.84375 41.421875 45.53125 \r\nQ 43.3125 49.21875 43.3125 52.78125 \r\nQ 43.3125 58.59375 39.234375 62.25 \r\nQ 35.15625 65.921875 28.609375 65.921875 \r\nQ 23.96875 65.921875 18.8125 64.3125 \r\nQ 13.671875 62.703125 7.8125 59.421875 \r\nL 7.8125 69.390625 \r\nQ 13.765625 71.78125 18.9375 73 \r\nQ 24.125 74.21875 28.421875 74.21875 \r\nQ 39.75 74.21875 46.484375 68.546875 \r\nQ 53.21875 62.890625 53.21875 53.421875 \r\nQ 53.21875 48.921875 51.53125 44.890625 \r\nQ 49.859375 40.875 45.40625 35.40625 \r\nQ 44.1875 33.984375 37.640625 27.21875 \r\nQ 31.109375 20.453125 19.1875 8.296875 \r\nz\r\n\" id=\"DejaVuSans-50\"/>\r\n       </defs>\r\n       <use xlink:href=\"#DejaVuSans-8722\"/>\r\n       <use x=\"83.789062\" xlink:href=\"#DejaVuSans-48\"/>\r\n       <use x=\"147.412109\" xlink:href=\"#DejaVuSans-46\"/>\r\n       <use x=\"179.199219\" xlink:href=\"#DejaVuSans-50\"/>\r\n      </g>\r\n     </g>\r\n    </g>\r\n    <g id=\"ytick_12\">\r\n     <g id=\"line2d_21\">\r\n      <g>\r\n       <use style=\"stroke:#000000;stroke-width:0.8;\" x=\"394.627\" xlink:href=\"#m97a0fc8a9b\" y=\"159.635391\"/>\r\n      </g>\r\n     </g>\r\n     <g id=\"text_21\">\r\n      <!-- 0.0 -->\r\n      <g transform=\"translate(401.627 163.43461)scale(0.1 -0.1)\">\r\n       <use xlink:href=\"#DejaVuSans-48\"/>\r\n       <use x=\"63.623047\" xlink:href=\"#DejaVuSans-46\"/>\r\n       <use x=\"95.410156\" xlink:href=\"#DejaVuSans-48\"/>\r\n      </g>\r\n     </g>\r\n    </g>\r\n    <g id=\"ytick_13\">\r\n     <g id=\"line2d_22\">\r\n      <g>\r\n       <use style=\"stroke:#000000;stroke-width:0.8;\" x=\"394.627\" xlink:href=\"#m97a0fc8a9b\" y=\"129.908157\"/>\r\n      </g>\r\n     </g>\r\n     <g id=\"text_22\">\r\n      <!-- 0.2 -->\r\n      <g transform=\"translate(401.627 133.707375)scale(0.1 -0.1)\">\r\n       <use xlink:href=\"#DejaVuSans-48\"/>\r\n       <use x=\"63.623047\" xlink:href=\"#DejaVuSans-46\"/>\r\n       <use x=\"95.410156\" xlink:href=\"#DejaVuSans-50\"/>\r\n      </g>\r\n     </g>\r\n    </g>\r\n    <g id=\"ytick_14\">\r\n     <g id=\"line2d_23\">\r\n      <g>\r\n       <use style=\"stroke:#000000;stroke-width:0.8;\" x=\"394.627\" xlink:href=\"#m97a0fc8a9b\" y=\"100.180922\"/>\r\n      </g>\r\n     </g>\r\n     <g id=\"text_23\">\r\n      <!-- 0.4 -->\r\n      <g transform=\"translate(401.627 103.980141)scale(0.1 -0.1)\">\r\n       <use xlink:href=\"#DejaVuSans-48\"/>\r\n       <use x=\"63.623047\" xlink:href=\"#DejaVuSans-46\"/>\r\n       <use x=\"95.410156\" xlink:href=\"#DejaVuSans-52\"/>\r\n      </g>\r\n     </g>\r\n    </g>\r\n    <g id=\"ytick_15\">\r\n     <g id=\"line2d_24\">\r\n      <g>\r\n       <use style=\"stroke:#000000;stroke-width:0.8;\" x=\"394.627\" xlink:href=\"#m97a0fc8a9b\" y=\"70.453688\"/>\r\n      </g>\r\n     </g>\r\n     <g id=\"text_24\">\r\n      <!-- 0.6 -->\r\n      <g transform=\"translate(401.627 74.252906)scale(0.1 -0.1)\">\r\n       <defs>\r\n        <path d=\"M 33.015625 40.375 \r\nQ 26.375 40.375 22.484375 35.828125 \r\nQ 18.609375 31.296875 18.609375 23.390625 \r\nQ 18.609375 15.53125 22.484375 10.953125 \r\nQ 26.375 6.390625 33.015625 6.390625 \r\nQ 39.65625 6.390625 43.53125 10.953125 \r\nQ 47.40625 15.53125 47.40625 23.390625 \r\nQ 47.40625 31.296875 43.53125 35.828125 \r\nQ 39.65625 40.375 33.015625 40.375 \r\nz\r\nM 52.59375 71.296875 \r\nL 52.59375 62.3125 \r\nQ 48.875 64.0625 45.09375 64.984375 \r\nQ 41.3125 65.921875 37.59375 65.921875 \r\nQ 27.828125 65.921875 22.671875 59.328125 \r\nQ 17.53125 52.734375 16.796875 39.40625 \r\nQ 19.671875 43.65625 24.015625 45.921875 \r\nQ 28.375 48.1875 33.59375 48.1875 \r\nQ 44.578125 48.1875 50.953125 41.515625 \r\nQ 57.328125 34.859375 57.328125 23.390625 \r\nQ 57.328125 12.15625 50.6875 5.359375 \r\nQ 44.046875 -1.421875 33.015625 -1.421875 \r\nQ 20.359375 -1.421875 13.671875 8.265625 \r\nQ 6.984375 17.96875 6.984375 36.375 \r\nQ 6.984375 53.65625 15.1875 63.9375 \r\nQ 23.390625 74.21875 37.203125 74.21875 \r\nQ 40.921875 74.21875 44.703125 73.484375 \r\nQ 48.484375 72.75 52.59375 71.296875 \r\nz\r\n\" id=\"DejaVuSans-54\"/>\r\n       </defs>\r\n       <use xlink:href=\"#DejaVuSans-48\"/>\r\n       <use x=\"63.623047\" xlink:href=\"#DejaVuSans-46\"/>\r\n       <use x=\"95.410156\" xlink:href=\"#DejaVuSans-54\"/>\r\n      </g>\r\n     </g>\r\n    </g>\r\n    <g id=\"ytick_16\">\r\n     <g id=\"line2d_25\">\r\n      <g>\r\n       <use style=\"stroke:#000000;stroke-width:0.8;\" x=\"394.627\" xlink:href=\"#m97a0fc8a9b\" y=\"40.726453\"/>\r\n      </g>\r\n     </g>\r\n     <g id=\"text_25\">\r\n      <!-- 0.8 -->\r\n      <g transform=\"translate(401.627 44.525672)scale(0.1 -0.1)\">\r\n       <defs>\r\n        <path d=\"M 31.78125 34.625 \r\nQ 24.75 34.625 20.71875 30.859375 \r\nQ 16.703125 27.09375 16.703125 20.515625 \r\nQ 16.703125 13.921875 20.71875 10.15625 \r\nQ 24.75 6.390625 31.78125 6.390625 \r\nQ 38.8125 6.390625 42.859375 10.171875 \r\nQ 46.921875 13.96875 46.921875 20.515625 \r\nQ 46.921875 27.09375 42.890625 30.859375 \r\nQ 38.875 34.625 31.78125 34.625 \r\nz\r\nM 21.921875 38.8125 \r\nQ 15.578125 40.375 12.03125 44.71875 \r\nQ 8.5 49.078125 8.5 55.328125 \r\nQ 8.5 64.0625 14.71875 69.140625 \r\nQ 20.953125 74.21875 31.78125 74.21875 \r\nQ 42.671875 74.21875 48.875 69.140625 \r\nQ 55.078125 64.0625 55.078125 55.328125 \r\nQ 55.078125 49.078125 51.53125 44.71875 \r\nQ 48 40.375 41.703125 38.8125 \r\nQ 48.828125 37.15625 52.796875 32.3125 \r\nQ 56.78125 27.484375 56.78125 20.515625 \r\nQ 56.78125 9.90625 50.3125 4.234375 \r\nQ 43.84375 -1.421875 31.78125 -1.421875 \r\nQ 19.734375 -1.421875 13.25 4.234375 \r\nQ 6.78125 9.90625 6.78125 20.515625 \r\nQ 6.78125 27.484375 10.78125 32.3125 \r\nQ 14.796875 37.15625 21.921875 38.8125 \r\nz\r\nM 18.3125 54.390625 \r\nQ 18.3125 48.734375 21.84375 45.5625 \r\nQ 25.390625 42.390625 31.78125 42.390625 \r\nQ 38.140625 42.390625 41.71875 45.5625 \r\nQ 45.3125 48.734375 45.3125 54.390625 \r\nQ 45.3125 60.0625 41.71875 63.234375 \r\nQ 38.140625 66.40625 31.78125 66.40625 \r\nQ 25.390625 66.40625 21.84375 63.234375 \r\nQ 18.3125 60.0625 18.3125 54.390625 \r\nz\r\n\" id=\"DejaVuSans-56\"/>\r\n       </defs>\r\n       <use xlink:href=\"#DejaVuSans-48\"/>\r\n       <use x=\"63.623047\" xlink:href=\"#DejaVuSans-46\"/>\r\n       <use x=\"95.410156\" xlink:href=\"#DejaVuSans-56\"/>\r\n      </g>\r\n     </g>\r\n    </g>\r\n    <g id=\"ytick_17\">\r\n     <g id=\"line2d_26\">\r\n      <g>\r\n       <use style=\"stroke:#000000;stroke-width:0.8;\" x=\"394.627\" xlink:href=\"#m97a0fc8a9b\" y=\"10.999219\"/>\r\n      </g>\r\n     </g>\r\n     <g id=\"text_26\">\r\n      <!-- 1.0 -->\r\n      <g transform=\"translate(401.627 14.798437)scale(0.1 -0.1)\">\r\n       <defs>\r\n        <path d=\"M 12.40625 8.296875 \r\nL 28.515625 8.296875 \r\nL 28.515625 63.921875 \r\nL 10.984375 60.40625 \r\nL 10.984375 69.390625 \r\nL 28.421875 72.90625 \r\nL 38.28125 72.90625 \r\nL 38.28125 8.296875 \r\nL 54.390625 8.296875 \r\nL 54.390625 0 \r\nL 12.40625 0 \r\nz\r\n\" id=\"DejaVuSans-49\"/>\r\n       </defs>\r\n       <use xlink:href=\"#DejaVuSans-49\"/>\r\n       <use x=\"63.623047\" xlink:href=\"#DejaVuSans-46\"/>\r\n       <use x=\"95.410156\" xlink:href=\"#DejaVuSans-48\"/>\r\n      </g>\r\n     </g>\r\n    </g>\r\n   </g>\r\n   <g id=\"patch_4\">\r\n    <path d=\"M 383.755 228.439219 \r\nL 383.755 227.589844 \r\nL 383.755 11.848594 \r\nL 383.755 10.999219 \r\nL 394.627 10.999219 \r\nL 394.627 11.848594 \r\nL 394.627 227.589844 \r\nL 394.627 228.439219 \r\nz\r\n\" style=\"fill:none;\"/>\r\n   </g>\r\n  </g>\r\n </g>\r\n <defs>\r\n  <clipPath id=\"p3535980ba5\">\r\n   <rect height=\"217.44\" width=\"267.84\" x=\"99.175\" y=\"10.999219\"/>\r\n  </clipPath>\r\n  <clipPath id=\"p640997de22\">\r\n   <rect height=\"217.44\" width=\"10.872\" x=\"383.755\" y=\"10.999219\"/>\r\n  </clipPath>\r\n </defs>\r\n</svg>\r\n",
      "text/plain": [
       "<Figure size 432x288 with 2 Axes>"
      ]
     },
     "metadata": {
      "needs_background": "light"
     }
    }
   ],
   "metadata": {}
  },
  {
   "cell_type": "code",
   "execution_count": 83,
   "source": [
    "# bikes.loc(bikes.iloc[:,1:].corr()>0.3)\r\n",
    "\r\n",
    "\r\n",
    "\r\n"
   ],
   "outputs": [],
   "metadata": {}
  },
  {
   "cell_type": "code",
   "execution_count": 87,
   "source": [
    "bikes.iloc[:,1:].corr().sort_values(by = bikes['humidity'])"
   ],
   "outputs": [
    {
     "output_type": "error",
     "ename": "KeyError",
     "evalue": "0         93.0\n1         93.0\n2         96.5\n3        100.0\n4         93.0\n         ...  \n17409     81.0\n17410     81.0\n17411     78.5\n17412     76.0\n17413     76.0\nName: humidity, Length: 17414, dtype: float64",
     "traceback": [
      "\u001b[1;31m---------------------------------------------------------------------------\u001b[0m",
      "\u001b[1;31mKeyError\u001b[0m                                  Traceback (most recent call last)",
      "\u001b[1;32m<ipython-input-87-96495a11e4b2>\u001b[0m in \u001b[0;36m<module>\u001b[1;34m\u001b[0m\n\u001b[1;32m----> 1\u001b[1;33m \u001b[0mbikes\u001b[0m\u001b[1;33m.\u001b[0m\u001b[0miloc\u001b[0m\u001b[1;33m[\u001b[0m\u001b[1;33m:\u001b[0m\u001b[1;33m,\u001b[0m\u001b[1;36m1\u001b[0m\u001b[1;33m:\u001b[0m\u001b[1;33m]\u001b[0m\u001b[1;33m.\u001b[0m\u001b[0mcorr\u001b[0m\u001b[1;33m(\u001b[0m\u001b[1;33m)\u001b[0m\u001b[1;33m.\u001b[0m\u001b[0msort_values\u001b[0m\u001b[1;33m(\u001b[0m\u001b[0mby\u001b[0m \u001b[1;33m=\u001b[0m \u001b[0mbikes\u001b[0m\u001b[1;33m[\u001b[0m\u001b[1;34m'humidity'\u001b[0m\u001b[1;33m]\u001b[0m\u001b[1;33m)\u001b[0m\u001b[1;33m\u001b[0m\u001b[1;33m\u001b[0m\u001b[0m\n\u001b[0m",
      "\u001b[1;32m~\\anaconda3.1\\lib\\site-packages\\pandas\\core\\frame.py\u001b[0m in \u001b[0;36msort_values\u001b[1;34m(self, by, axis, ascending, inplace, kind, na_position, ignore_index, key)\u001b[0m\n\u001b[0;32m   5453\u001b[0m \u001b[1;33m\u001b[0m\u001b[0m\n\u001b[0;32m   5454\u001b[0m             \u001b[0mby\u001b[0m \u001b[1;33m=\u001b[0m \u001b[0mby\u001b[0m\u001b[1;33m[\u001b[0m\u001b[1;36m0\u001b[0m\u001b[1;33m]\u001b[0m\u001b[1;33m\u001b[0m\u001b[1;33m\u001b[0m\u001b[0m\n\u001b[1;32m-> 5455\u001b[1;33m             \u001b[0mk\u001b[0m \u001b[1;33m=\u001b[0m \u001b[0mself\u001b[0m\u001b[1;33m.\u001b[0m\u001b[0m_get_label_or_level_values\u001b[0m\u001b[1;33m(\u001b[0m\u001b[0mby\u001b[0m\u001b[1;33m,\u001b[0m \u001b[0maxis\u001b[0m\u001b[1;33m=\u001b[0m\u001b[0maxis\u001b[0m\u001b[1;33m)\u001b[0m\u001b[1;33m\u001b[0m\u001b[1;33m\u001b[0m\u001b[0m\n\u001b[0m\u001b[0;32m   5456\u001b[0m \u001b[1;33m\u001b[0m\u001b[0m\n\u001b[0;32m   5457\u001b[0m             \u001b[1;31m# need to rewrap column in Series to apply key function\u001b[0m\u001b[1;33m\u001b[0m\u001b[1;33m\u001b[0m\u001b[1;33m\u001b[0m\u001b[0m\n",
      "\u001b[1;32m~\\anaconda3.1\\lib\\site-packages\\pandas\\core\\generic.py\u001b[0m in \u001b[0;36m_get_label_or_level_values\u001b[1;34m(self, key, axis)\u001b[0m\n\u001b[0;32m   1682\u001b[0m             \u001b[0mvalues\u001b[0m \u001b[1;33m=\u001b[0m \u001b[0mself\u001b[0m\u001b[1;33m.\u001b[0m\u001b[0maxes\u001b[0m\u001b[1;33m[\u001b[0m\u001b[0maxis\u001b[0m\u001b[1;33m]\u001b[0m\u001b[1;33m.\u001b[0m\u001b[0mget_level_values\u001b[0m\u001b[1;33m(\u001b[0m\u001b[0mkey\u001b[0m\u001b[1;33m)\u001b[0m\u001b[1;33m.\u001b[0m\u001b[0m_values\u001b[0m\u001b[1;33m\u001b[0m\u001b[1;33m\u001b[0m\u001b[0m\n\u001b[0;32m   1683\u001b[0m         \u001b[1;32melse\u001b[0m\u001b[1;33m:\u001b[0m\u001b[1;33m\u001b[0m\u001b[1;33m\u001b[0m\u001b[0m\n\u001b[1;32m-> 1684\u001b[1;33m             \u001b[1;32mraise\u001b[0m \u001b[0mKeyError\u001b[0m\u001b[1;33m(\u001b[0m\u001b[0mkey\u001b[0m\u001b[1;33m)\u001b[0m\u001b[1;33m\u001b[0m\u001b[1;33m\u001b[0m\u001b[0m\n\u001b[0m\u001b[0;32m   1685\u001b[0m \u001b[1;33m\u001b[0m\u001b[0m\n\u001b[0;32m   1686\u001b[0m         \u001b[1;31m# Check for duplicates\u001b[0m\u001b[1;33m\u001b[0m\u001b[1;33m\u001b[0m\u001b[1;33m\u001b[0m\u001b[0m\n",
      "\u001b[1;31mKeyError\u001b[0m: 0         93.0\n1         93.0\n2         96.5\n3        100.0\n4         93.0\n         ...  \n17409     81.0\n17410     81.0\n17411     78.5\n17412     76.0\n17413     76.0\nName: humidity, Length: 17414, dtype: float64"
     ]
    }
   ],
   "metadata": {}
  },
  {
   "cell_type": "code",
   "execution_count": 99,
   "source": [
    "bikes.corr()[bikes.corr()>0.3]"
   ],
   "outputs": [
    {
     "output_type": "execute_result",
     "data": {
      "text/html": [
       "<div>\n",
       "<style scoped>\n",
       "    .dataframe tbody tr th:only-of-type {\n",
       "        vertical-align: middle;\n",
       "    }\n",
       "\n",
       "    .dataframe tbody tr th {\n",
       "        vertical-align: top;\n",
       "    }\n",
       "\n",
       "    .dataframe thead th {\n",
       "        text-align: right;\n",
       "    }\n",
       "</style>\n",
       "<table border=\"1\" class=\"dataframe\">\n",
       "  <thead>\n",
       "    <tr style=\"text-align: right;\">\n",
       "      <th></th>\n",
       "      <th>count_of_shares</th>\n",
       "      <th>real temperature</th>\n",
       "      <th>feels like</th>\n",
       "      <th>humidity</th>\n",
       "      <th>wind-speed</th>\n",
       "      <th>weather-code</th>\n",
       "      <th>is_holiday</th>\n",
       "      <th>is_weekend</th>\n",
       "      <th>season</th>\n",
       "    </tr>\n",
       "  </thead>\n",
       "  <tbody>\n",
       "    <tr>\n",
       "      <th>count_of_shares</th>\n",
       "      <td>1.000000</td>\n",
       "      <td>0.388798</td>\n",
       "      <td>0.369035</td>\n",
       "      <td>NaN</td>\n",
       "      <td>NaN</td>\n",
       "      <td>NaN</td>\n",
       "      <td>NaN</td>\n",
       "      <td>NaN</td>\n",
       "      <td>NaN</td>\n",
       "    </tr>\n",
       "    <tr>\n",
       "      <th>real temperature</th>\n",
       "      <td>0.388798</td>\n",
       "      <td>1.000000</td>\n",
       "      <td>0.988344</td>\n",
       "      <td>NaN</td>\n",
       "      <td>NaN</td>\n",
       "      <td>NaN</td>\n",
       "      <td>NaN</td>\n",
       "      <td>NaN</td>\n",
       "      <td>NaN</td>\n",
       "    </tr>\n",
       "    <tr>\n",
       "      <th>feels like</th>\n",
       "      <td>0.369035</td>\n",
       "      <td>0.988344</td>\n",
       "      <td>1.000000</td>\n",
       "      <td>NaN</td>\n",
       "      <td>NaN</td>\n",
       "      <td>NaN</td>\n",
       "      <td>NaN</td>\n",
       "      <td>NaN</td>\n",
       "      <td>NaN</td>\n",
       "    </tr>\n",
       "    <tr>\n",
       "      <th>humidity</th>\n",
       "      <td>NaN</td>\n",
       "      <td>NaN</td>\n",
       "      <td>NaN</td>\n",
       "      <td>1.00000</td>\n",
       "      <td>NaN</td>\n",
       "      <td>0.33475</td>\n",
       "      <td>NaN</td>\n",
       "      <td>NaN</td>\n",
       "      <td>NaN</td>\n",
       "    </tr>\n",
       "    <tr>\n",
       "      <th>wind-speed</th>\n",
       "      <td>NaN</td>\n",
       "      <td>NaN</td>\n",
       "      <td>NaN</td>\n",
       "      <td>NaN</td>\n",
       "      <td>1.0</td>\n",
       "      <td>NaN</td>\n",
       "      <td>NaN</td>\n",
       "      <td>NaN</td>\n",
       "      <td>NaN</td>\n",
       "    </tr>\n",
       "    <tr>\n",
       "      <th>weather-code</th>\n",
       "      <td>NaN</td>\n",
       "      <td>NaN</td>\n",
       "      <td>NaN</td>\n",
       "      <td>0.33475</td>\n",
       "      <td>NaN</td>\n",
       "      <td>1.00000</td>\n",
       "      <td>NaN</td>\n",
       "      <td>NaN</td>\n",
       "      <td>NaN</td>\n",
       "    </tr>\n",
       "    <tr>\n",
       "      <th>is_holiday</th>\n",
       "      <td>NaN</td>\n",
       "      <td>NaN</td>\n",
       "      <td>NaN</td>\n",
       "      <td>NaN</td>\n",
       "      <td>NaN</td>\n",
       "      <td>NaN</td>\n",
       "      <td>1.0</td>\n",
       "      <td>NaN</td>\n",
       "      <td>NaN</td>\n",
       "    </tr>\n",
       "    <tr>\n",
       "      <th>is_weekend</th>\n",
       "      <td>NaN</td>\n",
       "      <td>NaN</td>\n",
       "      <td>NaN</td>\n",
       "      <td>NaN</td>\n",
       "      <td>NaN</td>\n",
       "      <td>NaN</td>\n",
       "      <td>NaN</td>\n",
       "      <td>1.0</td>\n",
       "      <td>NaN</td>\n",
       "    </tr>\n",
       "    <tr>\n",
       "      <th>season</th>\n",
       "      <td>NaN</td>\n",
       "      <td>NaN</td>\n",
       "      <td>NaN</td>\n",
       "      <td>NaN</td>\n",
       "      <td>NaN</td>\n",
       "      <td>NaN</td>\n",
       "      <td>NaN</td>\n",
       "      <td>NaN</td>\n",
       "      <td>1.0</td>\n",
       "    </tr>\n",
       "  </tbody>\n",
       "</table>\n",
       "</div>"
      ],
      "text/plain": [
       "                  count_of_shares  real temperature  feels like  humidity  \\\n",
       "count_of_shares          1.000000          0.388798    0.369035       NaN   \n",
       "real temperature         0.388798          1.000000    0.988344       NaN   \n",
       "feels like               0.369035          0.988344    1.000000       NaN   \n",
       "humidity                      NaN               NaN         NaN   1.00000   \n",
       "wind-speed                    NaN               NaN         NaN       NaN   \n",
       "weather-code                  NaN               NaN         NaN   0.33475   \n",
       "is_holiday                    NaN               NaN         NaN       NaN   \n",
       "is_weekend                    NaN               NaN         NaN       NaN   \n",
       "season                        NaN               NaN         NaN       NaN   \n",
       "\n",
       "                  wind-speed  weather-code  is_holiday  is_weekend  season  \n",
       "count_of_shares          NaN           NaN         NaN         NaN     NaN  \n",
       "real temperature         NaN           NaN         NaN         NaN     NaN  \n",
       "feels like               NaN           NaN         NaN         NaN     NaN  \n",
       "humidity                 NaN       0.33475         NaN         NaN     NaN  \n",
       "wind-speed               1.0           NaN         NaN         NaN     NaN  \n",
       "weather-code             NaN       1.00000         NaN         NaN     NaN  \n",
       "is_holiday               NaN           NaN         1.0         NaN     NaN  \n",
       "is_weekend               NaN           NaN         NaN         1.0     NaN  \n",
       "season                   NaN           NaN         NaN         NaN     1.0  "
      ]
     },
     "metadata": {},
     "execution_count": 99
    }
   ],
   "metadata": {}
  },
  {
   "cell_type": "code",
   "execution_count": 104,
   "source": [
    "bikes['weather-code'].value_counts()\r\n",
    "\r\n",
    "\r\n",
    "# 1 = Clear ; mostly clear but have some values with haze/fog/patches of fog/ fog in vicinity 2 = scattered clouds / few clouds 3 = Broken clouds 4 = Cloudy 7 = Rain/ light Rain shower/ Light rain 10 = rain with thunderstorm 26 = snowfall 94 = Freezing Fog\r\n"
   ],
   "outputs": [
    {
     "output_type": "execute_result",
     "data": {
      "text/plain": [
       "1.0     6150\n",
       "2.0     4034\n",
       "3.0     3551\n",
       "7.0     2141\n",
       "4.0     1464\n",
       "26.0      60\n",
       "10.0      14\n",
       "Name: weather-code, dtype: int64"
      ]
     },
     "metadata": {},
     "execution_count": 104
    }
   ],
   "metadata": {}
  },
  {
   "cell_type": "code",
   "execution_count": 105,
   "source": [
    "bikes['weather-code'].values "
   ],
   "outputs": [
    {
     "output_type": "execute_result",
     "data": {
      "text/plain": [
       "array([3., 1., 1., ..., 4., 4., 2.])"
      ]
     },
     "metadata": {},
     "execution_count": 105
    }
   ],
   "metadata": {}
  },
  {
   "cell_type": "code",
   "execution_count": 111,
   "source": [
    "# \r\n",
    "is_weekend = bikes[bikes['is_weekend'] == 1]['count_of_shares'].sum()"
   ],
   "outputs": [],
   "metadata": {}
  },
  {
   "cell_type": "code",
   "execution_count": 112,
   "source": [
    "not_weekend = bikes[bikes['is_weekend'] == 0]['count_of_shares'].sum()"
   ],
   "outputs": [],
   "metadata": {}
  },
  {
   "cell_type": "code",
   "execution_count": 113,
   "source": [
    "is_weekend> not_weekend"
   ],
   "outputs": [
    {
     "output_type": "execute_result",
     "data": {
      "text/plain": [
       "False"
      ]
     },
     "metadata": {},
     "execution_count": 113
    }
   ],
   "metadata": {}
  },
  {
   "cell_type": "code",
   "execution_count": 118,
   "source": [
    "not_weekend,is_weekend"
   ],
   "outputs": [
    {
     "output_type": "execute_result",
     "data": {
      "text/plain": [
       "(15048216, 4857756)"
      ]
     },
     "metadata": {},
     "execution_count": 118
    }
   ],
   "metadata": {}
  },
  {
   "cell_type": "code",
   "execution_count": 176,
   "source": [
    "# new feature \r\n",
    "bikes['time_of_day'] = list(map(lambda time: time[:][11:13],bikes['timestamp']))"
   ],
   "outputs": [],
   "metadata": {}
  },
  {
   "cell_type": "code",
   "execution_count": 177,
   "source": [
    "bikes['timestamp'][11:]"
   ],
   "outputs": [
    {
     "output_type": "execute_result",
     "data": {
      "text/plain": [
       "11       2015-01-04 11:00:00\n",
       "12       2015-01-04 12:00:00\n",
       "13       2015-01-04 13:00:00\n",
       "14       2015-01-04 14:00:00\n",
       "15       2015-01-04 15:00:00\n",
       "                ...         \n",
       "17409    2017-01-03 19:00:00\n",
       "17410    2017-01-03 20:00:00\n",
       "17411    2017-01-03 21:00:00\n",
       "17412    2017-01-03 22:00:00\n",
       "17413    2017-01-03 23:00:00\n",
       "Name: timestamp, Length: 17403, dtype: object"
      ]
     },
     "metadata": {},
     "execution_count": 177
    }
   ],
   "metadata": {}
  },
  {
   "cell_type": "code",
   "execution_count": 185,
   "source": [
    "bikes['time_of_day'].values[:7]"
   ],
   "outputs": [
    {
     "output_type": "execute_result",
     "data": {
      "text/plain": [
       "array(['00', '01', '02', '03', '04', '05', '06'], dtype=object)"
      ]
     },
     "metadata": {},
     "execution_count": 185
    }
   ],
   "metadata": {}
  },
  {
   "cell_type": "code",
   "execution_count": 188,
   "source": [
    "morning = ['morning' for i in bikes['time_of_day'] if int(i)<6]   "
   ],
   "outputs": [],
   "metadata": {}
  },
  {
   "cell_type": "code",
   "execution_count": 190,
   "source": [
    "# morning"
   ],
   "outputs": [],
   "metadata": {}
  },
  {
   "cell_type": "code",
   "execution_count": 202,
   "source": [
    "bikes['year'] = bikes['timestamp'].apply(lambda row:row[:4])\r\n",
    "bikes['month'] = bikes['timestamp'].apply(lambda row:row.split('-')[1])\r\n",
    "bikes['hour'] = bikes['timestamp'].apply(lambda row:row.split()[1].split(':')[0])\r\n",
    "# bikes['timestamp'].apply(lambda row:row[:4])"
   ],
   "outputs": [],
   "metadata": {}
  },
  {
   "cell_type": "code",
   "execution_count": 203,
   "source": [
    "bikes['year']"
   ],
   "outputs": [
    {
     "output_type": "execute_result",
     "data": {
      "text/plain": [
       "0        2015\n",
       "1        2015\n",
       "2        2015\n",
       "3        2015\n",
       "4        2015\n",
       "         ... \n",
       "17409    2017\n",
       "17410    2017\n",
       "17411    2017\n",
       "17412    2017\n",
       "17413    2017\n",
       "Name: year, Length: 17414, dtype: object"
      ]
     },
     "metadata": {},
     "execution_count": 203
    }
   ],
   "metadata": {}
  },
  {
   "cell_type": "code",
   "execution_count": null,
   "source": [],
   "outputs": [],
   "metadata": {}
  }
 ]
}